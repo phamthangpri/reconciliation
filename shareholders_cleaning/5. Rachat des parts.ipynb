{
 "cells": [
  {
   "cell_type": "code",
   "execution_count": null,
   "id": "5732217f",
   "metadata": {},
   "outputs": [],
   "source": [
    "%load_ext autoreload\n",
    "%autoreload 2"
   ]
  },
  {
   "cell_type": "code",
   "execution_count": null,
   "id": "855034f1",
   "metadata": {},
   "outputs": [],
   "source": [
    "import datetime as dt\n",
    "import re\n",
    "import pandas as pd\n",
    "import numpy as np\n",
    "from fuzzywuzzy import fuzz"
   ]
  },
  {
   "cell_type": "code",
   "execution_count": null,
   "id": "31442092",
   "metadata": {},
   "outputs": [],
   "source": [
    "from functions.utils import *"
   ]
  },
  {
   "cell_type": "code",
   "execution_count": null,
   "id": "f8a6f02a",
   "metadata": {},
   "outputs": [],
   "source": [
    "import os"
   ]
  },
  {
   "cell_type": "code",
   "execution_count": null,
   "id": "0413edcd",
   "metadata": {},
   "outputs": [],
   "source": [
    "import seaborn as sns"
   ]
  },
  {
   "cell_type": "markdown",
   "id": "ea1b5e6f",
   "metadata": {},
   "source": [
    "# Import data"
   ]
  },
  {
   "cell_type": "markdown",
   "id": "1f735c93",
   "metadata": {},
   "source": [
    "## Relevé"
   ]
  },
  {
   "cell_type": "code",
   "execution_count": null,
   "id": "e5ec71d3",
   "metadata": {},
   "outputs": [],
   "source": [
    "folder_path = \"xxxx\"\""
   ]
  },
  {
   "cell_type": "code",
   "execution_count": null,
   "id": "1c96ab6e",
   "metadata": {},
   "outputs": [],
   "source": [
    "df_credit =  pd.read_excel(folder_path + \"/transformed_data/2. Banque/All_Lignes de crédit.xlsx\",sheet_name=\"Sheet1\")\n",
    "df_debit = pd.read_excel(folder_path + \"/transformed_data/2. Banque/All_Lignes de débit.xlsx\",sheet_name=\"Sheet1\")"
   ]
  },
  {
   "cell_type": "markdown",
   "id": "307a62b9",
   "metadata": {},
   "source": [
    "## Fichiers XML"
   ]
  },
  {
   "cell_type": "code",
   "execution_count": null,
   "id": "364596c5",
   "metadata": {},
   "outputs": [],
   "source": [
    "df_rachats_part = pd.DataFrame()\n",
    "path_to_xml = folder_path + \"/raw_data/5. Rachat des parts/\"\n",
    "filenames = os.listdir(path_to_xml)\n",
    "for filename in filenames:\n",
    "    if filename.endswith(\".xml\"):\n",
    "        df_xml_file = read_xml_remboursement(path_to_xml,filename,bol_fichier_rachat=True)\n",
    "        df_xml_file[\"xml_filename\"] = filename\n",
    "        df_rachats_part = pd.concat([df_rachats_part,df_xml_file])"
   ]
  },
  {
   "cell_type": "markdown",
   "id": "0c5dfd3f",
   "metadata": {},
   "source": [
    "## Remboursement Retrait"
   ]
  },
  {
   "cell_type": "code",
   "execution_count": null,
   "id": "61d87f65",
   "metadata": {},
   "outputs": [],
   "source": [
    "df_remboursement = pd.read_excel(folder_path + \"/transformed_data/5. Remboursement/Remboursement Retrait concaténé.xlsx\",sheet_name=\"Remboursement\")"
   ]
  },
  {
   "cell_type": "code",
   "execution_count": null,
   "id": "96a01d13",
   "metadata": {},
   "outputs": [],
   "source": [
    "df_retrait = df_remboursement[df_remboursement[\"Type de demande\"].str.contains(\"Retrait\",na=False)][['Code Associé', 'Nom Associé', 'IBAN', 'Montant',\"Date\"]]"
   ]
  },
  {
   "cell_type": "markdown",
   "id": "83033a34",
   "metadata": {},
   "source": [
    "# Traitement"
   ]
  },
  {
   "cell_type": "markdown",
   "id": "482b530f",
   "metadata": {},
   "source": [
    "## Rembousement Retrait"
   ]
  },
  {
   "cell_type": "markdown",
   "id": "8606a532",
   "metadata": {},
   "source": [
    "### Fichiers xml"
   ]
  },
  {
   "cell_type": "code",
   "execution_count": null,
   "id": "60dee64c",
   "metadata": {},
   "outputs": [],
   "source": [
    "df_rachats_part = df_rachats_part.reset_index(drop=True)"
   ]
  },
  {
   "cell_type": "code",
   "execution_count": null,
   "id": "7f0908b4",
   "metadata": {},
   "outputs": [],
   "source": [
    "df_rachats_part[\"code_transac\"] = df_rachats_part[\"code_transac\"].str.upper()"
   ]
  },
  {
   "cell_type": "code",
   "execution_count": null,
   "id": "6f3d8042",
   "metadata": {},
   "outputs": [],
   "source": [
    "df_rachats_part[\"Fonds\"] = df_rachats_part[\"code_transac\"].str[0:2]\n",
    "### Pour les Geste com, il faut prendre le compte dans Code_client\n",
    "mask = df_rachats_part[\"Fonds\"]==\"CG\"\n",
    "df_rachats_part.loc[mask,\"Fonds\"] = df_rachats_part.loc[mask,\"Code_client\"].str[2:4]\n",
    "df_rachats_part = df_rachats_part[df_rachats_part[\"Date\"]<=\"2022-10-30\"]"
   ]
  },
  {
   "cell_type": "code",
   "execution_count": null,
   "id": "f6249db7",
   "metadata": {},
   "outputs": [],
   "source": [
    "df_rachats_part = df_rachats_part.reset_index().rename(columns={\"index\":\"index_rachat\"})"
   ]
  },
  {
   "cell_type": "markdown",
   "id": "5a90ef1e",
   "metadata": {},
   "source": [
    "### Relevé"
   ]
  },
  {
   "cell_type": "code",
   "execution_count": null,
   "id": "a1c1f79c",
   "metadata": {},
   "outputs": [],
   "source": [
    "df_debit['Libellé'] = df_debit['Libellé'].str.upper()"
   ]
  },
  {
   "cell_type": "code",
   "execution_count": null,
   "id": "c10a8343",
   "metadata": {},
   "outputs": [],
   "source": [
    "pattern_code_transact = r'(?<=PREF)\\/([a-zA-Z\\d]*)|(?<=PID)\\s([a-zA-Z\\d]*)|(?<=PIO)\\s([a-zA-Z\\d]*)'\n",
    "df_result = df_debit['Libellé'].str.extract(pattern_code_transact)\n",
    "df_debit[\"code_transac\"] = df_result[0].combine_first(df_result[1]).combine_first(df_result[2])"
   ]
  },
  {
   "cell_type": "code",
   "execution_count": null,
   "id": "758324fa",
   "metadata": {},
   "outputs": [],
   "source": [
    "pattern_nb_transact = r'(?<=NBTR)\\/([\\d]*)|(?<=NBT)\\s([\\d]*)'\n",
    "df_result = df_debit['Libellé'].str.extract(pattern_nb_transact)\n",
    "df_debit[\"nb_transac\"] = df_result[0].combine_first(df_result[1])"
   ]
  },
  {
   "cell_type": "code",
   "execution_count": null,
   "id": "fb5d3f9d",
   "metadata": {},
   "outputs": [],
   "source": [
    "df_debit[\"nb_transac\"] = df_debit[\"nb_transac\"].fillna(0).astype(int)"
   ]
  },
  {
   "cell_type": "code",
   "execution_count": null,
   "id": "ccd506d8",
   "metadata": {},
   "outputs": [],
   "source": [
    "df_debit = df_debit[['Id sys_old', 'Valeur',  'Débit', 'Fonds',\"Libellé\", 'IBAN', 'Type_Transaction', 'code_transac','nb_transac']]\n",
    "df_debit = df_debit.rename(columns={\"IBAN\":\"IBAN_xx\"})"
   ]
  },
  {
   "cell_type": "code",
   "execution_count": null,
   "id": "bc29401e",
   "metadata": {},
   "outputs": [],
   "source": [
    "df_debit[\"IBAN_xx\"] = df_debit[\"IBAN_xx\"].str.replace(\" \",\"\")"
   ]
  },
  {
   "cell_type": "markdown",
   "id": "b2467c56",
   "metadata": {},
   "source": [
    "# Rapprochement"
   ]
  },
  {
   "cell_type": "markdown",
   "id": "f38f44a7",
   "metadata": {},
   "source": [
    "## Par code_transact"
   ]
  },
  {
   "cell_type": "code",
   "execution_count": null,
   "id": "99bebb5a",
   "metadata": {},
   "outputs": [],
   "source": [
    "df_match = df_rachats_part.merge(df_debit,on=[\"code_transac\"])"
   ]
  },
  {
   "cell_type": "code",
   "execution_count": null,
   "id": "2ec7dc4c",
   "metadata": {},
   "outputs": [],
   "source": [
    "### Checker l'écart sur le montant\n",
    "df_match[\"Ecart_montant\"] = (df_match[\"Débit\"] - df_match[\"Montant\"]).round(2)\n",
    "df_match[\"Ecart_montant\"].unique()"
   ]
  },
  {
   "cell_type": "code",
   "execution_count": null,
   "id": "ae32cc69",
   "metadata": {},
   "outputs": [],
   "source": [
    "### IBAN est identique ?\n",
    "df_match[\"Ecart_IBAN\"] = df_match[\"IBAN_xx_x\"] == df_match[\"IBAN_xx_y\"]\n",
    "df_match[\"Ecart_IBAN\"].unique()"
   ]
  },
  {
   "cell_type": "code",
   "execution_count": null,
   "id": "7387d9f5",
   "metadata": {},
   "outputs": [],
   "source": [
    "### Checker l'écart sur la Date\n",
    "df_match[\"Ecart_date\"] = (df_match[\"Valeur\"] - df_match[\"Date\"]).dt.days"
   ]
  },
  {
   "cell_type": "code",
   "execution_count": null,
   "id": "ec16a79a",
   "metadata": {},
   "outputs": [],
   "source": [
    "### Plotter pour voir le nombre de jours d'écart entre la date du xml et la date à laquelle le virement apparait dans le relevé\n",
    "sns.countplot(x=\"Ecart_date\", data=df_match)"
   ]
  },
  {
   "cell_type": "code",
   "execution_count": null,
   "id": "7f2bdd2e",
   "metadata": {},
   "outputs": [],
   "source": [
    "df_match[\"nb_transac\"].unique()"
   ]
  },
  {
   "cell_type": "markdown",
   "id": "95a4c7d1",
   "metadata": {},
   "source": [
    "On peut voir qu'avec le code de transaction, les virements sont bien rapprochés : \n",
    "+ Montant excact\n",
    "+ Débiter sur le bon compte (IBAN identique entre XML et le relevé)\n",
    "+ 1 seule transaction sur la ligne de débit"
   ]
  },
  {
   "cell_type": "code",
   "execution_count": null,
   "id": "f44835df",
   "metadata": {},
   "outputs": [],
   "source": [
    "df_rachats_restant = df_rachats_part[~df_rachats_part[\"index_rachat\"].isin(df_match[\"index_rachat\"])]\n",
    "df_debit_restant = df_debit[~df_debit[\"Id sys_old\"].isin(df_match[\"Id sys_old\"])]"
   ]
  },
  {
   "cell_type": "code",
   "execution_count": null,
   "id": "d43ce08c",
   "metadata": {
    "scrolled": true
   },
   "outputs": [],
   "source": [
    "len(df_rachats_part)"
   ]
  },
  {
   "cell_type": "code",
   "execution_count": null,
   "id": "737b2497",
   "metadata": {},
   "outputs": [],
   "source": [
    "len(df_rachats_restant)"
   ]
  },
  {
   "cell_type": "markdown",
   "id": "e6ed3ab0",
   "metadata": {},
   "source": [
    "Encore plus 500 lignes non rapprochés"
   ]
  },
  {
   "cell_type": "markdown",
   "id": "7ae76ea5",
   "metadata": {},
   "source": [
    "## Par montant"
   ]
  },
  {
   "cell_type": "code",
   "execution_count": null,
   "id": "5ae536c5",
   "metadata": {},
   "outputs": [],
   "source": [
    "df_retrait = df_retrait.rename(columns={\"Code Associé\":\"Code_client\"})\n",
    "df_retrait = df_retrait[df_retrait[\"Date\"]<=\"2022-10-30\"]\n",
    "df_rachats_restant = pd.concat([df_rachats_restant,df_retrait])"
   ]
  },
  {
   "cell_type": "code",
   "execution_count": null,
   "id": "a3d7f9bf",
   "metadata": {},
   "outputs": [],
   "source": [
    "df_match_montant = df_rachats_restant.merge(df_debit_restant, left_on=[\"Montant\",\"Fonds\"],right_on=[\"Débit\",\"Fonds\"])"
   ]
  },
  {
   "cell_type": "code",
   "execution_count": null,
   "id": "b149d3d7",
   "metadata": {},
   "outputs": [],
   "source": [
    "df_match_montant[\"Ecart_date\"] = (df_match_montant[\"Valeur\"] - df_match_montant[\"Date\"]).dt.days"
   ]
  },
  {
   "cell_type": "code",
   "execution_count": null,
   "id": "d3c71e60",
   "metadata": {},
   "outputs": [],
   "source": [
    "df_match_montant = df_match_montant[df_match_montant[\"Ecart_date\"]>0]\n",
    "df_match_montant = df_match_montant[df_match_montant[\"Ecart_date\"]<=15]"
   ]
  },
  {
   "cell_type": "markdown",
   "id": "748ffc35",
   "metadata": {},
   "source": [
    "Seulement qq lignes trouvées, mais en regardant le libellé, ce n'est notre virement"
   ]
  },
  {
   "cell_type": "code",
   "execution_count": null,
   "id": "c04b331c",
   "metadata": {},
   "outputs": [],
   "source": [
    "df_rachats_restant[\"index_rachat\"] = df_rachats_restant[\"index_rachat\"].astype(str)"
   ]
  },
  {
   "cell_type": "code",
   "execution_count": null,
   "id": "f3dc7038",
   "metadata": {},
   "outputs": [],
   "source": [
    "df_rachats_restant_agg = df_rachats_restant.groupby(by=[\"Date\",\"Fonds\"]).agg({\n",
    "    \"Montant\":\"sum\",\n",
    "    \"index_rachat\":\"|\".join,\n",
    "    \"xml_filename\":\"count\"\n",
    "}).reset_index().rename(columns={\"xml_filename\":\"nb_transac\"})"
   ]
  },
  {
   "cell_type": "markdown",
   "id": "cdd7b86f",
   "metadata": {},
   "source": [
    "Toutes les lignes rapprochées ayant 1 seule transaction. ça revient au rapprochement unitaire en prennant en compte la Date"
   ]
  },
  {
   "cell_type": "markdown",
   "id": "25786a5a",
   "metadata": {},
   "source": [
    "__Le résultat n'est pas concluant__"
   ]
  },
  {
   "cell_type": "markdown",
   "id": "ad1604c1",
   "metadata": {},
   "source": [
    "## Rejet"
   ]
  },
  {
   "cell_type": "code",
   "execution_count": null,
   "id": "d39a16de",
   "metadata": {},
   "outputs": [],
   "source": [
    "df_rachats_part = pd.concat([df_rachats_part,df_retrait])"
   ]
  },
  {
   "cell_type": "code",
   "execution_count": null,
   "id": "68365aaf",
   "metadata": {},
   "outputs": [],
   "source": [
    "len(df_rachats_part)"
   ]
  },
  {
   "cell_type": "code",
   "execution_count": null,
   "id": "4b189ebc",
   "metadata": {},
   "outputs": [],
   "source": [
    "df_autres = df_credit[df_credit[\"Type_Transaction\"].isin([\"Autre\",\"REJET\",np.nan])]\n",
    "df_rejet = df_autres[df_autres[\"Libellé\"].str.contains(\"REJET|RETOUR|ANNULATION\")]"
   ]
  },
  {
   "cell_type": "code",
   "execution_count": null,
   "id": "88ff90e8",
   "metadata": {},
   "outputs": [],
   "source": [
    "df_rejet = df_rejet[['Id sys_old', 'Valeur', 'Libellé', 'Crédit', 'Fonds']]"
   ]
  },
  {
   "cell_type": "code",
   "execution_count": null,
   "id": "dbeb6ed8",
   "metadata": {},
   "outputs": [],
   "source": [
    "df_match = df_rejet.merge(df_rachats_part,left_on=[\"Crédit\"],right_on=[\"Montant\"])\n",
    "df_match[\"Ecart_date\"] = (df_match[\"Valeur\"] - df_match[\"Date\"]).dt.days\n",
    "df_match = df_match[abs(df_match[\"Ecart_date\"])<=30]\n",
    "\n",
    "df_match[\"partial_score\"] = df_match.apply(lambda x: fuzz.partial_ratio(x[\"Libellé\"], x['Nom Associé']), axis=1)\n",
    "df_match = df_match[df_match[\"partial_score\"]>=90]"
   ]
  },
  {
   "cell_type": "code",
   "execution_count": null,
   "id": "0f67de11",
   "metadata": {},
   "outputs": [],
   "source": [
    "df_match.to_excel(folder_path + \"/output/4. Autres/Rejet rachat des parts.xlsx\",sheet_name=\"Rejet\",index=False)"
   ]
  },
  {
   "cell_type": "markdown",
   "id": "99864acf",
   "metadata": {},
   "source": [
    "## Rejet sans reference"
   ]
  },
  {
   "cell_type": "code",
   "execution_count": null,
   "id": "03bfdd61",
   "metadata": {},
   "outputs": [],
   "source": [
    "df_virement = df_debit[df_debit[\"Type_Transaction\"].str.contains(\"VIR\",na=False)]\n",
    "columns_debit = list(df_virement.columns)\n",
    "new_columns_debit = [x+\"_debit\" for x in columns_debit]\n",
    "dict_col = dict(zip(columns_debit,new_columns_debit))\n",
    "df_virement = df_virement.rename(columns=dict_col)"
   ]
  },
  {
   "cell_type": "code",
   "execution_count": null,
   "id": "ef3ee39b",
   "metadata": {},
   "outputs": [],
   "source": [
    "pattern_pid = r'(?<=PID)(.*)(?=SDT)'\n",
    "df_virement[\"PID\"] = df_virement[\"Libellé_debit\"].str.extract(pattern_pid)\n",
    "df_virement[\"PID\"] = df_virement[\"PID\"].str.strip()"
   ]
  },
  {
   "cell_type": "code",
   "execution_count": null,
   "id": "3f3f4f3b",
   "metadata": {},
   "outputs": [],
   "source": [
    "mask = ~df_virement[\"PID\"].isnull()\n",
    "df_virement.loc[mask,\"PID\"] = df_virement.loc[mask,\"PID\"].apply(lambda x : x[:-2] if x[-1]==\"/\" else x)\n",
    "df_virement[\"PID\"] = df_virement[\"PID\"].str.strip()"
   ]
  },
  {
   "cell_type": "code",
   "execution_count": null,
   "id": "918a1a39",
   "metadata": {},
   "outputs": [],
   "source": [
    "pattern_eid = r'(?<=EID)(.*)(?=RNF)'\n",
    "df_rejet[\"EID\"] = df_rejet[\"Libellé\"].str.extract(pattern_pid)\n",
    "df_rejet[\"EID\"] = df_rejet[\"EID\"].str.strip()\n",
    "\n",
    "mask = ~df_rejet[\"EID\"].isnull()\n",
    "df_rejet.loc[mask,\"EID\"] = df_rejet.loc[mask,\"EID\"].apply(lambda x : x[:-2] if x[-1]==\"/\" else x)\n",
    "df_rejet[\"EID\"] = df_rejet[\"EID\"].str.strip()\n",
    "\n",
    "df_rejet.loc[mask,\"EID\"] = df_rejet.loc[mask,\"EID\"].apply(lambda x : \" \".join(x.split(\"-\")[:-1]))\n",
    "df_rejet[\"EID\"] = df_rejet[\"EID\"].str.strip()"
   ]
  },
  {
   "cell_type": "code",
   "execution_count": null,
   "id": "29e820aa",
   "metadata": {},
   "outputs": [],
   "source": [
    "df_match = df_rejet.merge(df_virement,left_on=[\"Crédit\",\"EID\"],right_on=[\"Débit_debit\",\"PID\"])"
   ]
  },
  {
   "cell_type": "code",
   "execution_count": null,
   "id": "946a3c98",
   "metadata": {},
   "outputs": [],
   "source": [
    "df_match1 = df_rejet.merge(df_virement,left_on=[\"Crédit\",\"EID\"],right_on=[\"Débit_debit\",\"PID\"])\n",
    "df_match1[\"Ecart_date\"] = (df_match1[\"Valeur\"] - df_match1[\"Valeur_debit\"]).dt.days\n",
    "df_match1 = df_match1[~df_match1[\"EID\"].isnull()]\n",
    "# df_match = df_match[abs(df_match[\"Ecart_date\"])<=10]"
   ]
  },
  {
   "cell_type": "code",
   "execution_count": null,
   "id": "0ad64426",
   "metadata": {},
   "outputs": [],
   "source": []
  }
 ],
 "metadata": {
  "kernelspec": {
   "display_name": "Python 3 (ipykernel)",
   "language": "python",
   "name": "python3"
  },
  "language_info": {
   "codemirror_mode": {
    "name": "ipython",
    "version": 3
   },
   "file_extension": ".py",
   "mimetype": "text/x-python",
   "name": "python",
   "nbconvert_exporter": "python",
   "pygments_lexer": "ipython3",
   "version": "3.8.12"
  },
  "toc": {
   "base_numbering": 1,
   "nav_menu": {},
   "number_sections": true,
   "sideBar": true,
   "skip_h1_title": false,
   "title_cell": "Table of Contents",
   "title_sidebar": "Contents",
   "toc_cell": false,
   "toc_position": {},
   "toc_section_display": true,
   "toc_window_display": false
  },
  "varInspector": {
   "cols": {
    "lenName": 16,
    "lenType": 16,
    "lenVar": 40
   },
   "kernels_config": {
    "python": {
     "delete_cmd_postfix": "",
     "delete_cmd_prefix": "del ",
     "library": "var_list.py",
     "varRefreshCmd": "print(var_dic_list())"
    },
    "r": {
     "delete_cmd_postfix": ") ",
     "delete_cmd_prefix": "rm(",
     "library": "var_list.r",
     "varRefreshCmd": "cat(var_dic_list()) "
    }
   },
   "types_to_exclude": [
    "module",
    "function",
    "builtin_function_or_method",
    "instance",
    "_Feature"
   ],
   "window_display": false
  }
 },
 "nbformat": 4,
 "nbformat_minor": 5
}
