{
 "cells": [
  {
   "cell_type": "markdown",
   "id": "78747533",
   "metadata": {},
   "source": [
    "# Import libraries"
   ]
  },
  {
   "cell_type": "code",
   "execution_count": null,
   "id": "4ac5e2e8",
   "metadata": {},
   "outputs": [],
   "source": [
    "%load_ext autoreload\n",
    "%autoreload 2"
   ]
  },
  {
   "cell_type": "code",
   "execution_count": null,
   "id": "aa6e570b",
   "metadata": {},
   "outputs": [],
   "source": [
    "import swifter\n",
    "from unidecode import unidecode"
   ]
  },
  {
   "cell_type": "code",
   "execution_count": null,
   "id": "a8b52216",
   "metadata": {},
   "outputs": [],
   "source": [
    "from functions.utils import *\n",
    "from functions.mapping_virements import *\n",
    "from functions.clean_data import *\n",
    "from functions.check_clientops import *"
   ]
  },
  {
   "cell_type": "code",
   "execution_count": null,
   "id": "dc66cef2",
   "metadata": {},
   "outputs": [],
   "source": [
    "import datetime as dt\n",
    "import re"
   ]
  },
  {
   "cell_type": "markdown",
   "id": "ecd04524",
   "metadata": {},
   "source": [
    "# Import data"
   ]
  },
  {
   "cell_type": "code",
   "execution_count": null,
   "id": "add562c5",
   "metadata": {},
   "outputs": [],
   "source": [
    "folder_path = \"xxxx\""
   ]
  },
  {
   "cell_type": "markdown",
   "id": "685554a6",
   "metadata": {},
   "source": [
    "## Virements rapprochés"
   ]
  },
  {
   "cell_type": "markdown",
   "id": "21725e18",
   "metadata": {},
   "source": [
    "__Attention : pour ces fichiers, la colonne Id sys correspond à la colonne Id sys_old dans les fichiers All_lignes de crédit__"
   ]
  },
  {
   "cell_type": "code",
   "execution_count": null,
   "id": "3d34a860",
   "metadata": {
    "scrolled": true
   },
   "outputs": [],
   "source": [
    "###### Résultat du rapprochement des virements réalisés par l'algo\n",
    "### Il s'agit normalement du résultat de sortie de la Notebook 1.1. Mais dans cette version, je préfère d'utiliser la version déjà en prod pour éviter qu'on vient de lancer la Notebook 1.1 pour un petit test\n",
    "df_resultat_script_DM = pd.read_excel(folder_path + \"/raw_data/1. Virements/Données de rapprochement validées/All_Démembrement validé.xlsx\",sheet_name=\"Démembrement\")\n",
    "df_resultat_script_PP = pd.read_excel(folder_path + \"/raw_data/1. Virements/Données de rapprochement validées/All_Pleine propriété validée.xlsx\",sheet_name=\"PP\")"
   ]
  },
  {
   "cell_type": "code",
   "execution_count": null,
   "id": "0f8c4bcb",
   "metadata": {},
   "outputs": [],
   "source": [
    "##### Résultat du rapprochement des virements réalisés manuellement par la Taskforce\n",
    "df_resultat_taskforce_prop = pd.read_excel(folder_path + \"/raw_data/7. Taskforce/All_Données à vérifier manuellement_proposition.xlsx\",sheet_name=\"Données_non_rapprochées\", header=2)\n",
    "df_resultat_taskforce_heavy = pd.read_excel(folder_path + \"/raw_data/7. Taskforce/All_Données à vérifier manuellement_heavy checks_V16 février.xlsx\",sheet_name=\"Données_non_rapprochées\", header=2)"
   ]
  },
  {
   "cell_type": "markdown",
   "id": "ddbabc97",
   "metadata": {},
   "source": [
    "## Relevé bancaire concat"
   ]
  },
  {
   "cell_type": "code",
   "execution_count": null,
   "id": "ef8c7cdd",
   "metadata": {},
   "outputs": [],
   "source": [
    "df_releve = pd.read_excel(folder_path + \"/transformed_data/2. Banque/All_Lignes de crédit.xlsx\",sheet_name=\"Sheet1\")"
   ]
  },
  {
   "cell_type": "markdown",
   "id": "935b12b2",
   "metadata": {},
   "source": [
    "## BO"
   ]
  },
  {
   "cell_type": "code",
   "execution_count": null,
   "id": "ece72408",
   "metadata": {},
   "outputs": [],
   "source": [
    "df_BO = pd.read_excel(folder_path + \"/transformed_data/1. BO/Mouvements BO clean.xlsx\",sheet_name=\"BO\")\n",
    "df_BO = df_BO[['Subscription_Order_Id', 'SubscriptionDate',\n",
    "       'Subscription_Order_Name', 'ClientName', 'Product', 'PropertyType', 'Amount']]"
   ]
  },
  {
   "cell_type": "markdown",
   "id": "6867fccc",
   "metadata": {},
   "source": [
    "## Régul compte à compte"
   ]
  },
  {
   "cell_type": "code",
   "execution_count": null,
   "id": "7856380c",
   "metadata": {},
   "outputs": [],
   "source": [
    "####### Fichier de suivi des réguls compte à compte de ClientOps\n",
    "\n",
    "regul_cac_file = pd.ExcelFile(folder_path + \"/raw_data/1. Virements/ClientOps/Régul compte à compte/Regularization (starting April 19, 2019).xlsx\")\n",
    "df_regul_cac = pd.DataFrame()\n",
    "for sheet_name in regul_cac_file.sheet_names:\n",
    "    if sheet_name != 'Virements mode emploi' and sheet_name != 'XL to CAM':\n",
    "        df_regul = regul_cac_file.parse(sheet_name)\n",
    "        df_regul[\"Sens de virement à faire\"] = sheet_name\n",
    "        df_regul_cac = pd.concat([df_regul_cac,df_regul])\n",
    "df_regul_cac = df_regul_cac[[\"Sens de virement à faire\",\"Reception date\",\"Amount\",\"Associate\",\"Order\",\"Comments\"]]\n",
    "df_regul_cac = df_regul_cac.rename(columns={\"Amount\":\"Amount_RegulClientOps\"})"
   ]
  },
  {
   "cell_type": "markdown",
   "id": "da951243",
   "metadata": {},
   "source": [
    "# Retraiter les données"
   ]
  },
  {
   "cell_type": "markdown",
   "id": "e30af818",
   "metadata": {},
   "source": [
    "## Résultat script"
   ]
  },
  {
   "cell_type": "code",
   "execution_count": null,
   "id": "87b87a72",
   "metadata": {},
   "outputs": [],
   "source": [
    "### Concaténer les résultats de l'algo\n",
    "df_resultat_script = pd.concat([df_resultat_script_PP,df_resultat_script_DM])\n",
    "\n",
    "# df_resultat_script = df_resultat_script.rename(columns={\"Fonds_relevé\":\"Fonds\"})"
   ]
  },
  {
   "cell_type": "code",
   "execution_count": null,
   "id": "172e1d78",
   "metadata": {},
   "outputs": [],
   "source": [
    "### Splitter les ordres pour le cas \"un virement pour plusieurs ordres\"\n",
    "df_resultat_script[\"Subscription_Order_Name\"] = df_resultat_script[\"Subscription_Order_Name\"].str.split(\"|\")\n",
    "df_resultat_script = df_resultat_script.explode('Subscription_Order_Name')\n",
    "\n",
    "# df_resultat_script[\"Id sys\"] = df_resultat_script[\"Id sys\"].str.split(\"|\")\n",
    "# df_resultat_script = df_resultat_script.explode('Id sys')\n",
    "\n",
    "# df_resultat_script = df_resultat_script[[\"Subscription_Order_Name\",\"Id sys\"]]"
   ]
  },
  {
   "cell_type": "code",
   "execution_count": null,
   "id": "7060a62d",
   "metadata": {},
   "outputs": [],
   "source": [
    "df_resultat_script = df_resultat_script.drop(columns=[\"Commentaire\"]).rename(columns={\"Fonds_relevé\":\"Fonds\"})\n",
    "df_resultat_script[\"Flag\"] = \"Script\""
   ]
  },
  {
   "cell_type": "markdown",
   "id": "668ade11",
   "metadata": {},
   "source": [
    "## Résultat Taskforce"
   ]
  },
  {
   "cell_type": "markdown",
   "id": "2b617752",
   "metadata": {},
   "source": [
    "### Proposition"
   ]
  },
  {
   "cell_type": "code",
   "execution_count": null,
   "id": "77fe3e7f",
   "metadata": {},
   "outputs": [],
   "source": [
    "### Prendre que les lignes validées\n",
    "df_resultat_taskforce_prop = df_resultat_taskforce_prop[df_resultat_taskforce_prop[\"Transfert à ClientOps ?\"]==\"Non\"]\n",
    "df_resultat_taskforce_prop = df_resultat_taskforce_prop[df_resultat_taskforce_prop[\"Numéro d'ordre final\"].str.contains(\"ORD\")]\n",
    " \n",
    "### SORTIR LES ORDRES QUI SONT PAS RESPECTES CES REGLES\n",
    "df_resultat_taskforce_prop[\"Fichier\"] = \"Proposition\"\n",
    "len(df_resultat_taskforce_prop)"
   ]
  },
  {
   "cell_type": "markdown",
   "id": "fb83763a",
   "metadata": {},
   "source": [
    "### Heavy check"
   ]
  },
  {
   "cell_type": "code",
   "execution_count": null,
   "id": "830cb52a",
   "metadata": {},
   "outputs": [],
   "source": [
    "### Prendre que les lignes validées\n",
    "df_resultat_taskforce_heavy = df_resultat_taskforce_heavy[df_resultat_taskforce_heavy[\"Transfert à ClientOps ?\"]==\"Non\"]\n",
    "df_resultat_taskforce_heavy = df_resultat_taskforce_heavy[~df_resultat_taskforce_heavy[\"Numéro d'ordre final\"].isnull()]\n",
    "df_resultat_taskforce_heavy = df_resultat_taskforce_heavy[df_resultat_taskforce_heavy[\"Numéro d'ordre final\"].str.contains(\"ORD\")]\n",
    "\n",
    "df_resultat_taskforce_heavy[\"Fichier\"] = \"Heavy_check\"\n",
    "len(df_resultat_taskforce_heavy)"
   ]
  },
  {
   "cell_type": "markdown",
   "id": "b82ae3b4",
   "metadata": {},
   "source": [
    "### Concat résultat Taskforce"
   ]
  },
  {
   "cell_type": "code",
   "execution_count": null,
   "id": "33db1caa",
   "metadata": {},
   "outputs": [],
   "source": [
    "df_releve.columns"
   ]
  },
  {
   "cell_type": "code",
   "execution_count": null,
   "id": "c208132b",
   "metadata": {},
   "outputs": [],
   "source": [
    "df_resultat_taskforce = pd.concat([df_resultat_taskforce_prop,df_resultat_taskforce_heavy])"
   ]
  },
  {
   "cell_type": "code",
   "execution_count": null,
   "id": "bb928989",
   "metadata": {},
   "outputs": [],
   "source": [
    "### Garder que les colonnes nécessaires\n",
    "columns_to_keep = [ 'Id sys', 'Crédit', 'Valeur', 'Libellé', 'Fonds',\"Commentaires\",\"Numéro d'ordre final\",\"Fichier\",\"Motif \"]\n",
    "df_resultat_taskforce = df_resultat_taskforce[columns_to_keep].rename(columns={\"Numéro d'ordre final\":\"Subscription_Order_Name\",\"Motif \":\"Motif\"})"
   ]
  },
  {
   "cell_type": "code",
   "execution_count": null,
   "id": "a04fc7d6",
   "metadata": {},
   "outputs": [],
   "source": [
    "### Splitter les ordres pour le cas un virement pour plusieurs ordres\n",
    "### ORD-123 | ORD-345\n",
    "df_resultat_taskforce[\"Subscription_Order_Name\"] = df_resultat_taskforce[\"Subscription_Order_Name\"].str.split(r\"\\/|\\+|\\s\\-\\s\")\n",
    "df_resultat_taskforce = df_resultat_taskforce.explode(\"Subscription_Order_Name\")\n",
    "df_resultat_taskforce[\"Subscription_Order_Name\"] = df_resultat_taskforce[\"Subscription_Order_Name\"].str.strip()\n",
    "df_resultat_taskforce[\"Flag\"] = \"Taskforce\""
   ]
  },
  {
   "cell_type": "code",
   "execution_count": null,
   "id": "4c664c29",
   "metadata": {},
   "outputs": [],
   "source": [
    "### Il y a des lignes qui sont copiées manuellement par l'équipe viennent des données de la Bred (qui ne sont pas encore rapprochées par l'algo)\n",
    "### l'équipe a juste copié l'Id sys, il faut donc récupérer les autres colonnes (Date, Montant, Fonds, Libellé)\n",
    "df_bred = df_resultat_taskforce[df_resultat_taskforce[\"Libellé\"].isnull()].drop(columns=[\"Crédit\",\"Valeur\",\"Libellé\",\"Fonds\"])\n",
    "df_bred = df_bred.merge(df_releve,on=\"Id sys\")[df_resultat_taskforce.columns.to_list()]\n",
    "df_resultat_taskforce = df_resultat_taskforce[~df_resultat_taskforce[\"Libellé\"].isnull()]\n",
    "df_resultat_taskforce = pd.concat([df_resultat_taskforce,df_bred])"
   ]
  },
  {
   "cell_type": "code",
   "execution_count": null,
   "id": "326b0188",
   "metadata": {},
   "outputs": [],
   "source": [
    "### Formatter les colonnes\n",
    "df_resultat_taskforce[\"Id sys\"] = df_resultat_taskforce[\"Id sys\"].astype(str)\n",
    "df_resultat_taskforce[\"Motif\"] = df_resultat_taskforce[\"Motif\"].astype(str)\n",
    "df_resultat_taskforce[\"Commentaires\"] = df_resultat_taskforce[\"Commentaires\"].astype(str)"
   ]
  },
  {
   "cell_type": "code",
   "execution_count": null,
   "id": "5423c381",
   "metadata": {},
   "outputs": [],
   "source": [
    "#### Agréger par ordre (le cas plusieurs paiements pour un ordre)\n",
    "df_resultat_taskforce = df_resultat_taskforce.groupby(by=\"Subscription_Order_Name\").agg({\n",
    "                                                \"Id sys\" : \"|\".join,\n",
    "    \"Crédit\":\"sum\",\n",
    "    \"Valeur\":\"max\",\n",
    "    \"Fonds\":\"|\".join,\n",
    "    \"Motif\":\"|\".join,\n",
    "    \"Commentaires\":\"|\".join,\n",
    "    \"Libellé\":\"|\".join,\n",
    "    \"Flag\":\"first\",\n",
    "    \"Fichier\":\"first\"\n",
    "}).reset_index()"
   ]
  },
  {
   "cell_type": "code",
   "execution_count": null,
   "id": "14aa3c84",
   "metadata": {
    "scrolled": false
   },
   "outputs": [],
   "source": [
    "### Merger avec le BO pour récupérer les données du BO pour les ordres qui sont notés par la Taskforce\n",
    "df_resultat_taskforce = df_resultat_taskforce.merge(df_BO,on=\"Subscription_Order_Name\",how='outer',indicator=True)"
   ]
  },
  {
   "cell_type": "code",
   "execution_count": null,
   "id": "9a9639c5",
   "metadata": {},
   "outputs": [],
   "source": [
    "#### il y a des ordres rapprochés par la Taskforce mais qui ne sont pas présents dans la table SQL\n",
    "df_ordres_non_existants_dans_SQL = df_resultat_taskforce[df_resultat_taskforce[\"_merge\"]==\"left_only\"]\n",
    "df_ordres_non_existants_dans_SQL[[\"Subscription_Order_Name\"]].to_excel(folder_path+\"/output/1. Virements/TaskForce/Ordres non trouvés sur SQL.xlsx\",sheet_name=\"Ordres non existants\",index=False)\n",
    "\n",
    "df_resultat_taskforce = df_resultat_taskforce[df_resultat_taskforce[\"_merge\"]==\"both\"].drop(columns=\"_merge\")"
   ]
  },
  {
   "cell_type": "code",
   "execution_count": null,
   "id": "0b010728",
   "metadata": {},
   "outputs": [],
   "source": [
    "len(df_ordres_non_existants_dans_SQL)"
   ]
  },
  {
   "cell_type": "code",
   "execution_count": null,
   "id": "96c6f83b",
   "metadata": {},
   "outputs": [],
   "source": [
    "df_resultat_taskforce.groupby(\"Fichier\")[\"Id sys\"].count()"
   ]
  },
  {
   "cell_type": "code",
   "execution_count": null,
   "id": "1e18de43",
   "metadata": {},
   "outputs": [],
   "source": [
    "### Les ordres duplicates : ce sont les ordres qui sont en doublon dans la table de Mouvement\n",
    "### cad : les ordres dont le nom est identique mais le montant, l'id, l'associé sont différent\n",
    "df_resultat_taskforce_dup = df_resultat_taskforce[df_resultat_taskforce.duplicated(subset=[\"Subscription_Order_Name\",\"Id sys\"],keep=False)]\n",
    "df_resultat_taskforce_dup = df_resultat_taskforce_dup[df_resultat_taskforce_dup[\"Amount\"]==df_resultat_taskforce_dup[\"Crédit\"]]\n",
    "\n",
    "### Non doublons\n",
    "df_resultat_taskforce_not_dup = df_resultat_taskforce[~df_resultat_taskforce[\"Id sys\"].isin(df_resultat_taskforce_dup[\"Id sys\"])]\n",
    "\n",
    "df_resultat_taskforce = pd.concat([df_resultat_taskforce_not_dup,df_resultat_taskforce_dup])"
   ]
  },
  {
   "cell_type": "code",
   "execution_count": null,
   "id": "a70051be",
   "metadata": {},
   "outputs": [],
   "source": [
    "df_resultat_taskforce.groupby(\"Fichier\")[\"Id sys\"].count()"
   ]
  },
  {
   "cell_type": "code",
   "execution_count": null,
   "id": "bce64665",
   "metadata": {},
   "outputs": [],
   "source": [
    "### Agréger les virements pour le cas un virement pour plusieurs ordres\n",
    "df_resultat_taskforce = df_resultat_taskforce.groupby(by=[\"Id sys\",\"Crédit\",\"Valeur\",\"Fonds\",\"Motif\",\"Commentaires\",\"Libellé\",\"Flag\",\"Fichier\"]).agg({\n",
    "                                                \"Subscription_Order_Id\":\"|\".join,\n",
    "                                                \"Subscription_Order_Name\":\"|\".join,\n",
    "                                                \"SubscriptionDate\":\"max\",\n",
    "                                                \"ClientName\":\"|\".join,\n",
    "                                                \"Product\":\"|\".join,\n",
    "                                                \"PropertyType\":\"|\".join,\n",
    "                                                \"Amount\":\"sum\"\n",
    "                                            }).reset_index()"
   ]
  },
  {
   "cell_type": "code",
   "execution_count": null,
   "id": "d6ff2d3d",
   "metadata": {},
   "outputs": [],
   "source": [
    "df_resultat_taskforce.groupby(\"Fichier\")[\"Id sys\"].count()"
   ]
  },
  {
   "cell_type": "code",
   "execution_count": null,
   "id": "c1d04241",
   "metadata": {},
   "outputs": [],
   "source": [
    "### Calculer les écarts entre l'ordre et le virement\n",
    "df_resultat_taskforce[\"Ecart_montant\"] = df_resultat_taskforce[\"Crédit\"] - df_resultat_taskforce[\"Amount\"]\n",
    "df_resultat_taskforce[\"Ecart_date\"] = (df_resultat_taskforce.loc[:,\"Valeur\"] - df_resultat_taskforce.loc[:,\"SubscriptionDate\"]).dt.days.round(0)"
   ]
  },
  {
   "cell_type": "code",
   "execution_count": null,
   "id": "0dee9c4e",
   "metadata": {},
   "outputs": [],
   "source": [
    "### Ecart date\n",
    "df_resultat_taskforce_ecart_date = df_resultat_taskforce[abs(df_resultat_taskforce[\"Ecart_date\"])>100]\n",
    "df_resultat_taskforce_ecart_date = df_resultat_taskforce_ecart_date[~df_resultat_taskforce_ecart_date[\"Motif\"].str.contains(\"Multiples paiements d'une même personne sur des mois proches\")]\n",
    "df_resultat_taskforce_ecart_date = df_resultat_taskforce_ecart_date[df_resultat_taskforce_ecart_date[\"ClientName\"]!=\"ALSOMAX\"]"
   ]
  },
  {
   "cell_type": "code",
   "execution_count": null,
   "id": "e596b2d9",
   "metadata": {},
   "outputs": [],
   "source": [
    "### Nettoyer les données pour récupérer le champs Commentaire de la Taskforce\n",
    "df_resultat_taskforce[\"Motif_clean\"] = df_resultat_taskforce[\"Motif\"].astype(str).apply(unidecode)\n",
    "df_resultat_taskforce[\"Commentaires_clean\"] = df_resultat_taskforce[\"Commentaires\"].astype(str).apply(unidecode)\n",
    "\n",
    "### La colonne Commentaire contient les mots Trop perçu, TP, chèque ou réglé = Des trop perçus constatés par la Taskforce\n",
    "df_resultat_taskforce_ecart_montant = df_resultat_taskforce[abs(df_resultat_taskforce[\"Ecart_montant\"])>10]\n",
    "mots_exlcure = \"TROP PERCU|TP|CHEQUE|REGLE\"\n",
    "\n",
    "### le reste sont des vrais écarts\n",
    "df_resultat_taskforce_ecart_montant = df_resultat_taskforce_ecart_montant[~df_resultat_taskforce_ecart_montant[\"Motif_clean\"].str.upper().str.contains(mots_exlcure)]\n",
    "df_resultat_taskforce_ecart_montant = df_resultat_taskforce_ecart_montant[~df_resultat_taskforce_ecart_montant[\"Commentaires_clean\"].str.upper().str.contains(mots_exlcure)]\n",
    "\n",
    "df_resultat_taskforce_ecart_montant = df_resultat_taskforce_ecart_montant[['Id sys', 'Crédit', 'Valeur', 'Fonds', 'Libellé',\n",
    "       'Subscription_Order_Id', 'Subscription_Order_Name',\n",
    "       'SubscriptionDate', 'ClientName', 'Product', 'PropertyType', 'Amount',\n",
    "       'Ecart_montant', 'Ecart_date', \"Motif\" ,'Commentaires','Flag', 'Fichier']]\n",
    "df_resultat_taskforce_ecart_montant.to_excel(folder_path+\"/output/1. Virements/TaskForce/Ecart_montant.xlsx\",sheet_name=\"Ecart_montant\",index=False)"
   ]
  },
  {
   "cell_type": "code",
   "execution_count": null,
   "id": "3077ec03",
   "metadata": {},
   "outputs": [],
   "source": [
    "df_resultat_taskforce_ecart_date = df_resultat_taskforce_ecart_date[['Id sys', 'Crédit', 'Valeur', 'Fonds', 'Libellé',\n",
    "                                                                     'Subscription_Order_Id', 'Subscription_Order_Name',\n",
    "                                                                       'SubscriptionDate', 'ClientName', 'Product', 'PropertyType', 'Amount',\n",
    "                                                                       'Ecart_montant', 'Ecart_date',\n",
    "                                                                     \"Motif\",'Commentaires', 'Flag', 'Fichier']]\n",
    "df_resultat_taskforce_ecart_date.to_excel(folder_path+\"/output/1. Virements/TaskForce/Ecart_date.xlsx\",sheet_name=\"Ecart_date\",index=False)"
   ]
  },
  {
   "cell_type": "code",
   "execution_count": null,
   "id": "fbbf6214",
   "metadata": {},
   "outputs": [],
   "source": [
    "### Enlever les ordres ayant un écart de notre analyse\n",
    "df_resultat_taskforce = df_resultat_taskforce[~df_resultat_taskforce[\"Subscription_Order_Name\"].isin(df_resultat_taskforce_ecart_montant[\"Subscription_Order_Name\"])]\n",
    "df_resultat_taskforce = df_resultat_taskforce[~df_resultat_taskforce[\"Subscription_Order_Name\"].isin(df_resultat_taskforce_ecart_date[\"Subscription_Order_Name\"])]"
   ]
  },
  {
   "cell_type": "markdown",
   "id": "2794f70a",
   "metadata": {},
   "source": [
    "## Concaténer le résultat de l'algo et celui de la Taskforce"
   ]
  },
  {
   "cell_type": "code",
   "execution_count": null,
   "id": "acee9ccf",
   "metadata": {},
   "outputs": [],
   "source": [
    "len(df_resultat_script)"
   ]
  },
  {
   "cell_type": "code",
   "execution_count": null,
   "id": "0dfaa108",
   "metadata": {},
   "outputs": [],
   "source": [
    "### Pour les Id sys qui sont re-rapprochés par la Taskforce, prioriser le résultat de la Taskforce\n",
    "df_resultat_script = df_resultat_script[~df_resultat_script[\"Id sys\"].isin(df_resultat_taskforce[\"Id sys\"])]"
   ]
  },
  {
   "cell_type": "code",
   "execution_count": null,
   "id": "080d6c60",
   "metadata": {},
   "outputs": [],
   "source": [
    "len(df_resultat_script)"
   ]
  },
  {
   "cell_type": "code",
   "execution_count": null,
   "id": "38338f17",
   "metadata": {},
   "outputs": [],
   "source": [
    "### Résultat concaténé\n",
    "df_resultat = pd.concat([df_resultat_script,df_resultat_taskforce])"
   ]
  },
  {
   "cell_type": "markdown",
   "id": "6e8c87e2",
   "metadata": {},
   "source": [
    "### Identifier les ordres qui sont utiisés à la fois par l'algo et la Taskforce"
   ]
  },
  {
   "cell_type": "code",
   "execution_count": null,
   "id": "bb0a1d5b",
   "metadata": {},
   "outputs": [],
   "source": [
    "df_doublons = df_resultat[df_resultat.duplicated(subset=[\"Subscription_Order_Name\",\"Amount\"],keep=False)].sort_values(by=[\"Subscription_Order_Name\",\"Amount\"])\n",
    "df_doublons.to_excel(folder_path+\"/output/1. Virements/TaskForce/Ordres en doublon entre script et Taskforce.xlsx\",sheet_name=\"Doublon\",index=False)"
   ]
  },
  {
   "cell_type": "code",
   "execution_count": null,
   "id": "d5aac761",
   "metadata": {},
   "outputs": [],
   "source": [
    "df_resultat_ok = df_resultat[~df_resultat[\"Id sys\"].isin(df_doublons[\"Id sys\"])]\n",
    "df_resultat_taskforce_ok = df_resultat_ok[~df_resultat_ok[\"Fichier\"].isnull()]"
   ]
  },
  {
   "cell_type": "markdown",
   "id": "ef338931",
   "metadata": {},
   "source": [
    "### Récupérer les paiements au mauvais compte identifiés par la Taskforce"
   ]
  },
  {
   "cell_type": "code",
   "execution_count": null,
   "id": "1a0939ed",
   "metadata": {},
   "outputs": [],
   "source": [
    "########## Paiement au mauvais compte identifié par la Taskforce\n",
    "df_mauvais_compte = df_resultat_taskforce_ok[df_resultat_taskforce_ok[\"Product\"]!=df_resultat_taskforce_ok[\"Fonds\"]]"
   ]
  },
  {
   "cell_type": "code",
   "execution_count": null,
   "id": "0c740f63",
   "metadata": {},
   "outputs": [],
   "source": [
    "### Il y a des ordres qui sont payés une partie sur un compte et l'autre partie sur un autre compte\n",
    "### les comptes sont concaténer, il faut donc les splitter pour identifier les vrais montants\n",
    "df_mauvais_compte[\"Fonds_unique\"] = df_mauvais_compte[\"Fonds\"].apply(lambda x : \"|\".join(list(set(x.split(\"|\")))))\n",
    "df_mauvais_compte[\"Product_unique\"] = df_mauvais_compte[\"Product\"].apply(lambda x : \"|\".join(list(set(x.split(\"|\")))))\n",
    "df_mauvais_compte = df_mauvais_compte[df_mauvais_compte[\"Product_unique\"]!=df_mauvais_compte[\"Fonds_unique\"]]"
   ]
  },
  {
   "cell_type": "code",
   "execution_count": null,
   "id": "a2d08129",
   "metadata": {},
   "outputs": [],
   "source": [
    "#### Re-splitter les Id sys et les Subscription_Order_Name pour retrouver le vrai montant\n",
    "### car la table est agrégée au niveau de montant global (pour tous les virements pour un ordre ou un virement pour plusieurs ordres)\n",
    "df_mauvais_compte = df_mauvais_compte[[\"Subscription_Order_Name\",'Id sys','Motif', 'Commentaires','Fichier']]\n",
    "df_mauvais_compte[\"Id sys\"] = df_mauvais_compte[\"Id sys\"].apply(lambda x : x.split(\"|\"))\n",
    "df_mauvais_compte = df_mauvais_compte.explode(\"Id sys\")\n",
    "\n",
    "df_mauvais_compte[\"Subscription_Order_Name\"] = df_mauvais_compte[\"Subscription_Order_Name\"].apply(lambda x : x.split(\"|\"))\n",
    "df_mauvais_compte = df_mauvais_compte.explode(\"Subscription_Order_Name\")"
   ]
  },
  {
   "cell_type": "code",
   "execution_count": null,
   "id": "036f5d7c",
   "metadata": {},
   "outputs": [],
   "source": [
    "len(df_mauvais_compte)"
   ]
  },
  {
   "cell_type": "code",
   "execution_count": null,
   "id": "a9d504ed",
   "metadata": {},
   "outputs": [],
   "source": [
    "df_mauvais_compte = df_mauvais_compte.merge(df_releve,on=\"Id sys\")\n",
    "df_mauvais_compte = df_mauvais_compte[[ 'Id sys', 'Date', 'Valeur', 'Libellé', 'Ref.', 'Débit', 'Crédit', 'Fonds', 'IBAN',\n",
    "                                       'Motif', 'Commentaires', 'Fichier',\n",
    "                                      'Subscription_Order_Name']]"
   ]
  },
  {
   "cell_type": "code",
   "execution_count": null,
   "id": "a3b7698a",
   "metadata": {},
   "outputs": [],
   "source": [
    "df_mauvais_compte = df_mauvais_compte.merge(df_BO,on=\"Subscription_Order_Name\") "
   ]
  },
  {
   "cell_type": "code",
   "execution_count": null,
   "id": "f7adb2b4",
   "metadata": {},
   "outputs": [],
   "source": [
    "### Il y a des ordres qui sont en doublon dans le BO\n",
    "df_duplicated = df_mauvais_compte[df_mauvais_compte.duplicated(subset=[\"Subscription_Order_Name\",\"Crédit\"],keep=False)]\n",
    "df_duplicated_ok = df_mauvais_compte[~df_mauvais_compte[\"Subscription_Order_Name\"].isin(df_duplicated[\"Subscription_Order_Name\"])]\n",
    "df_duplicated = df_duplicated[df_duplicated[\"Amount\"]==df_duplicated[\"Crédit\"]]\n",
    "df_mauvais_compte = pd.concat([df_duplicated_ok,df_duplicated])"
   ]
  },
  {
   "cell_type": "code",
   "execution_count": null,
   "id": "6f1e98ea",
   "metadata": {},
   "outputs": [],
   "source": [
    "### Ajouter le sens à régulariser\n",
    "mask = df_mauvais_compte[\"Fonds\"]!=df_mauvais_compte[\"Product\"]\n",
    "df_mauvais_compte.loc[mask,\"Sens à régulariser\"] = df_mauvais_compte.loc[mask,\"Fonds\"] + \" à \" + df_mauvais_compte.loc[mask,\"Product\"]"
   ]
  },
  {
   "cell_type": "code",
   "execution_count": null,
   "id": "aec74f0b",
   "metadata": {},
   "outputs": [],
   "source": [
    "### Rapprochement avec le fichier Régul CAC de ClientOps pour savoir s'il y a des ordres qui sont déjà trouvés par ClientOps\n",
    "df_mauvais_compte = df_mauvais_compte.merge(df_regul_cac, left_on = \"Subscription_Order_Name\",\n",
    "                       right_on = \"Order\",how=\"outer\",indicator=True)\n",
    "\n",
    "df_mauvais_compte = df_mauvais_compte[df_mauvais_compte[\"_merge\"]!=\"right_only\"]\n",
    "df_mauvais_compte[\"_merge\"] = df_mauvais_compte[\"_merge\"].map({'left_only':'Non trouvé dans fichier Régul de ClientOps',\\\n",
    "                                                               'both' : \"Trouvé dans ClientOps\"\n",
    "                                                               })\n",
    "df_mauvais_compte = df_mauvais_compte.rename(columns = {\"_merge\":\"Note sur régul compte à compte\"})"
   ]
  },
  {
   "cell_type": "code",
   "execution_count": null,
   "id": "ced9b5ad",
   "metadata": {},
   "outputs": [],
   "source": [
    "df_mauvais_compte.to_excel(folder_path+\"/output/4. Autres/Virements mauvais compte_Taskforce.xlsx\",sheet_name=\"Mauvais_compte_Taskforce\",index=False)"
   ]
  },
  {
   "cell_type": "code",
   "execution_count": null,
   "id": "5da612cd",
   "metadata": {},
   "outputs": [],
   "source": []
  }
 ],
 "metadata": {
  "celltoolbar": "Format de la Cellule Texte Brut",
  "kernelspec": {
   "display_name": "Python 3 (ipykernel)",
   "language": "python",
   "name": "python3"
  },
  "language_info": {
   "codemirror_mode": {
    "name": "ipython",
    "version": 3
   },
   "file_extension": ".py",
   "mimetype": "text/x-python",
   "name": "python",
   "nbconvert_exporter": "python",
   "pygments_lexer": "ipython3",
   "version": "3.8.12"
  },
  "toc": {
   "base_numbering": 1,
   "nav_menu": {},
   "number_sections": true,
   "sideBar": true,
   "skip_h1_title": false,
   "title_cell": "Table of Contents",
   "title_sidebar": "Contents",
   "toc_cell": false,
   "toc_position": {},
   "toc_section_display": true,
   "toc_window_display": false
  },
  "varInspector": {
   "cols": {
    "lenName": 16,
    "lenType": 16,
    "lenVar": 40
   },
   "kernels_config": {
    "python": {
     "delete_cmd_postfix": "",
     "delete_cmd_prefix": "del ",
     "library": "var_list.py",
     "varRefreshCmd": "print(var_dic_list())"
    },
    "r": {
     "delete_cmd_postfix": ") ",
     "delete_cmd_prefix": "rm(",
     "library": "var_list.r",
     "varRefreshCmd": "cat(var_dic_list()) "
    }
   },
   "types_to_exclude": [
    "module",
    "function",
    "builtin_function_or_method",
    "instance",
    "_Feature"
   ],
   "window_display": false
  }
 },
 "nbformat": 4,
 "nbformat_minor": 5
}
