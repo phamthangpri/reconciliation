{
 "cells": [
  {
   "cell_type": "code",
   "execution_count": null,
   "id": "9abd12cb",
   "metadata": {},
   "outputs": [],
   "source": [
    "%load_ext autoreload\n",
    "%autoreload 2"
   ]
  },
  {
   "cell_type": "code",
   "execution_count": null,
   "id": "a13d2604",
   "metadata": {},
   "outputs": [],
   "source": [
    "import datetime as dt\n",
    "import re\n",
    "import pandas as pd\n",
    "import numpy as np"
   ]
  },
  {
   "cell_type": "code",
   "execution_count": null,
   "id": "76d10c7d",
   "metadata": {},
   "outputs": [],
   "source": [
    "from functions.utils import *\n",
    "from functions.mapping_virements import *\n",
    "from functions.clean_data import *\n",
    "from functions.check_clientops import *\n",
    "from functions.mapping_prelevement import *"
   ]
  },
  {
   "cell_type": "markdown",
   "id": "0f35f9b6",
   "metadata": {},
   "source": [
    "# Context"
   ]
  },
  {
   "cell_type": "markdown",
   "id": "dc57ddbb",
   "metadata": {},
   "source": [
    "Le traitement des chèques sont la combinaison des chèques et des prélèvements. \n",
    "\n",
    "1. Dans un premier temps, il faut vérifier pour chaque remise nous avons combien de chèques, quel est le montant total ? Ensuite, regarder si le montant demandé est bien égal au montant reçu dans les lignes de crédit de relevé bancaire. S'il y a un écart, il faut vérifier ensuite le chèque qui n'est pas passé. \n",
    "\n",
    "2. Pour les chèques passés, il faut rapprocher avec les ordres en se basant sur le nom, prénom, date et montant (comme les virements).\n",
    "\n",
    "3. Dans un troisième temps, vérifier s'il y a des chèques impayés (qui arrrivent dans les jours suivants).\n",
    "\n",
    "On peut avoir des fautes de frappe qui viennet des fichiers renseignés par Xelians sur Titulaire du compte, le compte bancaire (par ex : les chèques sont envoyés pour le compte de EU mais ils ont noté CC), date, montant du chèque, numéro de la remise,...\n",
    "\n",
    "On peut avoir également des fautes de frappe dans le BO en renseignant le numéro de la remise et le numéro de chèque par l'équipe ClientOps. "
   ]
  },
  {
   "cell_type": "markdown",
   "id": "0be93102",
   "metadata": {},
   "source": [
    "# Import data"
   ]
  },
  {
   "cell_type": "markdown",
   "id": "f203ac1f",
   "metadata": {},
   "source": [
    "## BO"
   ]
  },
  {
   "cell_type": "code",
   "execution_count": null,
   "id": "d1abb27b",
   "metadata": {},
   "outputs": [],
   "source": [
    "#### Le chemin à adapter en attendant de l'accès à Sharepoint\n",
    "folder_path = \"xxxx\""
   ]
  },
  {
   "cell_type": "code",
   "execution_count": null,
   "id": "4a7e9caa",
   "metadata": {},
   "outputs": [],
   "source": [
    "df_mouvements_BO = pd.read_excel(folder_path + \"/transformed_data/1. BO/Mouvements BO clean.xlsx\",sheet_name=\"BO\")"
   ]
  },
  {
   "cell_type": "code",
   "execution_count": null,
   "id": "3fc6ca77",
   "metadata": {},
   "outputs": [],
   "source": [
    "df_mouvements_BO  = df_mouvements_BO[['Subscription_Order_Id', 'SubscriptionDate', 'Subscription_Order_Name',\n",
    "       'ClientName', 'Product', 'PropertyType', 'SharesNumber', 'Amount',\n",
    "       'SubscriptionDate_order', 'SubscriptionAmount_order',\n",
    "       'SharesNumber_order','Idsubscriptionorder_order', 'PaymentMode_order', 'Id_order', 'NoteBO']]"
   ]
  },
  {
   "cell_type": "code",
   "execution_count": null,
   "id": "c50e4ba5",
   "metadata": {},
   "outputs": [],
   "source": [
    "subscription_pathfile = folder_path + \"/raw_data/0. Data BO/Subscriptions_full_2.csv\"\n",
    "df_souscription = pd.read_csv(subscription_pathfile,sep=\";\")"
   ]
  },
  {
   "cell_type": "markdown",
   "id": "004e5108",
   "metadata": {},
   "source": [
    "__CheckNumber & CheckAmount mais qui ne sont pas tout le temps renseignés__"
   ]
  },
  {
   "cell_type": "markdown",
   "id": "14c09657",
   "metadata": {},
   "source": [
    "## Relevé bancaire"
   ]
  },
  {
   "cell_type": "code",
   "execution_count": null,
   "id": "e7702228",
   "metadata": {},
   "outputs": [],
   "source": [
    "df_credit = pd.read_excel(folder_path + \"/transformed_data/2. Banque/All_lignes de crédit.xlsx\",sheet_name=\"Sheet1\")\n",
    "df_debit = pd.read_excel(folder_path + \"/transformed_data/2. Banque/All_lignes de débit.xlsx\",sheet_name=\"Sheet1\")"
   ]
  },
  {
   "cell_type": "markdown",
   "id": "46d377ee",
   "metadata": {},
   "source": [
    "## Détails des remises"
   ]
  },
  {
   "cell_type": "markdown",
   "id": "9589c2d4",
   "metadata": {},
   "source": [
    "### Xelians"
   ]
  },
  {
   "cell_type": "code",
   "execution_count": null,
   "id": "e93d160f",
   "metadata": {},
   "outputs": [],
   "source": [
    "df_remise_cheque_detail = pd.read_excel(folder_path + \"/raw_data/3. Chèques/2. Bank/00. CRM -Pointage chèques Mars Avril Mai 2022.xlsx\",sheet_name=\"Mars Avril Mai Juin\")"
   ]
  },
  {
   "cell_type": "markdown",
   "id": "a3746fd4",
   "metadata": {},
   "source": [
    "### ClientOps"
   ]
  },
  {
   "cell_type": "code",
   "execution_count": null,
   "id": "cda65d90",
   "metadata": {},
   "outputs": [],
   "source": [
    "df_remise_CLientOps = pd.read_excel(folder_path + \"/raw_data/3. Chèques/1. ClientOps/Copy Listing chèques et remises BNP.xlsx\",sheet_name=\"Export.Reporting.20181212\")"
   ]
  },
  {
   "cell_type": "markdown",
   "id": "19b3a2a4",
   "metadata": {},
   "source": [
    "# Traitement"
   ]
  },
  {
   "cell_type": "markdown",
   "id": "164f010c",
   "metadata": {},
   "source": [
    "## Relevé bancaire"
   ]
  },
  {
   "cell_type": "code",
   "execution_count": null,
   "id": "5d5ef916",
   "metadata": {},
   "outputs": [],
   "source": [
    "df_cheque_releve = df_credit[df_credit[\"Type_Transaction\"].str.contains(\"REMISE\",na=False)]\n",
    "df_cheque_releve = df_cheque_credit[df_cheque_credit[\"Date\"]>= \"2021-06-30\"] ### l'échantillon pour tester"
   ]
  },
  {
   "cell_type": "markdown",
   "id": "899c1552",
   "metadata": {},
   "source": [
    "### Depuis 0621"
   ]
  },
  {
   "cell_type": "code",
   "execution_count": null,
   "id": "e557a4fc",
   "metadata": {},
   "outputs": [],
   "source": [
    "patern_nb_ordres = r'(?<=NOPE)\\/(\\d*)'\n",
    "df_cheque_releve.loc[:,\"Nb_ordres\"] = df_cheque_releve.loc[:,\"Libellé\"].str.extract(patern_nb_ordres)\n",
    "df_cheque_releve.loc[:,\"Nb_ordres\"] = df_cheque_releve.loc[:,\"Nb_ordres\"].fillna(1)\n",
    "df_cheque_releve.loc[:,\"Nb_ordres\"] = df_cheque_releve.loc[:,\"Nb_ordres\"].astype(int)"
   ]
  },
  {
   "cell_type": "code",
   "execution_count": null,
   "id": "2944134e",
   "metadata": {},
   "outputs": [],
   "source": [
    "df_cheque_releve = df_cheque_releve[['Id sys', 'Date', 'Valeur', 'Libellé', 'Ref.', 'Crédit','Fonds','Nb_ordres']]\n",
    "df_cheque_releve.loc[:,\"Ref.\"] = df_cheque_releve[\"Ref.\"].str.strip().astype(str).str.replace(r\"NONREF|nan\",'',regex=True)\n",
    "df_cheque_releve.loc[:,\"Ref.\"] = df_cheque_releve[\"Ref.\"].apply(lambda x: x.zfill(10))"
   ]
  },
  {
   "cell_type": "markdown",
   "id": "c4357346",
   "metadata": {},
   "source": [
    "## Detail des remises"
   ]
  },
  {
   "cell_type": "code",
   "execution_count": null,
   "id": "e40211d4",
   "metadata": {},
   "outputs": [],
   "source": [
    "df_remise_CLientOps = df_remise_CLientOps.rename(columns={\n",
    "    \"NuméroRemise\":\"N° bordereau BNP\",\n",
    "    \"DateRemise\":\"DateReception\",\n",
    "    \"Produit\":\"Destinataire\"\n",
    "}).drop(columns=[\"MoisCollecte\",\"Unnamed: 10\",\"Unnamed: 11\"])"
   ]
  },
  {
   "cell_type": "code",
   "execution_count": null,
   "id": "c6ee33e8",
   "metadata": {},
   "outputs": [],
   "source": [
    "df_remise_CLientOps.loc[:,\"N° bordereau BNP\"] = df_remise_CLientOps.loc[:,\"N° bordereau BNP\"].fillna(0)\n",
    "df_remise_CLientOps.loc[:,\"N° bordereau BNP\"] = df_remise_CLientOps.loc[:,\"N° bordereau BNP\"].astype(int).astype(str)\n",
    "df_remise_CLientOps.loc[:,\"Montant\"] = df_remise_CLientOps.loc[:,\"Montant\"].astype(str)\n",
    "df_remise_CLientOps = df_remise_CLientOps[df_remise_CLientOps[\"Montant\"].str.contains(\"\\d\",regex=True)]"
   ]
  },
  {
   "cell_type": "code",
   "execution_count": null,
   "id": "29cacdcb",
   "metadata": {},
   "outputs": [],
   "source": [
    "def convert_product(destinataire):\n",
    "    destinataire = destinataire.upper()\n",
    "    if \"XL\" in destinataire:\n",
    "        return \"XL\"\n",
    "    if \"EU\" in destinataire:\n",
    "        return \"EU\"\n",
    "    return \"CC\""
   ]
  },
  {
   "cell_type": "code",
   "execution_count": null,
   "id": "8b011fcb",
   "metadata": {},
   "outputs": [],
   "source": [
    "df_remise_cheque_detail = pd.concat([df_remise_cheque_detail,df_remise_CLientOps])\n",
    "df_remise_cheque_detail.loc[:,\"N° bordereau BNP\"] = df_remise_cheque_detail.loc[:,\"N° bordereau BNP\"].astype(str).str.upper()\n",
    "df_remise_cheque_detail = df_remise_cheque_detail[~df_remise_cheque_detail.loc[:,\"N° bordereau BNP\"].str.contains(\"X\")]\n",
    "df_remise_cheque_detail.loc[:,'N° bordereau BNP'] = df_remise_cheque_detail['N° bordereau BNP'].apply(lambda x: x.zfill(7))\n",
    "df_remise_cheque_detail.loc[:,\"Montant\"] = df_remise_cheque_detail.loc[:,\"Montant\"].astype(str).str.upper()\n",
    "df_remise_cheque_detail = df_remise_cheque_detail[~df_remise_cheque_detail.loc[:,\"Montant\"].str.contains(\"X\")]\n",
    "df_remise_cheque_detail.loc[:,\"Montant\"] = df_remise_cheque_detail.loc[:,\"Montant\"].str.replace(r'\\s|€|\\,','',regex=True)\n",
    "df_remise_cheque_detail.loc[:,\"Montant\"] = df_remise_cheque_detail.loc[:,\"Montant\"].astype(float)\n",
    "df_remise_cheque_detail.loc[:,\"NumCheque\"] = df_remise_cheque_detail.loc[:,\"NumCheque\"].astype(str)\n",
    "df_remise_cheque_detail.loc[:,\"NumCheque\"] = df_remise_cheque_detail.loc[:,\"NumCheque\"].str.replace(\".0\",\"\",regex=False)\n",
    "\n",
    "df_remise_cheque_detail.loc[:,\"Destinataire\"] = df_remise_cheque_detail.loc[:,\"Destinataire\"].apply(convert_product)\n",
    "df_remise_cheque_detail.loc[:,\"DateReception\"] = pd.to_datetime(df_remise_cheque_detail[\"DateReception\"], format=\"%Y%m%d\",errors=\"coerce\").fillna(pd.to_datetime(df_remise_cheque_detail[\"DateReception\"], format='%Y-%m-%d %H:%M:%S',errors=\"coerce\"))"
   ]
  },
  {
   "cell_type": "code",
   "execution_count": null,
   "id": "55aa732f",
   "metadata": {},
   "outputs": [],
   "source": [
    "df_remise_cheque_detail.loc[:,\"Titulaire_clean\"] = df_remise_cheque_detail[\"Titulaire\"].apply(clean_name)\n",
    "df_remise_cheque_detail = df_remise_cheque_detail.rename(columns={\"DateReception\":\"Valeur\",\n",
    "                                                     \"Montant\":\"Crédit\",\n",
    "                                                     \"Destinataire\":\"Fonds\"})\n",
    "df_remise_cheque_detail = df_remise_cheque_detail.rename(columns={\"N° bordereau BNP\":\"Num_Bordereau\"}).drop(columns={\n",
    "    'Date de valeur','Rubrique'\n",
    "})\n",
    "df_remise_cheque_detail.loc[:,\"Num_Bordereau\"] = df_remise_cheque_detail[\"Num_Bordereau\"].apply(lambda x: x.zfill(10))\n",
    "df_remise_cheque_detail.loc[:,\"NumCheque\"] = df_remise_cheque_detail[\"NumCheque\"].apply(lambda x: x.zfill(10))\n",
    "df_remise_cheque_detail.loc[:,\"Id sys\"] = df_remise_cheque_detail.loc[:,\"Num_Bordereau\"] + \"_\" + df_remise_cheque_detail.loc[:,\"NumCheque\"]\n",
    "df_remise_cheque_detail.loc[:,\"Product_motif\"] = np.nan"
   ]
  },
  {
   "cell_type": "markdown",
   "id": "a1326249",
   "metadata": {},
   "source": [
    "## Mouvments BO"
   ]
  },
  {
   "cell_type": "code",
   "execution_count": null,
   "id": "0fdc142f",
   "metadata": {},
   "outputs": [],
   "source": [
    "df_BO_cheques = df_mouvements_BO[df_mouvements_BO[\"PaymentMode_order\"]==\"Chèque\"]\n",
    "df_BO_cheques.loc[:,\"ClientName\"] = df_BO_cheques.loc[:,\"ClientName\"].apply(clean_name)"
   ]
  },
  {
   "cell_type": "markdown",
   "id": "3e1d5eba",
   "metadata": {},
   "source": [
    "## Souscription"
   ]
  },
  {
   "cell_type": "code",
   "execution_count": null,
   "id": "4df7fb1f",
   "metadata": {},
   "outputs": [],
   "source": [
    "df_souscription_check = df_souscription[df_souscription[\"PaymentMode\"]==\"Chèque\"]"
   ]
  },
  {
   "cell_type": "code",
   "execution_count": null,
   "id": "a0ac6747",
   "metadata": {},
   "outputs": [],
   "source": [
    "df_souscription_check.loc[:,'CheckNumber'] = df_souscription_check.loc[:,'CheckNumber'].astype(str).str.replace(\".0\",'',regex=False).apply(lambda x: x.zfill(10))\n",
    "df_souscription_check.loc[:,'CheckNumber_Detail'] = df_souscription_check.loc[:,'CheckNumber_Detail'].astype(str).str.replace(\".0\",'',regex=False).apply(lambda x: x.zfill(10))\n",
    "df_souscription_check.loc[:,'SubscriptionAmount'] = df_souscription_check.loc[:,'SubscriptionAmount'].astype(str).str.replace(\",\",'.',regex=False).astype(float)\n",
    "df_souscription_check.loc[:,\"CheckAmount\"] = df_souscription_check.loc[:,\"CheckAmount\"].astype(str).str.replace(\",\",\".\",regex=False).astype(float)"
   ]
  },
  {
   "cell_type": "markdown",
   "id": "c2a6c5cb",
   "metadata": {},
   "source": [
    "# Rapprochement"
   ]
  },
  {
   "cell_type": "code",
   "execution_count": null,
   "id": "92b12ad1",
   "metadata": {},
   "outputs": [],
   "source": [
    "### Garder la valeur initiale pour tester ###\n",
    "df_BO_cheques_itital = df_BO_cheques\n",
    "df_remise_cheque_detail_itital = df_remise_cheque_detail\n",
    "df_cheque_releve_initial = df_cheque_releve"
   ]
  },
  {
   "cell_type": "markdown",
   "id": "cd999c2f",
   "metadata": {},
   "source": [
    "__Les étapes :__\n",
    "1. Vérifier le montant demandé (envoyé) vs Montant reçu dans le relevé. S'il y a un écart, retrouver le chèque qui n'est pas passé et puis retrouver ce chèque dans la table de souscription\n",
    "2. Pour les chèques encaissés, rapprocher chaque chèque avec un ordre dans BO\n",
    "3. Vérifier les rejets dans débit et puis si les ordres concernés sont annulés ? "
   ]
  },
  {
   "cell_type": "markdown",
   "id": "b6c92094",
   "metadata": {},
   "source": [
    "__Note pour Hamidou__ : pour ton cas, l'étape 1 est différente: le détail des chèques sont extraits depuis relevé, donc il faut vérifier si l'extraction fournie par la BNP est complète (cad : montant total de chaque remise correspond bien au montant dans le relevé). S'il y a un écart, il faut le sortir pour renvoyer à la BNP. \n",
    "\n",
    "Les ordres orphelins ne sont trouvés qu'à la fin du rapprochement."
   ]
  },
  {
   "cell_type": "markdown",
   "id": "2a716ee1",
   "metadata": {},
   "source": [
    "## Montant demandé vs Montant reçu"
   ]
  },
  {
   "cell_type": "code",
   "execution_count": null,
   "id": "9e2ef7eb",
   "metadata": {},
   "outputs": [],
   "source": [
    "df_remise_cheque_detail = df_remise_cheque_detail_itital\n",
    "df_cheque_releve = df_cheque_releve_initial\n",
    "df_BO_cheques = df_BO_cheques_itital"
   ]
  },
  {
   "cell_type": "code",
   "execution_count": null,
   "id": "726f7e13",
   "metadata": {},
   "outputs": [],
   "source": [
    "len(df_cheque_releve)"
   ]
  },
  {
   "cell_type": "code",
   "execution_count": null,
   "id": "a9533c3a",
   "metadata": {},
   "outputs": [],
   "source": [
    "mask = (df_remise_cheque_detail[\"Valeur\"]>=\"2022-03-01\") & (df_remise_cheque_detail[\"Valeur\"]<=\"2022-06-30\")\n",
    "df_remise_cheque_detail = df_remise_cheque_detail.loc[mask,:]\n",
    "mask = (df_cheque_releve[\"Date\"]>=df_remise_cheque_detail[\"Valeur\"].min()) & (df_cheque_releve[\"Date\"]<=df_remise_cheque_detail[\"Valeur\"].max() + dt.timedelta(days=20))\n",
    "df_cheque_releve = df_cheque_releve.loc[mask,:]"
   ]
  },
  {
   "cell_type": "code",
   "execution_count": null,
   "id": "44df7acb",
   "metadata": {},
   "outputs": [],
   "source": [
    "len(df_cheque_releve)"
   ]
  },
  {
   "cell_type": "code",
   "execution_count": null,
   "id": "82be0e66",
   "metadata": {},
   "outputs": [],
   "source": [
    "########## Agréger les données de détails remise de chèque #######\n",
    "df_remises_agg = df_remise_cheque_detail.groupby(by=[\"Valeur\",\"Fonds\",\"Num_Bordereau\"]).agg({\n",
    "                                    \"NumCheque\":\"count\",\n",
    "                                    \"Crédit\":\"sum\"}).reset_index()\n",
    "df_remises_agg = df_remises_agg.reset_index()\n",
    "df_remises_agg.columns = df_remises_agg.columns + \"_envoye\""
   ]
  },
  {
   "cell_type": "code",
   "execution_count": null,
   "id": "318dfe81",
   "metadata": {},
   "outputs": [],
   "source": [
    "######## Rapprochement par le Numéro de Bordereau ##########\n",
    "df_cheque_releve_ref = df_cheque_releve[df_cheque_releve[\"Ref.\"] !=\"0000000000\"]\n",
    "df_cheque_releve_autres = df_cheque_releve[df_cheque_releve[\"Ref.\"] ==\"0000000000\"]\n",
    "df_check1 = df_remises_agg.merge(df_cheque_releve_ref,left_on=\"Num_Bordereau_envoye\",right_on=\"Ref.\")\n",
    "\n",
    "### Le cas de doublons dans le numéro de remise (erreur de copier coller dans le fichier Xelians)\n",
    "df_check1_duplicates = df_check1[df_check1.duplicated(subset=\"Num_Bordereau_envoye\",keep=False)]\n",
    "df_check1_duplicates = df_check1_duplicates[df_check1_duplicates[\"Crédit_envoye\"] == df_check1_duplicates[\"Crédit\"]]\n",
    "\n",
    "df_check1_ok = df_check1.drop_duplicates(subset=\"Num_Bordereau_envoye\",keep=False)\n",
    "df_check1 = pd.concat([df_check1_duplicates,df_check1_ok])\n",
    "\n",
    "df_cheque_releve = df_cheque_releve[~df_cheque_releve[\"Id sys\"].isin(df_check1[\"Id sys\"])]\n",
    "df_remises_agg = df_remises_agg[~df_remises_agg[\"index_envoye\"].isin(df_check1[\"index_envoye\"])]"
   ]
  },
  {
   "cell_type": "code",
   "execution_count": null,
   "id": "63985fe6",
   "metadata": {},
   "outputs": [],
   "source": [
    "def rapprochement_releve_detail(df_remises_agg,df_cheque_releve):\n",
    "    '''Cette fonction permet de rapprocher entre les remises de chèque versus le relevé bancaire sur le montant total, date\n",
    "    Elle essaie de chercher la remise (Xelians) correspondante à une ligne de remise de chèque dans le relevé.\n",
    "    Cela est réalisé sur le montant exact (~1cent différent encore d'arrondir les chiffres), et les dates varient jusqu'à 50jours\n",
    "    \n",
    "    En sortant de cette fonction, les df_remise_agg et df_cheque_releve ne contiennent que les lignes non rapprochées.\n",
    "    Les lignes rapprochées sont présentes dans la df_check\n",
    "    '''\n",
    "    df_check = pd.DataFrame()\n",
    "    for nb_day in np.arange(1,50):\n",
    "        nb_day = int(nb_day)\n",
    "        if len(df_check) != 0:\n",
    "            df_remises_agg = df_remises_agg[~df_remises_agg[\"index_envoye\"].isin(df_check[\"index_envoye\"])]\n",
    "            df_cheque_releve = df_cheque_releve[~df_cheque_releve[\"Id sys\"].isin(df_check[\"Id sys\"])]\n",
    "        df_remises_agg.loc[:,\"Max_Date\"] = df_remises_agg.loc[:,\"Valeur_envoye\"] +dt.timedelta(days=nb_day)\n",
    "        conn = sqlite3.connect(':memory:')\n",
    "        df_cheque_releve.to_sql('cheque_releve', conn, index=False)\n",
    "        df_remises_agg.to_sql('cheque_envoye', conn, index=False)\n",
    "        qry = '''\n",
    "            SELECT  *\n",
    "            FROM\n",
    "                cheque_releve LEFT JOIN cheque_envoye ON\n",
    "                cheque_releve.Fonds = cheque_envoye.Fonds_envoye\n",
    "                AND (cheque_releve.Date BETWEEN cheque_envoye.Valeur_envoye AND cheque_envoye.Max_Date)\n",
    "\n",
    "            '''\n",
    "        df_match = pd.read_sql_query(qry, conn)\n",
    "        df_match = df_match[abs(df_match[\"Crédit\"] - df_match[\"Crédit_envoye\"] ) <= 0.01]\n",
    "        df_match = df_match[df_match[\"NumCheque_envoye\"] == df_match[\"Nb_ordres\"]]\n",
    "        df_match = df_match.drop_duplicates(subset=\"Id sys\",keep=False)\n",
    "        df_match = df_match.drop_duplicates(subset=\"index_envoye\",keep=False)\n",
    "\n",
    "        df_check = pd.concat([df_check,df_match])\n",
    "    return df_check,df_remises_agg,df_cheque_releve"
   ]
  },
  {
   "cell_type": "code",
   "execution_count": null,
   "id": "def27987",
   "metadata": {},
   "outputs": [],
   "source": [
    "### Rapprochement par montant et date ###\n",
    "df_check2,df_remises_agg,df_cheque_releve = rapprochement_releve_detail(df_remises_agg,df_cheque_releve)"
   ]
  },
  {
   "cell_type": "code",
   "execution_count": null,
   "id": "da9d14c4",
   "metadata": {},
   "outputs": [],
   "source": [
    "###### Rapprocher les doublons #########\n",
    "df_check3 = pd.DataFrame()\n",
    "for i in range(0,3): # hypothèse: 3 chèques max pour le même montant et le même client par jour\n",
    "    df1_i = df_remises_agg.drop_duplicates(subset=[\"Crédit_envoye\"],keep='first')\n",
    "    df2_i = df_cheque_releve.drop_duplicates(subset=[\"Crédit\"],keep='first')\n",
    "    df_match = df1_i.merge(df2_i,left_on=[\"Crédit_envoye\",\"Fonds_envoye\"],\\\n",
    "                            right_on=[\"Crédit\",\"Fonds\"]\n",
    "                           ) \n",
    "    df_check3 = pd.concat([df_check3,df_match])\n",
    "    df_remises_agg = df_remises_agg[~df_remises_agg[\"Num_Bordereau_envoye\"].isin(df_match[\"Num_Bordereau_envoye\"])]\n",
    "    df_cheque_releve = df_cheque_releve[~df_cheque_releve[\"Id sys\"].isin(df_match[\"Id sys\"])]"
   ]
  },
  {
   "cell_type": "code",
   "execution_count": null,
   "id": "305abdd8",
   "metadata": {},
   "outputs": [],
   "source": [
    "def check_ecart(ecart_montant,ecart_nb_cheque):\n",
    "    if abs(ecart_montant) > 0.1 or ecart_nb_cheque != 0: return True\n",
    "    return False"
   ]
  },
  {
   "cell_type": "code",
   "execution_count": null,
   "id": "993461cb",
   "metadata": {},
   "outputs": [],
   "source": [
    "######### Les references matchent mais montant différent #### \n",
    "df_check = pd.concat([df_check1,df_check2,df_check3])\n",
    "df_check.loc[:,\"Ecart_montant\"] = df_check.loc[:,\"Crédit_envoye\"] - df_check.loc[:,\"Crédit\"]\n",
    "df_check.loc[:,\"Ecart_nb_cheque\"] = df_check.loc[:,\"NumCheque_envoye\"] - df_check.loc[:,\"Nb_ordres\"]\n",
    "df_check.loc[:,\"Ecart\"] = df_check.apply(lambda f : abs(f[\"Ecart_montant\"])> 0.01 or f[\"Ecart_nb_cheque\"] != 0, axis=1) \n",
    "df_check_ecart = df_check[df_check[\"Ecart\"]==True]"
   ]
  },
  {
   "cell_type": "code",
   "execution_count": null,
   "id": "c024a7a4",
   "metadata": {},
   "outputs": [],
   "source": [
    "###### Bordereau dans Xelians et ClientOps mais l'argent n'est pas reçu dans relevé ### \n",
    "df_remises_agg = df_remises_agg.sort_values(by=[\"Fonds_envoye\",\"Valeur_envoye\"])\n",
    "df_remises_agg.to_excel(folder_path +\"/output/Remise non trouvée dans relevé.xlsx\",sheet_name=\"cheque\",index=False)\n"
   ]
  },
  {
   "cell_type": "code",
   "execution_count": null,
   "id": "ab471764",
   "metadata": {},
   "outputs": [],
   "source": [
    "######### Remise dans relevé mais pas dans Xelians et ClientOps\n",
    "df_cheque_releve = df_cheque_releve[df_cheque_releve[\"Date\"]<= \"2022-06-30\"]\n",
    "df_cheque_releve.to_excel(folder_path +\"/output/Remise chèque dans relevé sans Xelians ou ClientOps.xlsx\",sheet_name=\"releve\",index=False)\n",
    "len(df_cheque_releve)"
   ]
  },
  {
   "cell_type": "code",
   "execution_count": null,
   "id": "cb3f3db7",
   "metadata": {},
   "outputs": [],
   "source": [
    "len(df_check) == df_check[\"Id sys\"].nunique(), len(df_check) == df_check[\"index_envoye\"].nunique()"
   ]
  },
  {
   "cell_type": "markdown",
   "id": "25b7d7a7",
   "metadata": {},
   "source": [
    "#### Pour les écarts, vérifier les chèques dans souscription (pas besoin de regarder pour l'instant)"
   ]
  },
  {
   "cell_type": "code",
   "execution_count": null,
   "id": "6b9c62f0",
   "metadata": {},
   "outputs": [],
   "source": [
    "df_souscription_check = df_souscription_check[[\"Idsubscriptionorder\",\"SubscriptionDate\", 'SharesNumber_Dec',\n",
    "       'Amount_Bulletin', 'CheckNumber_Detail', 'CheckDate', 'CheckOwner','CheckNumber',\n",
    "       'CheckAmount', 'SubscriptionAmount']]\n",
    "df_check_ecart = df_check_ecart.rename(columns={\"Num_Bordereau_envoye\":\"Num_Bordereau\",\"Crédit\":\"Crédit_relevé\",\n",
    "                                               \"Id sys\":\"Id sys_relevé\",\"Nb_ordres\":\"Nb_ordres_relevé\"})\n",
    "df_check_ecart = df_check_ecart[[\"Num_Bordereau\",\"Ecart_montant\",\"Ecart_nb_cheque\",\"Id sys_relevé\",\"Crédit_relevé\",\"Nb_ordres_relevé\"]]\n",
    "df_remise_cheque_detail_ecart = df_check_ecart.merge(df_remise_cheque_detail,on=\"Num_Bordereau\")\n",
    "df_ecart_Xelians = df_remise_cheque_detail_ecart[df_remise_cheque_detail_ecart[\"NuméroOrdre\"].isnull()]\n",
    "df_ecart_ClientOps = df_remise_cheque_detail_ecart[~df_remise_cheque_detail_ecart[\"NuméroOrdre\"].isnull()]"
   ]
  },
  {
   "cell_type": "code",
   "execution_count": null,
   "id": "b4612cd2",
   "metadata": {},
   "outputs": [],
   "source": [
    "############# Xelians ##########\n",
    "df_souscription_cheque_Xelians = df_souscription_check[df_souscription_check[\"CheckNumber\"].isin(df_ecart_Xelians[\"Num_Bordereau\"])]\n",
    "df_ecart_Xelians_check = df_ecart_Xelians.merge(df_souscription_cheque_Xelians,\n",
    "                                        left_on=[\"Num_Bordereau\",\"NumCheque\"],\n",
    "                                        right_on=[\"CheckNumber\",\"CheckNumber_Detail\"])\n",
    "df_souscription_cheque_Xelians_restant = df_souscription_cheque_Xelians[~df_souscription_cheque_Xelians[\"CheckNumber_Detail\"].isin(\n",
    "                                                                df_ecart_Xelians[\"NumCheque\"])] \n",
    "df_restant = df_ecart_Xelians[~df_ecart_Xelians[\"NumCheque\"].isin(\n",
    "                                                    df_ecart_Xelians_check[\"NumCheque\"])]"
   ]
  },
  {
   "cell_type": "code",
   "execution_count": null,
   "id": "d986b7e9",
   "metadata": {},
   "outputs": [],
   "source": [
    "df_restant[\"Right_ord\"] = abs(df_restant[\"Ecart_montant\"]) == df_restant[\"Crédit\"]"
   ]
  },
  {
   "cell_type": "code",
   "execution_count": null,
   "id": "3c9cb7f8",
   "metadata": {},
   "outputs": [],
   "source": [
    "df_cheque_non_passe = df_ecart_Xelians_check[abs(abs(df_ecart_Xelians_check[\"Ecart_montant\"])-df_ecart_Xelians_check[\"CheckAmount\"])<=1]"
   ]
  },
  {
   "cell_type": "markdown",
   "id": "2deb8a1e",
   "metadata": {},
   "source": [
    "## Rapprocher avec les ordres"
   ]
  },
  {
   "cell_type": "code",
   "execution_count": null,
   "id": "bfe6ce06",
   "metadata": {},
   "outputs": [],
   "source": [
    "############################"
   ]
  },
  {
   "cell_type": "code",
   "execution_count": null,
   "id": "8c8582b7",
   "metadata": {},
   "outputs": [],
   "source": [
    "mask = (df_BO_cheques_itital[\"SubscriptionDate\"]>=\"2022-03-01\") & (df_BO_cheques_itital[\"SubscriptionDate\"]<=\"2022-08-31\")\n",
    "df_BO_cheques_itital = df_BO_cheques_itital.loc[mask,:]"
   ]
  },
  {
   "cell_type": "code",
   "execution_count": null,
   "id": "08d922ea",
   "metadata": {},
   "outputs": [],
   "source": [
    "df_BO_cheques = df_BO_cheques_itital\n",
    "mask = (df_remise_cheque_detail_itital[\"Valeur\"]>=\"2022-03-01\") & (df_remise_cheque_detail_itital[\"Valeur\"]<=\"2022-06-30\")\n",
    "df_remise_cheque = df_remise_cheque_detail_itital.loc[mask,:] "
   ]
  },
  {
   "cell_type": "code",
   "execution_count": null,
   "id": "43dea9e5",
   "metadata": {},
   "outputs": [],
   "source": [
    "df_remise_cheque[\"Crédit\"].sum()"
   ]
  },
  {
   "cell_type": "code",
   "execution_count": null,
   "id": "003ba399",
   "metadata": {},
   "outputs": [],
   "source": [
    "len(df_remise_cheque)"
   ]
  },
  {
   "cell_type": "code",
   "execution_count": null,
   "id": "1e4549d6",
   "metadata": {},
   "outputs": [],
   "source": [
    "def rapprochement_cheque(df_remise_cheque,df_BO_cheques,bol_demembrement,bol_proposition=False):\n",
    "    list_fonds = [\"EU\",\"CC\",\"XL\"]\n",
    "    df_remise_cheque_auto = pd.DataFrame()\n",
    "    df_BO_auto = pd.DataFrame()\n",
    "    if bol_demembrement == True: ### Pour les démembrements, le temps d'attente entre le paiement et la création des parts pourrait être 4 mois\n",
    "        nb_jours_intervalle = 60\n",
    "    else: nb_jours_intervalle = 40\n",
    "\n",
    "    df_BO_cheques.loc[:,\"Start_Date\"] = df_BO_cheques.loc[:,\"SubscriptionDate\"]+dt.timedelta(days=-nb_jours_intervalle)\n",
    "    df_BO_cheques.loc[:,\"End_Date\"] = df_BO_cheques.loc[:,\"SubscriptionDate\"]+dt.timedelta(days=nb_jours_intervalle)\n",
    "\n",
    "    for fonds in list_fonds:\n",
    "        df_BO_cheques_fonds = df_BO_cheques[df_BO_cheques[\"Product\"]==fonds]\n",
    "        df_remise_cheque_fonds = df_remise_cheque[df_remise_cheque[\"Fonds\"]==fonds]\n",
    "\n",
    "        df_BO_cheques_autres_fonds = df_BO_cheques[df_BO_cheques[\"Product\"]!=fonds]\n",
    "        ### montant exact ###\n",
    "        df_remise_cheque_fonds, df_BO_cheques_fonds = basic_mapping_releve_vs_BO(df_remise_cheque_fonds,df_BO_cheques_fonds,\"Titulaire_clean\",\"montant exact\",bol_partial_score=True,bol_plusieurs_virs=False,bol_proposition=bol_proposition)\n",
    "        if bol_proposition==False : \n",
    "            ## paiement en plusieurs fois ###\n",
    "            nb_jours_agrege = nb_jours_intervalle / 2\n",
    "            for nb_day in np.arange(nb_jours_agrege,1,step=-1):\n",
    "                df_remise_cheque_fonds, df_BO_cheques_fonds = mapping_payer_plusieurs_fois_v2(df_remise_cheque_fonds,df_BO_cheques_fonds,nb_day,\"Titulaire_clean\",\"paiement en pls fois\",bol_partial_score=True,bol_proposition=bol_proposition)\n",
    "        #### un cheque pour plusieurs ordres\n",
    "        df_remise_cheque_fonds, df_BO_cheques_fonds = mapping_un_paiement_pls_ords(df_remise_cheque_fonds,df_BO_cheques_fonds,\"Titulaire_clean\",\"un chq pour pls ordres\",bol_partial_score=True,bol_proposition=bol_proposition)\n",
    "\n",
    "        df_remise_cheque_auto = pd.concat([df_remise_cheque_auto,df_remise_cheque_fonds]) # concaténer les fonds déjà mappés\n",
    "        df_BO_auto = pd.concat([df_BO_auto,df_BO_cheques_fonds]) \n",
    "    return df_remise_cheque_auto,df_BO_auto"
   ]
  },
  {
   "cell_type": "code",
   "execution_count": null,
   "id": "6a359781",
   "metadata": {},
   "outputs": [],
   "source": [
    "df_BO_cheques_PP = df_BO_cheques[df_BO_cheques[\"PropertyType\"]==\"PP\"]\n",
    "df_remise_cheque,df_BO_cheques_PP = rapprochement_cheque(df_remise_cheque,df_BO_cheques_PP,bol_demembrement = False)"
   ]
  },
  {
   "cell_type": "code",
   "execution_count": null,
   "id": "9efecf00",
   "metadata": {},
   "outputs": [],
   "source": [
    "df_remise_cheque_PP = df_remise_cheque[~df_remise_cheque[\"Subscription_Order_Name\"].isnull()]\n",
    "df_remise_cheque_restant = df_remise_cheque[df_remise_cheque[\"Subscription_Order_Name\"].isnull()]"
   ]
  },
  {
   "cell_type": "code",
   "execution_count": null,
   "id": "441a34a3",
   "metadata": {},
   "outputs": [],
   "source": [
    "df_BO_cheques_DM = df_BO_cheques[df_BO_cheques[\"PropertyType\"]!=\"PP\"]\n",
    "df_remise_cheque_restant,df_BO_cheques_DM = rapprochement_cheque(df_remise_cheque_restant,df_BO_cheques_DM,bol_demembrement = True)"
   ]
  },
  {
   "cell_type": "code",
   "execution_count": null,
   "id": "542caad7",
   "metadata": {},
   "outputs": [],
   "source": [
    "df_remise_cheque_DM = df_remise_cheque_restant[~df_remise_cheque_restant[\"Subscription_Order_Name\"].isnull()]\n",
    "df_remise_cheque_valide = pd.concat([df_remise_cheque_PP,df_remise_cheque_DM])"
   ]
  },
  {
   "cell_type": "code",
   "execution_count": null,
   "id": "0effaefa",
   "metadata": {},
   "outputs": [],
   "source": [
    "df_BO_cheques = pd.concat([df_BO_cheques_PP,df_BO_cheques_DM])\n",
    "df_BO_cheques_restant = df_BO_cheques[df_BO_cheques[\"Id sys\"].isnull()]"
   ]
  },
  {
   "cell_type": "code",
   "execution_count": null,
   "id": "c49beb50",
   "metadata": {},
   "outputs": [],
   "source": [
    "df_remise_cheque_restant = df_remise_cheque[~df_remise_cheque[\"Id sys\"].isin(df_remise_cheque_valide[\"Id sys\"])]"
   ]
  },
  {
   "cell_type": "markdown",
   "id": "eccd2ff2",
   "metadata": {},
   "source": [
    "#### Proposition (pas besoin de regarder pour l'instant)"
   ]
  },
  {
   "cell_type": "code",
   "execution_count": null,
   "id": "e4c021c6",
   "metadata": {},
   "outputs": [],
   "source": [
    "### Pour les lignes non rapprochées, tester la proposition (même code mais baisser le fuzzy score = 70% ) pour voir le résultat"
   ]
  },
  {
   "cell_type": "code",
   "execution_count": null,
   "id": "3d623f51",
   "metadata": {},
   "outputs": [],
   "source": [
    "df_BO_cheques_restant_PP = df_BO_cheques_restant[df_BO_cheques_restant[\"PropertyType\"]==\"PP\"]\n",
    "df_remise_cheque_restant,df_BO_cheques_restant_PP = rapprochement_cheque(df_remise_cheque_restant,df_BO_cheques_restant_PP,bol_demembrement = False,bol_proposition=True )"
   ]
  },
  {
   "cell_type": "code",
   "execution_count": null,
   "id": "baac6e55",
   "metadata": {},
   "outputs": [],
   "source": [
    "df_proposition_PP = df_remise_cheque_restant[~df_remise_cheque_restant[\"Subscription_Order_Name\"].isnull()]"
   ]
  },
  {
   "cell_type": "code",
   "execution_count": null,
   "id": "3f70b974",
   "metadata": {},
   "outputs": [],
   "source": [
    "df_remise_cheque_restant = df_remise_cheque_restant[df_remise_cheque_restant[\"Subscription_Order_Name\"].isnull()]\n",
    "len(df_remise_cheque_restant)"
   ]
  },
  {
   "cell_type": "code",
   "execution_count": null,
   "id": "ba542b8f",
   "metadata": {},
   "outputs": [],
   "source": [
    "df_BO_cheques_restant_DM = df_BO_cheques_restant[df_BO_cheques_restant[\"PropertyType\"]!=\"PP\"]\n",
    "df_remise_cheque_restant,df_BO_cheques_restant_DM = rapprochement_cheque(df_remise_cheque_restant,df_BO_cheques_restant_DM,bol_demembrement = False,bol_proposition=True )"
   ]
  },
  {
   "cell_type": "code",
   "execution_count": null,
   "id": "f2688dbb",
   "metadata": {},
   "outputs": [],
   "source": [
    "df_proposition_DM = df_remise_cheque_restant[~df_remise_cheque_restant[\"Subscription_Order_Name\"].isnull()]"
   ]
  },
  {
   "cell_type": "code",
   "execution_count": null,
   "id": "e569c1de",
   "metadata": {},
   "outputs": [],
   "source": [
    "df_proposition_full = pd.concat([df_proposition_PP,df_proposition_DM])"
   ]
  },
  {
   "cell_type": "code",
   "execution_count": null,
   "id": "5e77138d",
   "metadata": {},
   "outputs": [],
   "source": []
  }
 ],
 "metadata": {
  "kernelspec": {
   "display_name": "Python 3 (ipykernel)",
   "language": "python",
   "name": "python3"
  },
  "language_info": {
   "codemirror_mode": {
    "name": "ipython",
    "version": 3
   },
   "file_extension": ".py",
   "mimetype": "text/x-python",
   "name": "python",
   "nbconvert_exporter": "python",
   "pygments_lexer": "ipython3",
   "version": "3.8.12"
  },
  "toc": {
   "base_numbering": 1,
   "nav_menu": {},
   "number_sections": true,
   "sideBar": true,
   "skip_h1_title": false,
   "title_cell": "Table of Contents",
   "title_sidebar": "Contents",
   "toc_cell": false,
   "toc_position": {},
   "toc_section_display": true,
   "toc_window_display": false
  },
  "varInspector": {
   "cols": {
    "lenName": 16,
    "lenType": 16,
    "lenVar": 40
   },
   "kernels_config": {
    "python": {
     "delete_cmd_postfix": "",
     "delete_cmd_prefix": "del ",
     "library": "var_list.py",
     "varRefreshCmd": "print(var_dic_list())"
    },
    "r": {
     "delete_cmd_postfix": ") ",
     "delete_cmd_prefix": "rm(",
     "library": "var_list.r",
     "varRefreshCmd": "cat(var_dic_list()) "
    }
   },
   "types_to_exclude": [
    "module",
    "function",
    "builtin_function_or_method",
    "instance",
    "_Feature"
   ],
   "window_display": false
  }
 },
 "nbformat": 4,
 "nbformat_minor": 5
}
