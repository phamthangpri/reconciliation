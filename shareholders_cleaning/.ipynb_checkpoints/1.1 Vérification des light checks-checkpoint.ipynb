{
 "cells": [
  {
   "cell_type": "markdown",
   "id": "78747533",
   "metadata": {},
   "source": [
    "# Import libraries"
   ]
  },
  {
   "cell_type": "code",
   "execution_count": null,
   "id": "4ac5e2e8",
   "metadata": {},
   "outputs": [],
   "source": [
    "%load_ext autoreload\n",
    "%autoreload 2"
   ]
  },
  {
   "cell_type": "code",
   "execution_count": null,
   "id": "aa6e570b",
   "metadata": {},
   "outputs": [],
   "source": [
    "import swifter\n",
    "from unidecode import unidecode"
   ]
  },
  {
   "cell_type": "code",
   "execution_count": null,
   "id": "a8b52216",
   "metadata": {},
   "outputs": [],
   "source": [
    "from functions.utils import *\n",
    "from functions.mapping_virements import *\n",
    "from functions.clean_data import *\n",
    "from functions.check_clientops import *"
   ]
  },
  {
   "cell_type": "code",
   "execution_count": null,
   "id": "dc66cef2",
   "metadata": {},
   "outputs": [],
   "source": [
    "import datetime as dt\n",
    "import re"
   ]
  },
  {
   "cell_type": "markdown",
   "id": "3abf53e5",
   "metadata": {},
   "source": [
    "# Context"
   ]
  },
  {
   "cell_type": "markdown",
   "id": "f02aa463",
   "metadata": {},
   "source": [
    "__I. Données reçues__\n",
    "1. Données de relevé bancaire\n",
    "2. Suivi de ClientOps\n",
    "3. Données de BO sur les mouvements\n",
    "4. Connection Démembrement\n",
    "5. Données sur les souscriptions\n",
    "6. Le champs Commentaire dans BO\n",
    "7. Régul compte à compte"
   ]
  },
  {
   "cell_type": "markdown",
   "id": "5d2f0489",
   "metadata": {},
   "source": [
    "__II. Cheminement de traitement des données__ :\n",
    "1. Importer les données de différentes périodes\n",
    "2. Retraiter les données en faisant des controles pour s'assurer qu'on ne perd pas des lignes au cours de traitement\n",
    "3. Rapprocher les données entre relevé bancaire vs BO\n",
    "4. Ajouter les commentaires sur le résultat obtenu"
   ]
  },
  {
   "cell_type": "markdown",
   "id": "ecd04524",
   "metadata": {},
   "source": [
    "# Import data"
   ]
  },
  {
   "cell_type": "code",
   "execution_count": null,
   "id": "add562c5",
   "metadata": {},
   "outputs": [],
   "source": [
    "folder_path = \"xxxx\""
   ]
  },
  {
   "cell_type": "markdown",
   "id": "685554a6",
   "metadata": {},
   "source": [
    "## Virements rapprochés"
   ]
  },
  {
   "cell_type": "code",
   "execution_count": null,
   "id": "3d34a860",
   "metadata": {
    "scrolled": true
   },
   "outputs": [],
   "source": [
    "df_check = pd.read_excel(folder_path + \"/output/1. Virements/All_Données virement rapprochées avec BO.xlsx\",sheet_name=\"Données_mappées\")"
   ]
  },
  {
   "cell_type": "markdown",
   "id": "935b12b2",
   "metadata": {},
   "source": [
    "## BO"
   ]
  },
  {
   "cell_type": "code",
   "execution_count": null,
   "id": "ece72408",
   "metadata": {},
   "outputs": [],
   "source": [
    "df_BO = pd.read_excel(folder_path + \"/transformed_data/1. BO/Mouvements BO clean.xlsx\",sheet_name=\"BO\")"
   ]
  },
  {
   "cell_type": "code",
   "execution_count": null,
   "id": "564da43f",
   "metadata": {},
   "outputs": [],
   "source": [
    "df_BO_virs = df_BO[df_BO[\"PaymentMode_order\"]==\"Virement\"]"
   ]
  },
  {
   "cell_type": "markdown",
   "id": "188cf067",
   "metadata": {},
   "source": [
    "# Revérifier les light checks"
   ]
  },
  {
   "cell_type": "markdown",
   "id": "9960a030",
   "metadata": {},
   "source": [
    "Règles de vérification : \n",
    "\n",
    "_Virement unique_ : \n",
    "+ vérifier si chaque ordre est utilisé une seule fois\n",
    "+ montant ordre = montant virement\n",
    "+ un ordre = 1 virement\n",
    "\n",
    "_Un virement est pour plusieurs ordres_ :\n",
    "   + somme montant ordres = montant virement\n",
    "   +  un ordre = 1 virement\n",
    "\n",
    "_Plusieurs virements pour un ordre_ :\n",
    "   + montant ordre = somme des virements\n",
    "   + calculer le nombre de virements pour chaque ordre\n",
    "\n",
    "__Concaténation des 3 résultats et rechecker__ :\n",
    "+ Recalculer le nombre de virements pour chaque ordre \n",
    "+ Revérifier avec le résultat dessus\n",
    "+ Sortir toutes les anomalies pour vérifier manuellement\n"
   ]
  },
  {
   "cell_type": "code",
   "execution_count": null,
   "id": "bc36bf7e",
   "metadata": {},
   "outputs": [],
   "source": [
    "df_check_PP = df_check[df_check[\"Commentaire\"]==\"PP\"]\n",
    "df_check_DM = df_check[df_check[\"Commentaire\"]!=\"PP\"]"
   ]
  },
  {
   "cell_type": "code",
   "execution_count": null,
   "id": "8383a580",
   "metadata": {},
   "outputs": [],
   "source": [
    "len(df_check_PP),len(df_check_DM)"
   ]
  },
  {
   "cell_type": "code",
   "execution_count": null,
   "id": "8ec388e8",
   "metadata": {},
   "outputs": [],
   "source": [
    "len(df_check_PP),len(df_check_DM)"
   ]
  },
  {
   "cell_type": "code",
   "execution_count": null,
   "id": "cae33cb8",
   "metadata": {},
   "outputs": [],
   "source": [
    "df_BO_virs_check = df_BO_virs.groupby(by=[\"Subscription_Order_Id\",\"Subscription_Order_Name\",\"ClientName\",\n",
    "                                            \"Product\",\"PropertyType\"])[\"Amount\"].sum().reset_index()\n",
    "df_BO_virs_check.columns = df_BO_virs_check.columns + \"_check\"\n",
    "df_BO_virs_check[\"PropertyType_check\"] = df_BO_virs_check[\"PropertyType_check\"].map({\"PP\":\"PP\",\n",
    "                                                                                     \"NP\":\"Demembrement\",\n",
    "                                                                                    \"UF\":\"Demembrement\"})"
   ]
  },
  {
   "cell_type": "code",
   "execution_count": null,
   "id": "5cb907c2",
   "metadata": {},
   "outputs": [],
   "source": [
    "def get_case(credit,amount,amount_clientops):\n",
    "    if abs(credit - amount) <= 5:\n",
    "        return \"cas_normal_1\"\n",
    "    if abs(credit - amount_clientops) <= 5:\n",
    "        return \"cas_normal_2\"\n",
    "    return \"autre\""
   ]
  },
  {
   "cell_type": "markdown",
   "id": "f5c81156",
   "metadata": {},
   "source": [
    "## Pleine propriété"
   ]
  },
  {
   "cell_type": "code",
   "execution_count": null,
   "id": "9882ab87",
   "metadata": {},
   "outputs": [],
   "source": [
    "# df_check_a_traiter = df_check_PP"
   ]
  },
  {
   "cell_type": "code",
   "execution_count": null,
   "id": "3ab06d5e",
   "metadata": {},
   "outputs": [],
   "source": [
    "df_check_a_traiter = df_check_DM"
   ]
  },
  {
   "cell_type": "code",
   "execution_count": null,
   "id": "ce26cbbd",
   "metadata": {},
   "outputs": [],
   "source": [
    "df_check_a_traiter[\"flag\"] = df_check_a_traiter.apply(lambda f:get_case(f[\"Crédit\"],f[\"Amount\"],f[\"Amount_BOClientOps\"]),axis=1)\n",
    "df_check_virunique = df_check_a_traiter[df_check_a_traiter[\"Pls_lignes\"]==\"virement unique\"]\n",
    "df_check_cas_normal_1 = df_check_virunique[df_check_virunique[\"flag\"] == \"cas_normal_1\"] ### Cas rapprochement automatique\n",
    "df_check_cas_normal_2 = df_check_virunique[df_check_virunique[\"flag\"] == \"cas_normal_2\"] ### Cas audit ClientOps\n",
    "df_check_cas_pls = df_check_a_traiter[df_check_a_traiter[\"Pls_lignes\"]!=\"virement unique\"]"
   ]
  },
  {
   "cell_type": "code",
   "execution_count": null,
   "id": "aeebb8db",
   "metadata": {},
   "outputs": [],
   "source": [
    "len(df_check_a_traiter) , len(df_check_cas_normal_1) + len(df_check_cas_normal_2) + len(df_check_cas_pls)"
   ]
  },
  {
   "cell_type": "code",
   "execution_count": null,
   "id": "04bb2142",
   "metadata": {},
   "outputs": [],
   "source": [
    "len(df_check_a_traiter) , len(df_check_cas_normal_1) + len(df_check_cas_normal_2) + len(df_check_cas_pls)"
   ]
  },
  {
   "cell_type": "code",
   "execution_count": null,
   "id": "7e88a92d",
   "metadata": {},
   "outputs": [],
   "source": [
    "df_anomalie = pd.DataFrame()"
   ]
  },
  {
   "cell_type": "markdown",
   "id": "312a36dc",
   "metadata": {},
   "source": [
    "## Cas normal_1"
   ]
  },
  {
   "cell_type": "code",
   "execution_count": null,
   "id": "4ff8308b",
   "metadata": {},
   "outputs": [],
   "source": [
    "nb_idsys_unique_before = df_check_cas_normal_1[\"Id sys\"].nunique()\n",
    "nb_idsys_unique_before"
   ]
  },
  {
   "cell_type": "code",
   "execution_count": null,
   "id": "5ef6ea5e",
   "metadata": {},
   "outputs": [],
   "source": [
    "len(df_check_cas_normal_1)"
   ]
  },
  {
   "cell_type": "code",
   "execution_count": null,
   "id": "3fd82a93",
   "metadata": {},
   "outputs": [],
   "source": [
    "### Cas des OrderName sont en doublon dans BO \n",
    "'''les données de souscription ne sont pas propres, on peut avoir 2 order_id avec le même order_name\n",
    "Quand on faire le rapprochement juste avec Subscription_Order_Name, on peut avoir 2 lignes\n",
    "Donc cette partie est juste pour supprimer la ligne en doublon\n",
    "'''\n",
    "df_duplicates = df_check_cas_normal_1[df_check_cas_normal_1.duplicated(subset=\"Id sys\",keep=False)]\n",
    "print(f'Nb Id sys avant de nettoyer : {df_duplicates[\"Id sys\"].nunique()}')\n",
    "print(f\"nb lignes en doublons :       {len(df_duplicates)}\")\n",
    "df_duplicates = df_duplicates[df_duplicates[\"Fonds_x\"]==df_duplicates[\"Fonds_y\"]]\n",
    "df_duplicates = df_duplicates[df_duplicates[\"ClientName\"]==df_duplicates[\"ClientName_BOClientOps\"]]\n",
    "df_duplicates = df_duplicates[abs(df_duplicates[\"Crédit\"] - df_duplicates[\"Amount_BOClientOps\"])<=5]\n",
    "df_non_duplicates = df_check_cas_normal_1[~df_check_cas_normal_1[\"Id sys\"].isin(df_duplicates[\"Id sys\"])]\n",
    "\n",
    "print(f\"nb lignes après le nettoyage: {len(df_duplicates)}\")\n",
    "df_check_cas_normal_1_after = pd.concat([df_non_duplicates,df_duplicates])\n",
    "############ Vérifier si un virement est rapproché avec plusieurs order_id ########### \n",
    "df_check_cas_normal_1_after[df_check_cas_normal_1_after.duplicated(subset=\"Id sys\",keep=False)]"
   ]
  },
  {
   "cell_type": "code",
   "execution_count": null,
   "id": "27f36fd7",
   "metadata": {},
   "outputs": [],
   "source": [
    "#### Récupérer Order_Id pour écrire en masse dans BO après\n",
    "df_check_cas_normal_1_after = df_check_cas_normal_1_after.merge(df_BO_virs_check,left_on=[\"Subscription_Order_Name\",\n",
    "                                                     \"ClientName\",\"Product\",\n",
    "                                                     \"Amount\",\"Commentaire\"],\n",
    "                           right_on=['Subscription_Order_Name_check', 'ClientName_check',\n",
    "                                       'Product_check', 'Amount_check', 'PropertyType_check'])\n",
    "df_check_cas_normal_1_after = df_check_cas_normal_1_after.drop(columns=['Subscription_Order_Name_check', 'ClientName_check',\n",
    "                                    'Product_check', 'Amount_check', 'PropertyType_check']).rename(columns={\n",
    "                                    \"Subscription_Order_Id_check\":\"Subscription_Order_Id\"\n",
    "    \n",
    "})\n",
    "\n",
    "########### Vérifier si un order_id est rapproché avec plusieurs virs ########### \n",
    "df_check_cas_normal_1_after[df_check_cas_normal_1_after.duplicated(subset=[\"Subscription_Order_Id\"],keep=False)]"
   ]
  },
  {
   "cell_type": "code",
   "execution_count": null,
   "id": "ff788a54",
   "metadata": {},
   "outputs": [],
   "source": [
    "df_notOk = df_check_cas_normal_1[~df_check_cas_normal_1[\"Id sys\"].isin(df_check_cas_normal_1_after[\"Id sys\"])][[\n",
    "                            \"Subscription_Order_Name\",\"Amount\",\"ClientName\",\"SubscriptionDate\",\"Product\",\n",
    "                            \"Crédit\",\"Titulaire_clean\",\"Motif1\",\"Motif2\",\"Valeur\",\"Fonds_x\"\n",
    "                            ]]\n",
    "df_anomalie = pd.concat([df_anomalie,df_notOk])"
   ]
  },
  {
   "cell_type": "code",
   "execution_count": null,
   "id": "52ec76c6",
   "metadata": {},
   "outputs": [],
   "source": [
    "# df = df_check_cas_normal_1[df_check_cas_normal_1[\"Référence de l'ordre\"].isnull()]#[[\"Subscription_Order_Name\",\"ClientName\",\"Amount\",\"SubscriptionDate\",\"Crédit\",\"Valeur\"]]\n",
    "# df[df[\"ClientName\"].str.len()<4]"
   ]
  },
  {
   "cell_type": "code",
   "execution_count": null,
   "id": "b163f763",
   "metadata": {},
   "outputs": [],
   "source": [
    "### Calculer le nombre de virs par ordre ###\n",
    "df_check_cas_normal_1_after = df_check_cas_normal_1_after[[\"Id sys\",\"Crédit\",\"Valeur\",\"Libellé\",'Fonds_x',\n",
    "                                              'Subscription_Order_Name',\n",
    "                                               'ClientName', 'Product', 'Amount',\n",
    "                                               'SubscriptionDate',\n",
    "                                              'Commentaire','Subscription_Order_Id','Check_overall'\n",
    "                                              ]]\n",
    "df_count = df_check_cas_normal_1_after.groupby(by=[\"Subscription_Order_Id\",\"Subscription_Order_Name\"])[\"Id sys\"].count().reset_index()\n",
    "df_count = df_count.rename(columns={\"Id sys\":\"nb_idsys\"})\n",
    "df_check_cas_normal_1_after = df_check_cas_normal_1_after.merge(df_count,on=[\"Subscription_Order_Id\",\"Subscription_Order_Name\"])\n",
    "\n",
    "df_check_cas_normal_1_after[df_check_cas_normal_1_after[\"nb_idsys\"]!=1]"
   ]
  },
  {
   "cell_type": "code",
   "execution_count": null,
   "id": "8e173a84",
   "metadata": {},
   "outputs": [],
   "source": [
    "nb_rows_after = len(df_check_cas_normal_1_after)\n",
    "print(f'before : {nb_idsys_unique_before} \\n after : {nb_rows_after} \\n nb_anormalie : {len(df_notOk)}')"
   ]
  },
  {
   "cell_type": "markdown",
   "id": "528942de",
   "metadata": {},
   "source": [
    "## Cas normal_2"
   ]
  },
  {
   "cell_type": "code",
   "execution_count": null,
   "id": "b8da3d93",
   "metadata": {},
   "outputs": [],
   "source": [
    "nb_idsys_unique_before = df_check_cas_normal_2[\"Id sys\"].nunique()\n",
    "nb_idsys_unique_before"
   ]
  },
  {
   "cell_type": "code",
   "execution_count": null,
   "id": "fad2e2d0",
   "metadata": {},
   "outputs": [],
   "source": [
    "############ Vérifier si un virement est rapproché avec plusieurs order_id ########### \n",
    "df_check_cas_normal_2[df_check_cas_normal_2.duplicated(subset=\"Id sys\",keep=False)][[\"Amount_BOClientOps\",\"ClientName_BOClientOps\",\"Product_BOClientOps\",\"Crédit\",\"Fonds_x\",\"Motif2\",\"Verification ClientOps vs BO\"]]"
   ]
  },
  {
   "cell_type": "code",
   "execution_count": null,
   "id": "ab30eecc",
   "metadata": {},
   "outputs": [],
   "source": [
    "### Cas des OrderName sont en doublon dans BO \n",
    "'''les données de souscription ne sont pas propres, on peut avoir 2 order_id avec le même order_name\n",
    "Quand on faire le rapprochement juste avec Subscription_Order_Name, on peut avoir 2 lignes\n",
    "Donc cette partie est juste pour supprimer la ligne en doublon\n",
    "'''\n",
    "df_duplicates = df_check_cas_normal_2[df_check_cas_normal_2.duplicated(subset=\"Id sys\",keep=False)]\n",
    "print(f'Nb Id sys avant de nettoyer : {df_duplicates[\"Id sys\"].nunique()}')\n",
    "print(f\"nb lignes en doublons :       {len(df_duplicates)}\")\n",
    "df_duplicates = df_duplicates[df_duplicates[\"Fonds_x\"]==df_duplicates[\"Fonds_y\"]]\n",
    "# df_duplicates = df_duplicates[df_duplicates[\"ClientName\"]==df_duplicates[\"ClientName_BOClientOps\"]]\n",
    "df_duplicates = df_duplicates[df_duplicates[\"Crédit\"]==df_duplicates[\"Amount_BOClientOps\"]]\n",
    "df_non_duplicates = df_check_cas_normal_2[~df_check_cas_normal_2[\"Id sys\"].isin(df_duplicates[\"Id sys\"])]\n",
    "\n",
    "print(f\"nb lignes après le nettoyage: {len(df_duplicates)}\")\n",
    "df_check_cas_normal_2_after = pd.concat([df_non_duplicates,df_duplicates])\n",
    "############ Vérifier si un virement est rapproché avec plusieurs order_id ########### \n",
    "df_check_cas_normal_2_after[df_check_cas_normal_2_after.duplicated(subset=\"Id sys\",keep=False)]"
   ]
  },
  {
   "cell_type": "code",
   "execution_count": null,
   "id": "572b1f1e",
   "metadata": {},
   "outputs": [],
   "source": [
    "df_cas2_duplicates = df_check_cas_normal_2_after[df_check_cas_normal_2_after.duplicated(subset=\"Id sys\",keep=False)]\n",
    "df_anomalie = pd.concat([df_anomalie,df_cas2_duplicates])\n",
    "df_check_cas_normal_2_after = df_check_cas_normal_2_after[~df_check_cas_normal_2_after.duplicated(subset=\"Id sys\",keep=False)]"
   ]
  },
  {
   "cell_type": "code",
   "execution_count": null,
   "id": "a83f4150",
   "metadata": {},
   "outputs": [],
   "source": [
    "df_cas2_duplicates[[\"Amount_BOClientOps\",\"ClientName_BOClientOps\",\"Crédit\",\"Titulaire_clean\",\"Motif1\",\"Motif2\"]]"
   ]
  },
  {
   "cell_type": "code",
   "execution_count": null,
   "id": "3ea5dea8",
   "metadata": {},
   "outputs": [],
   "source": [
    "#### Récupérer Order_Id\n",
    "df_check_cas_normal_2_after = df_check_cas_normal_2_after.merge(df_BO_virs_check,left_on=[\"Subscription_Order_Name_BOClientOps\",\n",
    "                                                     \"ClientName_BOClientOps\",\"Product_BOClientOps\",\n",
    "                                                     \"Amount_BOClientOps\",\"Commentaire\"],\n",
    "                           right_on=['Subscription_Order_Name_check', 'ClientName_check',\n",
    "                                       'Product_check', 'Amount_check', 'PropertyType_check'])\n",
    "df_check_cas_normal_2_after = df_check_cas_normal_2_after.drop(columns=['Subscription_Order_Name_check', 'ClientName_check',\n",
    "                                    'Product_check', 'Amount_check', 'PropertyType_check']).rename(columns={\n",
    "                                    \"Subscription_Order_Id_check\":\"Subscription_Order_Id\"\n",
    "    \n",
    "})"
   ]
  },
  {
   "cell_type": "code",
   "execution_count": null,
   "id": "a47e947a",
   "metadata": {},
   "outputs": [],
   "source": [
    "len(df_check_cas_normal_2_after)"
   ]
  },
  {
   "cell_type": "markdown",
   "id": "6f3d217c",
   "metadata": {},
   "source": [
    "__Nous avons des lignes en doublon dans le résultat de ClientOps : un order est utilisé 2 fois pour rapprocher 2 virements de même montant__\n",
    "\n",
    "\n",
    "Ce serait retraité manuellement"
   ]
  },
  {
   "cell_type": "code",
   "execution_count": null,
   "id": "17aaac23",
   "metadata": {},
   "outputs": [],
   "source": [
    "df_doulons_ordres = df_check_cas_normal_2_after[df_check_cas_normal_2_after.duplicated(subset=[\"Subscription_Order_Id\",\"Subscription_Order_Name_BOClientOps\"],keep=False)]\n",
    "df_anomalie = pd.concat([df_anomalie,df_doulons_ordres])"
   ]
  },
  {
   "cell_type": "code",
   "execution_count": null,
   "id": "b5b5b0a1",
   "metadata": {},
   "outputs": [],
   "source": [
    "len(df_anomalie)"
   ]
  },
  {
   "cell_type": "code",
   "execution_count": null,
   "id": "f666dbf5",
   "metadata": {},
   "outputs": [],
   "source": [
    "df_check_cas_normal_2_after = df_check_cas_normal_2_after[~df_check_cas_normal_2_after.duplicated(subset=[\"Subscription_Order_Id\",\"Subscription_Order_Name_BOClientOps\"],keep=False)]\n",
    "df_check_cas_normal_2_after = df_check_cas_normal_2_after[[\"Id sys\",\"Crédit\",\"Valeur\",\"Libellé\",'Fonds_x',\n",
    "                                              'Subscription_Order_Name_BOClientOps',\n",
    "                                               'ClientName_BOClientOps', 'Product_BOClientOps', 'Amount_BOClientOps',\n",
    "                                               'SubscriptionDate_BOClientOps',\n",
    "                                              'Commentaire','Subscription_Order_Id','Check_overall'\n",
    "                                              ]].rename(columns={\n",
    "                                               'Subscription_Order_Name_BOClientOps':'Subscription_Order_Name',\n",
    "                                               'ClientName_BOClientOps':'ClientName', \n",
    "                                                'Product_BOClientOps':'Product', \n",
    "                                                'Amount_BOClientOps':'Amount',\n",
    "                                               'SubscriptionDate_BOClientOps':'SubscriptionDate', \n",
    "                                                'NoteBO_BOClientOps':'NoteBO',\n",
    "})\n",
    "df_count = df_check_cas_normal_2_after.groupby(by=[\"Subscription_Order_Id\",\"Subscription_Order_Name\"])[\"Id sys\"].count().reset_index()\n",
    "df_count = df_count.rename(columns={\"Id sys\":\"nb_idsys\"})\n",
    "df_check_cas_normal_2_after = df_check_cas_normal_2_after.merge(df_count,on=[\"Subscription_Order_Id\",\"Subscription_Order_Name\"])\n",
    "df_check_cas_normal_2_after[df_check_cas_normal_2_after[\"nb_idsys\"]!=1]"
   ]
  },
  {
   "cell_type": "code",
   "execution_count": null,
   "id": "789daf38",
   "metadata": {},
   "outputs": [],
   "source": [
    "nb_rows_after = df_check_cas_normal_2_after[\"Id sys\"].nunique()\n",
    "nb_rows_anomalie = df_doulons_ordres[\"Id sys\"].nunique() + df_cas2_duplicates[\"Id sys\"].nunique()\n",
    "print(f' before : {nb_idsys_unique_before} \\n after : {nb_rows_after} \\n nb virements anomalie : {nb_rows_anomalie}')"
   ]
  },
  {
   "cell_type": "markdown",
   "id": "d6a1d62a",
   "metadata": {},
   "source": [
    "## Autre (un vir pour pls ordres / pls virs pour un ordre)"
   ]
  },
  {
   "cell_type": "code",
   "execution_count": null,
   "id": "e6d43db6",
   "metadata": {},
   "outputs": [],
   "source": [
    "df_check_autre_1n = df_check_cas_pls[df_check_cas_pls[\"Pls_lignes\"]==\"Un vir pour pls ordres\"]\n",
    "df_check_autre_n1 = df_check_cas_pls[df_check_cas_pls[\"Pls_lignes\"]==\"Plusieurs virs pour un ordre\"]"
   ]
  },
  {
   "cell_type": "markdown",
   "id": "47dd20ce",
   "metadata": {},
   "source": [
    "### Un vir pour pls ordres"
   ]
  },
  {
   "cell_type": "code",
   "execution_count": null,
   "id": "dc6ba2aa",
   "metadata": {},
   "outputs": [],
   "source": [
    "df_check_autre_1n_rapproch_auto = df_check_autre_1n[~df_check_autre_1n[\"Subscription_Order_Name\"].isnull()]\n",
    "df_check_autre_1n_audit = df_check_autre_1n[df_check_autre_1n[\"Subscription_Order_Name\"].isnull()]"
   ]
  },
  {
   "cell_type": "markdown",
   "id": "77769ec1",
   "metadata": {},
   "source": [
    "#### Rapprochement auto"
   ]
  },
  {
   "cell_type": "code",
   "execution_count": null,
   "id": "117c00d9",
   "metadata": {},
   "outputs": [],
   "source": [
    "len(df_check_autre_1n_rapproch_auto) ### Ce cas n'est pas implémenté dans le rapproch auto"
   ]
  },
  {
   "cell_type": "markdown",
   "id": "4faa9f7a",
   "metadata": {},
   "source": [
    "#### Audit"
   ]
  },
  {
   "cell_type": "code",
   "execution_count": null,
   "id": "be0120bc",
   "metadata": {},
   "outputs": [],
   "source": [
    "nb_idsys_unique_before = df_check_autre_1n_audit[\"Id sys\"].nunique()\n",
    "nb_idsys_unique_before"
   ]
  },
  {
   "cell_type": "code",
   "execution_count": null,
   "id": "f7b9ce0d",
   "metadata": {},
   "outputs": [],
   "source": [
    "#### Récupérer Order_Id\n",
    "df_check_autre_1n_audit = df_check_autre_1n_audit.merge(df_BO_virs_check,left_on=[\"Subscription_Order_Name_BOClientOps\",\n",
    "                                                     \"ClientName_BOClientOps\",\"Product_BOClientOps\",\n",
    "                                                     \"Amount_BOClientOps\",\"Commentaire\"],\n",
    "                           right_on=['Subscription_Order_Name_check', 'ClientName_check',\n",
    "                                       'Product_check', 'Amount_check', 'PropertyType_check'])\n",
    "df_check_autre_1n_audit = df_check_autre_1n_audit.drop(columns=['Subscription_Order_Name_check', 'ClientName_check',\n",
    "                                    'Product_check', 'Amount_check', 'PropertyType_check']).rename(columns={\n",
    "                                    \"Subscription_Order_Id_check\":\"Subscription_Order_Id\"\n",
    "    \n",
    "})"
   ]
  },
  {
   "cell_type": "code",
   "execution_count": null,
   "id": "3eaafbb9",
   "metadata": {},
   "outputs": [],
   "source": [
    "df_check_autre_1n_audit_agg = df_check_autre_1n_audit.groupby(by=[\n",
    "                            \"Id sys\",\"Crédit\"\n",
    "                            ]).agg({\n",
    "                                \"Amount_BOClientOps\":\"sum\"\n",
    "                            }).reset_index()\n",
    "df_check_autre_1n_audit_agg[\"ecart_montant\"] = abs(df_check_autre_1n_audit_agg[\"Crédit\"]-df_check_autre_1n_audit_agg[\"Amount_BOClientOps\"])<=5\n",
    "df_check_autre_1n_audit_agg[df_check_autre_1n_audit_agg[\"ecart_montant\"]==False] ####### To be checked"
   ]
  },
  {
   "cell_type": "code",
   "execution_count": null,
   "id": "bbb76ef0",
   "metadata": {},
   "outputs": [],
   "source": [
    "df_check_autre_1n_audit = df_check_autre_1n_audit[[\"Id sys\",\"Crédit\",\"Valeur\",\"Libellé\",'Fonds_x',\n",
    "                                              'Subscription_Order_Name_BOClientOps',\n",
    "                                               'ClientName_BOClientOps', 'Product_BOClientOps', 'Amount_BOClientOps',\n",
    "                                               'SubscriptionDate_BOClientOps',\n",
    "                                              'Commentaire','Subscription_Order_Id','Check_overall'\n",
    "                                              ]].rename(columns={\n",
    "                                               'Subscription_Order_Name_BOClientOps':'Subscription_Order_Name',\n",
    "                                               'ClientName_BOClientOps':'ClientName', \n",
    "                                                'Product_BOClientOps':'Product', \n",
    "                                                'Amount_BOClientOps':'Amount',\n",
    "                                               'SubscriptionDate_BOClientOps':'SubscriptionDate', \n",
    "                                                'NoteBO_BOClientOps':'NoteBO',\n",
    "})\n",
    "df_count = df_check_autre_1n_audit.groupby(by=[\"Subscription_Order_Id\",\"Subscription_Order_Name\"])[\"Id sys\"].count().reset_index()\n",
    "df_count = df_count.rename(columns={\"Id sys\":\"nb_idsys\"})\n",
    "df_check_autre_1n_audit = df_check_autre_1n_audit.merge(df_count,on=[\"Subscription_Order_Id\",\"Subscription_Order_Name\"])\n",
    "df_check_autre_1n_audit[df_check_autre_1n_audit[\"nb_idsys\"]!=1]"
   ]
  },
  {
   "cell_type": "code",
   "execution_count": null,
   "id": "54c4a312",
   "metadata": {},
   "outputs": [],
   "source": [
    "nb_rows_after = df_check_autre_1n_audit[\"Id sys\"].nunique()"
   ]
  },
  {
   "cell_type": "code",
   "execution_count": null,
   "id": "6568a46e",
   "metadata": {},
   "outputs": [],
   "source": [
    "print(f' before : {nb_idsys_unique_before} \\n after : {nb_rows_after}')"
   ]
  },
  {
   "cell_type": "markdown",
   "id": "043833ad",
   "metadata": {},
   "source": [
    "### Pls virs pour un ordre"
   ]
  },
  {
   "cell_type": "code",
   "execution_count": null,
   "id": "01e8df33",
   "metadata": {},
   "outputs": [],
   "source": [
    "df_check_autre_n1_rapproch_auto = df_check_autre_n1[~df_check_autre_n1[\"Subscription_Order_Name\"].isnull()]\n",
    "df_check_autre_n1_audit = df_check_autre_n1[df_check_autre_n1[\"Subscription_Order_Name\"].isnull()]"
   ]
  },
  {
   "cell_type": "markdown",
   "id": "8e5c94a7",
   "metadata": {},
   "source": [
    "#### Rapprochement auto"
   ]
  },
  {
   "cell_type": "code",
   "execution_count": null,
   "id": "d71ca5d9",
   "metadata": {},
   "outputs": [],
   "source": [
    "nb_idsys_unique_before = df_check_autre_n1_rapproch_auto[\"Id sys\"].nunique()\n",
    "nb_idsys_unique_before"
   ]
  },
  {
   "cell_type": "code",
   "execution_count": null,
   "id": "f22dfb64",
   "metadata": {},
   "outputs": [],
   "source": [
    "len(df_check_autre_n1_rapproch_auto)"
   ]
  },
  {
   "cell_type": "code",
   "execution_count": null,
   "id": "8422f098",
   "metadata": {},
   "outputs": [],
   "source": [
    "### Cas des OrderName sont en doublon dans BO\n",
    "df_duplicates = df_check_autre_n1_rapproch_auto[df_check_autre_n1_rapproch_auto.duplicated(subset=\"Id sys\",keep=False)]\n",
    "df_duplicates = df_duplicates[df_duplicates[\"Fonds_x\"]==df_duplicates[\"Fonds_y\"]]\n",
    "df_duplicates = df_duplicates[df_duplicates[\"ClientName\"]==df_duplicates[\"ClientName_BOClientOps\"]]\n",
    "df_duplicates = df_duplicates[df_duplicates[\"Amount\"]==df_duplicates[\"Amount_BOClientOps\"]]\n",
    "df_non_duplicates = df_check_autre_n1_rapproch_auto[~df_check_autre_n1_rapproch_auto[\"Id sys\"].isin(df_duplicates[\"Id sys\"])]\n",
    "df_check_autre_n1_rapproch_auto = pd.concat([df_non_duplicates,df_duplicates])"
   ]
  },
  {
   "cell_type": "code",
   "execution_count": null,
   "id": "f4820f15",
   "metadata": {},
   "outputs": [],
   "source": [
    "len(df_check_autre_n1_rapproch_auto)"
   ]
  },
  {
   "cell_type": "code",
   "execution_count": null,
   "id": "249d3eaf",
   "metadata": {},
   "outputs": [],
   "source": [
    "#### Récupérer Order_Id\n",
    "df_check_autre_n1_rapproch_auto = df_check_autre_n1_rapproch_auto.merge(df_BO_virs_check,left_on=[\"Subscription_Order_Name\",\n",
    "                                                     \"ClientName\",\"Product\",\n",
    "                                                     \"Amount\",\"Commentaire\"],\n",
    "                           right_on=['Subscription_Order_Name_check', 'ClientName_check',\n",
    "                                       'Product_check', 'Amount_check', 'PropertyType_check'])\n",
    "df_check_autre_n1_rapproch_auto = df_check_autre_n1_rapproch_auto.drop(columns=['Subscription_Order_Name_check', 'ClientName_check',\n",
    "                                    'Product_check', 'Amount_check', 'PropertyType_check']).rename(columns={\n",
    "                                    \"Subscription_Order_Id_check\":\"Subscription_Order_Id\"\n",
    "    \n",
    "})"
   ]
  },
  {
   "cell_type": "code",
   "execution_count": null,
   "id": "c3404b47",
   "metadata": {},
   "outputs": [],
   "source": [
    "##### Calculer l'écart\n",
    "df_check_autre_n1_rapproch_auto_agg = df_check_autre_n1_rapproch_auto.groupby(by=[\n",
    "                            \"Subscription_Order_Name\",\"Amount\"\n",
    "                            ]).agg({\n",
    "                                \"Crédit\":\"sum\"\n",
    "                            }).reset_index()\n",
    "df_check_autre_n1_rapproch_auto_agg[\"ecart_montant\"] = abs(df_check_autre_n1_rapproch_auto_agg[\"Crédit\"]-df_check_autre_n1_rapproch_auto_agg[\"Amount\"])<=5\n",
    "df_check_autre_n1_rapproch_auto_agg[df_check_autre_n1_rapproch_auto_agg[\"ecart_montant\"]==False]"
   ]
  },
  {
   "cell_type": "code",
   "execution_count": null,
   "id": "65b4f87c",
   "metadata": {},
   "outputs": [],
   "source": [
    "df_check_autre_n1_rapproch_auto = df_check_autre_n1_rapproch_auto.groupby(by=[\n",
    "                                    'Subscription_Order_Name',\n",
    "                                   'ClientName', 'Product', 'Amount',\n",
    "                                   'SubscriptionDate', \n",
    "                                  'Commentaire','Subscription_Order_Id'\n",
    "                                    ]).agg({\n",
    "                                    \"Id sys\" : \"|\".join,\n",
    "                                    \"Crédit\":'sum',\n",
    "                                    \"Valeur\":\"max\",\n",
    "                                    \"Fonds_x\":\"|\".join,\n",
    "                                    \"Libellé\":'count'\n",
    "                                    }).reset_index().rename(columns={\"Libellé\":\"nb_idsys\"})"
   ]
  },
  {
   "cell_type": "code",
   "execution_count": null,
   "id": "898196d6",
   "metadata": {},
   "outputs": [],
   "source": [
    "nb_rows_after = df_check_autre_n1_rapproch_auto[\"nb_idsys\"].sum()\n",
    "nb_rows_after"
   ]
  },
  {
   "cell_type": "code",
   "execution_count": null,
   "id": "c00694e7",
   "metadata": {},
   "outputs": [],
   "source": [
    "print(f' before : {nb_idsys_unique_before} \\n after : {nb_rows_after}')"
   ]
  },
  {
   "cell_type": "markdown",
   "id": "cde121cd",
   "metadata": {},
   "source": [
    "#### Audit"
   ]
  },
  {
   "cell_type": "code",
   "execution_count": null,
   "id": "c636a6fb",
   "metadata": {},
   "outputs": [],
   "source": [
    "nb_idsys_unique_before = df_check_autre_n1_audit[\"Id sys\"].nunique()\n",
    "nb_idsys_unique_before"
   ]
  },
  {
   "cell_type": "code",
   "execution_count": null,
   "id": "90e65af5",
   "metadata": {},
   "outputs": [],
   "source": [
    "### Cas des OrderName sont en doublon dans BO\n",
    "df_duplicates = df_check_autre_n1_audit[df_check_autre_n1_audit.duplicated(subset=\"Id sys\",keep=False)]\n",
    "df_duplicates = df_duplicates[df_duplicates[\"Fonds_x\"]==df_duplicates[\"Fonds_y\"]]\n",
    "df_non_duplicates = df_check_autre_n1_audit[~df_check_autre_n1_audit[\"Id sys\"].isin(df_duplicates[\"Id sys\"])]\n",
    "df_check_autre_n1_audit = pd.concat([df_non_duplicates,df_duplicates])"
   ]
  },
  {
   "cell_type": "code",
   "execution_count": null,
   "id": "d6006155",
   "metadata": {},
   "outputs": [],
   "source": [
    "#### Récupérer Order_Id\n",
    "df_check_autre_n1_audit = df_check_autre_n1_audit.merge(df_BO_virs_check,left_on=[\"Subscription_Order_Name_BOClientOps\",\n",
    "                                                     \"ClientName_BOClientOps\",\"Product_BOClientOps\",\n",
    "                                                     \"Amount_BOClientOps\",\"Commentaire\"],\n",
    "                           right_on=['Subscription_Order_Name_check', 'ClientName_check',\n",
    "                                       'Product_check', 'Amount_check', 'PropertyType_check'])\n",
    "df_check_autre_n1_audit = df_check_autre_n1_audit.drop(columns=['Subscription_Order_Name_check', 'ClientName_check',\n",
    "                                    'Product_check', 'Amount_check', 'PropertyType_check']).rename(columns={\n",
    "                                    \"Subscription_Order_Id_check\":\"Subscription_Order_Id\"\n",
    "    \n",
    "})"
   ]
  },
  {
   "cell_type": "code",
   "execution_count": null,
   "id": "84113f9c",
   "metadata": {},
   "outputs": [],
   "source": [
    "##### Calculer l'écart\n",
    "df_check_autre_n1_audit_agg = df_check_autre_n1_audit.groupby(by=[\n",
    "                            \"Subscription_Order_Name_BOClientOps\",\"Amount_BOClientOps\"\n",
    "                            ]).agg({\n",
    "                                \"Crédit\":\"sum\"\n",
    "                            }).reset_index()\n",
    "df_check_autre_n1_audit_agg[\"ecart_montant\"] = abs(df_check_autre_n1_audit_agg[\"Crédit\"]-df_check_autre_n1_audit_agg[\"Amount_BOClientOps\"])<=5\n",
    "df_check_autre_n1_audit_agg[df_check_autre_n1_audit_agg[\"ecart_montant\"]==False]"
   ]
  },
  {
   "cell_type": "code",
   "execution_count": null,
   "id": "4681133f",
   "metadata": {},
   "outputs": [],
   "source": [
    "df_check_autre_n1_audit = df_check_autre_n1_audit.groupby(by=[\n",
    "                                    'Subscription_Order_Name_BOClientOps',\n",
    "                                   'ClientName_BOClientOps', 'Product_BOClientOps', 'Amount_BOClientOps',\n",
    "                                   'SubscriptionDate_BOClientOps', \n",
    "                                  'Commentaire','Subscription_Order_Id'\n",
    "                                    ]).agg({\n",
    "                                    \"Id sys\" : \"|\".join,\n",
    "                                    \"Crédit\":'sum',\n",
    "                                    \"Valeur\":\"max\",\n",
    "                                    \"Fonds_x\":\"|\".join,\n",
    "                                    \"Libellé\":'count'\n",
    "                                    }).reset_index().rename(columns={\n",
    "                                    \"Libellé\":\"nb_idsys\",\n",
    "                                    'Subscription_Order_Name_BOClientOps':'Subscription_Order_Name',\n",
    "                                   'ClientName_BOClientOps':'ClientName', \n",
    "                                    'Product_BOClientOps':'Product', \n",
    "                                    'Amount_BOClientOps':'Amount',\n",
    "                                   'SubscriptionDate_BOClientOps':'SubscriptionDate'\n",
    "                                    \n",
    "})"
   ]
  },
  {
   "cell_type": "code",
   "execution_count": null,
   "id": "d0c53b91",
   "metadata": {},
   "outputs": [],
   "source": [
    "nb_rows_after = df_check_autre_n1_audit[\"nb_idsys\"].sum()\n",
    "print(f' before : {nb_idsys_unique_before} \\n after : {nb_rows_after}')"
   ]
  },
  {
   "cell_type": "markdown",
   "id": "e085e25d",
   "metadata": {},
   "source": [
    "## Overall"
   ]
  },
  {
   "cell_type": "code",
   "execution_count": null,
   "id": "40e88971",
   "metadata": {},
   "outputs": [],
   "source": [
    "df_check_verif = pd.concat([df_check_cas_normal_1_after,df_check_cas_normal_2_after,\n",
    "                            df_check_autre_1n_audit,\n",
    "                            df_check_autre_n1_rapproch_auto,df_check_autre_n1_audit\n",
    "                           ])"
   ]
  },
  {
   "cell_type": "code",
   "execution_count": null,
   "id": "d1fe3452",
   "metadata": {},
   "outputs": [],
   "source": [
    "nb_lignes_ok = df_check_cas_normal_1_after[\"nb_idsys\"].sum() + df_check_cas_normal_2_after[\"nb_idsys\"].sum() + df_check_autre_n1_rapproch_auto[\"nb_idsys\"].sum() + df_check_autre_n1_audit[\"nb_idsys\"].sum() + df_check_autre_1n_audit[\"Id sys\"].nunique() "
   ]
  },
  {
   "cell_type": "code",
   "execution_count": null,
   "id": "2d79caf6",
   "metadata": {},
   "outputs": [],
   "source": [
    "df_check_a_traiter[\"Id sys\"].nunique() - nb_lignes_ok"
   ]
  },
  {
   "cell_type": "code",
   "execution_count": null,
   "id": "db6e4a09",
   "metadata": {},
   "outputs": [],
   "source": [
    "len(df_anomalie)"
   ]
  },
  {
   "cell_type": "code",
   "execution_count": null,
   "id": "fad02aa7",
   "metadata": {},
   "outputs": [],
   "source": [
    "df_check_verif1 = df_check_verif.groupby([\"Subscription_Order_Id\",\"Amount\",\"Product\",\"SubscriptionDate\"])[\"nb_idsys\"].sum().reset_index().rename(columns={\n",
    "                        \"nb_idsys\":\"nb_idsys_total\"\n",
    "})\n",
    "df_check_verif = df_check_verif.merge(df_check_verif1,on=[\"Subscription_Order_Id\",\"Amount\",\"Product\",\"SubscriptionDate\"])\n",
    "df_check_verif[\"ecart_nb_idsys\"] = df_check_verif[\"nb_idsys_total\"] - df_check_verif[\"nb_idsys\"]\n",
    "##### Vérifier si un ordre est utilisé pour différents types de rapprochement\n",
    "df_check_verif[df_check_verif[\"ecart_nb_idsys\"]!=0][[\"Subscription_Order_Name\",\"nb_idsys\",\"nb_idsys_total\"]]"
   ]
  },
  {
   "cell_type": "code",
   "execution_count": null,
   "id": "f6906c25",
   "metadata": {},
   "outputs": [],
   "source": [
    "df_check_verif[\"Amount\"].sum()"
   ]
  },
  {
   "cell_type": "code",
   "execution_count": null,
   "id": "e537ee70",
   "metadata": {},
   "outputs": [],
   "source": [
    "len(df_check_verif)"
   ]
  },
  {
   "cell_type": "markdown",
   "id": "5df0fea4",
   "metadata": {},
   "source": [
    "## Conclusions"
   ]
  },
  {
   "cell_type": "markdown",
   "id": "88f410f8",
   "metadata": {},
   "source": [
    "### Pleine propriété"
   ]
  },
  {
   "cell_type": "code",
   "execution_count": null,
   "id": "d3fc6bed",
   "metadata": {},
   "outputs": [],
   "source": [
    "df_check_PP_valide = df_check_verif\n",
    "df_anomalie_PP = df_anomalie"
   ]
  },
  {
   "cell_type": "code",
   "execution_count": null,
   "id": "2cc5f9f4",
   "metadata": {},
   "outputs": [],
   "source": [
    "df_check_PP_valide = df_check_PP_valide[[\n",
    "                    'Subscription_Order_Name', 'Subscription_Order_Id', 'ClientName', 'Product', 'Amount',\n",
    "                    'SubscriptionDate', 'Commentaire',\n",
    "                    'Id sys', 'Crédit', 'Valeur', 'Libellé', 'Fonds_x',\n",
    "                    'nb_idsys_total']].rename(columns={\"Fonds_x\":\"Fonds_relevé\"})"
   ]
  },
  {
   "cell_type": "code",
   "execution_count": null,
   "id": "e17c0400",
   "metadata": {},
   "outputs": [],
   "source": [
    "len(df_check_PP_valide)"
   ]
  },
  {
   "cell_type": "code",
   "execution_count": null,
   "id": "19f93a27",
   "metadata": {},
   "outputs": [],
   "source": [
    "df_check_PP_valide.to_excel(folder_path + \"/output/1. Virements/All_Pleine propriété validée.xlsx\",sheet_name=\"PP\",index=False)"
   ]
  },
  {
   "cell_type": "code",
   "execution_count": null,
   "id": "acdfc45b",
   "metadata": {},
   "outputs": [],
   "source": [
    "len(df_anomalie_PP)"
   ]
  },
  {
   "cell_type": "code",
   "execution_count": null,
   "id": "d6a5a39e",
   "metadata": {},
   "outputs": [],
   "source": [
    "df_anomalie_PP = df_anomalie_PP[['Id sys','Libellé','Crédit','Fonds_x','Date','Valeur','Titulaire_clean', 'Motif1', 'Motif2',\n",
    "                                 \"Référence de l'ordre\", \"Référence de l'ordre_origin\", 'Fonds_y',\n",
    "                                   'Id sys_ClientOps', 'Subscription_Order_Name_BOClientOps',\n",
    "                                   'ClientName_BOClientOps', 'Product_BOClientOps', 'Amount_BOClientOps',\n",
    "                                   'SubscriptionDate_BOClientOps', 'NoteBO_BOClientOps',]]\n",
    "df_anomalie_PP = df_anomalie_PP.sort_values(\"Référence de l'ordre\")"
   ]
  },
  {
   "cell_type": "code",
   "execution_count": null,
   "id": "01a01977",
   "metadata": {},
   "outputs": [],
   "source": [
    "# df_anomalie_PP.to_excel(folder_path + \"/output/1. Virements/All_Pleine propriété à vérifier.xlsx\",sheet_name=\"PP\",index=False)"
   ]
  },
  {
   "cell_type": "markdown",
   "id": "eaf2ede6",
   "metadata": {},
   "source": [
    "### Démembrement"
   ]
  },
  {
   "cell_type": "code",
   "execution_count": null,
   "id": "b384f119",
   "metadata": {},
   "outputs": [],
   "source": [
    "df_check_DM_valide = df_check_verif\n",
    "df_anomalie_DM = df_anomalie"
   ]
  },
  {
   "cell_type": "code",
   "execution_count": null,
   "id": "c9e3c4fb",
   "metadata": {},
   "outputs": [],
   "source": [
    "df_check_DM_valide = df_check_DM_valide[[\n",
    "                    'Subscription_Order_Name', 'Subscription_Order_Id', 'ClientName', 'Product', 'Amount',\n",
    "                    'SubscriptionDate', 'Commentaire',\n",
    "                    'Id sys', 'Crédit', 'Valeur', 'Libellé', 'Fonds_x',\n",
    "                    'nb_idsys_total']].rename(columns={\"Fonds_x\":\"Fonds_relevé\"})"
   ]
  },
  {
   "cell_type": "code",
   "execution_count": null,
   "id": "4a51da1e",
   "metadata": {},
   "outputs": [],
   "source": [
    "len(df_check_DM_valide)"
   ]
  },
  {
   "cell_type": "code",
   "execution_count": null,
   "id": "ee2f8b35",
   "metadata": {},
   "outputs": [],
   "source": [
    "len(df_anomalie_DM)"
   ]
  },
  {
   "cell_type": "code",
   "execution_count": null,
   "id": "a26c388f",
   "metadata": {},
   "outputs": [],
   "source": [
    "df_check_DM_valide.to_excel(folder_path + \"/output/1. Virements/All_Démembrement validé.xlsx\",sheet_name=\"Démembrement\",index=False)"
   ]
  },
  {
   "cell_type": "code",
   "execution_count": null,
   "id": "4c7fe8b6",
   "metadata": {},
   "outputs": [],
   "source": [
    "# df_anomalie_DM.to_excel(folder_path + \"/output/1. Virements/All_Démembrement à vérifier.xlsx\",sheet_name=\"Démembrement\",index=False)"
   ]
  },
  {
   "cell_type": "code",
   "execution_count": null,
   "id": "d374d81b",
   "metadata": {},
   "outputs": [],
   "source": [
    "df_anomalie_DM = df_anomalie_DM[['Id sys','Libellé','Crédit','Fonds_x','Date','Valeur','Titulaire_clean', 'Motif1', 'Motif2',\n",
    "                                 \"Référence de l'ordre\", \"Référence de l'ordre_origin\", 'Fonds_y',\n",
    "                                   'Id sys_ClientOps', 'Subscription_Order_Name_BOClientOps',\n",
    "                                   'ClientName_BOClientOps', 'Product_BOClientOps', 'Amount_BOClientOps',\n",
    "                                   'SubscriptionDate_BOClientOps', 'NoteBO_BOClientOps',]]\n",
    "df_anomalie_DM = df_anomalie_DM.sort_values(\"Référence de l'ordre\")"
   ]
  },
  {
   "cell_type": "markdown",
   "id": "0fbc9441",
   "metadata": {},
   "source": [
    "### Concat"
   ]
  },
  {
   "cell_type": "code",
   "execution_count": null,
   "id": "64eadf61",
   "metadata": {},
   "outputs": [],
   "source": [
    "df_anomalie = pd.concat([df_anomalie_PP,df_anomalie_DM])"
   ]
  },
  {
   "cell_type": "code",
   "execution_count": null,
   "id": "4503e6ba",
   "metadata": {},
   "outputs": [],
   "source": [
    "df_valide = pd.concat([df_check_PP_valide,df_check_DM_valide])"
   ]
  },
  {
   "cell_type": "code",
   "execution_count": null,
   "id": "2039c97f",
   "metadata": {},
   "outputs": [],
   "source": [
    "df_valide.to_excel(folder_path + \"/output/1. Virements/All_Données validées.xlsx\",sheet_name=\"All\",index=False)"
   ]
  },
  {
   "cell_type": "code",
   "execution_count": null,
   "id": "b68d4edf",
   "metadata": {},
   "outputs": [],
   "source": [
    "df_anomalie = df_anomalie.rename(columns={\"Fonds_x\":\"Fonds_relevé\",\n",
    "                                         \"Fonds_y\":\"Fonds_FichierClientOps\"})"
   ]
  },
  {
   "cell_type": "code",
   "execution_count": null,
   "id": "21a2c711",
   "metadata": {},
   "outputs": [],
   "source": [
    "df_anomalie.to_excel(folder_path + \"/output/1. Virements/All_Light checks.xlsx\",sheet_name=\"All\",index=False)"
   ]
  },
  {
   "cell_type": "code",
   "execution_count": null,
   "id": "f7f2f1a2",
   "metadata": {},
   "outputs": [],
   "source": []
  }
 ],
 "metadata": {
  "celltoolbar": "Format de la Cellule Texte Brut",
  "kernelspec": {
   "display_name": "Python 3 (ipykernel)",
   "language": "python",
   "name": "python3"
  },
  "language_info": {
   "codemirror_mode": {
    "name": "ipython",
    "version": 3
   },
   "file_extension": ".py",
   "mimetype": "text/x-python",
   "name": "python",
   "nbconvert_exporter": "python",
   "pygments_lexer": "ipython3",
   "version": "3.8.12"
  },
  "toc": {
   "base_numbering": 1,
   "nav_menu": {},
   "number_sections": true,
   "sideBar": true,
   "skip_h1_title": false,
   "title_cell": "Table of Contents",
   "title_sidebar": "Contents",
   "toc_cell": false,
   "toc_position": {},
   "toc_section_display": true,
   "toc_window_display": false
  },
  "varInspector": {
   "cols": {
    "lenName": 16,
    "lenType": 16,
    "lenVar": 40
   },
   "kernels_config": {
    "python": {
     "delete_cmd_postfix": "",
     "delete_cmd_prefix": "del ",
     "library": "var_list.py",
     "varRefreshCmd": "print(var_dic_list())"
    },
    "r": {
     "delete_cmd_postfix": ") ",
     "delete_cmd_prefix": "rm(",
     "library": "var_list.r",
     "varRefreshCmd": "cat(var_dic_list()) "
    }
   },
   "types_to_exclude": [
    "module",
    "function",
    "builtin_function_or_method",
    "instance",
    "_Feature"
   ],
   "window_display": false
  }
 },
 "nbformat": 4,
 "nbformat_minor": 5
}
