{
 "cells": [
  {
   "cell_type": "code",
   "execution_count": null,
   "id": "5732217f",
   "metadata": {},
   "outputs": [],
   "source": [
    "%load_ext autoreload\n",
    "%autoreload 2"
   ]
  },
  {
   "cell_type": "code",
   "execution_count": null,
   "id": "855034f1",
   "metadata": {},
   "outputs": [],
   "source": [
    "import datetime as dt\n",
    "import re\n",
    "import pandas as pd\n",
    "import numpy as np\n",
    "from unidecode import unidecode"
   ]
  },
  {
   "cell_type": "code",
   "execution_count": null,
   "id": "0913f278",
   "metadata": {},
   "outputs": [],
   "source": [
    "import sqlite3"
   ]
  },
  {
   "cell_type": "code",
   "execution_count": null,
   "id": "31442092",
   "metadata": {},
   "outputs": [],
   "source": [
    "from functions.utils import *"
   ]
  },
  {
   "cell_type": "code",
   "execution_count": null,
   "id": "f8a6f02a",
   "metadata": {},
   "outputs": [],
   "source": [
    "import os"
   ]
  },
  {
   "cell_type": "markdown",
   "id": "ea1b5e6f",
   "metadata": {},
   "source": [
    "# Import data"
   ]
  },
  {
   "cell_type": "markdown",
   "id": "1f735c93",
   "metadata": {},
   "source": [
    "## Relevé"
   ]
  },
  {
   "cell_type": "code",
   "execution_count": null,
   "id": "e5ec71d3",
   "metadata": {},
   "outputs": [],
   "source": [
    "folder_path = \"xxx\""
   ]
  },
  {
   "cell_type": "code",
   "execution_count": null,
   "id": "1c96ab6e",
   "metadata": {},
   "outputs": [],
   "source": [
    "df_credit =  pd.read_excel(folder_path + \"/transformed_data/2. Banque/All_Lignes de crédit.xlsx\",sheet_name=\"Sheet1\")\n",
    "df_debit = pd.read_excel(folder_path + \"/transformed_data/2. Banque/All_Lignes de débit.xlsx\",sheet_name=\"Sheet1\")"
   ]
  },
  {
   "cell_type": "markdown",
   "id": "307a62b9",
   "metadata": {},
   "source": [
    "## Remboursement, Retrait"
   ]
  },
  {
   "cell_type": "code",
   "execution_count": null,
   "id": "c77a4f52",
   "metadata": {},
   "outputs": [],
   "source": [
    "sub_folder = \" TROP PERCUS, RETRAITS/\""
   ]
  },
  {
   "cell_type": "code",
   "execution_count": null,
   "id": "364596c5",
   "metadata": {},
   "outputs": [],
   "source": [
    "df_remboursement_xml = pd.DataFrame()\n",
    "for folder in [\"1 - ORIGIN/1- CC\",\"2 - XL/1- XL\",\"3 - EURION/1- EU\"]:\n",
    "    path_to_xml = folder_path + \"/raw_data/4. Remboursement Retrait/\"\n",
    "    path_to_xml += folder + sub_folder + \".xml files/\"\n",
    "    filenames = os.listdir(path_to_xml)\n",
    "    for filename in filenames:\n",
    "        df_xml_file = read_xml_remboursement(path_to_xml,filename)\n",
    "        df_xml_file[\"Dossier\"] = folder[-2:]\n",
    "        df_xml_file[\"xml_filename\"] = filename\n",
    "        df_remboursement_xml = pd.concat([df_remboursement_xml,df_xml_file])"
   ]
  },
  {
   "cell_type": "code",
   "execution_count": null,
   "id": "f05830f1",
   "metadata": {},
   "outputs": [],
   "source": [
    "df_remboursement_csv = pd.DataFrame()\n",
    "for folder in [\"1 - ORIGIN/1- CC\",\"2 - XL/1- XL\",\"3 - EURION/1- EU\"]:\n",
    "    path_to_csv = folder_path + \"/raw_data/4. Remboursement Retrait/\"\n",
    "    path_to_csv += folder + sub_folder + \".csv files/\"\n",
    "    filenames = os.listdir(path_to_csv)\n",
    "    filename = filenames[-1]\n",
    "    for filename in filenames:\n",
    "        df_csv_file = pd.read_csv(path_to_csv+filename,sep=\";\")\n",
    "        df_csv_file[\"Dossier\"] = folder[-2:]\n",
    "        df_csv_file[\"Type\"] = filename\n",
    "        df_remboursement_csv = pd.concat([df_remboursement_csv,df_csv_file])"
   ]
  },
  {
   "cell_type": "code",
   "execution_count": null,
   "id": "4bf71758",
   "metadata": {},
   "outputs": [],
   "source": [
    "df_remboursement_suivi = pd.DataFrame()\n",
    "for folder in [\"1 - ORIGIN/1- CC\",\"2 - XL/1- XL\",\"3 - EURION/1- EU\"]:\n",
    "    path_to_csv = folder_path + \"/raw_data/4. Remboursement Retrait/\"\n",
    "    path_to_csv += folder + sub_folder \n",
    "    filenames = os.listdir(path_to_csv)\n",
    "    for filename in filenames:\n",
    "        if \"xlsm\" in filename:\n",
    "            df_xlsm_suivi = pd.read_excel(path_to_csv+filename,sheet_name=\"Traités - Paiements Manuels\")\n",
    "            df_xlsm_suivi[\"Dossier\"] = folder[-2:]\n",
    "            df_remboursement_suivi = pd.concat([df_remboursement_suivi,df_xlsm_suivi])"
   ]
  },
  {
   "cell_type": "code",
   "execution_count": null,
   "id": "9eca6953",
   "metadata": {},
   "outputs": [],
   "source": [
    "path_fichier_historique = folder_path + \"/raw_data/4. Remboursement Retrait/Old/Paiements manuels par l'équipe Finance.xlsx\""
   ]
  },
  {
   "cell_type": "code",
   "execution_count": null,
   "id": "fd7d8a1f",
   "metadata": {},
   "outputs": [],
   "source": [
    "fichier_historique = pd.ExcelFile(path_fichier_historique)\n",
    "df_remboursement_historique = pd.DataFrame()\n",
    "for sheetname in fichier_historique.sheet_names :\n",
    "        df_sheetname = fichier_historique.parse(sheetname,header=1)\n",
    "        df_sheetname[\"Dossier\"] = sheetname\n",
    "        df_remboursement_historique = pd.concat([df_remboursement_historique,df_sheetname])\n",
    "fichier_historique.close()"
   ]
  },
  {
   "cell_type": "markdown",
   "id": "83033a34",
   "metadata": {},
   "source": [
    "# Traitement"
   ]
  },
  {
   "cell_type": "markdown",
   "id": "482b530f",
   "metadata": {},
   "source": [
    "## Rembousement Retrait"
   ]
  },
  {
   "cell_type": "markdown",
   "id": "8606a532",
   "metadata": {},
   "source": [
    "### Fichiers xml"
   ]
  },
  {
   "cell_type": "code",
   "execution_count": null,
   "id": "6f3d8042",
   "metadata": {},
   "outputs": [],
   "source": [
    "### Nettoyer\n",
    "df_remboursement_xml[\"IBAN\"] = df_remboursement_xml[\"IBAN\"].str.replace(\"\\s\",\"\",regex=True)\n",
    "df_remboursement_xml[\"Montant_arrondi\"] = df_remboursement_xml[\"Montant\"].round(0)\n",
    "df_remboursement_xml[\"code_transac\"] = df_remboursement_xml[\"code_transac\"].str.upper()\n",
    "df_remboursement_xml = df_remboursement_xml.reset_index().drop(columns=\"index\").reset_index().rename(columns={\"index\":\"index_xml\"})"
   ]
  },
  {
   "cell_type": "markdown",
   "id": "9986742a",
   "metadata": {},
   "source": [
    "### Fichiers csv"
   ]
  },
  {
   "cell_type": "code",
   "execution_count": null,
   "id": "2008a5be",
   "metadata": {},
   "outputs": [],
   "source": [
    "### Nettoyer\n",
    "regex_date = r'(\\d{4}\\-\\d{2}\\-\\d{2})'\n",
    "df_remboursement_csv[\"Date\"] = df_remboursement_csv[\"Type\"].str.extract(regex_date)\n",
    "df_remboursement_csv[\"csv_filename\"] = df_remboursement_csv[\"Type\"]\n",
    "df_remboursement_csv[\"Type\"] = df_remboursement_csv[\"Type\"].apply(lambda x : \"\".join(re.findall(\"\\D\",x)))\n",
    "text_to_replace = \"\\.csv|Paiements manuels|\\-|CC|XL|EU|LULLIER|Acordo ERedes Vizelpas|Clément RENAULT\"\n",
    "df_remboursement_csv[\"Type\"] = df_remboursement_csv[\"Type\"].str.replace(text_to_replace,\"\",regex=True).str.strip()\n",
    "\n",
    "df_remboursement_csv = df_remboursement_csv.rename(columns={\n",
    "                                                        \"code\":\"Code Associé\",\n",
    "                                                        \"name\":\"Nom Associé\",\n",
    "                                                        \"iban\":\"IBAN\",\n",
    "                                                        \"amount\":\"Montant\",\n",
    "                                                        \"Type\":\"Type de demande\"\n",
    "                                                    })\n",
    "\n",
    "df_remboursement_csv[\"Montant\"] = df_remboursement_csv[\"Montant\"].str.replace(\"€|\\s\",\"\",regex=True).str.strip()\n",
    "df_remboursement_csv[\"Montant\"] = df_remboursement_csv[\"Montant\"].str.replace(\",\",\".\").astype(float)\n",
    "\n",
    "df_remboursement_csv[\"Code Associé\"] = df_remboursement_csv[\"Code Associé\"].fillna(0).astype(int)\n",
    "df_remboursement_csv[\"Date\"] = pd.to_datetime(df_remboursement_csv[\"Date\"],format = \"%Y-%m-%d\",errors=\"coerce\").fillna(pd.to_datetime(df_remboursement_csv[\"Date\"], format='%Y-%d-%m',errors=\"coerce\"))\n",
    "\n",
    "df_remboursement_csv[\"IBAN\"] = df_remboursement_csv[\"IBAN\"].str.replace(\"\\s\",\"\",regex=True)"
   ]
  },
  {
   "cell_type": "code",
   "execution_count": null,
   "id": "81d6baec",
   "metadata": {},
   "outputs": [],
   "source": [
    "df_remboursement_csv = df_remboursement_csv.reset_index().drop(columns=\"index\").reset_index().rename(columns={\"index\":\"index_csv\"})\n",
    "df_remboursement_csv = df_remboursement_csv[~df_remboursement_csv[\"Montant\"].isnull()]\n",
    "df_remboursement_csv[\"Montant_arrondi\"] = df_remboursement_csv[\"Montant\"].round(0)"
   ]
  },
  {
   "cell_type": "markdown",
   "id": "728dfee3",
   "metadata": {},
   "source": [
    "## Suivi = Fichier Excel"
   ]
  },
  {
   "cell_type": "code",
   "execution_count": null,
   "id": "ce434529",
   "metadata": {},
   "outputs": [],
   "source": [
    "df_remboursement_suivi = df_remboursement_suivi.rename(columns={\n",
    "                                                        \"N° Associé\":\"Code Associé\",\n",
    "                                                        \"Nom Prénom\":\"Nom Associé\",\n",
    "                                                        \"Date de traitement\":\"Date\"\n",
    "                                                    })"
   ]
  },
  {
   "cell_type": "code",
   "execution_count": null,
   "id": "e45806e8",
   "metadata": {},
   "outputs": [],
   "source": [
    "df_remboursement_suivi[\"Code Associé\"] = df_remboursement_suivi[\"Code Associé\"].fillna(0).astype(int)\n",
    "df_remboursement_suivi[\"Montant\"] = df_remboursement_suivi[\"Montant\"].astype(str)\n",
    "df_remboursement_suivi[\"Montant\"] = df_remboursement_suivi[\"Montant\"].str.replace(\"€|\\s\",\"\",regex=True)\n",
    "df_remboursement_suivi[\"Montant\"] = df_remboursement_suivi[\"Montant\"].str.replace(\",\",\".\").astype(float)\n",
    "df_remboursement_suivi[\"Date\"] = df_remboursement_suivi[\"Date\"].astype(str).str[0:10]\n",
    "df_remboursement_suivi[\"Date\"] = pd.to_datetime(df_remboursement_suivi[\"Date\"],format = \"%d/%m/%Y\",errors=\"coerce\").fillna(pd.to_datetime(df_remboursement_suivi[\"Date\"], format='%Y-%m-%d',errors=\"coerce\"))\n",
    "df_remboursement_suivi[\"IBAN\"] = df_remboursement_suivi[\"IBAN\"].str.replace(\"\\s\",\"\",regex=True)\n",
    "\n",
    "df_remboursement_suivi = df_remboursement_suivi.reset_index().drop(columns=\"index\").reset_index().rename(columns={\"index\":\"index_suivi\"})\n",
    "df_remboursement_suivi[\"Montant_arrondi\"] = df_remboursement_suivi[\"Montant\"].round(0)"
   ]
  },
  {
   "cell_type": "markdown",
   "id": "9d1fb6c6",
   "metadata": {},
   "source": [
    "## Controle sur le fichier de suivi versus XML et CSV"
   ]
  },
  {
   "cell_type": "markdown",
   "id": "b73f4c7e",
   "metadata": {},
   "source": [
    "### Fichier de suivi versus CSV"
   ]
  },
  {
   "cell_type": "code",
   "execution_count": null,
   "id": "cd0f9d2c",
   "metadata": {},
   "outputs": [],
   "source": [
    "### Merger d'abord sur Nom, IBAN, Dossier (Fonds), Date et Montant\n",
    "colonnes = [\"Nom Associé\",\"IBAN\",\"Dossier\",\"Date\",\"Montant_arrondi\"]\n",
    "df_merge = df_remboursement_suivi.merge(df_remboursement_csv[colonnes+[\"csv_filename\",\"index_csv\"]],on=colonnes)\n",
    "df_remboursement_suivi_restant = df_remboursement_suivi[~df_remboursement_suivi[\"index_suivi\"].isin(df_merge[\"index_suivi\"])]\n",
    "df_remboursement_csv_restant = df_remboursement_csv[~df_remboursement_csv[\"index_csv\"].isin(df_merge[\"index_csv\"])]\n",
    "\n",
    "### Pour les lignes restantes, re-merger sans Date\n",
    "colonnes = [\"Nom Associé\",\"IBAN\",\"Montant_arrondi\",\"Dossier\"]\n",
    "df_merge_2 = df_remboursement_suivi_restant.merge(df_remboursement_csv_restant[colonnes+[\"csv_filename\",\"index_csv\"]],on=colonnes)\n",
    "df_remboursement_suivi_restant = df_remboursement_suivi_restant[~df_remboursement_suivi_restant[\"index_suivi\"].isin(df_merge_2[\"index_suivi\"])]\n",
    "df_remboursement_csv_restant = df_remboursement_csv_restant[~df_remboursement_csv_restant[\"index_csv\"].isin(df_merge_2[\"index_csv\"])]\n",
    "\n",
    "# ### Pour les lignes restantes, re-merger sans IBAN (car il y a une ligne notée le nom de client à la place du numéro de l'IBAN)\n",
    "colonnes = [\"Nom Associé\",\"Montant_arrondi\",\"Dossier\"]\n",
    "df_merge_3 = df_remboursement_suivi_restant.merge(df_remboursement_csv_restant[colonnes+[\"csv_filename\",\"index_csv\"]],on=colonnes)\n",
    "df_remboursement_suivi_restant = df_remboursement_suivi_restant[~df_remboursement_suivi_restant[\"index_suivi\"].isin(df_merge_3[\"index_suivi\"])]\n",
    "df_remboursement_csv_restant = df_remboursement_csv_restant[~df_remboursement_csv_restant[\"index_csv\"].isin(df_merge_3[\"index_csv\"])]"
   ]
  },
  {
   "cell_type": "code",
   "execution_count": null,
   "id": "c71a2744",
   "metadata": {},
   "outputs": [],
   "source": [
    "df_remboursement_suivi_restant[\"csv_filename\"] = \"_Fichier csv non trouvé\""
   ]
  },
  {
   "cell_type": "code",
   "execution_count": null,
   "id": "b14ac80b",
   "metadata": {},
   "outputs": [],
   "source": [
    "df_remboursement_csv_restant[\"csv_filename\"] = \"_Présent dans csv mais pas dans fichier suivi\""
   ]
  },
  {
   "cell_type": "code",
   "execution_count": null,
   "id": "2a460018",
   "metadata": {},
   "outputs": [],
   "source": [
    "df_remboursement_suivi = pd.concat([df_merge,df_merge_2,df_merge_3,df_remboursement_suivi_restant,df_remboursement_csv_restant])\n",
    "df_remboursement_suivi = df_remboursement_suivi.drop(columns=['index_csv'])"
   ]
  },
  {
   "cell_type": "markdown",
   "id": "c8b59a14",
   "metadata": {},
   "source": [
    "### Fichier de suivi versus XML"
   ]
  },
  {
   "cell_type": "code",
   "execution_count": null,
   "id": "fbd76cb3",
   "metadata": {},
   "outputs": [],
   "source": [
    "len(df_remboursement_suivi)"
   ]
  },
  {
   "cell_type": "code",
   "execution_count": null,
   "id": "8d7e5878",
   "metadata": {},
   "outputs": [],
   "source": [
    "### Merger d'abord sur Nom, IBAN, Dossier (Fonds), Date et Montant\n",
    "colonnes = [\"Nom Associé\",\"Dossier\",\"Date\",\"Montant_arrondi\"]\n",
    "df_merge = df_remboursement_suivi.merge(df_remboursement_xml[colonnes+[\"xml_filename\",\"index_xml\",\"IBAN\"]],on=colonnes)\n",
    "df_remboursement_suivi_restant = df_remboursement_suivi[~df_remboursement_suivi[\"index_suivi\"].isin(df_merge[\"index_suivi\"])]\n",
    "df_remboursement_xml_restant = df_remboursement_xml[~df_remboursement_xml[\"index_xml\"].isin(df_merge[\"index_xml\"])]\n",
    "\n",
    "doublons = len(df_merge[df_merge.duplicated(subset=\"index_xml\",keep=False)]),len(df_merge[df_merge.duplicated(subset=\"index_suivi\",keep=False)])\n",
    "print(f\"doublons dans df_merge: {doublons}\")\n",
    "\n",
    "# ### Pour les lignes restantes, re-merger sans Date\n",
    "colonnes = [\"Nom Associé\",\"Montant_arrondi\",\"Dossier\"]\n",
    "df_merge_2 = df_remboursement_suivi_restant.merge(df_remboursement_xml_restant[colonnes+[\"xml_filename\",\"index_xml\",\"IBAN\"]],on=colonnes)\n",
    "df_remboursement_suivi_restant = df_remboursement_suivi_restant[~df_remboursement_suivi_restant[\"index_suivi\"].isin(df_merge_2[\"index_suivi\"])]\n",
    "df_remboursement_xml_restant = df_remboursement_xml_restant[~df_remboursement_xml_restant[\"index_xml\"].isin(df_merge_2[\"index_xml\"])]\n",
    "\n",
    "doublons = len(df_merge_2[df_merge_2.duplicated(subset=\"index_xml\",keep=False)]),len(df_merge_2[df_merge_2.duplicated(subset=\"index_suivi\",keep=False)])\n",
    "print(f\"doublons dans df_merge_2: {doublons}\")\n"
   ]
  },
  {
   "cell_type": "code",
   "execution_count": null,
   "id": "831ed94e",
   "metadata": {},
   "outputs": [],
   "source": [
    "df_remboursement_suivi_restant[\"xml_filename\"] = \"_Fichier xml non trouvé\""
   ]
  },
  {
   "cell_type": "code",
   "execution_count": null,
   "id": "112d687d",
   "metadata": {},
   "outputs": [],
   "source": [
    "df_merge_total = pd.concat([df_merge,df_merge_2])\n",
    "df_merge_total = df_merge_total.rename(columns={\"IBAN_x\":\"IBAN\",\"IBAN_y\":\"IBAN_xml\"}).drop(columns=\"index_xml\")\n",
    "df_merge_total[\"IBAN_identique_avec_xml\"] = df_merge_total[\"IBAN\"] == df_merge_total[\"IBAN_xml\"]\n",
    "df_merge_total[\"Commentaire\"] = \"Paiement potentiellement effectué\""
   ]
  },
  {
   "cell_type": "code",
   "execution_count": null,
   "id": "554c3df4",
   "metadata": {},
   "outputs": [],
   "source": [
    "df_remboursement_suivi_restant[\"Commentaire\"] = \"Paiement potentiellement non effectué\""
   ]
  },
  {
   "cell_type": "code",
   "execution_count": null,
   "id": "a8df1317",
   "metadata": {},
   "outputs": [],
   "source": [
    "df_remboursement_suivi = pd.concat([df_merge_total,df_remboursement_suivi_restant]).drop(columns=\"index_suivi\")"
   ]
  },
  {
   "cell_type": "code",
   "execution_count": null,
   "id": "c06dfcac",
   "metadata": {},
   "outputs": [],
   "source": [
    "len(df_remboursement_suivi)"
   ]
  },
  {
   "cell_type": "code",
   "execution_count": null,
   "id": "b6af46c2",
   "metadata": {},
   "outputs": [],
   "source": [
    "df_remboursement_suivi[\"IBAN_identique_avec_xml\"].value_counts()"
   ]
  },
  {
   "cell_type": "markdown",
   "id": "91bd3f47",
   "metadata": {},
   "source": [
    "### Fichier Historique"
   ]
  },
  {
   "cell_type": "code",
   "execution_count": null,
   "id": "54f4eb09",
   "metadata": {},
   "outputs": [],
   "source": [
    "df_remboursement_historique[\"Dossier\"].unique()"
   ]
  },
  {
   "cell_type": "code",
   "execution_count": null,
   "id": "aa0c6b3c",
   "metadata": {},
   "outputs": [],
   "source": [
    "### Concaténer les deux colonnes Remarques et puis en supprimer une\n",
    "df_remboursement_historique[\"Remarques\"] = df_remboursement_historique[\"Remarques\"] + \", \" + df_remboursement_historique[\"Remarque\"]\n",
    "df_remboursement_historique[\"Remarques\"] = df_remboursement_historique[\"Remarques\"].str.strip()\n",
    "df_remboursement_historique = df_remboursement_historique.drop(columns=\"Remarque\")"
   ]
  },
  {
   "cell_type": "code",
   "execution_count": null,
   "id": "796953ae",
   "metadata": {},
   "outputs": [],
   "source": [
    "### Renommer les colonnes pour harmoniser avec les données récentes\n",
    "df_remboursement_historique = df_remboursement_historique.rename(columns={\n",
    "    \"Nature\":\"Type de demande\",\n",
    "    \"N° associé\":\"Code Associé\",\n",
    "    \"Remarques\":\"Remarque\",\n",
    "    \"Date Validation\" : \"Date de Validation\"\n",
    "})"
   ]
  },
  {
   "cell_type": "code",
   "execution_count": null,
   "id": "141ddf2d",
   "metadata": {},
   "outputs": [],
   "source": [
    "df_remboursement_historique = df_remboursement_historique.drop(columns=[\"N° de fiche\",'IBAN fonds'])\n",
    "df_remboursement_historique[\"Dossier\"] = df_remboursement_historique[\"Dossier\"].map({\"XL\":\"XL\",\"EURION\":\"EU\",\"CO\":\"CC\",\"CLE\":\"CLE\"})"
   ]
  },
  {
   "cell_type": "code",
   "execution_count": null,
   "id": "851e880d",
   "metadata": {},
   "outputs": [],
   "source": [
    "### Formatter les colonnes\n",
    "df_remboursement_historique[\"Montant\"] = df_remboursement_historique[\"Montant\"].astype(str)\n",
    "df_remboursement_historique.loc[df_remboursement_historique[\"Montant\"]==\"nan\",\"Montant\"] = 0\n",
    "df_remboursement_historique[\"Montant\"] = df_remboursement_historique[\"Montant\"].str.replace(\"€|\\s\",\"\",regex=True)\n",
    "df_remboursement_historique[\"Montant\"] = df_remboursement_historique[\"Montant\"].str.replace(\",\",\".\").astype(float)\n",
    "\n",
    "df_remboursement_historique[\"IBAN\"] = df_remboursement_historique[\"IBAN\"].replace(\"\\s\",\"\",regex=True)\n",
    "df_remboursement_historique = df_remboursement_historique[~df_remboursement_historique[\"Nom Associé\"].isnull()]"
   ]
  },
  {
   "cell_type": "code",
   "execution_count": null,
   "id": "1ddc7542",
   "metadata": {},
   "outputs": [],
   "source": [
    "### Formatter la date\n",
    "df_remboursement_historique[\"Date\"] = df_remboursement_historique[\"Date\"].fillna(df_remboursement_historique[\"Date de saisie\"]).fillna(df_remboursement_historique[\"Date de Validation\"])\n",
    "df_remboursement_historique[\"Date\"] = df_remboursement_historique[\"Date\"].astype(str)\n",
    "df_remboursement_historique[\"Date\"] = df_remboursement_historique[\"Date\"].str[0:10]\n",
    "\n",
    "df_remboursement_historique.loc[df_remboursement_historique[\"Date\"]==\"19/010/202\",\"Date\"] = \"19/10/2020\" ### forcer la valeur\n",
    "df_remboursement_historique[\"Date\"] = pd.to_datetime(df_remboursement_historique[\"Date\"],format=\"%Y-%m-%d\",errors=\"coerce\").fillna(pd.to_datetime(df_remboursement_historique[\"Date\"], format='%d/%m/%Y',errors=\"coerce\"))"
   ]
  },
  {
   "cell_type": "code",
   "execution_count": null,
   "id": "73be13ab",
   "metadata": {},
   "outputs": [],
   "source": [
    "df_remboursement_historique = df_remboursement_historique.reset_index().drop(columns=\"index\")"
   ]
  },
  {
   "cell_type": "code",
   "execution_count": null,
   "id": "498a2ca4",
   "metadata": {},
   "outputs": [],
   "source": [
    "df_remboursement_historique[\"csv_filename\"] = \"_Données historique_info non dispo\"\n",
    "df_remboursement_historique[\"xml_filename\"] = \"_Données historique_info non dispo\"\n",
    "df_remboursement_historique[\"IBAN_xml\"] = \"_Données historique_info non dispo\""
   ]
  },
  {
   "cell_type": "code",
   "execution_count": null,
   "id": "f0114827",
   "metadata": {},
   "outputs": [],
   "source": [
    "df_remboursement_historique = df_remboursement_historique.reset_index().rename(columns={\"index\":\"index_hist\"})"
   ]
  },
  {
   "cell_type": "markdown",
   "id": "aedc617d",
   "metadata": {},
   "source": [
    "### Concat"
   ]
  },
  {
   "cell_type": "code",
   "execution_count": null,
   "id": "798642ea",
   "metadata": {},
   "outputs": [],
   "source": [
    "df_remboursement = pd.concat([df_remboursement_suivi,df_remboursement_historique])\n",
    "df_remboursement = df_remboursement.reset_index().drop(columns=[\"index\",\"Montant_arrondi\"])"
   ]
  },
  {
   "cell_type": "code",
   "execution_count": null,
   "id": "0b2c9cc2",
   "metadata": {},
   "outputs": [],
   "source": [
    "df_remboursement = df_remboursement.sort_values(\"Date\")"
   ]
  },
  {
   "cell_type": "markdown",
   "id": "c409ec12",
   "metadata": {},
   "source": [
    "## Données bancaires"
   ]
  },
  {
   "cell_type": "code",
   "execution_count": null,
   "id": "bec7db9f",
   "metadata": {},
   "outputs": [],
   "source": [
    "pattern_nb_transact = r'(?<=NBTR)\\/([a-zA-Z\\s\\-\\.\\d]*)'\n",
    "pattern_code_transact = r'(?<=PREF)\\/([a-zA-Z\\s\\-\\.\\d]*)'\n",
    "df_debit[\"Nb_transact\"] = df_debit[\"Libellé\"].str.extract(pattern_nb_transact)\n",
    "df_debit[\"code_transac\"] = df_debit[\"Libellé\"].str.extract(pattern_code_transact)\n",
    "df_debit[\"Nb_transact\"] = df_debit[\"Nb_transact\"].fillna(0).astype(int)\n",
    "df_debit[\"IBAN\"] = df_debit[\"IBAN\"].str.replace(\" \",\"\")"
   ]
  },
  {
   "cell_type": "code",
   "execution_count": null,
   "id": "679c9a80",
   "metadata": {},
   "outputs": [],
   "source": [
    "pattern_nb_transact = r'(?<=NBT)([\\s\\d]*)'\n",
    "df_debit[\"Nb_transact_2\"] = df_debit[\"Libellé\"].str.extract(pattern_nb_transact)\n",
    "df_debit[\"Nb_transact_2\"] = df_debit[\"Nb_transact_2\"] .str.replace(\" \",\"\")\n",
    "\n",
    "mask = df_debit[\"Nb_transact\"]==0\n",
    "df_debit.loc[mask,\"Nb_transact\"] = df_debit.loc[mask,\"Nb_transact_2\"]"
   ]
  },
  {
   "cell_type": "code",
   "execution_count": null,
   "id": "ba2ffd96",
   "metadata": {},
   "outputs": [],
   "source": [
    "df_debit = df_debit.drop(columns=\"Nb_transact_2\")"
   ]
  },
  {
   "cell_type": "markdown",
   "id": "71795a06",
   "metadata": {},
   "source": [
    "# Rapprochement des remboursements"
   ]
  },
  {
   "cell_type": "code",
   "execution_count": null,
   "id": "a83874ea",
   "metadata": {},
   "outputs": [],
   "source": [
    "df_debit = df_debit[df_debit[\"Type_Transaction\"].isin([\"VIREMENT SEPA EMIS\",\"VIR ETRANGER EMIS\",\"VIREMENT\",\"Autre\"])]"
   ]
  },
  {
   "cell_type": "markdown",
   "id": "ace5da49",
   "metadata": {},
   "source": [
    "## Fichier xml"
   ]
  },
  {
   "cell_type": "code",
   "execution_count": null,
   "id": "ab06a23d",
   "metadata": {},
   "outputs": [],
   "source": [
    "df_xml_agg = df_remboursement_xml.groupby(by=[\"code_transac\",\"Fonds\",\"Date\",\"IBAN_xx\"]).agg({\n",
    "    \"index_xml\":\"count\",\n",
    "    \"Montant\":'sum'\n",
    "}).rename(columns={\"index_xml\":\"nb_client_rembourse\"}).reset_index()"
   ]
  },
  {
   "cell_type": "code",
   "execution_count": null,
   "id": "82d7bb08",
   "metadata": {},
   "outputs": [],
   "source": [
    "df_xml_agg_trouve = df_xml_agg[[\"code_transac\",\"IBAN_xx\",\"Montant\",\"nb_client_rembourse\"]].merge(df_debit,left_on=[\"code_transac\",\"IBAN_xx\",\"nb_client_rembourse\"],\n",
    "                right_on=[\"code_transac\",\"IBAN\",\"Nb_transact\"])\n",
    "df_xml_agg_trouve[\"Ecart_montant\"] = abs(df_xml_agg_trouve[\"Montant\"] - df_xml_agg_trouve[\"Débit\"])<=0.5\n",
    "df_xml_agg_trouve[\"Ecart_montant\"].unique()"
   ]
  },
  {
   "cell_type": "code",
   "execution_count": null,
   "id": "90038800",
   "metadata": {},
   "outputs": [],
   "source": [
    "len(df_xml_agg_trouve)"
   ]
  },
  {
   "cell_type": "code",
   "execution_count": null,
   "id": "313f3800",
   "metadata": {},
   "outputs": [],
   "source": [
    "df_xml_agg_trouve = df_xml_agg_trouve[[\"code_transac\",\"Id sys_old\"]]"
   ]
  },
  {
   "cell_type": "markdown",
   "id": "9411a8e4",
   "metadata": {},
   "source": [
    "__Tous les codes rapprochés ont le montant exact sur le relevé__"
   ]
  },
  {
   "cell_type": "code",
   "execution_count": null,
   "id": "cef7821f",
   "metadata": {},
   "outputs": [],
   "source": [
    "df_xml_agg_non_trouve = df_xml_agg[~df_xml_agg[\"code_transac\"].isin(df_xml_agg_trouve[\"code_transac\"])]\n",
    "df_xml_agg_non_trouve = df_xml_agg_non_trouve.rename(columns={\"Fonds\":\"Fonds_xml\",\"Date\":\"Date_xml\"})"
   ]
  },
  {
   "cell_type": "code",
   "execution_count": null,
   "id": "0d08cf11",
   "metadata": {},
   "outputs": [],
   "source": [
    "df_debit_restant = df_debit[~df_debit[\"Id sys\"].isin(df_xml_agg_trouve[\"Id sys_old\"])]\n",
    "df_debit_restant[\"Start_Date\"] = df_debit_restant[\"Date\"] +dt.timedelta(days=-90)"
   ]
  },
  {
   "cell_type": "code",
   "execution_count": null,
   "id": "2aff75dd",
   "metadata": {},
   "outputs": [],
   "source": [
    "df_xml_agg_non_trouve = df_xml_agg_non_trouve[df_xml_agg_non_trouve[\"Date_xml\"]<=\"2022-10-31\"]"
   ]
  },
  {
   "cell_type": "code",
   "execution_count": null,
   "id": "8c192358",
   "metadata": {},
   "outputs": [],
   "source": [
    "conn = sqlite3.connect(':memory:')\n",
    "df_debit_restant.drop(columns=\"code_transac\").to_sql('debit', conn, index=False)\n",
    "df_xml_agg_non_trouve.to_sql('xml', conn, index=False)\n",
    "qry = '''\n",
    "    SELECT  *\n",
    "    FROM\n",
    "        xml JOIN debit ON\n",
    "        (ABS(debit.Débit - xml.Montant ) <= 0.5)\n",
    "        AND debit.Nb_transact = xml.nb_client_rembourse\n",
    "        AND debit.IBAN = xml.IBAN_xx\n",
    "        AND (xml.Date_xml BETWEEN debit.Start_Date AND Debit.Valeur)\n",
    "\n",
    "    '''\n",
    "df_match_xml = pd.read_sql_query(qry, conn)"
   ]
  },
  {
   "cell_type": "code",
   "execution_count": null,
   "id": "66856e83",
   "metadata": {},
   "outputs": [],
   "source": [
    "df_xml_agg_non_trouve = df_xml_agg_non_trouve[~df_xml_agg_non_trouve[\"Montant\"].isin(df_match_xml[\"Montant\"])]"
   ]
  },
  {
   "cell_type": "code",
   "execution_count": null,
   "id": "13ca5a51",
   "metadata": {},
   "outputs": [],
   "source": [
    "df_xml_agg_non_trouve = df_xml_agg_non_trouve[df_xml_agg_non_trouve[\"Date_xml\"]<=\"2022-10-01\"] ### les virements en oct peuvent être sur le relevé du nov"
   ]
  },
  {
   "cell_type": "code",
   "execution_count": null,
   "id": "61fe893d",
   "metadata": {},
   "outputs": [],
   "source": [
    "df_match_xml = df_match_xml[[\"code_transac\",\"Id sys_old\"]]"
   ]
  },
  {
   "cell_type": "code",
   "execution_count": null,
   "id": "e29298e4",
   "metadata": {},
   "outputs": [],
   "source": [
    "df_xml_agg_non_trouve[\"Id sys_old\"] = \"Non trouvé\"\n",
    "df_xml_agg_non_trouve = df_xml_agg_non_trouve[[\"code_transac\",\"Id sys_old\"]]"
   ]
  },
  {
   "cell_type": "code",
   "execution_count": null,
   "id": "5e99c376",
   "metadata": {},
   "outputs": [],
   "source": [
    "df_debit_restant = df_debit_restant[~df_debit_restant[\"Id sys_old\"].isin(df_match_xml[\"Id sys_old\"])]"
   ]
  },
  {
   "cell_type": "markdown",
   "id": "daf1cecb",
   "metadata": {},
   "source": [
    "## Fichier csv sans xml"
   ]
  },
  {
   "cell_type": "code",
   "execution_count": null,
   "id": "d2d133be",
   "metadata": {},
   "outputs": [],
   "source": [
    "df_csv_restant = df_remboursement_suivi[df_remboursement_suivi[\"xml_filename\"]==\"_Fichier xml non trouvé\"]"
   ]
  },
  {
   "cell_type": "code",
   "execution_count": null,
   "id": "57fe455c",
   "metadata": {},
   "outputs": [],
   "source": [
    "df_csv_restant = df_csv_restant[df_csv_restant[\"Date\"]<=\"2022-10-31\"]"
   ]
  },
  {
   "cell_type": "code",
   "execution_count": null,
   "id": "11778aee",
   "metadata": {},
   "outputs": [],
   "source": [
    "df_csv_agg = df_csv_restant.groupby(by=[\"csv_filename\",\"Date\",\"Dossier\"]).agg({\n",
    "    \"Montant\":\"sum\",                                                           \n",
    "    \"IBAN\":\"count\"}).reset_index().rename(columns={\"IBAN\":\"nb_client_rembourse\",\"Date\":\"Date_csv\"})"
   ]
  },
  {
   "cell_type": "code",
   "execution_count": null,
   "id": "0652bf5a",
   "metadata": {},
   "outputs": [],
   "source": [
    "len(df_csv_agg)"
   ]
  },
  {
   "cell_type": "code",
   "execution_count": null,
   "id": "4bc60d8b",
   "metadata": {},
   "outputs": [],
   "source": [
    "conn = sqlite3.connect(':memory:')\n",
    "df_debit_restant.to_sql('debit', conn, index=False)\n",
    "df_csv_agg.to_sql('csv', conn, index=False)\n",
    "qry = '''\n",
    "    SELECT  *\n",
    "    FROM\n",
    "        csv JOIN debit ON\n",
    "        (ABS(debit.Débit - csv.Montant ) <= 0.5)\n",
    "        AND debit.Nb_transact = csv.nb_client_rembourse\n",
    "        AND debit.Fonds = csv.Dossier\n",
    "        AND (csv.Date_csv BETWEEN debit.Start_Date AND Debit.Valeur)\n",
    "\n",
    "    '''\n",
    "df_match_csv = pd.read_sql_query(qry, conn)"
   ]
  },
  {
   "cell_type": "code",
   "execution_count": null,
   "id": "b42d3c3d",
   "metadata": {},
   "outputs": [],
   "source": [
    "len(df_match_csv)"
   ]
  },
  {
   "cell_type": "code",
   "execution_count": null,
   "id": "6ef3a64f",
   "metadata": {},
   "outputs": [],
   "source": [
    "df_csv_non_trouve = df_csv_agg[~df_csv_agg[\"csv_filename\"].isin(df_match_csv[\"csv_filename\"])]"
   ]
  },
  {
   "cell_type": "code",
   "execution_count": null,
   "id": "4c4b62b2",
   "metadata": {},
   "outputs": [],
   "source": [
    "df_match_csv = df_match_csv[[\"csv_filename\",\"Id sys_old\"]]"
   ]
  },
  {
   "cell_type": "code",
   "execution_count": null,
   "id": "42ac9c48",
   "metadata": {},
   "outputs": [],
   "source": [
    "df_csv_non_trouve[\"Id sys_old\"] = \"Non trouvé\"\n",
    "df_csv_non_trouve = df_csv_non_trouve[[\"csv_filename\",\"Id sys_old\"]]"
   ]
  },
  {
   "cell_type": "code",
   "execution_count": null,
   "id": "48556ba5",
   "metadata": {},
   "outputs": [],
   "source": [
    "df_debit_restant = df_debit_restant[~df_debit_restant[\"Id sys_old\"].isin(df_match_csv[\"Id sys_old\"])]"
   ]
  },
  {
   "cell_type": "markdown",
   "id": "2eebaa43",
   "metadata": {},
   "source": [
    "## Données historiques"
   ]
  },
  {
   "cell_type": "code",
   "execution_count": null,
   "id": "712cc2fa",
   "metadata": {},
   "outputs": [],
   "source": [
    "len(df_debit_restant)"
   ]
  },
  {
   "cell_type": "code",
   "execution_count": null,
   "id": "e56aede9",
   "metadata": {},
   "outputs": [],
   "source": [
    "df_remboursement_historique0 = df_remboursement_historique"
   ]
  },
  {
   "cell_type": "code",
   "execution_count": null,
   "id": "203e8557",
   "metadata": {},
   "outputs": [],
   "source": [
    "##############################"
   ]
  },
  {
   "cell_type": "code",
   "execution_count": null,
   "id": "4155b268",
   "metadata": {},
   "outputs": [],
   "source": [
    "df_remboursement_historique = df_remboursement_historique0"
   ]
  },
  {
   "cell_type": "code",
   "execution_count": null,
   "id": "9ba9bcba",
   "metadata": {},
   "outputs": [],
   "source": [
    "df_remboursement_historique[\"Type de demande\"] = df_remboursement_historique[\"Type de demande\"].astype(str).str.upper().apply(unidecode)\n",
    "# types_a_exclure = [\"GESTE CO\",\"GEST CO\",\"DIVIDENDE MANUEL\"]\n",
    "# df_remboursement_historique = df_remboursement_historique[~df_remboursement_historique[\"Type de demande\"].isin(types_a_exclure)]"
   ]
  },
  {
   "cell_type": "code",
   "execution_count": null,
   "id": "2c8c9c91",
   "metadata": {},
   "outputs": [],
   "source": [
    "df_remboursement_historique = df_remboursement_historique.rename(columns={\"Date\":\"Date_hist\"})"
   ]
  },
  {
   "cell_type": "code",
   "execution_count": null,
   "id": "de8cb2f9",
   "metadata": {},
   "outputs": [],
   "source": [
    "df_remboursement_historique = df_remboursement_historique[[\"index_hist\",\"Date_hist\",\"Montant\",\"Dossier\"]]"
   ]
  },
  {
   "cell_type": "code",
   "execution_count": null,
   "id": "ab0d0c04",
   "metadata": {},
   "outputs": [],
   "source": [
    "df_hist_agg = df_remboursement_historique.groupby(by=[\"Date_hist\",\"Dossier\"]).agg({\n",
    "    \"index_hist\":\"count\",\n",
    "    \"Montant\":\"sum\"\n",
    "}).reset_index().rename(columns={\"index_hist\":\"nb_client_rembourse\"})"
   ]
  },
  {
   "cell_type": "code",
   "execution_count": null,
   "id": "9ea56bb3",
   "metadata": {},
   "outputs": [],
   "source": [
    "df_debit_restant[\"Start_Date\"] = df_debit_restant[\"Date\"] +dt.timedelta(days=-120)"
   ]
  },
  {
   "cell_type": "code",
   "execution_count": null,
   "id": "5847c978",
   "metadata": {},
   "outputs": [],
   "source": [
    "len(df_debit_restant)"
   ]
  },
  {
   "cell_type": "code",
   "execution_count": null,
   "id": "2bf8da0b",
   "metadata": {},
   "outputs": [],
   "source": [
    "conn = sqlite3.connect(':memory:')\n",
    "df_debit_restant.to_sql('debit', conn, index=False)\n",
    "df_hist_agg.to_sql('hist', conn, index=False)\n",
    "qry = '''\n",
    "    SELECT  *\n",
    "    FROM\n",
    "        hist JOIN debit ON\n",
    "        (ABS(debit.Débit - hist.Montant ) <= 0.5)\n",
    "        AND debit.Nb_transact = hist.nb_client_rembourse\n",
    "        AND debit.Fonds = hist.Dossier\n",
    "        AND (hist.Date_hist BETWEEN debit.Start_Date AND Debit.Valeur)\n",
    "\n",
    "    '''\n",
    "\n",
    "df_match_hist_pls = pd.read_sql_query(qry, conn)"
   ]
  },
  {
   "cell_type": "code",
   "execution_count": null,
   "id": "545c0c9e",
   "metadata": {},
   "outputs": [],
   "source": [
    "df_match_hist_pls = df_match_hist_pls.drop_duplicates(subset=\"Id sys\",keep=False)\n",
    "df_match_hist_pls = df_match_hist_pls.drop_duplicates(subset=\"Date_hist\",keep=False)\n",
    "df_match_hist_pls = df_match_hist_pls[df_match_hist_pls[\"nb_client_rembourse\"]>1]\n",
    "df_match_hist_pls = df_match_hist_pls[[\"Date_hist\",\"Id sys_old\"]]"
   ]
  },
  {
   "cell_type": "code",
   "execution_count": null,
   "id": "5992c12b",
   "metadata": {
    "scrolled": false
   },
   "outputs": [],
   "source": [
    "df_debit_restant = df_debit_restant[~df_debit_restant[\"Id sys_old\"].isin(df_match_hist_pls[\"Id sys_old\"])]\n",
    "df_hist_restant = df_remboursement_historique[~df_remboursement_historique[\"Date_hist\"].isin(df_match_hist_pls[\"Date_hist\"])]"
   ]
  },
  {
   "cell_type": "code",
   "execution_count": null,
   "id": "356c85be",
   "metadata": {},
   "outputs": [],
   "source": [
    "df_debit_restant = df_debit_restant[df_debit_restant[\"Nb_transact\"]==1]\n",
    "df_match_hist_unique = pd.DataFrame()\n",
    "for nb_days in np.arange(5,120,step=10):\n",
    "    nb_days = int(nb_days)\n",
    "    df_debit_restant[\"Start_Date\"] = df_debit_restant[\"Date\"] +dt.timedelta(days=-nb_days)\n",
    "    \n",
    "    conn = sqlite3.connect(':memory:')\n",
    "    df_debit_restant.to_sql('debit', conn, index=False)\n",
    "    df_hist_restant.to_sql('hist', conn, index=False)\n",
    "    qry = '''\n",
    "        SELECT  *\n",
    "        FROM\n",
    "            hist JOIN debit ON\n",
    "            (ABS(debit.Débit - hist.Montant ) <= 0.5)\n",
    "            AND debit.Fonds = hist.Dossier\n",
    "            AND (hist.Date_hist BETWEEN debit.Start_Date AND Debit.Valeur)\n",
    "\n",
    "        '''\n",
    "\n",
    "    df_match = pd.read_sql_query(qry, conn)\n",
    "    df_match = df_match.drop_duplicates(subset=\"Id sys\",keep=False)\n",
    "    df_match = df_match.drop_duplicates(subset=\"Date_hist\",keep=False)\n",
    "    df_match = df_match[[\"index_hist\",\"Id sys_old\"]]\n",
    "    \n",
    "    df_match_hist_unique = pd.concat([df_match_hist_unique,df_match])\n",
    "    df_debit_restant = df_debit_restant[~df_debit_restant[\"Id sys_old\"].isin(df_match[\"Id sys_old\"])]\n",
    "    df_hist_restant = df_hist_restant[~df_hist_restant[\"index_hist\"].isin(df_match[\"index_hist\"])]"
   ]
  },
  {
   "cell_type": "code",
   "execution_count": null,
   "id": "55a8fd7e",
   "metadata": {},
   "outputs": [],
   "source": [
    "len(df_match_hist_unique)"
   ]
  },
  {
   "cell_type": "markdown",
   "id": "8c9da392",
   "metadata": {},
   "source": [
    "## Concaténer les résultats"
   ]
  },
  {
   "cell_type": "code",
   "execution_count": null,
   "id": "bbbcb9f5",
   "metadata": {},
   "outputs": [],
   "source": [
    "df_remboursement0 = df_remboursement"
   ]
  },
  {
   "cell_type": "code",
   "execution_count": null,
   "id": "c85d7823",
   "metadata": {},
   "outputs": [],
   "source": [
    "len(df_remboursement0)"
   ]
  },
  {
   "cell_type": "code",
   "execution_count": null,
   "id": "6a84c09e",
   "metadata": {},
   "outputs": [],
   "source": [
    "#########################"
   ]
  },
  {
   "cell_type": "code",
   "execution_count": null,
   "id": "fc3528d9",
   "metadata": {},
   "outputs": [],
   "source": [
    "df_xml_trouve = pd.concat([df_xml_agg_trouve,df_match_xml,df_xml_agg_non_trouve])\n",
    "df_xml = df_remboursement_xml[[\"code_transac\",\"xml_filename\"]].drop_duplicates()\n",
    "df_xml_trouve = df_xml_trouve.merge(df_xml,on=\"code_transac\").drop(columns=\"code_transac\")"
   ]
  },
  {
   "cell_type": "code",
   "execution_count": null,
   "id": "69d3b350",
   "metadata": {},
   "outputs": [],
   "source": [
    "df_remboursement_xml[\"xml_filename\"].nunique()"
   ]
  },
  {
   "cell_type": "code",
   "execution_count": null,
   "id": "34dc2493",
   "metadata": {},
   "outputs": [],
   "source": [
    "df_csv_trouve = pd.concat([df_match_csv,df_csv_non_trouve]).rename(columns={\"Id sys_old\":\"Id sys_old_csv\"})"
   ]
  },
  {
   "cell_type": "code",
   "execution_count": null,
   "id": "fd6ad33d",
   "metadata": {},
   "outputs": [],
   "source": [
    "df_remboursement = df_remboursement.merge(df_xml_trouve,on=\"xml_filename\",how=\"outer\")"
   ]
  },
  {
   "cell_type": "code",
   "execution_count": null,
   "id": "bf2f605c",
   "metadata": {},
   "outputs": [],
   "source": [
    "len(df_remboursement)"
   ]
  },
  {
   "cell_type": "code",
   "execution_count": null,
   "id": "9190b293",
   "metadata": {},
   "outputs": [],
   "source": [
    "df_remboursement = df_remboursement.merge(df_csv_trouve,on=\"csv_filename\",how=\"outer\")"
   ]
  },
  {
   "cell_type": "code",
   "execution_count": null,
   "id": "76c21aeb",
   "metadata": {},
   "outputs": [],
   "source": [
    "len(df_remboursement)"
   ]
  },
  {
   "cell_type": "code",
   "execution_count": null,
   "id": "d4aaad75",
   "metadata": {},
   "outputs": [],
   "source": [
    "df_remboursement[\"Id sys_old\"] = df_remboursement[\"Id sys_old\"].fillna(df_remboursement[\"Id sys_old_csv\"])"
   ]
  },
  {
   "cell_type": "code",
   "execution_count": null,
   "id": "ec7bcbd3",
   "metadata": {},
   "outputs": [],
   "source": [
    "len(df_remboursement[~df_remboursement[\"Id sys_old\"].isnull()])"
   ]
  },
  {
   "cell_type": "code",
   "execution_count": null,
   "id": "2085c1f4",
   "metadata": {},
   "outputs": [],
   "source": [
    "df_remboursement = df_remboursement.drop(columns=\"Id sys_old_csv\")"
   ]
  },
  {
   "cell_type": "code",
   "execution_count": null,
   "id": "3d4cfe1e",
   "metadata": {},
   "outputs": [],
   "source": [
    "df_remboursement = df_remboursement[['Id sys_old','Dossier', 'csv_filename', 'xml_filename', 'IBAN_xml', 'IBAN_identique_avec_xml',\"Commentaire\",\n",
    "        'Code Associé', 'Nom Associé', 'IBAN', 'Montant', 'Type de demande',\n",
    "       'Date', 'Date de Validation', 'Payé ?', 'Remarque',\n",
    "       'BIC', 'Interlocuteur', 'Validation Client Operations',\n",
    "       'Date de saisie', 'Saisi ?', 'Remarque.1', 'Date Paiement',\n",
    "       'Nature si dividende']]"
   ]
  },
  {
   "cell_type": "code",
   "execution_count": null,
   "id": "d62afbc3",
   "metadata": {},
   "outputs": [],
   "source": [
    "df_remboursement.to_excel(folder_path + \"/output/4. Autres/Remboursement Retrait concaténé.xlsx\",sheet_name=\"Remboursement\",index=False)"
   ]
  },
  {
   "cell_type": "code",
   "execution_count": null,
   "id": "fce9a9a4",
   "metadata": {},
   "outputs": [],
   "source": []
  }
 ],
 "metadata": {
  "kernelspec": {
   "display_name": "Python 3 (ipykernel)",
   "language": "python",
   "name": "python3"
  },
  "language_info": {
   "codemirror_mode": {
    "name": "ipython",
    "version": 3
   },
   "file_extension": ".py",
   "mimetype": "text/x-python",
   "name": "python",
   "nbconvert_exporter": "python",
   "pygments_lexer": "ipython3",
   "version": "3.8.12"
  },
  "toc": {
   "base_numbering": 1,
   "nav_menu": {},
   "number_sections": true,
   "sideBar": true,
   "skip_h1_title": false,
   "title_cell": "Table of Contents",
   "title_sidebar": "Contents",
   "toc_cell": false,
   "toc_position": {},
   "toc_section_display": true,
   "toc_window_display": false
  },
  "varInspector": {
   "cols": {
    "lenName": 16,
    "lenType": 16,
    "lenVar": 40
   },
   "kernels_config": {
    "python": {
     "delete_cmd_postfix": "",
     "delete_cmd_prefix": "del ",
     "library": "var_list.py",
     "varRefreshCmd": "print(var_dic_list())"
    },
    "r": {
     "delete_cmd_postfix": ") ",
     "delete_cmd_prefix": "rm(",
     "library": "var_list.r",
     "varRefreshCmd": "cat(var_dic_list()) "
    }
   },
   "types_to_exclude": [
    "module",
    "function",
    "builtin_function_or_method",
    "instance",
    "_Feature"
   ],
   "window_display": false
  }
 },
 "nbformat": 4,
 "nbformat_minor": 5
}
