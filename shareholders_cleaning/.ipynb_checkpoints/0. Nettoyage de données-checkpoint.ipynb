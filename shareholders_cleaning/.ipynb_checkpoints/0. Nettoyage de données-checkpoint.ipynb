{
 "cells": [
  {
   "cell_type": "markdown",
   "id": "78747533",
   "metadata": {},
   "source": [
    "# Import libraries"
   ]
  },
  {
   "cell_type": "code",
   "execution_count": null,
   "id": "4ac5e2e8",
   "metadata": {},
   "outputs": [],
   "source": [
    "%load_ext autoreload\n",
    "%autoreload 2"
   ]
  },
  {
   "cell_type": "code",
   "execution_count": null,
   "id": "aa6e570b",
   "metadata": {},
   "outputs": [],
   "source": [
    "import swifter\n",
    "from unidecode import unidecode"
   ]
  },
  {
   "cell_type": "code",
   "execution_count": null,
   "id": "a8b52216",
   "metadata": {},
   "outputs": [],
   "source": [
    "from functions.utils import *\n",
    "from functions.mapping_virements import *\n",
    "from functions.clean_data import *\n",
    "from functions.check_clientops import *"
   ]
  },
  {
   "cell_type": "code",
   "execution_count": null,
   "id": "dc66cef2",
   "metadata": {},
   "outputs": [],
   "source": [
    "import datetime as dt\n",
    "import re\n",
    "import io"
   ]
  },
  {
   "cell_type": "code",
   "execution_count": null,
   "id": "6e3be1f9",
   "metadata": {},
   "outputs": [],
   "source": [
    "import tempfile"
   ]
  },
  {
   "cell_type": "markdown",
   "id": "3abf53e5",
   "metadata": {},
   "source": [
    "# Context"
   ]
  },
  {
   "cell_type": "markdown",
   "id": "f02aa463",
   "metadata": {},
   "source": [
    "__I. Données reçues__\n",
    "1. Données de relevé bancaire\n",
    "2. Suivi de ClientOps\n",
    "3. Données de BO sur les mouvements\n",
    "4. Connection Démembrement\n",
    "5. Données sur les souscriptions\n",
    "6. Le champs Commentaire dans BO\n",
    "7. Régul compte à compte"
   ]
  },
  {
   "cell_type": "markdown",
   "id": "feb27822",
   "metadata": {},
   "source": [
    "__II. Nom des variables__\n",
    "\n",
    "La structure des données avant et après 062021 sont un peu différentes (données relevé et ClientOps), qui demandent donc des traitements un peu spécifiques.\n",
    "- Dans cette notebook, tous les variables qui se terminent par 1 === données depuis 062021\n",
    "- Toutes les variables qui se terminent par 2 == données avant 2020 (ou aussi entre 2021 et 06/2021 si les données sont cumulées)\n",
    "- Tous ceux qui se terminent par 3 == données relevé bancaire entre 01/2020 - 06/2021 \n",
    "\n",
    "(désolée pour l'ordre qui n'est pas cohérent mais c'est l'ordre auquel nous avons reçues les données. Donc je les ai renommées au fur et à mesure)"
   ]
  },
  {
   "cell_type": "markdown",
   "id": "5d2f0489",
   "metadata": {},
   "source": [
    "__III. Cheminement de traitement des données__ :\n",
    "1. Importer les données de différentes périodes\n",
    "2. Retraiter les données en faisant des controles pour s'assurer qu'on ne perd pas des lignes au cours de traitement\n",
    "3. Rapprocher les données entre relevé bancaire vs BO\n",
    "4. Ajouter les commentaires sur le résultat obtenu"
   ]
  },
  {
   "cell_type": "code",
   "execution_count": null,
   "id": "83342c18",
   "metadata": {},
   "outputs": [],
   "source": [
    "df_list_bic = pd.read_excel(\"../_config/liste_des_BIC.xlsx\",sheet_name=\"BIC\")\n",
    "list_bic = list(df_list_bic['BIC']) "
   ]
  },
  {
   "cell_type": "code",
   "execution_count": null,
   "id": "b2fba980",
   "metadata": {},
   "outputs": [],
   "source": [
    "df_motsprasites = pd.read_excel(\"../_config/mots_parasites.xlsx\",sheet_name=\"Sheet1\",header=None)\n",
    "motsparasites_pt = pd.read_excel(\"../_config/mots_parasites.xlsx\",sheet_name=\"PT\",header=None)\n",
    "motsparasites_nl = pd.read_excel(\"../_config/mots_parasites.xlsx\",sheet_name=\"NL\",header=None)\n",
    "motsparasites_at = pd.read_excel(\"../_config/mots_parasites.xlsx\",sheet_name=\"AT\",header=None)\n",
    "\n",
    "pattern_clean_motif = \"|\".join(list(df_motsprasites[0]))\n",
    "motsparasites_pt = \"|\".join(list(motsparasites_pt[0])) + \"|\" + pattern_clean_motif\n",
    "\n",
    "list_motsparasites_nl = motsparasites_nl[0].to_list()\n",
    "motsparasites_nl =  \"|\".join(list(motsparasites_nl[0])) + \"|\" + pattern_clean_motif\n",
    "\n",
    "list_motsparasites_at = motsparasites_at[0].to_list()\n",
    "motsparasites_at =  \"|\".join(list(motsparasites_at[0])) + \"|\" + pattern_clean_motif"
   ]
  },
  {
   "cell_type": "markdown",
   "id": "ecd04524",
   "metadata": {},
   "source": [
    "# Import data"
   ]
  },
  {
   "cell_type": "code",
   "execution_count": null,
   "id": "746556f8",
   "metadata": {},
   "outputs": [],
   "source": [
    "folder_path = \"xxxx\""
   ]
  },
  {
   "cell_type": "markdown",
   "id": "7090cb59",
   "metadata": {},
   "source": [
    "## Commentaire BO"
   ]
  },
  {
   "cell_type": "code",
   "execution_count": null,
   "id": "ad728592",
   "metadata": {},
   "outputs": [],
   "source": [
    "df_commentaire = pd.read_csv(folder_path + \"/raw_data/0. Data BO/Annotation/Annotation.csv\",sep=\";\")"
   ]
  },
  {
   "cell_type": "markdown",
   "id": "685554a6",
   "metadata": {},
   "source": [
    "## Relevé bancaire - depuis 0621"
   ]
  },
  {
   "cell_type": "code",
   "execution_count": null,
   "id": "f3f8ceb8",
   "metadata": {},
   "outputs": [],
   "source": [
    "releve_path = folder_path + \"/raw_data/0. Data Releve bancaire/0. BS since June 2021/\"\n",
    "fichier_CO = \"CO_BNP_FR.xlsx\"\n",
    "fichier_EU = \"Eurion_BNP_FR.xlsx\"\n",
    "fichier_XL = \"XL_BNP_FR.xlsx\"\n",
    "df_releve_bancaire_CO = pd.read_excel(releve_path + fichier_CO, sheet_name = \"1\",header=8)\n",
    "df_headers_CO = pd.read_excel(releve_path + fichier_CO, sheet_name = \"1\",  nrows= 7, usecols = 'A:E',header=None)\n",
    "df_releve_bancaire_CO[\"Fonds\"] = \"CC\"\n",
    "\n",
    "df_releve_bancaire_EU = pd.read_excel(releve_path + fichier_EU, sheet_name = \"1\",header=8)\n",
    "df_headers_EU = pd.read_excel(releve_path + fichier_EU, sheet_name = \"1\",  nrows= 7, usecols = 'A:E',header=None)\n",
    "df_releve_bancaire_EU[\"Fonds\"] = \"EU\"\n",
    "\n",
    "df_releve_bancaire_XL = pd.read_excel(releve_path + fichier_XL, sheet_name = \"1\",header=8)\n",
    "df_headers_XL = pd.read_excel(releve_path + fichier_XL, sheet_name = \"1\",  nrows= 7, usecols = 'A:E',header=None)\n",
    "df_releve_bancaire_XL[\"Fonds\"] = \"XL\""
   ]
  },
  {
   "cell_type": "markdown",
   "id": "43222f51",
   "metadata": {},
   "source": [
    "## Relevé bancaire - entre 2020-062021"
   ]
  },
  {
   "cell_type": "code",
   "execution_count": null,
   "id": "d200d38b",
   "metadata": {},
   "outputs": [],
   "source": [
    "### Les données 2020 et 2021\n",
    "dir_releve_pdf = folder_path + \"/raw_data/0. Data Releve bancaire/2. BS before AMB (New files 2020 & H1 2021)/\"\n",
    "dict_files_CC_3 = read_list_xlsx(dir_releve_pdf,\"1. Origin\")\n",
    "dict_files_XL_3 = read_list_xlsx(dir_releve_pdf,\"2. XL/V2 Word\")\n",
    "dict_files_EU_3 = read_list_xlsx(dir_releve_pdf,\"3. Eurion\")"
   ]
  },
  {
   "cell_type": "markdown",
   "id": "e20a175b",
   "metadata": {},
   "source": [
    "## Relevé bancaire - avant 2020"
   ]
  },
  {
   "cell_type": "code",
   "execution_count": null,
   "id": "2eac0fed",
   "metadata": {},
   "outputs": [],
   "source": [
    "dir_releve_pdf = folder_path + \"/raw_data/0. Data Releve bancaire/4. CC direct debit account/\"\n",
    "dict_files_CO_prlv = read_list_xlsx(dir_releve_pdf,\"\")"
   ]
  },
  {
   "cell_type": "code",
   "execution_count": null,
   "id": "eaca4e79",
   "metadata": {},
   "outputs": [],
   "source": [
    "### Il y a beaucoup de fichiers sur les données historiques. Donc il faut d'abord lire fichier par fichier, les cleaner et puis concaténer pour chaque fonds\n",
    "dir_releve_pdf = folder_path + \"/raw_data/0. Data Releve bancaire/1. Bank statements before AMB (June 2021)/\"\n",
    "dict_files_CO = read_list_xlsx(dir_releve_pdf,\"1. Origin\")\n",
    "dict_files_XL = read_list_xlsx(dir_releve_pdf,\"2. XL\")\n",
    "dict_files_EU = read_list_xlsx(dir_releve_pdf,\"3. Eurion\")"
   ]
  },
  {
   "cell_type": "markdown",
   "id": "efba7631",
   "metadata": {},
   "source": [
    "## Relevé avant 2015"
   ]
  },
  {
   "cell_type": "code",
   "execution_count": null,
   "id": "54434889",
   "metadata": {},
   "outputs": [],
   "source": [
    "dir_releve_pdf = folder_path + \"/raw_data/0. Data Releve bancaire/3. BRED/\"\n",
    "dict_files_CC_bred = read_list_xlsx(dir_releve_pdf,\"\")"
   ]
  },
  {
   "cell_type": "markdown",
   "id": "2aa174a1",
   "metadata": {},
   "source": [
    "## Compte étranger"
   ]
  },
  {
   "cell_type": "markdown",
   "id": "d28c1a9f",
   "metadata": {},
   "source": [
    "### AMB"
   ]
  },
  {
   "cell_type": "code",
   "execution_count": null,
   "id": "86ac9dd9",
   "metadata": {},
   "outputs": [],
   "source": [
    "def read_foreign_bank(folder):\n",
    "    path = folder_path + \"/raw_data/0. Data Releve bancaire/5. Foreign/2. Extract AMB/\"\n",
    "    path += folder\n",
    "    filenames = os.listdir(path)\n",
    "    df_AMB = pd.DataFrame()\n",
    "    for filename in filenames:\n",
    "        df_file = pd.read_excel(path+filename, sheet_name = \"1\",header=4)\n",
    "        df_headers = pd.read_excel(path+filename, sheet_name = \"1\",  nrows= 4, usecols = 'A:A',header=None)\n",
    "        iban = df_headers.loc[3,0]\n",
    "        df_file[\"IBAN\"] = iban\n",
    "        df_file[\"filename\"] = filename\n",
    "        df_AMB = pd.concat([df_AMB,df_file])\n",
    "    return df_AMB\n",
    "df_AT_AMB = read_foreign_bank(\"1. AT/\")\n",
    "df_NL_AMB = read_foreign_bank(\"2. NL/\")\n",
    "df_PT_AMB = read_foreign_bank(\"3. PT/\")"
   ]
  },
  {
   "cell_type": "markdown",
   "id": "4d5c151f",
   "metadata": {},
   "source": [
    "### Banque"
   ]
  },
  {
   "cell_type": "code",
   "execution_count": null,
   "id": "6f7f4f2c",
   "metadata": {},
   "outputs": [],
   "source": [
    "def read_foreign_bank_pdf(folder):\n",
    "    path = folder_path + \"/raw_data/0. Data Releve bancaire/5. Foreign/1. Banque/\"\n",
    "    path += folder\n",
    "    filenames = os.listdir(path)\n",
    "    df_banque = pd.DataFrame()\n",
    "    for filename in filenames:\n",
    "        df_file = pd.read_excel(path + filename, sheet_name = \"Table 1\",header=None)\n",
    "        df_file[\"filename\"] = filename\n",
    "        df_banque = pd.concat([df_banque,df_file])\n",
    "    return df_banque"
   ]
  },
  {
   "cell_type": "markdown",
   "id": "3c067485",
   "metadata": {},
   "source": [
    "#### AT"
   ]
  },
  {
   "cell_type": "code",
   "execution_count": null,
   "id": "7bd567ac",
   "metadata": {},
   "outputs": [],
   "source": [
    "df_AT_banque_cc = read_foreign_bank_pdf(\"1. AT/CO - BNP - AT/\")\n",
    "df_AT_banque_cc[\"Compte\"] = \"CO - BNP - AT\"\n",
    "df_AT_banque_xl = read_foreign_bank_pdf(\"1. AT/XL - BNP - AT/\")\n",
    "df_AT_banque_xl[\"Compte\"] = \"XL - BNP - AT\""
   ]
  },
  {
   "cell_type": "markdown",
   "id": "c0e4d2eb",
   "metadata": {},
   "source": [
    "#### NL"
   ]
  },
  {
   "cell_type": "code",
   "execution_count": null,
   "id": "c97ab587",
   "metadata": {},
   "outputs": [],
   "source": [
    "df_NL_banque_cc = read_foreign_bank_pdf(\"2. NL/CO - ING - NL/\")\n",
    "df_NL_banque_cc[\"Compte\"] = \"CO - ING - NL\"\n",
    "df_NL_banque_xl = read_foreign_bank_pdf(\"2. NL/XL - ING - NL/\")\n",
    "df_NL_banque_xl[\"Compte\"] = \"XL - ING - NL\""
   ]
  },
  {
   "cell_type": "markdown",
   "id": "a36d3945",
   "metadata": {},
   "source": [
    "#### PT"
   ]
  },
  {
   "cell_type": "code",
   "execution_count": null,
   "id": "427ab486",
   "metadata": {},
   "outputs": [],
   "source": [
    "df_PT_banque_xl = read_foreign_bank_pdf(\"3. PT/2. XL/\")\n",
    "df_PT_banque_xl[\"Compte\"] = \"XL - SANTANDER - PT\"\n",
    "\n",
    "df_PT_banque_cc = read_foreign_bank_pdf(\"3. PT/1. Origin/\")\n",
    "df_PT_banque_cc[\"Compte\"] = \"CC - SANTANDER - PT\""
   ]
  },
  {
   "cell_type": "markdown",
   "id": "fe5d86c7",
   "metadata": {},
   "source": [
    "## ClientOps"
   ]
  },
  {
   "cell_type": "markdown",
   "id": "dfa6ebd4",
   "metadata": {},
   "source": [
    "### Depuis 062021"
   ]
  },
  {
   "cell_type": "markdown",
   "id": "f930c896",
   "metadata": {},
   "source": [
    "Tous les fichiers de suivi des virements de ClientOps sont protégés par un mot de passe mais certains fichiers n'ont pas besoin de rentrer le mot de passe pour la lecture par Python, certains oui."
   ]
  },
  {
   "cell_type": "code",
   "execution_count": null,
   "id": "e4a13344",
   "metadata": {},
   "outputs": [],
   "source": [
    "## Fichier sans mot de passe\n",
    "dict_ClientOps_EU = pd.read_excel(folder_path + \"/raw_data/1. Virements/ClientOps/Virements_Eurion_2.0.xlsm\",\\\n",
    "                                  sheet_name = [\"Traités - EURION\",'A traiter - EURION'])\n",
    "df_ClientOps_EU = concat_tables_clientOps(dict_ClientOps_EU)\n",
    "dict_ClientOps_XL = pd.read_excel(folder_path + \"/raw_data/1. Virements/ClientOps/Virements_XL_3.0.xlsm\",\\\n",
    "                                  sheet_name = ['A traiter - XL',\"Traités - XL\"])\n",
    "df_ClientOps_XL = concat_tables_clientOps(dict_ClientOps_XL)\n",
    "\n",
    "### Fichier protégé par mdp (même pour la lecture seule)\n",
    "\n",
    "passwd = 'yyyy'\n",
    "path_origin = folder_path+ \"/raw_data/1. Virements/ClientOps/Virements_ORIGIN_3.1.xlsm\"\n",
    "dict_ClientOps_CO = read_xlsm(path_origin,\"ORIGIN\",passwd )\n",
    "df_ClientOps_CO = concat_tables_clientOps(dict_ClientOps_CO)\n",
    "\n",
    "df_ClientOps_EU[\"Fonds\"] = \"EU\"\n",
    "df_ClientOps_CO[\"Fonds\"] = \"CC\"\n",
    "df_ClientOps_XL[\"Fonds\"] = \"XL\"\n",
    "df_ClientOps1 = pd.concat([df_ClientOps_EU,df_ClientOps_CO,df_ClientOps_XL])"
   ]
  },
  {
   "cell_type": "markdown",
   "id": "ad277135",
   "metadata": {},
   "source": [
    "### Avant 062021"
   ]
  },
  {
   "cell_type": "code",
   "execution_count": null,
   "id": "054683ce",
   "metadata": {},
   "outputs": [],
   "source": [
    "def read_files(dossier,df_ClientOps,fonds):\n",
    "    path_clientops_historique = folder_path +'/raw_data/1. Virements/ClientOps/Historique/' + dossier\n",
    "    files = os.listdir(path_clientops_historique)\n",
    "    for file in files :\n",
    "        df = pd.read_excel(path_clientops_historique + \"/\" + file,sheet_name=\"Feuil1\")\n",
    "        df_ClientOps = pd.concat([df_ClientOps,df])\n",
    "    df_ClientOps[\"Fonds\"] = fonds\n",
    "    return df_ClientOps\n",
    "\n",
    "dossier_cc = \"CC/\"\n",
    "dossir_xl = \"XL/\"\n",
    "df_ClientOps_CC_2 = pd.DataFrame()\n",
    "df_ClientOps_XL_2 = pd.DataFrame()\n",
    "df_ClientOps_CC_2 = read_files(dossier_cc,df_ClientOps_CC_2,\"CC\")\n",
    "df_ClientOps_XL_2 = read_files(dossir_xl,df_ClientOps_XL_2,\"XL\")\n",
    "\n",
    "df_ClientOps_CC_2.columns = ['Id sys_ClientOps', 'Libellé_ClientOps', 'Valeur_ClientOps', 'Crédit_ClientOps', 'Code Associé',\n",
    "       'Souscription soldée', 'Colonne1', \"Référence de l'ordre\",'Colonne2',\"Fonds_ClientOps\"]\n",
    "df_ClientOps_XL_2.columns = ['Id sys_ClientOps', 'Libellé_ClientOps', 'Valeur_ClientOps', 'Crédit_ClientOps', 'Code Associé',\n",
    "       \"Référence de l'ordre\",'Souscription soldée', 'Colonne1' ,'Colonne2',\"Fonds_ClientOps\"]\n",
    "df_ClientOps2 = pd.concat([df_ClientOps_CC_2,df_ClientOps_XL_2])"
   ]
  },
  {
   "cell_type": "markdown",
   "id": "63f72499",
   "metadata": {},
   "source": [
    "### Régul compte à compte"
   ]
  },
  {
   "cell_type": "markdown",
   "id": "2100a5cb",
   "metadata": {},
   "source": [
    "Ce sont les fichiers que nous avons trouvés dans les dossiers archivés. Donc il y a plein de lignes en doublon entre les fichiers."
   ]
  },
  {
   "cell_type": "code",
   "execution_count": null,
   "id": "37672db9",
   "metadata": {},
   "outputs": [],
   "source": [
    "regul_cac_file = pd.ExcelFile(folder_path+ \"/raw_data/1. Virements/ClientOps/Régul compte à compte/Regularization (starting April 19, 2019).xlsx\")\n",
    "df_regul_cac = pd.DataFrame()\n",
    "for sheet_name in regul_cac_file.sheet_names:\n",
    "    if sheet_name != 'Virements mode emploi' and sheet_name != 'XL to CAM':\n",
    "        df_regul = regul_cac_file.parse(sheet_name)\n",
    "        df_regul[\"Sens de virement à faire\"] = sheet_name\n",
    "        df_regul_cac = pd.concat([df_regul_cac,df_regul])\n",
    "df_regul_cac = df_regul_cac[[\"Sens de virement à faire\",\"Reception date\",\"Amount\",\"Associate\",\"Order\",\"Comments\"]]\n",
    "df_regul_cac = df_regul_cac.rename(columns={\"Amount\":\"Amount_RegulClientOps\"})"
   ]
  },
  {
   "cell_type": "markdown",
   "id": "dd8849ec",
   "metadata": {},
   "source": [
    "# Nettoyer"
   ]
  },
  {
   "cell_type": "markdown",
   "id": "58300795",
   "metadata": {},
   "source": [
    "## Relevé bancaire"
   ]
  },
  {
   "cell_type": "markdown",
   "id": "03155680",
   "metadata": {},
   "source": [
    "### Depuis 0621"
   ]
  },
  {
   "cell_type": "code",
   "execution_count": null,
   "id": "b5dfabe4",
   "metadata": {},
   "outputs": [],
   "source": [
    "df_releve_bancaire_CO[\"IBAN\"] = get_iban(df_headers_CO.loc[2,0],bol_start_collect=True)\n",
    "df_releve_bancaire_EU[\"IBAN\"] = get_iban(df_headers_EU.loc[2,0],bol_start_collect=True)\n",
    "df_releve_bancaire_XL[\"IBAN\"] = get_iban(df_headers_XL.loc[2,0],bol_start_collect=True)\n",
    "df_releve_bancaire1 = pd.concat([df_releve_bancaire_CO,df_releve_bancaire_EU,df_releve_bancaire_XL])"
   ]
  },
  {
   "cell_type": "code",
   "execution_count": null,
   "id": "0d235cc5",
   "metadata": {},
   "outputs": [],
   "source": [
    "df_credit1, df_debit1, df_control_donnes_bancaires1 = clean_donnees_releve(df_releve_bancaire1)"
   ]
  },
  {
   "cell_type": "code",
   "execution_count": null,
   "id": "6a9179c3",
   "metadata": {},
   "outputs": [],
   "source": [
    "df_type_transaction_NA = df_credit1[df_credit1[\"Type_Transaction\"].isnull()]\n",
    "df_virements1 = df_credit1[df_credit1[\"Type_Transaction\"].str[0:3]==\"VIR\"]\n",
    "df_virements_cac1 = df_virements1[df_virements1[\"Type_Transaction\"].str.contains(\"CPTE A CPTE RECU\")]\n",
    "df_virements1 = df_virements1[~df_virements1[\"Type_Transaction\"].str.contains(\"CPTE A CPTE RECU\")]\n",
    "df_prelevements1 = df_credit1[df_credit1[\"Type_Transaction\"].str.contains(\"PRLV\",na=False)]\n",
    "df_cheques1 = df_credit1[df_credit1[\"Type_Transaction\"].str.contains(\"REMISE\",na=False)]\n",
    "df_rejets1 = df_credit1[df_credit1[\"Type_Transaction\"].str.contains(\"REJET\",na=False)]"
   ]
  },
  {
   "cell_type": "code",
   "execution_count": null,
   "id": "eb34815e",
   "metadata": {},
   "outputs": [],
   "source": [
    "liste_colonnes_trier = [\"Fonds\",\"Titulaire_clean\",\"Crédit\"]\n",
    "colonne_date = \"Valeur\"\n",
    "id_column = \"Id sys\"\n",
    "df_vir_doublons1 = verification_doublons(df_virements1,liste_colonnes_trier,colonne_date,id_column)\n",
    "df_vir_doublons1 = df_vir_doublons1[~df_vir_doublons1[\"Titulaire_clean\"].str.contains(\"BANQUE\")] #enlever les sociétés\n",
    "\n",
    "df_virements1 = df_virements1.merge(df_vir_doublons1[[\"Id sys\"]], on=\"Id sys\", how=\"outer\",indicator=True)\n",
    "df_virements1 = df_virements1[df_virements1[\"_merge\"]=='left_only'].drop(columns=\"_merge\")"
   ]
  },
  {
   "cell_type": "code",
   "execution_count": null,
   "id": "45e1772c",
   "metadata": {},
   "outputs": [],
   "source": [
    "df_control_donnes_bancaires1 = control_script(df_control_donnes_bancaires1, \\\n",
    "                                   \"type transaction non renseigne\",df_type_transaction_NA[\"Id sys\"].count(),\\\n",
    "                                   df_type_transaction_NA[\"Crédit\"].sum())\n",
    "\n",
    "df_control_donnes_bancaires1 = control_script(df_control_donnes_bancaires1, \\\n",
    "                                   \"total_vir_compte_a_compte\",df_virements_cac1[\"Id sys\"].count(),\\\n",
    "                                   df_virements_cac1[\"Crédit\"].sum())\n",
    "df_control_donnes_bancaires1 = control_script(df_control_donnes_bancaires1, \\\n",
    "                                   \"total_virs_avec_doublons_pendant30jours\",df_vir_doublons1[\"Id sys\"].count(),\\\n",
    "                                   df_vir_doublons1[\"Crédit\"].sum())\n",
    "df_control_donnes_bancaires1 = control_script(df_control_donnes_bancaires1, \\\n",
    "                                   \"total_virs_sansCAC_sansDoublons\",df_virements1[\"Id sys\"].count(),\\\n",
    "                                   df_virements1[\"Crédit\"].sum())\n",
    "df_control_donnes_bancaires1 = control_script(df_control_donnes_bancaires1, \\\n",
    "                                   \"total_prelevements\",df_prelevements1[\"Id sys\"].count(),\\\n",
    "                                   df_prelevements1[\"Crédit\"].sum())\n",
    "df_control_donnes_bancaires1 = control_script(df_control_donnes_bancaires1, \\\n",
    "                                   \"total_cheques\",df_cheques1[\"Id sys\"].count(),\\\n",
    "                                   df_cheques1[\"Crédit\"].sum())\n",
    "df_control_donnes_bancaires1 = control_script(df_control_donnes_bancaires1, \\\n",
    "                                   \"rejet\",df_rejets1[\"Id sys\"].count(),\\\n",
    "                                   df_rejets1[\"Crédit\"].sum())"
   ]
  },
  {
   "cell_type": "code",
   "execution_count": null,
   "id": "3efbe130",
   "metadata": {},
   "outputs": [],
   "source": [
    "len(df_virements1) + len(df_vir_doublons1)"
   ]
  },
  {
   "cell_type": "code",
   "execution_count": null,
   "id": "ff387464",
   "metadata": {},
   "outputs": [],
   "source": [
    "df_credit1.to_excel(folder_path + \"/transformed_data/2. Banque/1.0 Depuis 0621_Releve_lignes de crédit.xlsx\",sheet_name=\"Crédit\")\n",
    "df_debit1.to_excel(folder_path +  \"/transformed_data/2. Banque/1.0 Depuis 0621_Releve_lignes de débit.xlsx\",sheet_name=\"Débit\")"
   ]
  },
  {
   "cell_type": "markdown",
   "id": "2e2722ea",
   "metadata": {},
   "source": [
    "### Avant 0621"
   ]
  },
  {
   "cell_type": "markdown",
   "id": "679e770a",
   "metadata": {},
   "source": [
    "#### BRED"
   ]
  },
  {
   "cell_type": "code",
   "execution_count": null,
   "id": "1e2648f3",
   "metadata": {},
   "outputs": [],
   "source": [
    "### pour chaque fichier, splitter le en plusieurs tables. Chaque table serait traitée séparément \n",
    "### car les tables sont toutes décalées, il y a également des tables qui nous concernent pas\n",
    "dict_files = {}\n",
    "for filename,df_releve_pdf in dict_files_CC_bred.items():\n",
    "    df_releve_pdf = dict_files_CC_bred[filename]\n",
    "    dict_files = splitter_fichier(dict_files,df_releve_pdf,filename) \n",
    "\n",
    "### Formatter chaque table et les concaténer\n",
    "df_releve_bred = concat_fichiers_clean_with_list(dict_files,dict_files.keys(),bol_spec_file=False,bol_bred=True).reset_index()"
   ]
  },
  {
   "cell_type": "code",
   "execution_count": null,
   "id": "e924a092",
   "metadata": {},
   "outputs": [],
   "source": [
    "####### Supprimer les lignes inutiles\n",
    "df_releve_bred = df_releve_bred[~df_releve_bred[\"DEBIT\"].str.contains(\"EUROS\")]\n",
    "df_releve_bred = df_releve_bred[df_releve_bred[\"DATE COMPTABLE\"]!= \"TOTAL DES MOUVEMEN\"]\n",
    "\n",
    "### formatter\n",
    "df_releve_bred.loc[:,\"CREDIT\"] = df_releve_bred.loc[:,\"CREDIT\"].str.replace(\".\",\"\",regex=False).str.replace(\",\",\".\",regex=False).astype(float)\n",
    "df_releve_bred.loc[:,\"DEBIT\"] = df_releve_bred.loc[:,\"DEBIT\"].str.replace(\"\\.|\\s\",\"\",regex=True).str.replace(\",\",\".\",regex=False).astype(float)\n",
    "df_releve_bred.loc[:,\"DATE DE VALEUR\"] = pd.to_datetime(df_releve_bred[\"DATE DE VALEUR\"],format= \"%Y-%m-%d %H:%M:%S\",errors=\"coerce\").fillna(pd.to_datetime(df_releve_bred[\"DATE DE VALEUR\"], format='%d.%m.%y',errors=\"coerce\"))\n",
    "\n",
    "def clean_date_comptable(str_date):\n",
    "    list_item = str_date.split(\".\")\n",
    "    if len(list_item) == 2:\n",
    "        jour = list_item[0]\n",
    "        mois = list_item[1]\n",
    "        if len(jour) == 1 : jour = \"0\" + jour\n",
    "        if len(mois) == 1 : mois += \"0\"\n",
    "        return jour + \".\" + mois\n",
    "    return str_date\n",
    "df_releve_bred.loc[:,\"DATE COMPTABLE\"] = df_releve_bred.loc[:,\"DATE COMPTABLE\"].apply(clean_date_comptable)\n",
    "df_releve_bred.loc[:,\"DATE COMPTABLE\"] = df_releve_bred.loc[:,\"DATE COMPTABLE\"] + \".\" + df_releve_bred[\"DATE DE VALEUR\"].dt.to_period(\"Y\").astype(str)\n",
    "df_releve_bred.loc[:,\"DATE COMPTABLE\"] = pd.to_datetime(df_releve_bred[\"DATE COMPTABLE\"],format= \"%d.%m.%Y\")\n",
    "df_releve_bred.loc[:,\"Fonds\"] = \"CC\"\n",
    "dict_columns = {\"index\":\"Id sys\",\n",
    "                \"DATE COMPTABLE\" : \"Date\",\n",
    "                \"NATURE DES OPERATIONS\": \"Libellé\",\n",
    "                \"DATE DE VALEUR\":\"Valeur\",\n",
    "                \"DEBIT\":\"Débit\",\n",
    "                \"CREDIT\":\"Crédit\"}\n",
    "df_releve_bred = df_releve_bred.rename(columns=dict_columns)  \n",
    "df_releve_bred.loc[:,\"Libellé\"] = df_releve_bred.loc[:,\"Libellé\"].str.replace(r'\\s+', ' ', regex=True).apply(unidecode)"
   ]
  },
  {
   "cell_type": "code",
   "execution_count": null,
   "id": "21d7e5c9",
   "metadata": {},
   "outputs": [],
   "source": [
    "def type_transaction_bred(libelle):\n",
    "    if libelle[0:8] in [\"VIREMENT\",\"EUROVIRE\"]: return \"VIREMENT\"\n",
    "    if libelle[0:6] == \"REMISE\" : return \"REMISE CHEQUE\"\n",
    "    return \"Autre\"\n",
    "df_releve_bred.loc[:,\"Type_Transaction\"] = df_releve_bred.loc[:,\"Libellé\"].apply(type_transaction_bred)"
   ]
  },
  {
   "cell_type": "code",
   "execution_count": null,
   "id": "399c5a8a",
   "metadata": {},
   "outputs": [],
   "source": [
    "df_credit_bred = df_releve_bred[~df_releve_bred[\"Crédit\"].isnull()]\n",
    "df_debit_bred = df_releve_bred[~df_releve_bred[\"Débit\"].isnull()]"
   ]
  },
  {
   "cell_type": "code",
   "execution_count": null,
   "id": "f964a68f",
   "metadata": {},
   "outputs": [],
   "source": [
    "df_virements_bred = df_credit_bred[df_credit_bred[\"Type_Transaction\"]==\"VIREMENT\"]\n",
    "df_virements_bred.loc[:,\"Libellé_clean\"] = df_virements_bred.loc[:,\"Libellé\"].apply(get_words_only)\n",
    "df_virements_bred.loc[:,\"Libellé_clean\"] = df_virements_bred.loc[:,\"Libellé_clean\"].str.strip()\n",
    "\n",
    "mask = df_virements_bred[\"Libellé_clean\"].isin([\"VIREMENT COMPTE A TERME\",\"VIREMENT\",\"VIREMENT EUROPEEN RECU\"])\n",
    "df_virements_bred.loc[mask,\"Type_Transaction\"] = \"VIREMENT COMPTE A COMPTE\"\n",
    "mask = df_virements_bred[\"Libellé_clean\"].str.contains(\"VIREMENT COMPENSE\")\n",
    "df_virements_bred.loc[mask,\"Type_Transaction\"] = \"VIREMENT COMPTE A COMPTE\"\n",
    "mask = df_virements_bred[\"Libellé_clean\"].str.contains(\"LOYER\")\n",
    "df_virements_bred.loc[mask,\"Type_Transaction\"] = \"VIREMENT LOYER\"\n",
    "mask = df_virements_bred[\"Libellé_clean\"].str.contains(\"FACTURE\")\n",
    "df_virements_bred.loc[mask,\"Type_Transaction\"] = \"VIREMENT AUTRE\""
   ]
  },
  {
   "cell_type": "code",
   "execution_count": null,
   "id": "c1a8c301",
   "metadata": {
    "scrolled": true
   },
   "outputs": [],
   "source": [
    "df_virements_bred = clean_libelle_to_titulaire(df_virements_bred,\"Titulaire_clean\",\"Libellé_clean\",list_bic)"
   ]
  },
  {
   "cell_type": "code",
   "execution_count": null,
   "id": "1c426564",
   "metadata": {},
   "outputs": [],
   "source": [
    "df_virements_bred.to_excel(folder_path+ \"/transformed_data/2. Banque/BRED_Virements.xlsx\",sheet_name=\"Virements\", index=False)"
   ]
  },
  {
   "cell_type": "code",
   "execution_count": null,
   "id": "0e0b6873",
   "metadata": {},
   "outputs": [],
   "source": [
    "# df_credit_bred.to_excel(folder_path + \"/transformed_data/2. Banque/BRED_Releve_lignes de crédit.xlsx\",sheet_name=\"Crédit\", index=False)\n",
    "# df_debit_bred.to_excel(folder_path+\"/transformed_data/2. Banque/BRED_Releve_lignes de débit.xlsx\",sheet_name=\"Débit\", index=False)"
   ]
  },
  {
   "cell_type": "markdown",
   "id": "458c4170",
   "metadata": {},
   "source": [
    "#### Avant 2020"
   ]
  },
  {
   "cell_type": "code",
   "execution_count": null,
   "id": "a2af43e0",
   "metadata": {},
   "outputs": [],
   "source": [
    "### Données avant 2020\n",
    "df_releve_CO = clean_releve_pdf(dict_files_CO)\n",
    "df_releve_CO[\"Fonds\"] = \"CC\"\n",
    "df_control_releve_CO = controle_data_quality(df_releve_CO,\"CC\")\n",
    "\n",
    "df_releve_XL = clean_releve_pdf(dict_files_XL)\n",
    "df_releve_XL[\"Fonds\"] = \"XL\"\n",
    "df_control_releve_XL = controle_data_quality(df_releve_XL,\"XL\")\n",
    "\n",
    "df_releve_EU = clean_releve_pdf(dict_files_EU)\n",
    "df_releve_EU[\"Fonds\"] = \"EU\"\n",
    "df_control_releve_EU = controle_data_quality(df_releve_EU,\"EU\")"
   ]
  },
  {
   "cell_type": "markdown",
   "id": "496c30b2",
   "metadata": {},
   "source": [
    "#### Compte prélèvement de CC entre 2017 et 2021"
   ]
  },
  {
   "cell_type": "code",
   "execution_count": null,
   "id": "edd87dff",
   "metadata": {},
   "outputs": [],
   "source": [
    "df_releve_CC_prlv = clean_releve_pdf(dict_files_CO_prlv,date_format = \"%d.%m.%y\" ,bol_spec_file=True)\n",
    "df_releve_CC_prlv[\"Fonds\"] = \"CC\""
   ]
  },
  {
   "cell_type": "code",
   "execution_count": null,
   "id": "83e93762",
   "metadata": {},
   "outputs": [],
   "source": [
    "nb_prlv_cc = len(df_releve_CC_prlv)"
   ]
  },
  {
   "cell_type": "markdown",
   "id": "ec3c34c1",
   "metadata": {},
   "source": [
    "#### Entre 2020 et 062021"
   ]
  },
  {
   "cell_type": "code",
   "execution_count": null,
   "id": "70e9b92c",
   "metadata": {},
   "outputs": [],
   "source": [
    "### Données entre 2020 et 062021\n",
    "df_releve_EU_3 = clean_releve_pdf(dict_files_EU_3)\n",
    "df_releve_EU_3[\"Fonds\"] = \"EU\"\n",
    "df_control_releve_EU_3 = controle_data_quality(df_releve_EU_3,\"EU\")\n",
    "\n",
    "df_releve_XL_3 = clean_releve_pdf(dict_files_XL_3,date_format = \"%d.%m.%y\" ,bol_spec_file=True)\n",
    "df_releve_XL_3[\"Fonds\"] = \"XL\"\n",
    "df_control_releve_XL_3 = controle_data_quality(df_releve_XL_3,\"XL\")\n",
    "\n",
    "df_releve_CC_3 = clean_releve_pdf(dict_files_CC_3,date_format = \"%d.%m.%y\" ,bol_spec_file=True)\n",
    "df_releve_CC_3[\"Fonds\"] = \"CC\"\n",
    "df_control_releve_CC_3 = controle_data_quality(df_releve_CC_3,\"CC\")\n",
    "\n",
    "#### les données récentes commencent du 18/06/2021. Elles sont plus propres à utiliser\n",
    "df_releve_EU_3 = df_releve_EU_3[df_releve_EU_3[\"Date\"]< \"2021-06-18\"]\n",
    "df_releve_XL_3 = df_releve_XL_3[df_releve_XL_3[\"Date\"]< \"2021-06-18\"]\n",
    "df_releve_CC_3 = df_releve_CC_3[df_releve_CC_3[\"Date\"]< \"2021-06-18\"]"
   ]
  },
  {
   "cell_type": "markdown",
   "id": "6138ae94",
   "metadata": {},
   "source": [
    "#### Concat avant 062021"
   ]
  },
  {
   "cell_type": "code",
   "execution_count": null,
   "id": "2696c5c0",
   "metadata": {},
   "outputs": [],
   "source": [
    "df_releve_pdf = pd.concat([df_releve_CC_prlv,\\\n",
    "                           df_releve_CO,df_releve_XL,df_releve_EU,\\\n",
    "                           df_releve_CC_3,df_releve_XL_3,df_releve_EU_3]).reset_index()\n",
    "df_control_releve = pd.concat([df_control_releve_CO,df_control_releve_XL,df_control_releve_EU,df_control_releve_CC_3,df_control_releve_XL_3,df_control_releve_EU_3])\n",
    "df_releve_pdf[\"Type_Transaction\"] = df_releve_pdf[\"Libellé\"].apply(get_type_transaction)\n",
    "df_releve_pdf = df_releve_pdf.rename(columns={\"index\":\"Id sys\"})\n",
    "\n",
    "df_credit2 = df_releve_pdf[~df_releve_pdf[\"Crédit\"].isnull()]\n",
    "df_debit2 = df_releve_pdf[~df_releve_pdf[\"Débit\"].isnull()]"
   ]
  },
  {
   "cell_type": "code",
   "execution_count": null,
   "id": "02dcf605",
   "metadata": {},
   "outputs": [],
   "source": [
    "df_virement2 = df_credit2[df_credit2[\"Type_Transaction\"]==\"VIREMENT\"]\n",
    "df_prlv2 = df_credit2[df_credit2[\"Type_Transaction\"]==\"PRLV\"]\n",
    "df_cheque2 = df_credit2[df_credit2[\"Type_Transaction\"]==\"REMISE CHEQUE\"]\n",
    "df_vir_CAC2 = df_credit2[df_credit2[\"Type_Transaction\"]==\"VIRT CPTE A CPTE\"]\n",
    "df_rejet2 = df_credit2[df_credit2[\"Type_Transaction\"]==\"REJET\"]\n",
    "df_autre2 = df_credit2[df_credit2[\"Type_Transaction\"]==\"Autre\"]"
   ]
  },
  {
   "cell_type": "code",
   "execution_count": null,
   "id": "aa3d19b8",
   "metadata": {},
   "outputs": [],
   "source": [
    "patern_titulaire = r'FRM (.+?)\\/|DE (.+?)\\/'\n",
    "patern_motif1 = r'EID (.+?)\\/|MOTIF (.+?)\\/'\n",
    "patern_motif2 = r'RNF (.*)'\n",
    "patern_clean_titulaire = r'([a-zA-Z\\s\\-\\.\\d\\&\\-\\+]+)'\n",
    "\n",
    "df_virement2[\"Libellé_origin\"] = df_virement2[\"Libellé\"]\n",
    "df_virement2[\"Libellé\"] = df_virement2[\"Libellé\"].str.upper()\n",
    "df_virement2[\"Libellé\"] = df_virement2['Libellé'].str.replace(\"IRNF\",\"/RNF\")\n",
    "df_virement2[\"Libellé\"] = df_virement2['Libellé'].str.replace('M/1\\/1',\"\",regex=False).str.replace('M/1\\/lME',\"\",regex=False)\n",
    "df_virement2[\"Libellé\"] = df_virement2['Libellé'].str.replace('M/1\\/LME',\"\",regex=False)\n",
    "df_virement2[\"Libellé\"] = df_virement2['Libellé'].str.replace('1/',\"\",regex=False)\n",
    "df_virement2[\"Libellé\"] = df_virement2['Libellé'].str.replace('□',\"D\",regex=False)\n",
    "df_virement2[\"Libellé\"] = df_virement2['Libellé'].str.replace('S.C.I',\"SCI\",regex=False)\n",
    "df_virement2[\"Libellé\"] = df_virement2['Libellé'].str.replace('0MR',\"\",regex=False)\n",
    "\n",
    "df_virement2[\"Libellé\"] = df_virement2['Libellé'].replace(r'\\s+', ' ', regex=True).str.strip()\n",
    "\n",
    "df_result = df_virement2['Libellé'].str.extract(patern_titulaire)\n",
    "df_virement2[\"Titulaire\"] = df_result[0].combine_first(df_result[1])\n",
    "df_virement2[\"Titulaire_clean\"] = df_virement2['Titulaire'].str.extract(patern_clean_titulaire)\n",
    "df_virement2[\"Titulaire_clean\"] = df_virement2[\"Titulaire_clean\"].str.strip()\n",
    "\n",
    "df_result = df_virement2['Libellé'].str.extract(patern_motif1)\n",
    "df_virement2[\"Motif1\"] = df_result[0].combine_first(df_result[1])\n",
    "df_virement2[\"Motif1\"] = df_virement2['Motif1'].apply(get_words_only)\n",
    "df_virement2[\"Motif2\"] = df_virement2['Libellé'].str.extract(patern_motif2)\n",
    "df_virement2[\"Motif2\"] = df_virement2['Motif2'].apply(get_words_only)\n",
    "\n",
    "df_virement2.loc[:,\"Titulaire_clean\"] = df_virement2.loc[:,\"Titulaire_clean\"].apply(clean_name)\n",
    "\n",
    "df_virement2.loc[:,\"Motif1\"] = df_virement2.loc[:,\"Motif1\"].apply(clean_motif)\n",
    "df_virement2.loc[:,\"Motif1\"] = df_virement2.loc[:,\"Motif1\"].apply(clean_name)\n",
    "df_virement2[\"Motif1\"] = df_virement2['Motif1'].str.replace(\"NAN\",\"\")\n",
    "df_virement2.loc[:,\"Motif2\"] = df_virement2.loc[:,\"Motif2\"].apply(clean_motif)\n",
    "df_virement2.loc[:,\"Motif2\"] = df_virement2.loc[:,\"Motif2\"].apply(clean_name)\n",
    "df_virement2[\"Motif2\"] = df_virement2['Motif2'].str.replace(\"NAN\",\"\")\n",
    "df_virement2[\"Motif2\"] = df_virement2['Motif2'].str.replace(\"NAN\",\"\")"
   ]
  },
  {
   "cell_type": "code",
   "execution_count": null,
   "id": "347240f1",
   "metadata": {},
   "outputs": [],
   "source": [
    "df_virement_titulaire_nul = df_virement2[df_virement2[\"Titulaire_clean\"].isnull()]\n",
    "df_virement_titulaire_NotNull = df_virement2[~df_virement2[\"Titulaire_clean\"].isnull()]"
   ]
  },
  {
   "cell_type": "code",
   "execution_count": null,
   "id": "08d463b0",
   "metadata": {},
   "outputs": [],
   "source": [
    "df_virement_titulaire_nul[\"Titulaire\"] = df_virement_titulaire_nul[\"Libellé\"].apply(get_words_only)\n",
    "df_virement_titulaire_nul.loc[:,\"Titulaire_clean\"] = df_virement_titulaire_nul.loc[:,\"Titulaire\"].apply(clean_motif)\n",
    "\n",
    "df_virement_titulaire_nul.loc[:,\"Titulaire_clean\"] = df_virement_titulaire_nul.loc[:,\"Titulaire_clean\"].apply(clean_name)\n",
    "for i in range(0,5): \n",
    "    df_virement_titulaire_nul.loc[:,\"Titulaire_clean\"] = df_virement_titulaire_nul.loc[:,\"Titulaire_clean\"].apply(remove_de)\n",
    "df_virement_titulaire_nul[\"Titulaire_clean\"]=df_virement_titulaire_nul[\"Titulaire_clean\"].apply(remove_duplicated)"
   ]
  },
  {
   "cell_type": "code",
   "execution_count": null,
   "id": "08bbf547",
   "metadata": {},
   "outputs": [],
   "source": [
    "df_virements2 = pd.concat([df_virement_titulaire_nul,df_virement_titulaire_NotNull])"
   ]
  },
  {
   "cell_type": "code",
   "execution_count": null,
   "id": "74e12481",
   "metadata": {},
   "outputs": [],
   "source": [
    "liste_a_exclure = ['aaaaa','bbbbb']\n",
    "df_vir_cac2 = df_virements2[df_virements2[\"Titulaire_clean\"].isin(liste_a_exclure)]\n",
    "df_vir_cac2 = df_vir_cac2[['Id sys', 'Date', 'Libellé', 'Valeur', 'Débit', 'Crédit',\\\n",
    "                         'Fonds','Periode', 'Annee', 'Type_Transaction']]\n",
    "df_vir_CAC2 = pd.concat([df_vir_CAC2,df_vir_cac2])\n",
    "df_virements2 = df_virements2[~df_virements2[\"Titulaire_clean\"].isin(liste_a_exclure)]"
   ]
  },
  {
   "cell_type": "code",
   "execution_count": null,
   "id": "007b1875",
   "metadata": {},
   "outputs": [],
   "source": [
    "df_credit2.to_excel(folder_path + \"/transformed_data/2. Banque/2. Données avant 0621_lignes de crédit.xlsx\",sheet_name=\"crédit\",index=False)\n",
    "df_debit2.to_excel(folder_path + \"/transformed_data/2. Banque/2. Données avant 0621_lignes de débit.xlsx\",sheet_name=\"débit\",index=False)\n",
    "\n",
    "df_virements2.to_excel(folder_path + \"/transformed_data/2. Banque/2. Données avant 0621_Virements sans CAC.xlsx\",sheet_name=\"Sheet1\",index=False)\n",
    "df_vir_CAC2.to_excel(folder_path + \"/transformed_data/2. Banque/2. Données avant 0621_Virements Compte a Compte.xlsx\",sheet_name=\"Sheet1\",index=False)\n",
    "df_prlv2.to_excel(folder_path + \"/transformed_data/2. Banque/2. Données avant 0621_Prélèvements.xlsx\",sheet_name=\"Sheet1\",index=False)\n",
    "df_cheque2.to_excel(folder_path + \"/transformed_data/2. Banque/2. Données avant 0621_Chèques.xlsx\",sheet_name=\"Sheet1\",index=False)\n",
    "df_rejet2.to_excel(folder_path + \"/transformed_data/2. Banque/2. Données avant 0621_Rejets.xlsx\",sheet_name=\"Sheet1\",index=False)\n",
    "df_autre2.to_excel(folder_path + \"/transformed_data/2. Banque/2. Données avant 0621_Autres.xlsx\",sheet_name=\"Sheet1\",index=False)"
   ]
  },
  {
   "cell_type": "code",
   "execution_count": null,
   "id": "fcf55134",
   "metadata": {},
   "outputs": [],
   "source": [
    "liste_colonnes_trier = [\"Fonds\",\"Titulaire_clean\",\"Crédit\"]\n",
    "colonne_date = \"Valeur\"\n",
    "id_column = \"Id sys\"\n",
    "df_vir_doublons2 = verification_doublons(df_virements2,liste_colonnes_trier,colonne_date,id_column)\n",
    "df_vir_doublons2 = df_vir_doublons2[~df_vir_doublons2[\"Titulaire_clean\"].str.contains(\"BANQUE\")] #enlever les sociétés"
   ]
  },
  {
   "cell_type": "code",
   "execution_count": null,
   "id": "e67222a1",
   "metadata": {},
   "outputs": [],
   "source": [
    "df_virements2 = df_virements2.merge(df_vir_doublons2[[\"Id sys\"]], on=\"Id sys\", how=\"outer\",indicator=True)\n",
    "df_virements2 = df_virements2[df_virements2[\"_merge\"]=='left_only'].drop(columns=\"_merge\")"
   ]
  },
  {
   "cell_type": "code",
   "execution_count": null,
   "id": "f5a0d754",
   "metadata": {},
   "outputs": [],
   "source": [
    "df_virements2[\"Product_motif\"] = df_virements2.apply(lambda f : get_product_motif(f[\"Libellé\"]), axis=1)"
   ]
  },
  {
   "cell_type": "code",
   "execution_count": null,
   "id": "3e5fdeeb",
   "metadata": {},
   "outputs": [],
   "source": [
    "len(df_virements2) + len(df_vir_doublons2)"
   ]
  },
  {
   "cell_type": "code",
   "execution_count": null,
   "id": "0f1e315d",
   "metadata": {},
   "outputs": [],
   "source": [
    "len(df_virements1) + len(df_vir_doublons1)"
   ]
  },
  {
   "cell_type": "markdown",
   "id": "68cf44a4",
   "metadata": {},
   "source": [
    "### Comptes étrangers"
   ]
  },
  {
   "cell_type": "markdown",
   "id": "1738708f",
   "metadata": {},
   "source": [
    "#### AMB"
   ]
  },
  {
   "cell_type": "code",
   "execution_count": null,
   "id": "bf87d3d8",
   "metadata": {},
   "outputs": [],
   "source": [
    "df_AMB = pd.concat([df_AT_AMB, df_NL_AMB, df_PT_AMB])"
   ]
  },
  {
   "cell_type": "code",
   "execution_count": null,
   "id": "552463f7",
   "metadata": {},
   "outputs": [],
   "source": [
    "df_AMB[\"Compte\"] = df_AMB[\"IBAN\"].apply(lambda x : x.split(\"Collecte\")[0])\n",
    "df_AMB[\"IBAN\"] = df_AMB[\"IBAN\"].apply(lambda x : x.split(\"Collecte\")[1])\n",
    "\n",
    "df_AMB[\"IBAN\"] = df_AMB[\"IBAN\"].str.replace(\"EUR\",\"\").str.replace(\"-\",\" \").str.strip()\n",
    "\n",
    "df_AMB[\"Compte\"] = df_AMB[\"Compte\"].str.replace(\"Compte :\",\"\") \n",
    "df_AMB[\"Banque\"] = df_AMB[\"Compte\"].apply(lambda x : x.split(\"-\")[1]).str.strip()\n",
    "df_AMB[\"Fonds\"] = df_AMB[\"Compte\"].apply(lambda x : x.split(\"-\")[0]).str.strip().str.replace(\"CO\",\"CC\")\n",
    "df_AMB[\"Pays\"] = df_AMB[\"Compte\"].apply(lambda x : x.split(\"-\")[2]).str.strip()"
   ]
  },
  {
   "cell_type": "code",
   "execution_count": null,
   "id": "8839f04d",
   "metadata": {},
   "outputs": [],
   "source": [
    "df_AMB = df_AMB.rename(columns={\"Date d'opération\":\"Date\", \n",
    "                                'Date de valeur' : \"Valeur\", \n",
    "                                'Référence' : 'Ref.', \n",
    "                                'Référence 2' : 'Ref.2',\n",
    "                                'Libellé code opération':'Type_Transaction'})\n",
    "df_AMB = df_AMB[~df_AMB[\"Valeur\"].isnull()].reset_index()"
   ]
  },
  {
   "cell_type": "code",
   "execution_count": null,
   "id": "55787df9",
   "metadata": {},
   "outputs": [],
   "source": [
    "df_AMB[\"Id sys\"] = df_AMB[\"filename\"].str.replace(\".xlsx\",\"\",regex=False) + \"_\" + df_AMB[\"index\"].astype(str)"
   ]
  },
  {
   "cell_type": "code",
   "execution_count": null,
   "id": "6341406c",
   "metadata": {},
   "outputs": [],
   "source": [
    "df_AMB[\"Débit\"] = df_AMB[\"Débit\"].astype(float)\n",
    "df_AMB[\"Date\"] = pd.to_datetime(df_AMB[\"Date\"],format = \"%Y-%m-%d\")\n",
    "df_AMB[\"Valeur\"] = pd.to_datetime(df_AMB[\"Valeur\"],format = \"%Y-%m-%d\")"
   ]
  },
  {
   "cell_type": "code",
   "execution_count": null,
   "id": "abdc6357",
   "metadata": {},
   "outputs": [],
   "source": [
    "df_AMB = df_AMB.drop(columns=[\"index\",\"filename\"])"
   ]
  },
  {
   "cell_type": "markdown",
   "id": "c1b19ade",
   "metadata": {},
   "source": [
    "#### Extraction de la banque : AT_CC"
   ]
  },
  {
   "cell_type": "code",
   "execution_count": null,
   "id": "a728ca3f",
   "metadata": {},
   "outputs": [],
   "source": [
    "df_AT_banque_cc = df_AT_banque_cc.reset_index().rename(columns={\"index\":\"index_file\"}).reset_index()"
   ]
  },
  {
   "cell_type": "code",
   "execution_count": null,
   "id": "b3d1056d",
   "metadata": {},
   "outputs": [],
   "source": [
    "### récupérer les montants de \"Previous page\"\n",
    "df_previous = df_AT_banque_cc[df_AT_banque_cc[0].str.contains(\"Previous\",na=False)]\n",
    "df_previous[\"Balance\"] = df_previous[0].apply(lambda x : x.split(\" \")[-1])\n",
    "df_previous = df_previous[[\"index\",\"Balance\"]]"
   ]
  },
  {
   "cell_type": "code",
   "execution_count": null,
   "id": "d6d9d251",
   "metadata": {},
   "outputs": [],
   "source": [
    "### Filtrer les lignes nulles\n",
    "df_AT_1 = df_AT_banque_cc[~df_AT_banque_cc[2].isnull()]\n",
    "df_AT_1 = df_AT_1[~df_AT_1[2].str.contains(\"E-mail\")]\n",
    "df_AT_2 = df_AT_banque_cc[~df_AT_banque_cc[\"index\"].isin(df_AT_1[\"index\"])]\n",
    "df_AT_2 = df_AT_2[df_AT_2[0].str.contains(\"Int. Ref|BEN\",na=False)]\n",
    "df_AT_2 = df_AT_2.drop(columns=2).rename(columns={0:2})\n",
    "\n",
    "df_AT_banque_cc = pd.concat([df_AT_1,df_AT_2]).sort_values(by=\"index\")\n",
    "\n",
    "df_AT_banque_cc = df_AT_banque_cc.rename(columns={1:\"Date\",\n",
    "                               2:\"Libellé\",\n",
    "                               4:\"Valeur\"\n",
    "                               })"
   ]
  },
  {
   "cell_type": "code",
   "execution_count": null,
   "id": "096de8a8",
   "metadata": {},
   "outputs": [],
   "source": [
    "### Chercher la colonne Balance\n",
    "df_AT_banque_cc[\"Balance\"] = np.nan\n",
    "for index, row in df_AT_banque_cc.iterrows():\n",
    "    for col in [9,8,7,6,5]:\n",
    "        if str(row[col]) != \"nan\":\n",
    "            df_AT_banque_cc.loc[index,\"Balance\"] = row[col]\n",
    "            break"
   ]
  },
  {
   "cell_type": "code",
   "execution_count": null,
   "id": "faffde32",
   "metadata": {},
   "outputs": [],
   "source": [
    "### Extraire les données dans le nom du fichier\n",
    "df_AT_banque_cc[\"IBAN\"] = df_AT_banque_cc[\"filename\"].apply(lambda x : x.split(\"_\")[2])\n",
    "df_AT_banque_cc[\"filename_org\"] = df_AT_banque_cc[\"filename\"]\n",
    "df_AT_banque_cc[\"filename\"] = df_AT_banque_cc[\"filename\"].apply(lambda x : \"_\".join(x.split(\"_\")[4:]).split(\".\")[0])\n",
    "df_AT_banque_cc[\"year\"] = df_AT_banque_cc[\"filename\"].apply(lambda x: x.split(\"_\")[1][0:4])\n",
    "\n",
    "### Fill forward les dates\n",
    "df_AT_banque_cc[\"Date\"] = df_AT_banque_cc[\"Date\"].ffill(axis=0)\n",
    "df_AT_banque_cc[\"Valeur\"] = df_AT_banque_cc[\"Valeur\"].ffill(axis=0)\n",
    "df_AT_banque_cc[\"Balance\"] = df_AT_banque_cc[\"Balance\"].ffill(axis=0)"
   ]
  },
  {
   "cell_type": "code",
   "execution_count": null,
   "id": "97350659",
   "metadata": {},
   "outputs": [],
   "source": [
    "### Concaténer les Libellés\n",
    "df_AT_banque_cc = df_AT_banque_cc.groupby(by=[\"Date\",\"Valeur\",\"filename\",\"filename_org\",\"Compte\",\"IBAN\",\"year\",\"Balance\"]).agg({\n",
    "                                                                                 \"index\":\"first\",\n",
    "                                                                                 \"index_file\":\"first\",\n",
    "                                                                                 \"Libellé\":\" \".join\n",
    "                                                                                 }).reset_index()\n",
    "df_AT_banque_cc = df_AT_banque_cc.sort_values(by=\"index\")\n",
    "\n",
    "### Créer l'Id sys\n",
    "df_AT_banque_cc[\"Id sys\"] = df_AT_banque_cc[\"filename_org\"] + \"_\" + df_AT_banque_cc[\"index_file\"].astype(str)"
   ]
  },
  {
   "cell_type": "code",
   "execution_count": null,
   "id": "cabac73f",
   "metadata": {},
   "outputs": [],
   "source": [
    "### Ajouter l'année\n",
    "df_AT_banque_cc[\"Date\"] = df_AT_banque_cc[\"Date\"] + \"/\" + df_AT_banque_cc[\"year\"]\n",
    "df_AT_banque_cc[\"Valeur\"] = df_AT_banque_cc[\"Valeur\"] + \"/\" + df_AT_banque_cc[\"year\"]\n",
    "\n",
    "df_AT_banque_cc = df_AT_banque_cc.drop(columns=[\"year\",\"filename_org\"])"
   ]
  },
  {
   "cell_type": "code",
   "execution_count": null,
   "id": "4ad2fb11",
   "metadata": {},
   "outputs": [],
   "source": [
    "def find_previous_value(list_index_banque,list_index_previous): \n",
    "    previous_values = []\n",
    "    current_index = []\n",
    "    for i, idx_banque in enumerate(list_index_banque):\n",
    "        for idx_previous in list_index_previous:\n",
    "            if i < len(list_index_banque)-1:\n",
    "                if idx_previous > idx_banque and idx_previous < list_index_banque[i+1]:\n",
    "                    previous_values.append(idx_previous)\n",
    "                    current_index.append(idx_banque)\n",
    "\n",
    "    df_previous_values = pd.DataFrame(list(zip(current_index, previous_values)),\n",
    "                   columns =['index', 'previous_values'])\n",
    "    return df_previous_values"
   ]
  },
  {
   "cell_type": "code",
   "execution_count": null,
   "id": "e540b3be",
   "metadata": {},
   "outputs": [],
   "source": [
    "####### Rapprocher la balance précédente (previous_balance) pour vérifier si on n'a pas perdu des lignes\n",
    "df_AT_banque_cc = df_AT_banque_cc.sort_values(by=\"index\")\n",
    "df_previous = df_previous.sort_values(by=\"index\")\n",
    "list_index_banque = df_AT_banque_cc[\"index\"].to_list()\n",
    "list_index_previous = df_previous[\"index\"].to_list()\n",
    "df_previous_values = find_previous_value(list_index_banque,list_index_previous)\n",
    "\n",
    "df_previous = df_previous.rename(columns = {\"Balance\":\"Balance_previous\",\"index\":\"previous_values\"})\n",
    "df_AT_banque_cc = df_AT_banque_cc.merge(df_previous_values,on=\"index\",how=\"outer\").merge(df_previous,on=\"previous_values\",how=\"outer\")\n",
    "df_AT_banque_cc = df_AT_banque_cc[~df_AT_banque_cc[\"Date\"].isnull()]\n",
    "df_AT_banque_cc = df_AT_banque_cc.sort_values(by=\"index\")"
   ]
  },
  {
   "cell_type": "code",
   "execution_count": null,
   "id": "da204809",
   "metadata": {},
   "outputs": [],
   "source": [
    "def balance_valid(balance,balance_previous):\n",
    "    if str(balance_previous) != \"nan\":\n",
    "        if balance_previous == balance:\n",
    "            return True\n",
    "        return False\n",
    "    return True"
   ]
  },
  {
   "cell_type": "code",
   "execution_count": null,
   "id": "1a9f1a53",
   "metadata": {},
   "outputs": [],
   "source": [
    "df_AT_banque_cc[\"Valid\"] = df_AT_banque_cc.apply(lambda f : balance_valid(f[\"Balance\"],f[\"Balance_previous\"]), axis=1)"
   ]
  },
  {
   "cell_type": "code",
   "execution_count": null,
   "id": "844e67ce",
   "metadata": {},
   "outputs": [],
   "source": [
    "df_AT_banque_cc[df_AT_banque_cc[\"Valid\"]==False]"
   ]
  },
  {
   "cell_type": "markdown",
   "id": "cb069f64",
   "metadata": {},
   "source": [
    "#### Extraction de la banque : AT_XL"
   ]
  },
  {
   "cell_type": "code",
   "execution_count": null,
   "id": "1ff32e8c",
   "metadata": {},
   "outputs": [],
   "source": [
    "df_AT_banque_xl0 = df_AT_banque_xl"
   ]
  },
  {
   "cell_type": "code",
   "execution_count": null,
   "id": "8ba7031d",
   "metadata": {},
   "outputs": [],
   "source": [
    "df_AT_banque_xl = df_AT_banque_xl0"
   ]
  },
  {
   "cell_type": "code",
   "execution_count": null,
   "id": "8a7d7744",
   "metadata": {},
   "outputs": [],
   "source": [
    "len(df_AT_banque_xl)"
   ]
  },
  {
   "cell_type": "code",
   "execution_count": null,
   "id": "155e8da8",
   "metadata": {},
   "outputs": [],
   "source": [
    "df_AT_banque_xl = df_AT_banque_xl.reset_index().rename(columns={\"index\":\"index_file\"}).reset_index()"
   ]
  },
  {
   "cell_type": "code",
   "execution_count": null,
   "id": "9e470650",
   "metadata": {},
   "outputs": [],
   "source": [
    "df_previous = df_AT_banque_xl[df_AT_banque_xl[0].str.contains(\"Previous\",na=False)]\n",
    "df_previous[\"Balance\"] = df_previous[0].apply(lambda x : x.split(\" \")[-1])\n",
    "df_previous = df_previous[[\"index\",\"Balance\"]]"
   ]
  },
  {
   "cell_type": "code",
   "execution_count": null,
   "id": "94734f8c",
   "metadata": {},
   "outputs": [],
   "source": [
    "### Filtrer les lignes nulles\n",
    "df_AT_1 = df_AT_banque_xl[~df_AT_banque_xl[2].isnull()]\n",
    "df_AT_1 = df_AT_1[~df_AT_1[2].str.contains(\"E-mail\")]\n",
    "df_AT_2 = df_AT_banque_xl[~df_AT_banque_xl[\"index\"].isin(df_AT_1[\"index\"])]\n",
    "df_AT_2 = df_AT_2[df_AT_2[0].str.contains(\"Int. Ref|BEN\",na=False)]\n",
    "df_AT_2 = df_AT_2.drop(columns=2).rename(columns={0:2})\n",
    "df_AT_banque_xl = pd.concat([df_AT_1,df_AT_2]).sort_values(by=\"index\")\n",
    "\n",
    "df_AT_banque_xl[4] = df_AT_banque_xl[4].fillna(df_AT_banque_xl[5])\n",
    "\n",
    "df_AT_banque_xl = df_AT_banque_xl.rename(columns={1:\"Date\",\n",
    "                               2:\"Libellé\",\n",
    "                               4:\"Valeur\"\n",
    "                               })"
   ]
  },
  {
   "cell_type": "code",
   "execution_count": null,
   "id": "c7b35256",
   "metadata": {},
   "outputs": [],
   "source": [
    "### Chercher la colonne Balance\n",
    "df_AT_banque_xl[\"Balance\"] = np.nan\n",
    "for index, row in df_AT_banque_xl.iterrows():\n",
    "    for col in [11,10,9,8,7,6]:\n",
    "        if str(row[col]) != \"nan\":\n",
    "            df_AT_banque_xl.loc[index,\"Balance\"] = row[col]\n",
    "            break"
   ]
  },
  {
   "cell_type": "code",
   "execution_count": null,
   "id": "4fc58104",
   "metadata": {},
   "outputs": [],
   "source": [
    "### Extraire les données dans le nom du fichier\n",
    "df_AT_banque_xl[\"IBAN\"] = df_AT_banque_xl[\"filename\"].apply(lambda x : x.split(\"_\")[2])\n",
    "df_AT_banque_xl[\"filename_org\"] = df_AT_banque_xl[\"filename\"]\n",
    "df_AT_banque_xl[\"filename\"] = df_AT_banque_xl[\"filename\"].apply(lambda x : \"_\".join(x.split(\"_\")[4:]).split(\".\")[0])\n",
    "df_AT_banque_xl[\"year\"] = df_AT_banque_xl[\"filename\"].apply(lambda x: x.split(\"_\")[1][0:4])\n",
    "\n",
    "### Fill forward les dates\n",
    "df_AT_banque_xl[\"Date\"] = df_AT_banque_xl[\"Date\"].ffill(axis=0)\n",
    "df_AT_banque_xl[\"Valeur\"] = df_AT_banque_xl[\"Valeur\"].ffill(axis=0)\n",
    "df_AT_banque_xl[\"Balance\"] = df_AT_banque_xl[\"Balance\"].ffill(axis=0)"
   ]
  },
  {
   "cell_type": "code",
   "execution_count": null,
   "id": "a0e85056",
   "metadata": {},
   "outputs": [],
   "source": [
    "### Concaténer les Libellés\n",
    "df_AT_banque_xl = df_AT_banque_xl.groupby(by=[\"Date\",\"Valeur\",\"filename\",\"filename_org\",\"Compte\",\"IBAN\",\"year\",\"Balance\"]).agg({\n",
    "                                                                                 \"index\":\"first\",\n",
    "                                                                                 \"index_file\":\"first\",\n",
    "                                                                                 \"Libellé\":\" \".join\n",
    "                                                                                 }).reset_index()\n",
    "df_AT_banque_xl = df_AT_banque_xl.sort_values(by=\"index\")\n",
    "\n",
    "### Créer l'Id sys\n",
    "df_AT_banque_xl[\"Id sys\"] = df_AT_banque_xl[\"filename_org\"] + \"_\" + df_AT_banque_xl[\"index_file\"].astype(str)\n",
    "\n",
    "### Ajouter l'année\n",
    "df_AT_banque_xl[\"Date\"] = df_AT_banque_xl[\"Date\"] + \"/\" + df_AT_banque_xl[\"year\"]\n",
    "df_AT_banque_xl[\"Valeur\"] = df_AT_banque_xl[\"Valeur\"] + \"/\" + df_AT_banque_xl[\"year\"]\n",
    "\n",
    "df_AT_banque_xl = df_AT_banque_xl.drop(columns=[\"year\",\"filename_org\"])"
   ]
  },
  {
   "cell_type": "code",
   "execution_count": null,
   "id": "ea70e7b9",
   "metadata": {},
   "outputs": [],
   "source": [
    "df_AT_banque_xl = df_AT_banque_xl.sort_values(by=\"index\")"
   ]
  },
  {
   "cell_type": "code",
   "execution_count": null,
   "id": "8dbda3ce",
   "metadata": {},
   "outputs": [],
   "source": [
    "df_previous = df_previous.sort_values(by=\"index\")"
   ]
  },
  {
   "cell_type": "code",
   "execution_count": null,
   "id": "e949c542",
   "metadata": {},
   "outputs": [],
   "source": [
    "df_AT_banque_xl = df_AT_banque_xl.sort_values(by=\"index\")\n",
    "df_previous = df_previous.sort_values(by=\"index\")\n",
    "list_index_banque = df_AT_banque_xl[\"index\"].to_list()\n",
    "list_index_previous = df_previous[\"index\"].to_list()\n",
    "df_previous_values = find_previous_value(list_index_banque,list_index_previous)\n",
    "\n",
    "df_previous = df_previous.rename(columns = {\"Balance\":\"Balance_previous\",\"index\":\"previous_values\"})\n",
    "df_AT_banque_xl = df_AT_banque_xl.merge(df_previous_values,on=\"index\",how=\"outer\").merge(df_previous,on=\"previous_values\",how=\"outer\")\n",
    "df_AT_banque_xl = df_AT_banque_xl[~df_AT_banque_xl[\"Date\"].isnull()]"
   ]
  },
  {
   "cell_type": "code",
   "execution_count": null,
   "id": "51be2e34",
   "metadata": {},
   "outputs": [],
   "source": [
    "df_AT_banque_xl[\"Valid\"] = df_AT_banque_xl.apply(lambda f : balance_valid(f[\"Balance\"],f[\"Balance_previous\"]), axis=1)"
   ]
  },
  {
   "cell_type": "code",
   "execution_count": null,
   "id": "e4eb6f11",
   "metadata": {},
   "outputs": [],
   "source": [
    "df_AT_banque_xl[df_AT_banque_xl[\"Valid\"]==False]"
   ]
  },
  {
   "cell_type": "markdown",
   "id": "425f770b",
   "metadata": {},
   "source": [
    "#### Extraction de la banque : concat_AT"
   ]
  },
  {
   "cell_type": "code",
   "execution_count": null,
   "id": "e2305e46",
   "metadata": {},
   "outputs": [],
   "source": [
    "df_AT_banque = pd.concat([df_AT_banque_cc,df_AT_banque_xl])"
   ]
  },
  {
   "cell_type": "code",
   "execution_count": null,
   "id": "ab9b017c",
   "metadata": {},
   "outputs": [],
   "source": [
    "df_AT_banque[\"Date\"] = pd.to_datetime(df_AT_banque[\"Date\"],format=\"%d/%m/%Y\")\n",
    "df_AT_banque[\"Valeur\"] = pd.to_datetime(df_AT_banque[\"Valeur\"],format=\"%d/%m/%Y\")\n",
    "df_AT_banque = df_AT_banque.drop(columns=[\"index_file\"]).reset_index(drop=True)"
   ]
  },
  {
   "cell_type": "code",
   "execution_count": null,
   "id": "ad53e119",
   "metadata": {},
   "outputs": [],
   "source": [
    "### Calculer le mouvement pour identifier si c'est un débit ou un crédit\n",
    "df_AT_banque[\"Balance\"] = df_AT_banque[\"Balance\"].str.replace(\".\",\"\").str.replace(\",\",\".\").astype(float)\n",
    "df_AT_banque = df_AT_banque.sort_values(by=[\"Compte\",\"index\"]) #### reclasser bien les lignes avant de calculer le Mouvement\n",
    "df_AT_banque[\"Balance_N_1\"] = df_AT_banque[\"Balance\"].shift(1).fillna(0)\n",
    "df_AT_banque[\"Mouvement\"] = df_AT_banque[\"Balance\"] - df_AT_banque[\"Balance_N_1\"]\n",
    "\n",
    "df_AT_banque[\"Débit\"] = df_AT_banque[\"Mouvement\"].apply(lambda x : x if x<0 else np.nan)\n",
    "df_AT_banque[\"Crédit\"] = df_AT_banque[\"Mouvement\"].apply(lambda x : x if x>0 else np.nan)"
   ]
  },
  {
   "cell_type": "code",
   "execution_count": null,
   "id": "7a1720c8",
   "metadata": {},
   "outputs": [],
   "source": [
    "df_AT_banque[\"Banque\"] = df_AT_banque[\"Compte\"].apply(lambda x : x.split(\"-\")[1]).str.strip()\n",
    "df_AT_banque[\"Fonds\"] = df_AT_banque[\"Compte\"].apply(lambda x : x.split(\"-\")[0]).str.strip().str.replace(\"CO\",\"CC\")\n",
    "df_AT_banque[\"Pays\"] = df_AT_banque[\"Compte\"].apply(lambda x : x.split(\"-\")[2]).str.strip()"
   ]
  },
  {
   "cell_type": "code",
   "execution_count": null,
   "id": "eddfb66c",
   "metadata": {},
   "outputs": [],
   "source": [
    "df_AT_banque = df_AT_banque.drop(columns=[\"filename\",\"Balance\",\"Balance_N_1\",\"Mouvement\",'previous_values', 'Balance_previous', 'Valid','index'])"
   ]
  },
  {
   "cell_type": "markdown",
   "id": "864005da",
   "metadata": {},
   "source": [
    "#### Extraction de la banque : CC_NL + XL_NL"
   ]
  },
  {
   "cell_type": "code",
   "execution_count": null,
   "id": "d512d475",
   "metadata": {},
   "outputs": [],
   "source": [
    "df_NL_banque_cc = df_NL_banque_cc.reset_index().rename(columns={\"index\":\"index_file\"})\n",
    "df_NL_banque_xl = df_NL_banque_xl.reset_index().rename(columns={\"index\":\"index_file\"})"
   ]
  },
  {
   "cell_type": "code",
   "execution_count": null,
   "id": "b80a5018",
   "metadata": {},
   "outputs": [],
   "source": [
    "df_NL_banque = pd.concat([df_NL_banque_cc,df_NL_banque_xl])"
   ]
  },
  {
   "cell_type": "code",
   "execution_count": null,
   "id": "5f8289f6",
   "metadata": {
    "scrolled": true
   },
   "outputs": [],
   "source": [
    "df_NL_banque = df_NL_banque[~df_NL_banque[1].isnull()]\n",
    "df_NL_banque = df_NL_banque[df_NL_banque[3]!=\"Type\"]"
   ]
  },
  {
   "cell_type": "code",
   "execution_count": null,
   "id": "43c630b9",
   "metadata": {},
   "outputs": [],
   "source": [
    "df_NL_banque = df_NL_banque.rename(columns={0 : \"Valeur\",\n",
    "                                                 1 : \"Libellé\",\n",
    "                                                 3 : \"Type_Transaction\",\n",
    "                                                 4 : \"Mouvement\"})"
   ]
  },
  {
   "cell_type": "code",
   "execution_count": null,
   "id": "eaebcdd0",
   "metadata": {},
   "outputs": [],
   "source": [
    "df_NL_banque[\"Mouvement\"] = df_NL_banque[\"Mouvement\"].ffill(axis=0)"
   ]
  },
  {
   "cell_type": "code",
   "execution_count": null,
   "id": "9990729c",
   "metadata": {},
   "outputs": [],
   "source": [
    "df_NL_banque = df_NL_banque.groupby(by=[\"Valeur\",\"filename\",\"Compte\",\"Mouvement\"]).agg({\n",
    "                                                                             \"index_file\":\"first\",\n",
    "                                                                             \"Libellé\":\" \".join,\n",
    "                                                                             \"Type_Transaction\":\"first\"}).reset_index()"
   ]
  },
  {
   "cell_type": "code",
   "execution_count": null,
   "id": "fe57189a",
   "metadata": {},
   "outputs": [],
   "source": [
    "df_NL_banque[\"Mouvement\"] = df_NL_banque[\"Mouvement\"].astype(str)"
   ]
  },
  {
   "cell_type": "code",
   "execution_count": null,
   "id": "c5ccca04",
   "metadata": {},
   "outputs": [],
   "source": [
    "df_NL_banque[\"Crédit\"] = df_NL_banque[\"Mouvement\"].apply(lambda x : x if \"+\" in x else np.nan).str.replace(\"\\+|\\.\",\"\",regex=True).str.replace(\",\",\".\")\n",
    "df_NL_banque[\"Débit\"] = df_NL_banque[\"Mouvement\"].apply(lambda x : x if \"-\" in x else np.nan).str.replace(\"\\-|\\.\",\"\",regex=True).str.replace(\",\",\".\")"
   ]
  },
  {
   "cell_type": "code",
   "execution_count": null,
   "id": "dfad0033",
   "metadata": {},
   "outputs": [],
   "source": [
    "df_NL_banque = df_NL_banque.sort_values(by=\"index_file\")"
   ]
  },
  {
   "cell_type": "code",
   "execution_count": null,
   "id": "1a64b0a2",
   "metadata": {},
   "outputs": [],
   "source": [
    "df_NL_banque[\"IBAN\"] = df_NL_banque[\"filename\"].apply(lambda x : x.split(\"_\")[0])"
   ]
  },
  {
   "cell_type": "code",
   "execution_count": null,
   "id": "1f83b110",
   "metadata": {},
   "outputs": [],
   "source": [
    "df_NL_banque[\"Type_Transaction\"].unique()"
   ]
  },
  {
   "cell_type": "code",
   "execution_count": null,
   "id": "fda35bd2",
   "metadata": {},
   "outputs": [],
   "source": [
    "df_NL_banque[\"Type_Transaction\"] = df_NL_banque[\"Type_Transaction\"].map({\"Overschrijving\":\"Virement\",\n",
    "                                                                          \"Online bankieren\" : \"Online banking\",\n",
    "                                                                          \"Diversen\": \"Divers\",\n",
    "                                                                          \"Verzamelbetaling\":\"Frais et autres dépenses\"})"
   ]
  },
  {
   "cell_type": "code",
   "execution_count": null,
   "id": "2721c22a",
   "metadata": {},
   "outputs": [],
   "source": [
    "df_NL_banque[\"Banque\"] = df_NL_banque[\"Compte\"].apply(lambda x : x.split(\"-\")[1]).str.strip()\n",
    "df_NL_banque[\"Fonds\"] = df_NL_banque[\"Compte\"].apply(lambda x : x.split(\"-\")[0]).str.strip().str.replace(\"CO\",\"CC\")\n",
    "df_NL_banque[\"Pays\"] = df_NL_banque[\"Compte\"].apply(lambda x : x.split(\"-\")[2]).str.strip()"
   ]
  },
  {
   "cell_type": "code",
   "execution_count": null,
   "id": "86688813",
   "metadata": {},
   "outputs": [],
   "source": [
    "df_NL_banque[\"Id sys\"] = df_NL_banque[\"filename\"].apply(lambda x : \"_\".join(x.split(\"_\")[1:]).replace(\".xlsx\",\"\")) + \"_\" + df_NL_banque[\"index_file\"].astype(str)"
   ]
  },
  {
   "cell_type": "code",
   "execution_count": null,
   "id": "0fa8c083",
   "metadata": {},
   "outputs": [],
   "source": [
    "df_NL_banque = df_NL_banque.sort_values(by=[\"filename\",\"index_file\"])"
   ]
  },
  {
   "cell_type": "code",
   "execution_count": null,
   "id": "d66f6f10",
   "metadata": {},
   "outputs": [],
   "source": [
    "df_NL_banque = df_NL_banque.drop(columns=['filename','index_file','Mouvement'])\n",
    "df_NL_banque = df_NL_banque.reset_index(drop=True)"
   ]
  },
  {
   "cell_type": "code",
   "execution_count": null,
   "id": "0f41765d",
   "metadata": {},
   "outputs": [],
   "source": [
    "df_NL_banque[\"Date\"] = df_NL_banque[\"Valeur\"]"
   ]
  },
  {
   "cell_type": "code",
   "execution_count": null,
   "id": "411811f5",
   "metadata": {},
   "outputs": [],
   "source": [
    "df_NL_banque[\"Crédit\"] = df_NL_banque[\"Crédit\"].astype(float)\n",
    "df_NL_banque[\"Débit\"] = df_NL_banque[\"Débit\"].astype(float)"
   ]
  },
  {
   "cell_type": "markdown",
   "id": "ee3653b8",
   "metadata": {},
   "source": [
    "#### Extraction de la banque : CC_PT"
   ]
  },
  {
   "cell_type": "code",
   "execution_count": null,
   "id": "0238bb61",
   "metadata": {
    "scrolled": false
   },
   "outputs": [],
   "source": [
    "df_PT_banque_cc0 = df_PT_banque_cc"
   ]
  },
  {
   "cell_type": "code",
   "execution_count": null,
   "id": "b402940c",
   "metadata": {},
   "outputs": [],
   "source": [
    "df_PT_banque_cc = df_PT_banque_cc0"
   ]
  },
  {
   "cell_type": "code",
   "execution_count": null,
   "id": "f5e863aa",
   "metadata": {},
   "outputs": [],
   "source": [
    "### Récupérer l'IBAN\n",
    "PT_banque_cc_iban = df_PT_banque_cc[df_PT_banque_cc[0].str.contains(\"IBAN\",na=False)][0].to_list()[0]\n",
    "PT_banque_cc_iban = re.findall(r'(?<=IBAN)\\:\\s{2,}([a-zA-Z\\d]*)',PT_banque_cc_iban)[0]"
   ]
  },
  {
   "cell_type": "code",
   "execution_count": null,
   "id": "4d8ecbbd",
   "metadata": {},
   "outputs": [],
   "source": [
    "df_PT_banque_cc = df_PT_banque_cc[~df_PT_banque_cc[8].isnull()]\n",
    "df_PT_banque_cc = df_PT_banque_cc[~df_PT_banque_cc[8].str.contains(\"Saldo\")]\n",
    "df_PT_banque_cc = df_PT_banque_cc[~df_PT_banque_cc[12].str.contains(\"Saldo\")]"
   ]
  },
  {
   "cell_type": "code",
   "execution_count": null,
   "id": "91c73677",
   "metadata": {},
   "outputs": [],
   "source": [
    "df_PT_banque_cc = df_PT_banque_cc.rename(columns={1:\"Date\",\n",
    "                                                  2: \"Valeur\",\n",
    "                                                  3: \"Libellé\",\n",
    "                                                  8: \"Mouvement\"})\n",
    "df_PT_banque_cc = df_PT_banque_cc[['Date',    'Valeur',   'Libellé','Mouvement','filename',    'Compte']]\n",
    "df_PT_banque_cc[\"IBAN\"] = PT_banque_cc_iban"
   ]
  },
  {
   "cell_type": "markdown",
   "id": "57f15875",
   "metadata": {},
   "source": [
    "#### Extraction de la banque : XL_PT"
   ]
  },
  {
   "cell_type": "code",
   "execution_count": null,
   "id": "10b78681",
   "metadata": {},
   "outputs": [],
   "source": [
    "df_PT_banque_xl0 = df_PT_banque_xl"
   ]
  },
  {
   "cell_type": "code",
   "execution_count": null,
   "id": "1f293a3f",
   "metadata": {},
   "outputs": [],
   "source": [
    "### Récupérer l'IBAN\n",
    "PT_banque_xl_iban = df_PT_banque_xl[df_PT_banque_xl[0].str.contains(\"IBAN\",na=False)][0].to_list()[0]\n",
    "PT_banque_xl_iban = re.findall(r'(?<=IBAN)\\:\\s{2,}([a-zA-Z\\d]*)',PT_banque_xl_iban)[0]"
   ]
  },
  {
   "cell_type": "code",
   "execution_count": null,
   "id": "9abfab6e",
   "metadata": {
    "scrolled": false
   },
   "outputs": [],
   "source": [
    "df_PT_banque_xl = df_PT_banque_xl[~df_PT_banque_xl[11].isnull()]\n",
    "df_PT_banque_xl = df_PT_banque_xl[df_PT_banque_xl[11]!=\"Valor\"]"
   ]
  },
  {
   "cell_type": "code",
   "execution_count": null,
   "id": "8888bd83",
   "metadata": {},
   "outputs": [],
   "source": [
    "df_PT_banque_xl = df_PT_banque_xl.rename(columns={1:\"Date\",\n",
    "                                                  2: \"Valeur\",\n",
    "                                                  3: \"Libellé\",\n",
    "                                                  11: \"Mouvement\"})\n",
    "df_PT_banque_xl = df_PT_banque_xl[['Date',    'Valeur',   'Libellé','Mouvement','filename',    'Compte']]\n",
    "df_PT_banque_xl[\"IBAN\"] = PT_banque_xl_iban\n"
   ]
  },
  {
   "cell_type": "markdown",
   "id": "360f5bfd",
   "metadata": {},
   "source": [
    "#### Concat PT"
   ]
  },
  {
   "cell_type": "code",
   "execution_count": null,
   "id": "4d3aa2aa",
   "metadata": {},
   "outputs": [],
   "source": [
    "df_PT_banque = pd.concat([df_PT_banque_xl,df_PT_banque_cc]).reset_index()"
   ]
  },
  {
   "cell_type": "code",
   "execution_count": null,
   "id": "61135670",
   "metadata": {},
   "outputs": [],
   "source": [
    "df_PT_banque[\"Mouvement\"] = df_PT_banque[\"Mouvement\"].str.replace(\".\",\"\",regex=False)\n",
    "df_PT_banque[\"Mouvement\"] = df_PT_banque[\"Mouvement\"].str.replace(\",\",\".\",regex=False)\n",
    "df_PT_banque[\"Mouvement\"] = df_PT_banque[\"Mouvement\"].astype(float)\n",
    "\n",
    "df_PT_banque[\"Crédit\"] = df_PT_banque[\"Mouvement\"].apply(lambda x : x if x>0 else np.nan)\n",
    "df_PT_banque[\"Débit\"] = abs(df_PT_banque[\"Mouvement\"].apply(lambda x : x if x<0 else np.nan))"
   ]
  },
  {
   "cell_type": "code",
   "execution_count": null,
   "id": "2c57596d",
   "metadata": {},
   "outputs": [],
   "source": [
    "df_PT_banque[\"Banque\"] = df_PT_banque[\"Compte\"].apply(lambda x : x.split(\"-\")[1]).str.strip()\n",
    "df_PT_banque[\"Fonds\"] = df_PT_banque[\"Compte\"].apply(lambda x : x.split(\"-\")[0]).str.strip().str.replace(\"CO\",\"CC\")\n",
    "df_PT_banque[\"Pays\"] = df_PT_banque[\"Compte\"].apply(lambda x : x.split(\"-\")[2]).str.strip()"
   ]
  },
  {
   "cell_type": "code",
   "execution_count": null,
   "id": "8db7df80",
   "metadata": {},
   "outputs": [],
   "source": [
    "df_PT_banque[\"Date\"] = df_PT_banque[\"Date\"] +\"-2021\"\n",
    "df_PT_banque[\"Valeur\"] = df_PT_banque[\"Valeur\"] +\"-2021\"\n",
    "df_PT_banque[\"Id sys\"] = df_PT_banque[\"filename\"].str.replace(\".xlsx\",\"\",regex=False) + \"_\" + df_PT_banque[\"index\"].astype(str)"
   ]
  },
  {
   "cell_type": "code",
   "execution_count": null,
   "id": "25cb5fbf",
   "metadata": {},
   "outputs": [],
   "source": [
    "df_PT_banque = df_PT_banque.drop(columns=[\"index\",\"Mouvement\"])"
   ]
  },
  {
   "cell_type": "code",
   "execution_count": null,
   "id": "8b15b5ff",
   "metadata": {},
   "outputs": [],
   "source": [
    "df_PT_banque[\"Date\"] = pd.to_datetime(df_PT_banque[\"Date\"],format= \"%d-%m-%Y\")\n",
    "df_PT_banque[\"Valeur\"] = pd.to_datetime(df_PT_banque[\"Valeur\"],format= \"%d-%m-%Y\")"
   ]
  },
  {
   "cell_type": "markdown",
   "id": "78adf23d",
   "metadata": {},
   "source": [
    "### Concat comptes étrangers"
   ]
  },
  {
   "cell_type": "code",
   "execution_count": null,
   "id": "27723df5",
   "metadata": {},
   "outputs": [],
   "source": [
    "df_banque = pd.concat([df_AT_banque,df_NL_banque,df_PT_banque])\n",
    "df_banque[\"Débit\"] = abs(df_banque[\"Débit\"])"
   ]
  },
  {
   "cell_type": "code",
   "execution_count": null,
   "id": "9ebe719f",
   "metadata": {},
   "outputs": [],
   "source": [
    "#### Modifier l'année pour les opérations dont Date = 31/12/N => ajouter 1 an pour la Valeur\n",
    "mask = (df_banque['Date'].dt.month == 12) & (df_banque['Valeur'].dt.month == 1)\n",
    "df_banque.loc[mask,\"Valeur\"] = df_banque.loc[mask,\"Valeur\"] + pd.offsets.DateOffset(years=1)"
   ]
  },
  {
   "cell_type": "code",
   "execution_count": null,
   "id": "216e8b79",
   "metadata": {},
   "outputs": [],
   "source": [
    "### Enlever les lignes déjà présentes dans l'extract de l'AMB\n",
    "df_date_min = df_AMB.groupby(by=[\"Pays\",\"Fonds\"])[\"Date\"].min().reset_index().rename(columns={\"Date\":\"Date_min\"})\n",
    "df_banque = df_banque.merge(df_date_min,on=[\"Pays\",\"Fonds\"])\n",
    "df_banque = df_banque[df_banque[\"Date\"]< df_banque[\"Date_min\"]]"
   ]
  },
  {
   "cell_type": "code",
   "execution_count": null,
   "id": "84b80518",
   "metadata": {},
   "outputs": [],
   "source": [
    "df_foreign = pd.concat([df_AMB,df_banque]).reset_index(drop=True)"
   ]
  },
  {
   "cell_type": "code",
   "execution_count": null,
   "id": "2940d29a",
   "metadata": {},
   "outputs": [],
   "source": [
    "df_foreign[\"Mois_Year\"] = df_foreign[\"Valeur\"].dt.to_period('M')\n",
    "df_foreign[\"Compte\"] = df_foreign[\"Compte\"].str.strip().apply(lambda x : x[:-2] if x[-1]==\"-\" else x)\n",
    "df_foreign[\"IBAN\"] = df_foreign[\"IBAN\"].str.replace(\" \",\"\") "
   ]
  },
  {
   "cell_type": "code",
   "execution_count": null,
   "id": "e3ac4684",
   "metadata": {},
   "outputs": [],
   "source": [
    "df_foreign.groupby(by=[\"Compte\",\"Mois_Year\"]).agg({\"Id sys\":\"count\",\"Crédit\":\"sum\",\"Débit\":\"sum\"}).reset_index().to_excel(folder_path + \"/transformed_data/2. Banque/Comptes étrangers_statisiques.xlsx\",sheet_name=\"foreign\")"
   ]
  },
  {
   "cell_type": "code",
   "execution_count": null,
   "id": "ed2ed535",
   "metadata": {},
   "outputs": [],
   "source": [
    "df_foreign.groupby(by=[\"Compte\"]).agg({\n",
    "    \"Date\":\"min\",\n",
    "    \"Valeur\":\"max\",\n",
    "    \"Mois_Year\":\"nunique\",\n",
    "    \"Id sys\":\"count\",\n",
    "    \"Crédit\":\"sum\",\n",
    "    \"Débit\":\"sum\"}).reset_index().to_excel(folder_path + \"/transformed_data/2. Banque/Comptes étrangers_statistiques_globales.xlsx\",sheet_name=\"foreign\")"
   ]
  },
  {
   "cell_type": "code",
   "execution_count": null,
   "id": "b691b568",
   "metadata": {},
   "outputs": [],
   "source": [
    "df_foreign[\"Libellé\"] = df_foreign[\"Libellé\"].str.upper().str.replace(\"/RE MI\",\"REMI\",regex=False).str.replace(r'\\s+', ' ', regex=True)\n",
    "df_foreign[\"Type_Transaction\"] = df_foreign[\"Type_Transaction\"].str.upper()"
   ]
  },
  {
   "cell_type": "code",
   "execution_count": null,
   "id": "ea39253e",
   "metadata": {},
   "outputs": [],
   "source": [
    "def get_type_transact_foreign(x):\n",
    "    if \"INCOMING PAYMENT\" in x or \"VIR R SEPA\" in x:\n",
    "        return \"VIREMENT\"\n",
    "    return np.nan"
   ]
  },
  {
   "cell_type": "code",
   "execution_count": null,
   "id": "5aa6245b",
   "metadata": {},
   "outputs": [],
   "source": [
    "def clean_foreign_name(text,pattern_clean_motif):\n",
    "    resultat = re.sub(pattern_clean_motif,\"\",text)\n",
    "    resultat = resultat.strip()\n",
    "    resultat = ' '.join(w for w in resultat.split(\" \") if len(w) > 1)\n",
    "    return resultat"
   ]
  },
  {
   "cell_type": "code",
   "execution_count": null,
   "id": "093e0ae5",
   "metadata": {},
   "outputs": [],
   "source": [
    "mask = df_foreign[\"Type_Transaction\"].isnull()\n",
    "df_foreign.loc[mask,\"Type_Transaction\"] = df_foreign.loc[mask,\"Libellé\"].apply(get_type_transact_foreign)"
   ]
  },
  {
   "cell_type": "code",
   "execution_count": null,
   "id": "a3fb4ee3",
   "metadata": {},
   "outputs": [],
   "source": [
    "df_foreign_credit = df_foreign[df_foreign[\"Débit\"].isnull()]\n",
    "df_foreign_debit = df_foreign[df_foreign[\"Crédit\"].isnull()]"
   ]
  },
  {
   "cell_type": "code",
   "execution_count": null,
   "id": "affee793",
   "metadata": {},
   "outputs": [],
   "source": [
    "df_foreign_AT = df_foreign_credit[df_foreign_credit[\"Pays\"]==\"AT\"]\n",
    "df_foreign_NL = df_foreign_credit[df_foreign_credit[\"Pays\"]==\"NL\"]\n",
    "df_foreign_PT = df_foreign_credit[df_foreign_credit[\"Pays\"]==\"PT\"]"
   ]
  },
  {
   "cell_type": "markdown",
   "id": "c9cf9407",
   "metadata": {},
   "source": [
    "#### Get Titulaire compte PT"
   ]
  },
  {
   "cell_type": "code",
   "execution_count": null,
   "id": "b592c7a1",
   "metadata": {},
   "outputs": [],
   "source": [
    "df_virement_PT = df_foreign_PT[df_foreign_PT[\"Type_Transaction\"]==\"VIREMENT\"]"
   ]
  },
  {
   "cell_type": "code",
   "execution_count": null,
   "id": "17417ff7",
   "metadata": {},
   "outputs": [],
   "source": [
    "### Nettoyer le titulaire\n",
    "pt_pattern = r'(?<=9001)\\-([a-zA-Z\\s\\-\\.\\+\\d]*)'\n",
    "df_virement_PT[\"Titulaire_clean\"] = df_virement_PT[\"Libellé\"].str.extract(pt_pattern)\n",
    "df_virement_PT[\"Titulaire_clean\"] = df_virement_PT[\"Titulaire_clean\"].apply(get_words_only)\n",
    "df_virement_PT[\"Titulaire_clean\"] = df_virement_PT[\"Titulaire_clean\"].apply(remove_duplicated)\n",
    "\n",
    "df_virement_PT[\"Titulaire_clean\"] = df_virement_PT.apply(lambda f: clean_foreign_name(f[\"Titulaire_clean\"],\n",
    "                                                                                     motsparasites_pt),axis=1)\n",
    "df_virement_PT[\"Titulaire_clean\"] = df_virement_PT[\"Titulaire_clean\"].apply(lambda text : \" \".join([word for word in text.split() if any(letter in 'AEIOU' for letter in word) ]))"
   ]
  },
  {
   "cell_type": "code",
   "execution_count": null,
   "id": "9818daaf",
   "metadata": {},
   "outputs": [],
   "source": [
    "### Pour les titulaires nuls, remplacer par le motif\n",
    "mask = df_virement_PT[\"Titulaire_clean\"]==\"\"\n",
    "df_virement_PT.loc[mask,\"Motif1\"] = df_virement_PT.loc[mask,\"Libellé\"].apply(lambda x : x.split(\"/\")[-1])\n",
    "df_virement_PT.loc[mask,\"Motif1\"] = df_virement_PT.loc[mask,\"Motif1\"].apply(get_words_only)\n",
    "df_virement_PT.loc[mask,\"Motif1\"] = df_virement_PT.loc[mask,\"Motif1\"].apply(remove_duplicated)\n",
    "df_virement_PT.loc[mask,\"Motif1\"] = df_virement_PT.loc[mask,:].apply(lambda f: clean_foreign_name(f[\"Motif1\"],\n",
    "                                                                                     motsparasites_pt),axis=1)\n",
    "df_virement_PT.loc[mask,\"Motif1\"] = df_virement_PT.loc[mask,\"Motif1\"].apply(lambda text : \" \".join([word for word in text.split() if any(letter in 'AEIOU' for letter in word) ]))\n",
    "df_virement_PT.loc[mask,\"Motif1\"] = df_virement_PT.loc[mask,\"Motif1\"].apply(remove_de)\n",
    "\n",
    "df_virement_PT.loc[mask,\"Titulaire_clean\"] = df_virement_PT.loc[mask,\"Motif1\"]"
   ]
  },
  {
   "cell_type": "markdown",
   "id": "7b719e80",
   "metadata": {},
   "source": [
    "#### Get Titulaire compte NL"
   ]
  },
  {
   "cell_type": "code",
   "execution_count": null,
   "id": "17f2f148",
   "metadata": {},
   "outputs": [],
   "source": [
    "df_foreign_NL[\"Type_Transaction\"].unique()"
   ]
  },
  {
   "cell_type": "code",
   "execution_count": null,
   "id": "85601b27",
   "metadata": {},
   "outputs": [],
   "source": [
    "df_virement_NL = df_foreign_NL[df_foreign_NL[\"Type_Transaction\"] != 'FRAIS ET AUTRES DÉPENSES']"
   ]
  },
  {
   "cell_type": "code",
   "execution_count": null,
   "id": "57087525",
   "metadata": {},
   "outputs": [],
   "source": [
    "### Type_Transaction = Online Banking, titulaire = libellé\n",
    "mask = df_virement_NL[\"Type_Transaction\"] == \"ONLINE BANKING\"\n",
    "df_virement_NL.loc[mask,\"Titulaire_clean\"] = df_virement_NL.loc[mask,\"Libellé\"]\n",
    "df_virement_NL.loc[mask,\"Titulaire_clean\"] = df_virement_NL.loc[mask,\"Titulaire_clean\"].str.replace(\"EN/OF\",\"\",regex=False)"
   ]
  },
  {
   "cell_type": "code",
   "execution_count": null,
   "id": "7cae93e6",
   "metadata": {},
   "outputs": [],
   "source": [
    "### Type_Transaction = Virement\n",
    "mask = df_virement_NL[\"Type_Transaction\"] == \"VIREMENT\"\n",
    "\n",
    "### Cleaner le libellé avant extract\n",
    "df_virement_NL.loc[mask,\"Libellé_clean\"] = df_virement_NL.loc[mask,\"Libellé\"].str.replace('/UST D/','/USTD/',regex=False)\n",
    "df_virement_NL.loc[mask,\"Libellé_clean\"] = df_virement_NL.loc[mask,\"Libellé_clean\"].str.replace('/ ','/',regex=False)\n",
    "df_virement_NL.loc[mask,\"Libellé_clean\"] = df_virement_NL.loc[mask,\"Libellé_clean\"].str.replace('.','',regex=False)\n",
    "df_virement_NL.loc[mask,\"Libellé_clean\"] = df_virement_NL.loc[mask,\"Libellé_clean\"].str.replace('R EMI/','REMI/',regex=False)\n",
    "df_virement_NL.loc[mask,\"Libellé_clean\"] = df_virement_NL.loc[mask,\"Libellé_clean\"].str.replace('REM I/','REMI/',regex=False)\n",
    "df_virement_NL.loc[mask,\"Libellé_clean\"] = df_virement_NL.loc[mask,\"Libellé_clean\"].str.replace(r'\\/{3}',' ',regex=True)\n",
    "\n",
    "\n",
    "#### Extract avec les premières règles\n",
    "pattern_name1 = r'(?<=NAME)\\/([a-zA-Z\\s\\-\\.\\+\\,\\d]*)|([a-zA-Z\\s\\-\\.\\+\\,\\d]*)(?=\\sREMI)'\n",
    "df_result1 = df_virement_NL.loc[mask,\"Libellé_clean\"].str.extract(pattern_name1)\n",
    "df_virement_NL.loc[mask,\"Titulaire_clean\"] = df_result1[0].combine_first(df_result1[1])\n",
    "\n",
    "### Pour les lignes dont le premier pattern ne matche pas, ressayer d'autres règles\n",
    "mask2 = (df_virement_NL[\"Type_Transaction\"] == \"VIREMENT\") & (df_virement_NL[\"Titulaire_clean\"].isnull())\n",
    "\n",
    "pattern_name2 = r'([a-zA-Z\\s\\-\\.\\+\\,\\d]*)(?=\\/{2}REMI)|([a-zA-Z\\s\\-\\.\\+\\,\\d]*)(?=\\/{2}REOWN)|(?<=\\/)\\/([a-zA-Z\\s\\-\\.\\+\\,\\d]*)(?=\\/REMI)'\n",
    "df_result2 = df_virement_NL.loc[mask2,\"Libellé_clean\"].str.extract(pattern_name2)\n",
    "df_virement_NL.loc[mask2,\"Titulaire_clean\"] = df_result2[0].combine_first(df_result2[1]).combine_first(df_result2[2])\n",
    "\n",
    "### Pour les lignes avant 2021-07-23, le libellé = Titulaire\n",
    "mask3 = (df_virement_NL[\"Type_Transaction\"] == \"VIREMENT\") & (df_virement_NL[\"Titulaire_clean\"].isnull()) & (df_virement_NL[\"Valeur\"]<= \"2021-07-23\")\n",
    "df_virement_NL.loc[mask3,\"Titulaire_clean\"] = df_virement_NL.loc[mask3,\"Libellé_clean\"]"
   ]
  },
  {
   "cell_type": "code",
   "execution_count": null,
   "id": "dc1a918b",
   "metadata": {},
   "outputs": [],
   "source": [
    "### Nettoyer le Titulaire\n",
    "df_virement_NL[\"Titulaire_clean\"] = df_virement_NL[\"Titulaire_clean\"].apply(get_words_only)\n",
    "df_virement_NL[\"Titulaire_clean\"] = df_virement_NL[\"Titulaire_clean\"].str.replace(r'\\bHR\\b|\\bMW\\b',\"\",regex=True)\n",
    "df_virement_NL[\"Titulaire_clean\"] = df_virement_NL[\"Titulaire_clean\"].str.strip().str.replace(r'\\s+', ' ', regex=True)"
   ]
  },
  {
   "cell_type": "code",
   "execution_count": null,
   "id": "3b4097be",
   "metadata": {},
   "outputs": [],
   "source": [
    "### Extract le motif :\n",
    "## Motif 1\n",
    "pattern_motif1_remi = r'(?<=REMI)\\/([a-zA-Z\\s\\-\\.\\,\\d]*)'\n",
    "df_virement_NL.loc[:,\"Motif1\"] = df_virement_NL.loc[:,\"Libellé_clean\"].str.extract(pattern_motif1_remi)\n",
    "\n",
    "## USTD\n",
    "pattern_motif1_ustd = r'(?<=USTD)\\/{2}([a-zA-Z\\s\\-\\.\\,\\d]*)|(?<=USTD)\\/([a-zA-Z\\s\\-\\.\\,\\d]*)'\n",
    "df1 = df_virement_NL[(df_virement_NL[\"Motif1\"].isnull()) | (df_virement_NL[\"Motif1\"]==\"USTD\")]\n",
    "df2 = df_virement_NL[~df_virement_NL[\"Id sys\"].isin(df1[\"Id sys\"])]\n",
    "\n",
    "df_result = df1[\"Libellé_clean\"].str.extract(pattern_motif1_ustd)\n",
    "df1[\"Motif1\"] = df_result[0].combine_first(df_result[1])\n",
    "df_virement_NL= pd.concat([df1,df2]).sort_index()\n",
    "\n",
    "## Motif2\n",
    "pattern_motif2 = r'(?<=EREF)\\/([a-zA-Z\\s\\-\\.\\,\\d]*)'\n",
    "df_virement_NL[\"Motif2\"] = df_virement_NL[\"Libellé_clean\"].str.extract(pattern_motif2)\n",
    "\n",
    "df_virement_NL = df_virement_NL.drop(columns=\"Libellé_clean\")"
   ]
  },
  {
   "cell_type": "code",
   "execution_count": null,
   "id": "bd8b5889",
   "metadata": {},
   "outputs": [],
   "source": [
    "### Clean données\n",
    "df_virement_NL[\"Motif2\"] = df_virement_NL[\"Motif2\"].astype(str).apply(lambda x : np.nan if x.replace(\" \",\"\")==\"NOTPROVIDED\" or x==\"nan\" else x)\n",
    "df_virement_NL[\"Motif2\"] = df_virement_NL[\"Motif2\"].apply(get_words_only)\n",
    "df_virement_NL[\"Motif2\"] = df_virement_NL[\"Motif2\"].str.replace(r'\\bHR\\b|\\bMW\\b',\"\",regex=True)\n",
    "df_virement_NL[\"Motif2\"] = df_virement_NL[\"Motif2\"].str.strip().str.replace(r'\\s+', ' ', regex=True)\n",
    "df_virement_NL[\"Motif2\"] = df_virement_NL[\"Motif2\"].apply(lambda x : np.nan if x==\"nan\" or x==\"None\" else x)"
   ]
  },
  {
   "cell_type": "code",
   "execution_count": null,
   "id": "97bb58bf",
   "metadata": {},
   "outputs": [],
   "source": [
    "def clean_motif1_foreign(text,list_motsparasites = list_motsparasites_nl):\n",
    "    if text:\n",
    "        text_clean = text.split()\n",
    "        for mot in list_motsparasites:\n",
    "            text = text_clean\n",
    "            if mot in \"\".join(text):\n",
    "                for index in range(0,len(text)-1):\n",
    "                    if text[index] + text[index+1] == mot:\n",
    "                        text_clean = [x for x in text if x not in [text[index],text[index+1]]]\n",
    "        return \" \".join(text_clean)"
   ]
  },
  {
   "cell_type": "code",
   "execution_count": null,
   "id": "6acc847a",
   "metadata": {},
   "outputs": [],
   "source": [
    "for col in [\"Motif1\",\"Motif2\"]:\n",
    "    df_virement_NL[col] = df_virement_NL[col].astype(str).apply(lambda x : np.nan if x.replace(\" \",\"\")==\"NOTPROVIDED\" or x==\"nan\" else x)\n",
    "    df_virement_NL[col] = df_virement_NL[col].apply(get_words_only)\n",
    "\n",
    "    df_virement_NL[col] = df_virement_NL[col].apply(clean_motif1_foreign)\n",
    "    df_virement_NL[col] = df_virement_NL.astype(str).apply(lambda f: clean_foreign_name(f[col],\n",
    "                                                                                         motsparasites_nl),axis=1)\n",
    "\n",
    "    df_virement_NL[col] = df_virement_NL[col].str.replace(r'\\bHR\\b|\\bMW\\b',\"\",regex=True)\n",
    "    df_virement_NL[col] = df_virement_NL[col].str.strip().str.replace(r'\\s+', ' ', regex=True)\n",
    "    df_virement_NL[col] = df_virement_NL[col].apply(lambda x : np.nan if x==\"nan\" or x==\"None\" else x)\n",
    "\n"
   ]
  },
  {
   "cell_type": "markdown",
   "id": "b1882e6f",
   "metadata": {},
   "source": [
    "#### Get Titulaire compte AT"
   ]
  },
  {
   "cell_type": "code",
   "execution_count": null,
   "id": "3311eb02",
   "metadata": {},
   "outputs": [],
   "source": [
    "df_foreign_AT[\"Type_Transaction\"].unique()"
   ]
  },
  {
   "cell_type": "code",
   "execution_count": null,
   "id": "aff106b4",
   "metadata": {},
   "outputs": [],
   "source": [
    "df_virement_AT = df_foreign_AT.copy() ### il n'y a que des virements sur les comptes de AT"
   ]
  },
  {
   "cell_type": "code",
   "execution_count": null,
   "id": "37c3d8b2",
   "metadata": {},
   "outputs": [],
   "source": [
    "df_virement_AT.loc[:,\"Titulaire_clean\"] = df_virement_AT.loc[:,\"Libellé\"].apply(lambda x : x.split(\"/\")[0])\n",
    "list_mots = [\"BEN\", \"CLT\", \"ACC\", \"SCT\", \"CT\", \"INT\", \"REF\", \"NOTPROVIDED\",\"INCOMING\", \"PAYMENT\", \"CT\"]\n",
    "list_mots = \"|\".join(list_mots)\n",
    "df_virement_AT.loc[:,\"Titulaire_clean\"] = df_virement_AT.loc[:,\"Titulaire_clean\"].apply(get_words_only)\n",
    "df_virement_AT.loc[:,\"Titulaire_clean\"] = df_virement_AT.apply(lambda f: clean_foreign_name(f[\"Titulaire_clean\"],\n",
    "                                                                                         list_mots),axis=1)\n",
    "df_virement_AT[\"Titulaire_clean\"] = df_virement_AT[\"Titulaire_clean\"].str.replace(r'\\bDR\\b',\"\",regex=True)\n",
    "df_virement_AT.loc[:,\"Titulaire_clean\"] = df_virement_AT.loc[:,\"Titulaire_clean\"].str.strip().str.replace(r'\\s+', ' ', regex=True)"
   ]
  },
  {
   "cell_type": "code",
   "execution_count": null,
   "id": "2c091d8e",
   "metadata": {},
   "outputs": [],
   "source": [
    "### Extract le motif :\n",
    "## Motif 1\n",
    "pattern_motif1_remi = r\"(?<=REMI)\\/([a-zA-Z\\s\\-\\.\\,\\'\\d]*)\"\n",
    "df_virement_AT.loc[:,\"Motif1\"] = df_virement_AT.loc[:,\"Libellé\"].str.extract(pattern_motif1_remi)\n",
    "\n",
    "## USTD\n",
    "pattern_motif1_scor = r'(?<=SCOR)\\/([a-zA-Z\\s\\-\\.\\,\\d]*)'\n",
    "df_virement_AT[\"Motif1\"] = df_virement_AT[\"Motif1\"].apply(lambda x : x if x!=\"SCOR\" else np.nan)\n",
    "df1 = df_virement_AT[df_virement_AT[\"Motif1\"].isnull()]\n",
    "df2 = df_virement_AT[~df_virement_AT[\"Id sys\"].isin(df1[\"Id sys\"])]\n",
    "\n",
    "df1[\"Motif1\"] = df1[\"Libellé\"].str.extract(pattern_motif1_scor)\n",
    "df_virement_AT= pd.concat([df1,df2]).sort_index()\n",
    "\n",
    "## Motif2\n",
    "pattern_motif2 = r'(?<=EREF)\\/([a-zA-Z\\s\\-\\.\\,\\d]*)'\n",
    "df_virement_AT[\"Motif2\"] = df_virement_AT[\"Libellé\"].str.extract(pattern_motif2)"
   ]
  },
  {
   "cell_type": "code",
   "execution_count": null,
   "id": "f0bb84a9",
   "metadata": {},
   "outputs": [],
   "source": [
    "#### Nettoyer les Motifs\n",
    "for col in [\"Motif1\",\"Motif2\"]:\n",
    "    df_virement_AT[col] = df_virement_AT[col].astype(str).apply(lambda x : np.nan if x.replace(\" \",\"\")==\"NOTPROVIDED\" or x==\"nan\" else x)\n",
    "    df_virement_AT[col] = df_virement_AT[col].apply(get_words_only)\n",
    "\n",
    "    df_virement_AT[col] = df_virement_AT.apply(lambda f: clean_motif1_foreign(f[col],\n",
    "                                                                                list_motsparasites_at),axis=1)\n",
    "    df_virement_AT[col] = df_virement_AT.astype(str).apply(lambda f: clean_foreign_name(f[col],\n",
    "                                                                                         motsparasites_at),axis=1)\n",
    "\n",
    "    df_virement_AT[col] = df_virement_AT[col].str.replace(r'\\bDR\\b',\"\",regex=True)\n",
    "    df_virement_AT[col] = df_virement_AT[col].str.strip().str.replace(r'\\s+', ' ', regex=True)\n",
    "    df_virement_AT[col] = df_virement_AT[col].apply(lambda x : np.nan if x==\"nan\" or x==\"None\" else x)\n"
   ]
  },
  {
   "cell_type": "code",
   "execution_count": null,
   "id": "dbd6c112",
   "metadata": {},
   "outputs": [],
   "source": [
    "df_foreign_credit.to_excel(folder_path + \"/transformed_data/2. Banque/Comptes étrangers_Lignes de crédit.xlsx\",sheet_name=\"foreign\",index=False)\n",
    "df_foreign_debit.to_excel(folder_path + \"/transformed_data/2. Banque/Comptes étrangers_Lignes de débit.xlsx\",sheet_name=\"foreign\",index=False)"
   ]
  },
  {
   "cell_type": "code",
   "execution_count": null,
   "id": "da86cec0",
   "metadata": {},
   "outputs": [],
   "source": [
    "df_virements_foreign = pd.concat([df_virement_AT,df_virement_PT,df_virement_NL]).reset_index()"
   ]
  },
  {
   "cell_type": "code",
   "execution_count": null,
   "id": "5045f817",
   "metadata": {},
   "outputs": [],
   "source": [
    "df_virements_foreign = df_virements_foreign.sort_values(by=[\"Fonds\",\"Pays\",\"Date\"])"
   ]
  },
  {
   "cell_type": "code",
   "execution_count": null,
   "id": "bf5be252",
   "metadata": {},
   "outputs": [],
   "source": [
    "df_virements_foreign = df_virements_foreign[['Date', 'Valeur', 'Libellé', 'Code opération',\n",
    "       'Type_Transaction', 'Ref.', 'Ref.2', 'Numéro de pièce', 'Débit',\n",
    "       'Crédit', 'IBAN', 'Compte', 'Banque', 'Fonds', 'Pays', 'Id sys',\n",
    "       'Titulaire_clean', 'Motif1', 'Motif2']]"
   ]
  },
  {
   "cell_type": "code",
   "execution_count": null,
   "id": "9004e001",
   "metadata": {},
   "outputs": [],
   "source": [
    "df_virements_foreign.to_excel(folder_path + \"/transformed_data/2. Banque/Comptes étrangers_Virements.xlsx\",sheet_name=\"virements\",index=False)"
   ]
  },
  {
   "cell_type": "markdown",
   "id": "934a8f8f",
   "metadata": {},
   "source": [
    "### Concat"
   ]
  },
  {
   "cell_type": "code",
   "execution_count": null,
   "id": "4b6409d6",
   "metadata": {},
   "outputs": [],
   "source": [
    "df_credit = pd.concat([df_credit1,df_credit2,df_credit_bred])\n",
    "df_debit = pd.concat([df_debit1,df_debit2,df_debit_bred])"
   ]
  },
  {
   "cell_type": "code",
   "execution_count": null,
   "id": "7473892a",
   "metadata": {},
   "outputs": [],
   "source": [
    "df_debit = df_debit[['Id sys', 'Date', 'Valeur', 'Libellé', 'Ref.', 'Débit', 'Crédit',\n",
    "       'Fonds', 'IBAN', 'Type_Transaction']]\n",
    "df_credit = df_credit[['Id sys', 'Date', 'Valeur', 'Libellé', 'Ref.', 'Débit', 'Crédit',\n",
    "       'Fonds', 'IBAN', 'Type_Transaction']]"
   ]
  },
  {
   "cell_type": "code",
   "execution_count": null,
   "id": "792ac613",
   "metadata": {},
   "outputs": [],
   "source": [
    "# df_virements2 = df_virements2.drop(columns=[\"Libellé_origin\"])\n",
    "# df_virements1 = df_virements1.drop(columns=[\"ID_remise\",\"Nb_transaction\"])"
   ]
  },
  {
   "cell_type": "code",
   "execution_count": null,
   "id": "94abbee6",
   "metadata": {},
   "outputs": [],
   "source": [
    "df_vir_doublons2 = df_vir_doublons2.drop(columns=[\"Libellé_origin\"])\n",
    "df_vir_doublons1 = df_vir_doublons1.drop(columns=[\"ID_remise\",\"Nb_transaction\"])"
   ]
  },
  {
   "cell_type": "code",
   "execution_count": null,
   "id": "b422fc4a",
   "metadata": {},
   "outputs": [],
   "source": [
    "df_virements = pd.concat([df_virements1,df_virements2])\n",
    "df_vir_doublons = pd.concat([df_vir_doublons1,df_vir_doublons2])"
   ]
  },
  {
   "cell_type": "code",
   "execution_count": null,
   "id": "1b0a34cd",
   "metadata": {},
   "outputs": [],
   "source": [
    "df_virements_total = pd.concat([df_virements,df_vir_doublons])"
   ]
  },
  {
   "cell_type": "code",
   "execution_count": null,
   "id": "1282d99f",
   "metadata": {},
   "outputs": [],
   "source": [
    "df_virements_total.to_excel(folder_path + \"/transformed_data/2. Banque/All_Virements de la colllecte.xlsx\",sheet_name=\"Sheet1\",index=False)"
   ]
  },
  {
   "cell_type": "code",
   "execution_count": null,
   "id": "22b2c9c3",
   "metadata": {},
   "outputs": [],
   "source": [
    "len(df_virements) + len(df_vir_doublons)"
   ]
  },
  {
   "cell_type": "code",
   "execution_count": null,
   "id": "c47adf19",
   "metadata": {},
   "outputs": [],
   "source": [
    "def reclasser_type_transaction(type_transaction):\n",
    "    if str(type_transaction)!=\"nan\":\n",
    "        type_transaction_clean = type_transaction.replace(\"VIRT\",\"VIR\").replace(\"RECU\",\"\")\n",
    "        type_transaction_clean = type_transaction_clean.strip()\n",
    "    else : type_transaction_clean = np.nan\n",
    "    if \"REMISE\" in type_transaction_clean : type_transaction_clean = \"REMISE CHEQUE\"\n",
    "    elif \"PRLV\" in type_transaction_clean : type_transaction_clean = \"PRELEVEMENT\"\n",
    "    elif type_transaction_clean in [\"VIR TRESORERIE\",\"VIR TRESO ETRANGER\"] : type_transaction_clean = \"VIR TRESORERIE\"\n",
    "    elif type_transaction_clean in [\"VIR INST\",\"VIR SEPA\",\"VIREMENT  TIERS\",\"VIR ETRANGER\",\"VIREMENT\"] : \n",
    "        type_transaction_clean = \"VIREMENT\"\n",
    "    return type_transaction_clean"
   ]
  },
  {
   "cell_type": "code",
   "execution_count": null,
   "id": "f403e882",
   "metadata": {},
   "outputs": [],
   "source": [
    "mask = ~df_credit[\"Type_Transaction\"].isnull()\n",
    "df_credit.loc[mask,\"Type_Transaction_clean\"] = df_credit.loc[mask,\"Type_Transaction\"].apply(reclasser_type_transaction)"
   ]
  },
  {
   "cell_type": "code",
   "execution_count": null,
   "id": "868455af",
   "metadata": {},
   "outputs": [],
   "source": [
    "df_credit = df_credit.reset_index().drop(columns=\"index\").reset_index()\n",
    "mask = df_credit[\"Id sys\"].str.len() > 8\n",
    "df_credit.loc[mask,\"Id sys_clean\"] = df_credit.loc[mask,\"index\"].astype(str).apply(lambda x: x.zfill(8)) \n",
    "df_credit.loc[~mask,\"Id sys_clean\"] = df_credit.loc[~mask,\"Id sys\"]\n",
    "df_credit = df_credit.drop(columns=\"index\")"
   ]
  },
  {
   "cell_type": "code",
   "execution_count": null,
   "id": "30477082",
   "metadata": {},
   "outputs": [],
   "source": [
    "df_debit = df_debit.reset_index().drop(columns=\"index\").reset_index()\n",
    "mask = df_debit[\"Id sys\"].str.len() > 8\n",
    "df_debit.loc[mask,\"Id sys_clean\"] = df_debit.loc[mask,\"index\"].astype(str).apply(lambda x: \"1\" + x.zfill(7)) \n",
    "df_debit.loc[~mask,\"Id sys_clean\"] = df_debit.loc[~mask,\"Id sys\"]\n",
    "df_debit = df_debit.drop(columns=\"index\")"
   ]
  },
  {
   "cell_type": "code",
   "execution_count": null,
   "id": "3feec6d0",
   "metadata": {},
   "outputs": [],
   "source": [
    "len(df_credit)"
   ]
  },
  {
   "cell_type": "markdown",
   "id": "e4cfd418",
   "metadata": {},
   "source": [
    "### Forcer l'Id sys"
   ]
  },
  {
   "cell_type": "markdown",
   "id": "affb157f",
   "metadata": {},
   "source": [
    "Avec l'intégration des données au fur et à mesure, le code a été amélioré qui a impacté sur le calcul de l'Id sys d'une version déjà en prod. Cette étape est juste pour récupérer l'Id sys déjà en prod.\n",
    "\n",
    "A la sortie, nous allons avoir 3 colonnes d'Id sys :\n",
    "+ __Id sys_old__ : l'ancienne version déjà en prod\n",
    "+ __Id sys__ : nouveaux Id sys\n",
    "+ __Id sys_clean__: version Id sys clean (que des chiffres pour importer dans le BO ensuite, car les autres Id sys sont créés = filename + Index de la ligne)"
   ]
  },
  {
   "cell_type": "code",
   "execution_count": null,
   "id": "a2f8f4a4",
   "metadata": {},
   "outputs": [],
   "source": [
    "df_credit_old = pd.read_excel(folder_path + \"/raw_data/6. Données modifiées manuellement/1. Relevé_ancienne version/All_lignes de crédit.xlsx\",sheet_name=\"crédit\")\n",
    "df_debit_old = pd.read_excel(folder_path + \"/raw_data/6. Données modifiées manuellement/1. Relevé_ancienne version/All_lignes de débit.xlsx\",sheet_name=\"débit\")"
   ]
  },
  {
   "cell_type": "code",
   "execution_count": null,
   "id": "4f00bccc",
   "metadata": {},
   "outputs": [],
   "source": [
    "def clean_duplicates(df_match_containing_duplicates,columns_matching):\n",
    "    df_doublons = df_match_containing_duplicates[df_match_containing_duplicates.duplicated(subset=\"Id sys_old\",keep=False)]\n",
    "    ### Lignes sans doublons\n",
    "    df_match_without_duplicates = df_match_containing_duplicates[~df_match_containing_duplicates[\"Id sys_old\"].isin(df_doublons[\"Id sys_old\"])]\n",
    "\n",
    "    df_doublons_old = df_doublons[columns_matching+[\"Id sys_old\"]].drop_duplicates()\n",
    "    columns_new = [x for x in df_doublons.columns if \"_y\" not in x]\n",
    "    columns_new.remove(\"Id sys_old\")\n",
    "    df_doublons_new = df_doublons[columns_new].drop_duplicates()\n",
    "    df_match_duplicates = pd.DataFrame()\n",
    "    for i in range(0,10): # hypothèse: 10 virements max pour le même montant et le même client par jour\n",
    "\n",
    "        df1_i = df_doublons_old.drop_duplicates(subset=columns_matching,keep='first')\n",
    "        df_doublons_old = df_doublons_old[~df_doublons_old[\"Id sys_old\"].isin(df1_i[\"Id sys_old\"])]\n",
    "\n",
    "        df2_i = df_doublons_new.drop_duplicates(subset=columns_matching,keep='first')\n",
    "        df_doublons_new = df_doublons_new[~df_doublons_new[\"Id sys\"].isin(df2_i[\"Id sys\"])]\n",
    "\n",
    "        df_match = df2_i.merge(df1_i,on=columns_matching)\n",
    "        df_match_duplicates = pd.concat([df_match_duplicates,df_match])\n",
    "    df_match = pd.concat([df_match_without_duplicates,df_match_duplicates])\n",
    "    return df_match"
   ]
  },
  {
   "cell_type": "code",
   "execution_count": null,
   "id": "6ba0e699",
   "metadata": {},
   "outputs": [],
   "source": [
    "def recuperer_Id_sys_old(df_credit,df_credit_old):\n",
    "    ### Formatting\n",
    "    df_credit_old = df_credit_old.rename(columns={\"Id sys\":\"Id sys_old\"})\n",
    "    df_credit_old = df_credit_old[[\"Id sys_old\",\"Date\",\"Libellé\",\"Valeur\",\"Ref.\",\"Débit\",\"Crédit\",\"Fonds\"]]\n",
    "    df_credit_old[\"Id sys_old\"] = df_credit_old[\"Id sys_old\"].astype(str)\n",
    "    df_credit[\"Id sys\"] = df_credit[\"Id sys\"].astype(str)\n",
    "    df_credit_old[\"Libellé\"] = df_credit_old[\"Libellé\"].astype(str).str.upper()\n",
    "    df_credit[\"Libellé\"] = df_credit[\"Libellé\"].astype(str)\n",
    "\n",
    "    ### Rapprocher pour récupérer l'Id sys\n",
    "    columns_matching = [\"Date\",\"Libellé\",\"Valeur\",\"Ref.\",\"Débit\",\"Crédit\",\"Fonds\"]\n",
    "    df_match_avec_libelle = df_credit.merge(df_credit_old,on=columns_matching)\n",
    "\n",
    "    df_match_avec_libelle = clean_duplicates(df_match_avec_libelle,columns_matching)#df_credit_old.columns,df_credit.columns)\n",
    "\n",
    "\n",
    "    df_old_restant = df_credit_old[~df_credit_old[\"Id sys_old\"].isin(df_match_avec_libelle[\"Id sys_old\"])]\n",
    "    df_new_restant = df_credit[~df_credit[\"Id sys\"].isin(df_match_avec_libelle[\"Id sys\"])]\n",
    "\n",
    "    ### Il y a des lignes dont le libellé est légèrement différent (une partie en plus dans l'ancienne version car c'était pas bien nettoyé)\n",
    "    columns_matching = [\"Date\",\"Valeur\",\"Ref.\",\"Débit\",\"Crédit\",\"Fonds\"]\n",
    "    columns_old = columns_matching+[\"Id sys_old\"]\n",
    "    columns_new = df_new_restant.columns\n",
    "    df_old_restant = df_old_restant[columns_old+[\"Libellé\"]]\n",
    "    df_match_sans_libelle = df_new_restant.merge(df_old_restant,on=columns_matching)\n",
    "\n",
    "    df_match_sans_libelle = clean_duplicates(df_match_sans_libelle,columns_matching)\n",
    "    df_match_sans_libelle = df_match_sans_libelle.drop(columns=\"Libellé_y\").rename(columns={\"Libellé_x\":\"Libellé\"})\n",
    "\n",
    "    df_old_restant = df_old_restant[~df_old_restant[\"Id sys_old\"].isin(df_match_sans_libelle[\"Id sys_old\"])]\n",
    "    df_new_restant = df_new_restant[~df_new_restant[\"Id sys\"].isin(df_match_sans_libelle[\"Id sys\"])]\n",
    "    df_old_restant[\"Id sys\"] = df_old_restant[\"Id sys_old\"]\n",
    "    df_new_restant[\"IBAN\"].unique() #### les lignes non rapprochées = BRED + prélèvements CC\n",
    "    df_new_restant[\"Id sys_old\"] = \"Nouvelles_données_intégrées\"\n",
    "\n",
    "    df_credit = pd.concat([df_match_avec_libelle,df_match_sans_libelle,df_new_restant])\n",
    "\n",
    "    return df_credit,df_old_restant"
   ]
  },
  {
   "cell_type": "code",
   "execution_count": null,
   "id": "35e2af44",
   "metadata": {},
   "outputs": [],
   "source": [
    "df_credit_new,df_new_restant = recuperer_Id_sys_old(df_credit,df_credit_old)"
   ]
  },
  {
   "cell_type": "code",
   "execution_count": null,
   "id": "f4f3bd5e",
   "metadata": {},
   "outputs": [],
   "source": [
    "df_credit_new = df_credit_new[[ 'Id sys_old', 'Date', 'Valeur', 'Libellé', 'Ref.', 'Débit', 'Crédit',\n",
    "       'Fonds', 'IBAN', 'Type_Transaction', 'Type_Transaction_clean',\n",
    "       'Id sys_clean','Id sys']]"
   ]
  },
  {
   "cell_type": "code",
   "execution_count": null,
   "id": "b1a79395",
   "metadata": {},
   "outputs": [],
   "source": [
    "df_debit_new,df_debit_new_restant = recuperer_Id_sys_old(df_debit,df_debit_old)"
   ]
  },
  {
   "cell_type": "code",
   "execution_count": null,
   "id": "bf7bd9e2",
   "metadata": {},
   "outputs": [],
   "source": [
    "### Créer le Id sys_clean \n",
    "mask = df_debit_new[\"Id sys_clean\"].str[0:1]==\"1\"\n",
    "max_id = df_debit_new[mask][\"Id sys_clean\"].astype(int).max()\n",
    "list_id = [i+max_id for i in range(0,len(df_debit_new_restant)) ]\n",
    "df_debit_new_restant[\"Id sys_clean\"] = list_id"
   ]
  },
  {
   "cell_type": "code",
   "execution_count": null,
   "id": "0d5920eb",
   "metadata": {},
   "outputs": [],
   "source": [
    "df_debit_new = pd.concat([df_debit_new,df_debit_new_restant])"
   ]
  },
  {
   "cell_type": "code",
   "execution_count": null,
   "id": "b2c2399a",
   "metadata": {},
   "outputs": [],
   "source": [
    "df_debit_new = df_debit_new[['Id sys_old', 'Date', 'Valeur', 'Libellé', 'Ref.', 'Débit', 'Crédit',\n",
    "       'Fonds', 'IBAN', 'Type_Transaction', 'Id sys_clean','Id sys']]"
   ]
  },
  {
   "cell_type": "code",
   "execution_count": null,
   "id": "5c248dba",
   "metadata": {},
   "outputs": [],
   "source": [
    "df_debit_new.to_excel(folder_path + \"/transformed_data/2. Banque/All_Lignes de débit.xlsx\",sheet_name=\"Sheet1\",index=False)\n",
    "df_credit_new.to_excel(folder_path + \"/transformed_data/2. Banque/All_Lignes de crédit.xlsx\",sheet_name=\"Sheet1\",index=False)"
   ]
  },
  {
   "cell_type": "code",
   "execution_count": null,
   "id": "e32beec5",
   "metadata": {},
   "outputs": [],
   "source": [
    "len(df_credit_new) - len(df_credit_new[df_credit_new[\"Id sys_old\"]==\"Nouvelles_données_intégrées\"])"
   ]
  },
  {
   "cell_type": "markdown",
   "id": "729eb77d",
   "metadata": {},
   "source": [
    "## Commentaire BO"
   ]
  },
  {
   "cell_type": "code",
   "execution_count": null,
   "id": "15619953",
   "metadata": {},
   "outputs": [],
   "source": [
    "####### Concaténer toutes les infos de commentaire en une seule colonne\n",
    "df_commentaire[\"subject\"] = df_commentaire[\"subject\"].fillna(\"NA\") \n",
    "df_commentaire[\"NoteText\"] = df_commentaire[\"NoteText\"].fillna(\"NA\") \n",
    "df_commentaire[\"cor_ordreid\"] = df_commentaire[\"cor_ordreid\"].str.lower()\n",
    "df_commentaire[\"NoteBO\"] = df_commentaire[\"createdon\"] + \", [Objet] \" +  df_commentaire[\"subject\"] + \", [Note] \" + df_commentaire[\"NoteText\"]\n",
    "df_commentaire_agg = df_commentaire.groupby(by=\"cor_ordreid\").agg({\"NoteBO\":\"\\n\".join}).reset_index()\n",
    "df_commentaire_agg = df_commentaire_agg.rename(columns={\"cor_ordreid\":\"Id_order\"})"
   ]
  },
  {
   "cell_type": "code",
   "execution_count": null,
   "id": "fd8fa2b2",
   "metadata": {},
   "outputs": [],
   "source": [
    "df_commentaire_agg.to_excel(folder_path + \"/transformed_data/commentaire_agg.xlsx\",sheet_name=\"commentaire\",index=False)"
   ]
  },
  {
   "cell_type": "markdown",
   "id": "348a4d3d",
   "metadata": {},
   "source": [
    "## ClientOps"
   ]
  },
  {
   "cell_type": "markdown",
   "id": "703e9153",
   "metadata": {},
   "source": [
    "### Depuis 062021"
   ]
  },
  {
   "cell_type": "code",
   "execution_count": null,
   "id": "03d353dd",
   "metadata": {},
   "outputs": [],
   "source": [
    "df_ClientOps1 = clean_CLientOps(df_ClientOps1)"
   ]
  },
  {
   "cell_type": "code",
   "execution_count": null,
   "id": "99cebfae",
   "metadata": {},
   "outputs": [],
   "source": [
    "df_ClientOps1_clean = df_ClientOps1[df_ClientOps1[\"<\"].isnull()]\n",
    "df_ClientOps1_notclean = df_ClientOps1[~df_ClientOps1[\"<\"].isnull()]\n",
    "df_ClientOps1_notclean = df_ClientOps1_notclean.drop(columns=\"Date Valeur\").rename(columns={\"<\":\"Date Valeur\"})"
   ]
  },
  {
   "cell_type": "code",
   "execution_count": null,
   "id": "d147b617",
   "metadata": {},
   "outputs": [],
   "source": [
    "df_ClientOps1 = pd.concat([df_ClientOps1_clean,df_ClientOps1_notclean])"
   ]
  },
  {
   "cell_type": "code",
   "execution_count": null,
   "id": "0db1e5dc",
   "metadata": {},
   "outputs": [],
   "source": [
    "def change_date(date_valeur,id_sys,date_soldee):\n",
    "    '''Le format de date pour certaines lignes ne sont pas correctes (1900-04-01). \n",
    "    Cette fonction est juste pour les corriger manuellement en reprenant la vraie valeur depuis le fichier excel\n",
    "    '''\n",
    "    if id_sys == \"472950624\":\n",
    "        return \"2020-12-02 00:00:00\"\n",
    "    if id_sys == \"29556139\":\n",
    "        return \"2022-05-10 00:00:00\"\n",
    "    if id_sys == \"15319921\":\n",
    "        return \"2020-06-26 00:00:00\"\n",
    "    if str(date_valeur) == \"nan\":\n",
    "        return str(date_soldee)\n",
    "    return date_valeur"
   ]
  },
  {
   "cell_type": "code",
   "execution_count": null,
   "id": "cb0f4b1b",
   "metadata": {},
   "outputs": [],
   "source": [
    "df_ClientOps1[\"Date Valeur\"] = df_ClientOps1.apply(lambda f: change_date(f[\"Date Valeur\"],f[\"Id sys\"],f[\"Souscription soldée (Date/vide)\"]), axis=1)\n",
    "df_ClientOps1[\"Date Valeur\"] = pd.to_datetime(df_ClientOps1[\"Date Valeur\"], format = '%Y-%m-%d %H:%M:%S',errors=\"coerce\").fillna(pd.to_datetime(df_ClientOps1[\"Date Valeur\"], format='%d/%m/%Y',errors=\"coerce\"))"
   ]
  },
  {
   "cell_type": "code",
   "execution_count": null,
   "id": "1ab7a68e",
   "metadata": {},
   "outputs": [],
   "source": [
    "df_ClientOps1_2 = df_ClientOps1[df_ClientOps1[\"Date Valeur\"]< \"2021-06-18\"] ## Données historiques\n",
    "df_ClientOps1 = df_ClientOps1[df_ClientOps1[\"Date Valeur\"]>= \"2021-06-18\"]"
   ]
  },
  {
   "cell_type": "code",
   "execution_count": null,
   "id": "c81fbb36",
   "metadata": {},
   "outputs": [],
   "source": [
    "df_ClientOps1_2 = df_ClientOps1_2[['Id sys', 'Libellé', 'Date Valeur', 'Montant', \n",
    "       \"Référence de l'ordre\",'Fonds', \"Référence de l'ordre_origin\", 'Note']].rename(columns={\"Id sys\":\"Id sys_ClientOps\",\n",
    "                                                                            \"Libellé\":\"Libellé_ClientOps\",\n",
    "                                                                            \"Date Valeur\":\"Valeur_ClientOps\",\n",
    "                                                                            \"Montant\":\"Crédit_ClientOps\",\n",
    "                                                                            \"Fonds\":\"Fonds_ClientOps\"})"
   ]
  },
  {
   "cell_type": "code",
   "execution_count": null,
   "id": "65d62742",
   "metadata": {},
   "outputs": [],
   "source": [
    "df_ClientOps1 = df_ClientOps1[[\"Id sys\",\"Référence de l'ordre\",\"Référence de l'ordre_origin\",'Fonds']]"
   ]
  },
  {
   "cell_type": "markdown",
   "id": "692fd395",
   "metadata": {},
   "source": [
    "### Avant 062021"
   ]
  },
  {
   "cell_type": "code",
   "execution_count": null,
   "id": "bf01fa6d",
   "metadata": {},
   "outputs": [],
   "source": [
    "# Supprimer les lignes vides\n",
    "df_ClientOps2 = df_ClientOps2[~df_ClientOps2[\"Référence de l'ordre\"].isnull()].drop(columns=['Code Associé','Souscription soldée', 'Colonne1','Colonne2'])\n",
    "\n",
    "# Cleaner et supprimer les doublons\n",
    "df_ClientOps2 = clean_CLientOps(df_ClientOps2)"
   ]
  },
  {
   "cell_type": "code",
   "execution_count": null,
   "id": "8b53f90e",
   "metadata": {},
   "outputs": [],
   "source": [
    "df_ClientOps2 = pd.concat([df_ClientOps2,df_ClientOps1_2])"
   ]
  },
  {
   "cell_type": "code",
   "execution_count": null,
   "id": "e4ce6711",
   "metadata": {},
   "outputs": [],
   "source": [
    "######## La Date de Valeur dans le fichier ClientOps est parfois inversée entre jour et mois, parfois non. Donc nous allons créer 2 colonnes pour les 2 formats afin de rapprocher le maximum de colonnes avec relevé\n",
    "df_ClientOps_initial = df_ClientOps2.drop_duplicates()\n",
    "list_remove = [\"i\"]\n",
    "df_ClientOps_initial = df_ClientOps_initial[~df_ClientOps_initial[\"Crédit_ClientOps\"].isin(list_remove)]\n",
    "df_ClientOps_initial[\"Crédit_ClientOps\"] = df_ClientOps_initial[\"Crédit_ClientOps\"].astype(float)\n",
    "df_ClientOps_initial[\"Valeur_initiale_ClientOps\"] = df_ClientOps_initial[\"Valeur_ClientOps\"]\n",
    "df_ClientOps_initial[\"Valeur_ClientOps\"] = pd.to_datetime(df_ClientOps_initial[\"Valeur_initiale_ClientOps\"], format='%Y-%d-%m %H:%M:%S',errors=\"coerce\").fillna(pd.to_datetime(df_ClientOps_initial[\"Valeur_initiale_ClientOps\"], format='%d/%m/%Y',errors=\"coerce\"))\n",
    "df_ClientOps_initial[\"Valeur_ClientOps_2\"] = pd.to_datetime(df_ClientOps_initial[\"Valeur_initiale_ClientOps\"], format='%Y-%m-%d %H:%M:%S',errors=\"coerce\").fillna(pd.to_datetime(df_ClientOps_initial[\"Valeur_initiale_ClientOps\"], format='%d/%m/%Y',errors=\"coerce\"))\n",
    "\n",
    "### Pour les lignes ayant le Même Montant et Date (mais qui vient de différentes personnes / pls virs de la même personne), il faut rapprocher avec le titulaire\n",
    "df_ClientOps_doublons = df_ClientOps_initial[df_ClientOps_initial.duplicated(subset=[\"Valeur_ClientOps\",\"Crédit_ClientOps\"],keep=False)]\n",
    "df_ClientOps_doublons[\"Titulaire\"] = df_ClientOps_doublons[\"Libellé_ClientOps\"].apply(get_words_only)\n",
    "df_ClientOps_doublons[\"Titulaire_clean\"] = df_ClientOps_doublons[\"Titulaire\"].apply(clean_motif)\n",
    "\n",
    "df_ClientOps_doublons[\"Titulaire_clean\"] = df_ClientOps_doublons[\"Titulaire_clean\"].apply(clean_name)\n",
    "\n",
    "for i in range(0,5): \n",
    "    df_ClientOps_doublons[\"Titulaire_clean\"] = df_ClientOps_doublons[\"Titulaire_clean\"].apply(remove_de)\n",
    "df_ClientOps_doublons[\"Titulaire_clean\"]=df_ClientOps_doublons[\"Titulaire_clean\"].apply(remove_duplicated)"
   ]
  },
  {
   "cell_type": "code",
   "execution_count": null,
   "id": "23e7087c",
   "metadata": {},
   "outputs": [],
   "source": [
    "### Rapprocher les doublons\n",
    "df_virs_concat2 = pd.concat([df_virements2,df_vir_doublons2])\n",
    "df_match = merge_with_duplicates(df_virs_concat2,df_ClientOps_doublons,\"Valeur_ClientOps\")\n",
    "df_match = df_match[['Id sys', 'Id sys_ClientOps', 'Libellé_ClientOps', 'Valeur_ClientOps',\"Fonds\",\n",
    "                   'Crédit_ClientOps', \"Référence de l'ordre\",\"Référence de l'ordre_origin\", 'Note']]"
   ]
  },
  {
   "cell_type": "code",
   "execution_count": null,
   "id": "c03f115e",
   "metadata": {},
   "outputs": [],
   "source": [
    "### Rapprocher avec la colonne Valeur_ClientOps (date)\n",
    "df_ClientOps_sansdoublon = df_ClientOps_initial[~df_ClientOps_initial[\"Id sys_ClientOps\"].isin(list(df_ClientOps_doublons[\"Id sys_ClientOps\"]))]\n",
    "df_ClientOps2_1 = df_virements2[[\"Id sys\",\"Valeur\",\"Crédit\",\"Fonds\"]].merge(df_ClientOps_sansdoublon, \n",
    "                                left_on = [\"Valeur\",\"Crédit\",\"Fonds\"],\\\n",
    "                              right_on = [\"Valeur_ClientOps\",\"Crédit_ClientOps\",\"Fonds_ClientOps\"]\n",
    "                              ).drop(columns=[\"Valeur\",\"Crédit\",\"Valeur_ClientOps_2\"])"
   ]
  },
  {
   "cell_type": "code",
   "execution_count": null,
   "id": "6e58586a",
   "metadata": {},
   "outputs": [],
   "source": [
    "### Rapprocher avec la colonne Valeur_ClientOps_2 (inverser les dates)\n",
    "df_virements_restant2 = df_virements2[~df_virements2[\"Id sys\"].isin(df_ClientOps2_1[\"Id sys\"])]\n",
    "df_ClientOps_restant2 = df_ClientOps_sansdoublon[~df_ClientOps_sansdoublon[\"Id sys_ClientOps\"].isin(df_ClientOps2_1[\"Id sys_ClientOps\"])]\n",
    "df_ClientOps2_2 = df_virements_restant2[[\"Id sys\",\"Valeur\",\"Crédit\",\"Fonds\"]].merge(df_ClientOps_restant2, \n",
    "                                left_on = [\"Valeur\",\"Crédit\",\"Fonds\"],\\\n",
    "                              right_on = [\"Valeur_ClientOps_2\",\"Crédit_ClientOps\",\"Fonds_ClientOps\"]\n",
    "                              ).drop(columns=[\"Valeur\",\"Crédit\"])\n",
    "df_ClientOps2_2 = df_ClientOps2_2.drop(columns = \"Valeur_ClientOps\").rename(columns={\"Valeur_ClientOps_2\":\"Valeur_ClientOps\"})"
   ]
  },
  {
   "cell_type": "code",
   "execution_count": null,
   "id": "b377b4b9",
   "metadata": {},
   "outputs": [],
   "source": [
    "df_ClientOps2 = pd.concat([df_ClientOps2_1,df_ClientOps2_2,df_match])"
   ]
  },
  {
   "cell_type": "code",
   "execution_count": null,
   "id": "6fb28c68",
   "metadata": {},
   "outputs": [],
   "source": [
    "df_ClientOps_doublons = df_ClientOps_doublons[~df_ClientOps_doublons[\"Id sys_ClientOps\"].isin(df_ClientOps2[\"Id sys_ClientOps\"])]\n",
    "\n",
    "list_matched = list(df_ClientOps2[\"Id sys_ClientOps\"]) +  list(df_ClientOps_doublons[\"Id sys_ClientOps\"])\n",
    "df_ClientOps_restant2 = df_ClientOps_initial[~df_ClientOps_initial[\"Id sys_ClientOps\"].isin(list_matched)]"
   ]
  },
  {
   "cell_type": "code",
   "execution_count": null,
   "id": "912d477d",
   "metadata": {},
   "outputs": [],
   "source": [
    "df_ClientOps2 = df_ClientOps2[['Id sys', 'Id sys_ClientOps',\"Référence de l'ordre\",\"Référence de l'ordre_origin\",'Fonds']]"
   ]
  },
  {
   "cell_type": "code",
   "execution_count": null,
   "id": "4b0d397f",
   "metadata": {},
   "outputs": [],
   "source": [
    "df_ClientOps2 = df_ClientOps2.drop_duplicates(subset=[\"Id sys_ClientOps\",\"Référence de l'ordre\"])"
   ]
  },
  {
   "cell_type": "code",
   "execution_count": null,
   "id": "bd6226d1",
   "metadata": {},
   "outputs": [],
   "source": [
    "len(df_ClientOps2)"
   ]
  },
  {
   "cell_type": "markdown",
   "id": "4e1b038c",
   "metadata": {},
   "source": [
    "### Concat"
   ]
  },
  {
   "cell_type": "code",
   "execution_count": null,
   "id": "5934162e",
   "metadata": {},
   "outputs": [],
   "source": [
    "df_ClientOps = pd.concat([df_ClientOps1,df_ClientOps2])"
   ]
  },
  {
   "cell_type": "code",
   "execution_count": null,
   "id": "ff8c6aba",
   "metadata": {},
   "outputs": [],
   "source": [
    "df_ClientOps.to_excel(folder_path + \"/transformed_data/3. ClientOps/Suivi ClientOps_concaténé.xlsx\",sheet_name=\"ClientOps\",index=False)"
   ]
  },
  {
   "cell_type": "code",
   "execution_count": null,
   "id": "b757066e",
   "metadata": {},
   "outputs": [],
   "source": []
  }
 ],
 "metadata": {
  "celltoolbar": "Format de la Cellule Texte Brut",
  "kernelspec": {
   "display_name": "Python 3 (ipykernel)",
   "language": "python",
   "name": "python3"
  },
  "language_info": {
   "codemirror_mode": {
    "name": "ipython",
    "version": 3
   },
   "file_extension": ".py",
   "mimetype": "text/x-python",
   "name": "python",
   "nbconvert_exporter": "python",
   "pygments_lexer": "ipython3",
   "version": "3.8.12"
  },
  "toc": {
   "base_numbering": 1,
   "nav_menu": {},
   "number_sections": true,
   "sideBar": true,
   "skip_h1_title": false,
   "title_cell": "Table of Contents",
   "title_sidebar": "Contents",
   "toc_cell": false,
   "toc_position": {},
   "toc_section_display": true,
   "toc_window_display": false
  },
  "varInspector": {
   "cols": {
    "lenName": 16,
    "lenType": 16,
    "lenVar": 40
   },
   "kernels_config": {
    "python": {
     "delete_cmd_postfix": "",
     "delete_cmd_prefix": "del ",
     "library": "var_list.py",
     "varRefreshCmd": "print(var_dic_list())"
    },
    "r": {
     "delete_cmd_postfix": ") ",
     "delete_cmd_prefix": "rm(",
     "library": "var_list.r",
     "varRefreshCmd": "cat(var_dic_list()) "
    }
   },
   "types_to_exclude": [
    "module",
    "function",
    "builtin_function_or_method",
    "instance",
    "_Feature"
   ],
   "window_display": false
  }
 },
 "nbformat": 4,
 "nbformat_minor": 5
}
