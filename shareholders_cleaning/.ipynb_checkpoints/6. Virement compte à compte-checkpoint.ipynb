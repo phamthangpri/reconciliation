{
 "cells": [
  {
   "cell_type": "code",
   "execution_count": null,
   "id": "eef7b24c",
   "metadata": {},
   "outputs": [],
   "source": [
    "%load_ext autoreload\n",
    "%autoreload 2"
   ]
  },
  {
   "cell_type": "code",
   "execution_count": null,
   "id": "ca7eacaa",
   "metadata": {},
   "outputs": [],
   "source": [
    "import datetime as dt\n",
    "import re\n",
    "import pandas as pd\n",
    "import numpy as np"
   ]
  },
  {
   "cell_type": "markdown",
   "id": "8388cd89",
   "metadata": {},
   "source": [
    "# Import data"
   ]
  },
  {
   "cell_type": "code",
   "execution_count": null,
   "id": "1f5de533",
   "metadata": {},
   "outputs": [],
   "source": [
    "folder_path = \"xxxx\""
   ]
  },
  {
   "cell_type": "markdown",
   "id": "3b9778e9",
   "metadata": {},
   "source": [
    "## Liste des comptes"
   ]
  },
  {
   "cell_type": "code",
   "execution_count": null,
   "id": "cc2f2e8d",
   "metadata": {
    "scrolled": false
   },
   "outputs": [],
   "source": [
    "df_liste_comptes = pd.read_excel(folder_path + \"/raw_data/0. Data Releve bancaire/Bank accounts mapping.xlsx\", sheet_name = \"Synthèse globale\",header=1)"
   ]
  },
  {
   "cell_type": "markdown",
   "id": "303e1cb1",
   "metadata": {},
   "source": [
    "## Relevé"
   ]
  },
  {
   "cell_type": "code",
   "execution_count": null,
   "id": "1ba9b4b3",
   "metadata": {},
   "outputs": [],
   "source": [
    "df_credit = pd.read_excel(folder_path + \"/transformed_data/2. Banque/All_Lignes de crédit.xlsx\",sheet_name=\"Sheet1\")"
   ]
  },
  {
   "cell_type": "code",
   "execution_count": null,
   "id": "efb8c3c0",
   "metadata": {},
   "outputs": [],
   "source": [
    "df_credit_old = pd.read_excel(folder_path + \"/raw_data/6. Données modifiées manuellement/1. Relevé_ancienne version/All_lignes de crédit.xlsx\",sheet_name=\"crédit\")"
   ]
  },
  {
   "cell_type": "markdown",
   "id": "b2eda8ed",
   "metadata": {},
   "source": [
    "### Données déjà traitées"
   ]
  },
  {
   "cell_type": "markdown",
   "id": "80641eec",
   "metadata": {},
   "source": [
    "#### Virements"
   ]
  },
  {
   "cell_type": "code",
   "execution_count": null,
   "id": "87cb0e2a",
   "metadata": {},
   "outputs": [],
   "source": [
    "###### Résultat du rapprochement des virements réalisés par l'algo\n",
    "### Il s'agit normalement du résultat de sortie de la Notebook 1.1. Mais dans cette version, je préfère d'utiliser la version déjà en prod pour éviter qu'on vient de lancer la Notebook 1.1 pour un petit test\n",
    "### Et surtout il vaut mieux de fixer une version en prod au lieu de changer la version tout le temps\n",
    "df_data_validee_DM = pd.read_excel(folder_path + \"/raw_data/1. Virements/Données de rapprochement validées/All_Démembrement validé.xlsx\",sheet_name=\"Démembrement\")\n",
    "df_data_validee_PP = pd.read_excel(folder_path + \"/raw_data/1. Virements/Données de rapprochement validées/All_Pleine propriété validée.xlsx\",sheet_name=\"PP\")"
   ]
  },
  {
   "cell_type": "code",
   "execution_count": null,
   "id": "8aaa8f1c",
   "metadata": {},
   "outputs": [],
   "source": [
    "df_heavy_checks = pd.read_excel(folder_path + \"/raw_data/7. Taskforce/All_Données à vérifier manuellement_heavy checks_V16 février.xlsx\",sheet_name=\"Données_non_rapprochées\", header=2)\n",
    "df_propositions = pd.read_excel(folder_path + \"/raw_data/7. Taskforce/All_Données à vérifier manuellement_proposition.xlsx\",sheet_name=\"Données_non_rapprochées\", header=2)"
   ]
  },
  {
   "cell_type": "markdown",
   "id": "c48043c5",
   "metadata": {},
   "source": [
    "# Data cleaning"
   ]
  },
  {
   "cell_type": "markdown",
   "id": "75551a8e",
   "metadata": {},
   "source": [
    "## Liste des comptes"
   ]
  },
  {
   "cell_type": "code",
   "execution_count": null,
   "id": "27e4e781",
   "metadata": {},
   "outputs": [],
   "source": [
    "df_liste_comptes = df_liste_comptes[['Titulaire', 'IBAN', 'Collecte', 'Pays']]\n",
    "df_liste_comptes = df_liste_comptes[~df_liste_comptes[\"IBAN\"].isin([\"IBAN\",\"Voir avec fund Manager\",np.nan])]\n",
    "df_liste_comptes[\"IBAN\"] = df_liste_comptes[\"IBAN\"].str.strip().str.replace(\"EUR\",\"\").str.replace(\"-\",\" \").str.strip()"
   ]
  },
  {
   "cell_type": "markdown",
   "id": "6bd70097",
   "metadata": {},
   "source": [
    "## Chercher les lignes Autres"
   ]
  },
  {
   "cell_type": "code",
   "execution_count": null,
   "id": "6d599f72",
   "metadata": {},
   "outputs": [],
   "source": [
    "df_data_validee = pd.concat([df_data_validee_DM,df_data_validee_PP])\n",
    "df_data_validee = df_data_validee[[\"Id sys\"]]#.rename(columns={\"Fonds_relevé\":\"Fonds\"})\n",
    "\n",
    "df_data_validee[\"Id sys\"] = df_data_validee[\"Id sys\"].str.split(\"|\")\n",
    "df_data_validee = df_data_validee.explode(\"Id sys\")"
   ]
  },
  {
   "cell_type": "code",
   "execution_count": null,
   "id": "224472c4",
   "metadata": {},
   "outputs": [],
   "source": [
    "df_check_manuel = pd.concat([df_heavy_checks,df_propositions])\n",
    "df_check_manuel = df_check_manuel[[\"Id sys\"]]"
   ]
  },
  {
   "cell_type": "code",
   "execution_count": null,
   "id": "0157b131",
   "metadata": {},
   "outputs": [],
   "source": [
    "df_virements_traites = pd.concat([df_data_validee,df_check_manuel]).rename(columns={\"Id sys\":\"Id sys_old\"})"
   ]
  },
  {
   "cell_type": "code",
   "execution_count": null,
   "id": "df4ed948",
   "metadata": {},
   "outputs": [],
   "source": [
    "df_merge = df_credit.merge(df_virements_traites,on=[\"Id sys_old\"],how=\"outer\",indicator=True)\n",
    "df_donnees_restantes = df_merge[df_merge[\"_merge\"]==\"left_only\"].drop(columns=\"_merge\")"
   ]
  },
  {
   "cell_type": "code",
   "execution_count": null,
   "id": "bbf38815",
   "metadata": {},
   "outputs": [],
   "source": [
    "### Enlever les données de la Bred qui sont lancées après la version prod déjà validée\n",
    "mask = df_donnees_restantes[\"Id sys_old\"]==\"Nouvelles_données_intégrées\"\n",
    "df_nouvelles_donnees = df_donnees_restantes.loc[mask,:]\n",
    "df_donnees_restantes = df_donnees_restantes[~df_donnees_restantes[\"Id sys_old\"].isin(df_nouvelles_donnees[\"Id sys_old\"])]"
   ]
  },
  {
   "cell_type": "code",
   "execution_count": null,
   "id": "48d340f5",
   "metadata": {},
   "outputs": [],
   "source": [
    "df_donnees_restantes[\"Type_Transaction\"].unique()"
   ]
  },
  {
   "cell_type": "code",
   "execution_count": null,
   "id": "fe2cec34",
   "metadata": {},
   "outputs": [],
   "source": [
    "df_donnees_autres = df_donnees_restantes[~df_donnees_restantes[\"Type_Transaction\"].str.contains(\"REMISE|PRLV|REJET\",regex=True,na=False)]"
   ]
  },
  {
   "cell_type": "code",
   "execution_count": null,
   "id": "d844005c",
   "metadata": {},
   "outputs": [],
   "source": [
    "df_donnees_autres.to_excel(folder_path+\"/output/4. Autres/Données restantes à checker.xlsx\",sheet_name=\"données restantes\",index=False)"
   ]
  },
  {
   "cell_type": "markdown",
   "id": "abcb3cc8",
   "metadata": {},
   "source": [
    "__Ces lignes doivent être ensuite vérifiées par un humain, car il faut avoir le jugement humain pour les reclasser.\n",
    "Une version déjà traitée par Merlin.__"
   ]
  },
  {
   "cell_type": "markdown",
   "id": "88db289d",
   "metadata": {},
   "source": [
    "## Virements CAC"
   ]
  },
  {
   "cell_type": "code",
   "execution_count": null,
   "id": "f91443ea",
   "metadata": {},
   "outputs": [],
   "source": [
    "df_heavy_checks[\"Collecte ou pas collecte ?\"].unique()"
   ]
  },
  {
   "cell_type": "code",
   "execution_count": null,
   "id": "eece9f9b",
   "metadata": {},
   "outputs": [],
   "source": [
    "df_heavy_checks_cac = df_heavy_checks[df_heavy_checks[\"Collecte ou pas collecte ?\"]!=\"Non, le virement reçu est bien de la collecte\"]"
   ]
  },
  {
   "cell_type": "code",
   "execution_count": null,
   "id": "90ab7934",
   "metadata": {},
   "outputs": [],
   "source": [
    "len(df_heavy_checks[df_heavy_checks[\"Collecte ou pas collecte ?\"]==\"Peut-être : j'ai un doute, le virement reçu n'est peut-être pas de la collecte\"])"
   ]
  },
  {
   "cell_type": "code",
   "execution_count": null,
   "id": "9c9fb870",
   "metadata": {},
   "outputs": [],
   "source": [
    "df_heavy_checks[\"Collecte ou pas collecte ?\"].value_counts()"
   ]
  },
  {
   "cell_type": "code",
   "execution_count": null,
   "id": "0c21a870",
   "metadata": {},
   "outputs": [],
   "source": [
    "#### Importer les données déjà vérifiées manuellement #######\n",
    "### Il s'agit du résultat de la partie juste au-dessus (Chercher les lignes Autres) mais déjà traitées par Merlin\n",
    "df_cac = pd.read_excel(folder_path+\"/raw_data/6. Données modifiées manuellement/2. Virement CAC/CAC_Données restantes à checker manuellement.xlsx\",sheet_name=\"Analyse_données restantes\")"
   ]
  },
  {
   "cell_type": "code",
   "execution_count": null,
   "id": "26d52b57",
   "metadata": {},
   "outputs": [],
   "source": [
    "patern_titulaire = r'(?<=FRM)\\s+([a-zA-Z\\s\\-\\.\\d]*)|(?<=DE)\\s+([a-zA-Z\\s\\-\\.\\d]*)|(?<=NAME)\\/([a-zA-Z\\s\\-\\.\\d]*)'\n",
    "df_result = df_cac.loc[:,'Libellé'].str.extract(patern_titulaire)\n",
    "df_cac.loc[:,\"Titulaire\"] = df_result[0].combine_first(df_result[1]).combine_first(df_result[2])\n",
    "df_cac.loc[:,\"Titulaire\"] = df_cac.loc[:,\"Titulaire\"].str.strip()"
   ]
  },
  {
   "cell_type": "code",
   "execution_count": null,
   "id": "45a5618f",
   "metadata": {},
   "outputs": [],
   "source": [
    "df_cac = df_cac.rename(columns={\"Fonds\":\"Compte_récepteur\",\"IBAN\":\"IBAN_récepteur\",\n",
    "                                             \"Titulaire\":\"Compte_emetteur\"})"
   ]
  },
  {
   "cell_type": "code",
   "execution_count": null,
   "id": "3f33e3fa",
   "metadata": {},
   "outputs": [],
   "source": [
    "df_liste_comptes = df_liste_comptes.rename(columns={\"Titulaire\":\"Titulaire_récepteur\",\"IBAN\":\"IBAN_récepteur\",\n",
    "                                                    \"Collecte\":\"Compte_récepteur est de la collecte?\",\"Pays\":\"Compte_récepteur_pays\"})"
   ]
  },
  {
   "cell_type": "code",
   "execution_count": null,
   "id": "2c94dfc7",
   "metadata": {},
   "outputs": [],
   "source": [
    "df_cac = df_cac.merge(df_liste_comptes, on=\"IBAN_récepteur\")"
   ]
  },
  {
   "cell_type": "code",
   "execution_count": null,
   "id": "073ddad9",
   "metadata": {},
   "outputs": [],
   "source": [
    "df_cac_collecte = df_cac[df_cac[\"Vérification manuelle Merlin\"]==\"CAC: Régularisation de collecte\"]\n",
    "df_cac_stat = df_cac_collecte.groupby(by=[\"Compte_récepteur\",\"IBAN_récepteur\",\"Compte_emetteur\"])[\"Crédit\"].sum().reset_index().sort_values(by=[\"Compte_récepteur\",\"Crédit\"],ascending=False)\n"
   ]
  },
  {
   "cell_type": "code",
   "execution_count": null,
   "id": "95907470",
   "metadata": {},
   "outputs": [],
   "source": [
    "df_cac.to_excel(folder_path+\"/output/4. Autres/Virements CAC_details.xlsx\",sheet_name=\"CAC\",index=False)"
   ]
  },
  {
   "cell_type": "code",
   "execution_count": null,
   "id": "ca0813e7",
   "metadata": {},
   "outputs": [],
   "source": [
    "df_cac_stat.to_excel(folder_path+\"/output/4. Autres/Virements CAC_stats.xlsx\",sheet_name=\"CAC\",index=False)"
   ]
  },
  {
   "cell_type": "code",
   "execution_count": null,
   "id": "7d1a9224",
   "metadata": {},
   "outputs": [],
   "source": []
  }
 ],
 "metadata": {
  "kernelspec": {
   "display_name": "Python 3 (ipykernel)",
   "language": "python",
   "name": "python3"
  },
  "language_info": {
   "codemirror_mode": {
    "name": "ipython",
    "version": 3
   },
   "file_extension": ".py",
   "mimetype": "text/x-python",
   "name": "python",
   "nbconvert_exporter": "python",
   "pygments_lexer": "ipython3",
   "version": "3.8.12"
  },
  "toc": {
   "base_numbering": 1,
   "nav_menu": {},
   "number_sections": true,
   "sideBar": true,
   "skip_h1_title": false,
   "title_cell": "Table of Contents",
   "title_sidebar": "Contents",
   "toc_cell": false,
   "toc_position": {},
   "toc_section_display": true,
   "toc_window_display": false
  },
  "varInspector": {
   "cols": {
    "lenName": 16,
    "lenType": 16,
    "lenVar": 40
   },
   "kernels_config": {
    "python": {
     "delete_cmd_postfix": "",
     "delete_cmd_prefix": "del ",
     "library": "var_list.py",
     "varRefreshCmd": "print(var_dic_list())"
    },
    "r": {
     "delete_cmd_postfix": ") ",
     "delete_cmd_prefix": "rm(",
     "library": "var_list.r",
     "varRefreshCmd": "cat(var_dic_list()) "
    }
   },
   "types_to_exclude": [
    "module",
    "function",
    "builtin_function_or_method",
    "instance",
    "_Feature"
   ],
   "window_display": false
  }
 },
 "nbformat": 4,
 "nbformat_minor": 5
}
