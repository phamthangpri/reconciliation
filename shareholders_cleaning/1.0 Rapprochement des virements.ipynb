{
 "cells": [
  {
   "cell_type": "markdown",
   "id": "78747533",
   "metadata": {},
   "source": [
    "# Import libraries"
   ]
  },
  {
   "cell_type": "code",
   "execution_count": null,
   "id": "4ac5e2e8",
   "metadata": {},
   "outputs": [],
   "source": [
    "%load_ext autoreload\n",
    "%autoreload 2"
   ]
  },
  {
   "cell_type": "code",
   "execution_count": null,
   "id": "aa6e570b",
   "metadata": {},
   "outputs": [],
   "source": [
    "import swifter\n",
    "from unidecode import unidecode"
   ]
  },
  {
   "cell_type": "code",
   "execution_count": null,
   "id": "a8b52216",
   "metadata": {},
   "outputs": [],
   "source": [
    "from functions.utils import *\n",
    "from functions.mapping_virements import *\n",
    "from functions.clean_data import *\n",
    "from functions.check_clientops import *"
   ]
  },
  {
   "cell_type": "code",
   "execution_count": null,
   "id": "dc66cef2",
   "metadata": {},
   "outputs": [],
   "source": [
    "import datetime as dt\n",
    "import re"
   ]
  },
  {
   "cell_type": "markdown",
   "id": "3abf53e5",
   "metadata": {},
   "source": [
    "# Context"
   ]
  },
  {
   "cell_type": "markdown",
   "id": "f02aa463",
   "metadata": {},
   "source": [
    "__I. Données reçues__\n",
    "1. Données de relevé bancaire\n",
    "2. Suivi de ClientOps\n",
    "3. Données de BO sur les mouvements\n",
    "4. Connection Démembrement\n",
    "5. Données sur les souscriptions\n",
    "6. Le champs Commentaire dans BO\n",
    "7. Régul compte à compte"
   ]
  },
  {
   "cell_type": "markdown",
   "id": "5d2f0489",
   "metadata": {},
   "source": [
    "__II. Cheminement de traitement des données__ :\n",
    "1. Importer les données de différentes périodes\n",
    "2. Retraiter les données en faisant des controles pour s'assurer qu'on ne perd pas des lignes au cours de traitement\n",
    "3. Rapprocher les données entre relevé bancaire vs BO\n",
    "4. Ajouter les commentaires sur le résultat obtenu"
   ]
  },
  {
   "cell_type": "markdown",
   "id": "ecd04524",
   "metadata": {},
   "source": [
    "# Import data"
   ]
  },
  {
   "cell_type": "code",
   "execution_count": null,
   "id": "79f6a8a9",
   "metadata": {},
   "outputs": [],
   "source": [
    "folder_path = \"xxxx\""
   ]
  },
  {
   "cell_type": "markdown",
   "id": "685554a6",
   "metadata": {},
   "source": [
    "## Relevé bancaire à traiter"
   ]
  },
  {
   "cell_type": "code",
   "execution_count": null,
   "id": "3d34a860",
   "metadata": {},
   "outputs": [],
   "source": [
    "df_virements_bred = pd.read_excel(folder_path + \"/transformed_data/2. Banque/BRED_Virements.xlsx\",sheet_name=\"Virements\")\n",
    "#### virements_autres = les lignes dans le relevé qui sont marquée Type_transaction = Autres ou les virements compte à compte mais quil sont de la collecte\n",
    "df_virements_autres = pd.read_excel(folder_path + \"/raw_data/6. Données modifiées manuellement/2. Virement CAC/CAC_Données restantes à checker manuellement.xlsx\",sheet_name=\"Analyse_données restantes\")"
   ]
  },
  {
   "cell_type": "code",
   "execution_count": null,
   "id": "2ea2618d",
   "metadata": {},
   "outputs": [],
   "source": [
    "df_virements_etrangers = pd.read_excel(folder_path + \"/transformed_data/2. Banque/Comptes étrangers_Virements.xlsx\",sheet_name=\"virements\")"
   ]
  },
  {
   "cell_type": "code",
   "execution_count": null,
   "id": "2d22de1a",
   "metadata": {},
   "outputs": [],
   "source": [
    "df_virements = pd.read_excel(folder_path + \"/transformed_data/2. Banque/All_Virements de la colllecte.xlsx\",sheet_name=\"Sheet1\")"
   ]
  },
  {
   "cell_type": "code",
   "execution_count": null,
   "id": "00da1669",
   "metadata": {},
   "outputs": [],
   "source": [
    "df_list_bic = pd.read_excel(\"../_config/liste_des_BIC.xlsx\",sheet_name=\"BIC\")\n",
    "list_bic = list(df_list_bic['BIC'])"
   ]
  },
  {
   "cell_type": "markdown",
   "id": "efba7631",
   "metadata": {},
   "source": [
    "## Relevé avant 2015"
   ]
  },
  {
   "cell_type": "markdown",
   "id": "935b12b2",
   "metadata": {},
   "source": [
    "## BO"
   ]
  },
  {
   "cell_type": "code",
   "execution_count": null,
   "id": "ece72408",
   "metadata": {},
   "outputs": [],
   "source": [
    "BO_pathfile = folder_path + \"/raw_data/0. Data BO/Movements full.csv\"\n",
    "df_BO = pd.read_csv(BO_pathfile,sep=\";\")"
   ]
  },
  {
   "cell_type": "code",
   "execution_count": null,
   "id": "93d7116c",
   "metadata": {},
   "outputs": [],
   "source": [
    "df_commentaire = pd.read_csv(folder_path + \"/raw_data/0. Data BO/Annotation/Annotation.csv\",sep=\";\")"
   ]
  },
  {
   "cell_type": "markdown",
   "id": "f76f39dd",
   "metadata": {},
   "source": [
    "## Connection BO Demembrement"
   ]
  },
  {
   "cell_type": "code",
   "execution_count": null,
   "id": "956fb388",
   "metadata": {},
   "outputs": [],
   "source": [
    "df_connection_demembrement = pd.read_csv(folder_path + \"/raw_data/0. Data BO/Connection_BO_Demembrement.csv\", delimiter=\";\")"
   ]
  },
  {
   "cell_type": "markdown",
   "id": "877423a2",
   "metadata": {},
   "source": [
    "## Souscription"
   ]
  },
  {
   "cell_type": "code",
   "execution_count": null,
   "id": "1be8925c",
   "metadata": {},
   "outputs": [],
   "source": [
    "subscription_pathfile = folder_path + \"/raw_data/0. Data BO/Subscriptions_full_2.csv\"\n",
    "df_souscription = pd.read_csv(subscription_pathfile,sep=\";\")"
   ]
  },
  {
   "cell_type": "markdown",
   "id": "fe5d86c7",
   "metadata": {},
   "source": [
    "## ClientOps"
   ]
  },
  {
   "cell_type": "code",
   "execution_count": null,
   "id": "60352ed9",
   "metadata": {},
   "outputs": [],
   "source": [
    "df_ClientOps = pd.read_excel(folder_path + \"/transformed_data/3. ClientOps/Suivi ClientOps_concaténé.xlsx\",sheet_name=\"ClientOps\")"
   ]
  },
  {
   "cell_type": "markdown",
   "id": "63f72499",
   "metadata": {},
   "source": [
    "### Régul compte à compte"
   ]
  },
  {
   "cell_type": "markdown",
   "id": "2100a5cb",
   "metadata": {},
   "source": [
    "Ce sont les fichiers que nous avons trouvés dans les dossiers archivés. Donc il y a plein de lignes en doublon entre les fichiers."
   ]
  },
  {
   "cell_type": "code",
   "execution_count": null,
   "id": "37672db9",
   "metadata": {},
   "outputs": [],
   "source": [
    "regul_cac_file = pd.ExcelFile(folder_path + \"/raw_data/1. Virements/ClientOps/Régul compte à compte/Regularization (starting April 19, 2019).xlsx\")\n",
    "df_regul_cac = pd.DataFrame()\n",
    "for sheet_name in regul_cac_file.sheet_names:\n",
    "    if sheet_name != 'Virements mode emploi' and sheet_name != 'XL to CAM':\n",
    "        df_regul = regul_cac_file.parse(sheet_name)\n",
    "        df_regul[\"Sens de virement à faire\"] = sheet_name\n",
    "        df_regul_cac = pd.concat([df_regul_cac,df_regul])\n",
    "df_regul_cac = df_regul_cac[[\"Sens de virement à faire\",\"Reception date\",\"Amount\",\"Associate\",\"Order\",\"Comments\"]]\n",
    "df_regul_cac = df_regul_cac.rename(columns={\"Amount\":\"Amount_RegulClientOps\"})"
   ]
  },
  {
   "cell_type": "markdown",
   "id": "dd8849ec",
   "metadata": {},
   "source": [
    "# Nettoyer"
   ]
  },
  {
   "cell_type": "markdown",
   "id": "58300795",
   "metadata": {},
   "source": [
    "## Relevé bancaire"
   ]
  },
  {
   "cell_type": "markdown",
   "id": "a51ee97a",
   "metadata": {},
   "source": [
    "### Comptes étrangers - à activer la cellule pour lancer le rapprochement sur les comptes étrangers"
   ]
  },
  {
   "cell_type": "code",
   "execution_count": null,
   "id": "5f81544d",
   "metadata": {},
   "outputs": [],
   "source": [
    "# df_virements = df_virements_etrangers\n",
    "# df_virements[\"Titulaire\"] = df_virements[\"Titulaire_clean\"] ### Forcer les valeurs car sur nos relevés domestiques, nous avons ces données\n",
    "# df_virements[\"Product_motif\"] = \"\"\n",
    "# df_virements = df_virements[['Id sys', 'Date', 'Valeur', 'Libellé', 'Débit', 'Crédit',\n",
    "#        'Fonds', 'Type_Transaction', 'Titulaire', 'Titulaire_clean','IBAN',\n",
    "#        'Motif1', 'Motif2', 'Product_motif']]"
   ]
  },
  {
   "cell_type": "markdown",
   "id": "39ef5873",
   "metadata": {},
   "source": [
    "### BRED et Autres - à activer la cellule pour lancer le rapprochement sur BRED et Autres"
   ]
  },
  {
   "cell_type": "code",
   "execution_count": null,
   "id": "81435786",
   "metadata": {},
   "outputs": [],
   "source": [
    "# #### A désactiver si vous voulez lancer sur ces données historiques\n",
    "# ### Cette partie est juste pour lancer les données de la Bred et Autres\n",
    "# df_virements_bred = df_virements_bred[df_virements_bred[\"Type_Transaction\"]==\"VIREMENT\"]\n",
    "# df_virements_autres = df_virements_autres[df_virements_autres[\"Vérification manuelle Merlin\"]==\"Collecte associé\"]\n",
    "\n",
    "\n",
    "# patern_titulaire = r'FRM (.+?)\\/|DE (.+?)\\/'\n",
    "# patern_motif1 = r'EID (.+?)\\/|MOTIF (.+?)\\/'\n",
    "# patern_motif2 = r'RNF (.*)'\n",
    "# patern_clean_titulaire = r'([a-zA-Z\\s\\-\\.\\d\\&\\-\\+]+)'\n",
    "\n",
    "# df_virements_autres[\"Libellé\"] = df_virements_autres['Libellé'].replace(r'\\s+', ' ', regex=True).str.strip()\n",
    "\n",
    "# df_result = df_virements_autres['Libellé'].str.extract(patern_titulaire)\n",
    "# df_virements_autres[\"Titulaire\"] = df_result[0].combine_first(df_result[1])\n",
    "# df_virements_autres[\"Titulaire_clean\"] = df_virements_autres['Titulaire'].str.extract(patern_clean_titulaire)\n",
    "# df_virements_autres[\"Titulaire_clean\"] = df_virements_autres[\"Titulaire_clean\"].str.strip()\n",
    "\n",
    "# df_result = df_virements_autres['Libellé'].str.extract(patern_motif1)\n",
    "# df_virements_autres[\"Motif1\"] = df_result[0].combine_first(df_result[1])\n",
    "# df_virements_autres[\"Motif2\"] = df_virements_autres['Libellé'].str.extract(patern_motif2)\n",
    "# df_virements_autres.loc[:,\"Product_motif\"] = df_virements_autres.apply(lambda f : get_product_motif(f[\"Motif1\"],f[\"Motif2\"]), axis=1)\n",
    "\n",
    "# df_virements_autres = clean_libelle_to_titulaire(df_virements_autres,\"Titulaire_clean\",\"Titulaire_clean\",list_bic,bol_clean_voyelles=False)\n",
    "# df_virements_autres = clean_libelle_to_titulaire(df_virements_autres,\"Motif1\",\"Motif1\",list_bic)\n",
    "# df_virements_autres = clean_libelle_to_titulaire(df_virements_autres,\"Motif2\",\"Motif2\",list_bic)\n",
    "\n",
    "# df_virements_autres_2 = df_virements_autres[(df_virements_autres[\"Titulaire_clean\"]== \"nan\") | (df_virements_autres[\"Titulaire_clean\"]== \"\")]\n",
    "# df_virements_autres_1 = df_virements_autres[~df_virements_autres[\"Id sys\"].isin(df_virements_autres_2['Id sys'])]\n",
    "\n",
    "# df_virements_autres_2 = clean_libelle_to_titulaire(df_virements_autres_2,\"Titulaire_clean\",\"Libellé\",list_bic)\n",
    "# df_virements_autres = pd.concat([df_virements_autres_1,df_virements_autres_2])\n",
    "# df_virements_autres.loc[:,\"Id sys\"] = df_virements_autres.loc[:,\"Id sys\"].astype(str)\n",
    "\n",
    "# df_virements = pd.concat([df_virements_autres,df_virements_bred])\n",
    "# df_virements = df_virements[['Id sys', 'Date', 'Valeur', 'Libellé', 'Débit', 'Crédit',\n",
    "#        'Fonds', 'Type_Transaction', 'Titulaire', 'Titulaire_clean','IBAN',\n",
    "#        'Motif1', 'Motif2', 'Product_motif']]"
   ]
  },
  {
   "cell_type": "markdown",
   "id": "2895f6c9",
   "metadata": {},
   "source": [
    "### Comptes français récents"
   ]
  },
  {
   "cell_type": "markdown",
   "id": "38e24786",
   "metadata": {},
   "source": [
    "__Il faut bien désactiver les cellules précéentes__"
   ]
  },
  {
   "cell_type": "code",
   "execution_count": null,
   "id": "932a7661",
   "metadata": {},
   "outputs": [],
   "source": [
    "df_virements = df_virements[['Id sys', 'Date', 'Valeur', 'Libellé', 'Débit', 'Crédit',\n",
    "       'Fonds', 'Type_Transaction', 'Titulaire', 'Titulaire_clean','IBAN',\n",
    "       'Motif1', 'Motif2', 'Product_motif']]"
   ]
  },
  {
   "cell_type": "markdown",
   "id": "5705f11c",
   "metadata": {},
   "source": [
    "### Pour tous"
   ]
  },
  {
   "cell_type": "code",
   "execution_count": null,
   "id": "889e3b2e",
   "metadata": {},
   "outputs": [],
   "source": [
    "liste_colonnes_trier = [\"Fonds\",\"Titulaire_clean\",\"Crédit\"]\n",
    "colonne_date = \"Valeur\"\n",
    "id_column = \"Id sys\"\n",
    "df_vir_doublons = verification_doublons(df_virements,liste_colonnes_trier,colonne_date,id_column)"
   ]
  },
  {
   "cell_type": "code",
   "execution_count": null,
   "id": "29e4f42f",
   "metadata": {},
   "outputs": [],
   "source": [
    "df_virements = df_virements[~df_virements[\"Id sys\"].isin(df_vir_doublons[\"Id sys\"])]"
   ]
  },
  {
   "cell_type": "code",
   "execution_count": null,
   "id": "22b2c9c3",
   "metadata": {},
   "outputs": [],
   "source": [
    "len(df_virements) + len(df_vir_doublons)"
   ]
  },
  {
   "cell_type": "markdown",
   "id": "f908adc6",
   "metadata": {},
   "source": [
    "## Soucription"
   ]
  },
  {
   "cell_type": "code",
   "execution_count": null,
   "id": "e99f3f12",
   "metadata": {},
   "outputs": [],
   "source": [
    "df_souscription = clean_souscription(df_souscription,True)\n",
    "df_souscription = df_souscription[~df_souscription[\"Id_order\"].isnull()]"
   ]
  },
  {
   "cell_type": "code",
   "execution_count": null,
   "id": "9565c5c3",
   "metadata": {},
   "outputs": [],
   "source": [
    "# ### Prendre les colonnes Amount_Bulletin et SharesNumber_Dec au lieu de Amount et SharesNumber\n",
    "# df_souscription[\"Amount_Bulletin_order\"] = df_souscription[\"Amount_Bulletin_order\"].fillna(df_souscription[\"SubscriptionAmount_order\"])\n",
    "# df_souscription[\"SharesNumber_Dec_order\"] = df_souscription[\"SharesNumber_Dec_order\"].fillna(df_souscription[\"SharesNumber_order\"])\n",
    "\n",
    "# df_souscription = df_souscription.drop(columns=[\"SharesNumber_order\",\"SubscriptionAmount_order\"]).rename(columns={\n",
    "#                                                 \"SharesNumber_Dec_order\":\"SharesNumber_order\",\n",
    "#                                                 \"Amount_Bulletin_order\":\"SubscriptionAmount_order\"\n",
    "# })"
   ]
  },
  {
   "cell_type": "code",
   "execution_count": null,
   "id": "bbf18400",
   "metadata": {},
   "outputs": [],
   "source": [
    "df_souscription[\"PropertyType_order\"] = df_souscription[\"PropertyType_order\"].map({\"Nue propriété\":\"NP\",\n",
    "                                                                                    \"Pleine propriété\":\"PP\",\n",
    "                                                                                    \"Usufruit\":\"UF\"})"
   ]
  },
  {
   "cell_type": "code",
   "execution_count": null,
   "id": "9cb2252f",
   "metadata": {},
   "outputs": [],
   "source": [
    "####### Recréer la table de connection_démembrement pour les données avant 062021\n",
    "### Pour info, la table SQL connection_demembrement n'existe que depuis 062021\n",
    "df_souscription_dm = df_souscription[df_souscription[\"PropertyType_order\"]!=\"PP\"][[\"Id_order\",\"Matching_NP_Ordre_order\",\"Matching_UF_Ordre_order\",\"SharesNumber_order\",\"SubscriptionAmount_order\",\"Matching_NP_Ordre_ID_order\",\"Matching_UF_Ordre_ID_order\"]]\n",
    "\n",
    "df_souscription_dm_NP = df_souscription_dm[[\"Id_order\",\"Matching_NP_Ordre_ID_order\",\"Matching_NP_Ordre_order\",\"SharesNumber_order\",\"SubscriptionAmount_order\"]].rename(columns={\"Matching_NP_Ordre_order\":\"SubscriptionName_order\"})\n",
    "df_souscription_dm_NP[\"PropertyType_order\"] = \"NP\"\n",
    "df_souscription_dm_NP = df_souscription_dm_NP.rename(columns={\"Matching_NP_Ordre_ID_order\":\"Matching_Ordre_ID\"})\n",
    "\n",
    "df_souscription_dm_UF = df_souscription_dm[[\"Id_order\",\"Matching_UF_Ordre_ID_order\",\"Matching_UF_Ordre_order\",\"SharesNumber_order\",\"SubscriptionAmount_order\"]].rename(columns={\"Matching_UF_Ordre_order\":\"SubscriptionName_order\"})\n",
    "df_souscription_dm_UF[\"PropertyType_order\"] = \"UF\"\n",
    "df_souscription_dm_UF = df_souscription_dm_UF.rename(columns={\"Matching_UF_Ordre_ID_order\":\"Matching_Ordre_ID\"})\n",
    "\n",
    "df_souscription_dm = pd.concat([df_souscription_dm_NP,df_souscription_dm_UF]).sort_values(\"Id_order\")\n",
    "df_souscription_dm = df_souscription_dm[~df_souscription_dm[\"Id_order\"].isnull()]\n",
    "df_souscription_dm = df_souscription_dm[~df_souscription_dm[\"SubscriptionName_order\"].isnull()]"
   ]
  },
  {
   "cell_type": "markdown",
   "id": "121dd578",
   "metadata": {},
   "source": [
    "## BO"
   ]
  },
  {
   "cell_type": "code",
   "execution_count": null,
   "id": "24070668",
   "metadata": {},
   "outputs": [],
   "source": [
    "df_BO, df_control_donnes_BO = clean_BO(df_BO)"
   ]
  },
  {
   "cell_type": "code",
   "execution_count": null,
   "id": "1f21e3ff",
   "metadata": {},
   "outputs": [],
   "source": [
    "#### Il y a des mouvements pour lesquels, order_id est nul =>> à vérifier par Louise\n",
    "df_BO_OrderName_null = df_BO[df_BO[\"SubscriptionType\"] == \"Classique\"]\n",
    "df_BO_OrderName_null = df_BO_OrderName_null[df_BO_OrderName_null[\"Subscription_Order_Id\"].isnull()]"
   ]
  },
  {
   "cell_type": "code",
   "execution_count": null,
   "id": "e3cee03a",
   "metadata": {},
   "outputs": [],
   "source": [
    "df_BO = df_BO[~df_BO[\"Id\"].isin(df_BO_OrderName_null[\"Id\"])]"
   ]
  },
  {
   "cell_type": "code",
   "execution_count": null,
   "id": "906aa675",
   "metadata": {
    "scrolled": true
   },
   "outputs": [],
   "source": [
    "df_BO_OrderName_null.to_excel(folder_path + \"/output/0. BO/Liste des mouvements avec Subscription_Order_Id null.xlsx\",sheet_name=\"BO\",index=False)"
   ]
  },
  {
   "cell_type": "code",
   "execution_count": null,
   "id": "749ea730",
   "metadata": {},
   "outputs": [],
   "source": [
    "df_BO_PP = df_BO[df_BO[\"PropertyType\"]==\"PP\"]\n",
    "df_BO_demembrement = df_BO[df_BO[\"PropertyType\"]!=\"PP\"]"
   ]
  },
  {
   "cell_type": "code",
   "execution_count": null,
   "id": "209639ab",
   "metadata": {},
   "outputs": [],
   "source": [
    "df_BO_demembrement1 = df_BO_demembrement[df_BO_demembrement[\"SubscriptionDate\"] >= '2021-06-01']\n",
    "df_BO_demembrement2 = df_BO_demembrement[df_BO_demembrement[\"SubscriptionDate\"] < '2021-06-01']"
   ]
  },
  {
   "cell_type": "markdown",
   "id": "729eb77d",
   "metadata": {},
   "source": [
    "### Commentaire BO"
   ]
  },
  {
   "cell_type": "code",
   "execution_count": null,
   "id": "15619953",
   "metadata": {},
   "outputs": [],
   "source": [
    "####### Concaténer toutes les infos de commentaire en une seule colonne\n",
    "df_commentaire[\"subject\"] = df_commentaire[\"subject\"].fillna(\"NA\") \n",
    "df_commentaire[\"NoteText\"] = df_commentaire[\"NoteText\"].fillna(\"NA\") \n",
    "df_commentaire[\"cor_ordreid\"] = df_commentaire[\"cor_ordreid\"].str.lower()\n",
    "df_commentaire[\"NoteBO\"] = df_commentaire[\"createdon\"] + \", [Objet] \" +  df_commentaire[\"subject\"] + \", [Note] \" + df_commentaire[\"NoteText\"]\n",
    "df_commentaire_agg = df_commentaire.groupby(by=\"cor_ordreid\").agg({\"NoteBO\":\"\\n\".join}).reset_index()\n",
    "df_commentaire_agg = df_commentaire_agg.rename(columns={\"cor_ordreid\":\"Id_order\"})"
   ]
  },
  {
   "cell_type": "markdown",
   "id": "49c57b2f",
   "metadata": {},
   "source": [
    "### Vérifier les données de Pleine propriété (total montant Mouvements vs Montant Souscription)"
   ]
  },
  {
   "cell_type": "code",
   "execution_count": null,
   "id": "c42e828c",
   "metadata": {},
   "outputs": [],
   "source": [
    "def check_ecart(ecart_montant,ecart_nb_parts):\n",
    "    if abs(ecart_montant) >=3 or abs(ecart_nb_parts) >= 1:\n",
    "        return True\n",
    "    return False"
   ]
  },
  {
   "cell_type": "code",
   "execution_count": null,
   "id": "1e4e44db",
   "metadata": {},
   "outputs": [],
   "source": [
    "# ##### Agréger le montant et le nb de parts\n",
    "# df_BO_PP_matched = df_BO_PP.groupby(by=[\"Subscription_Order_Id\",\"Subscription_Order_Name\",\"ClientName\",\"Product\",\"PropertyType\"]).agg({\n",
    "#                                             \"SharesNumber\":\"sum\",\n",
    "#                                             \"Amount\":\"sum\"}).reset_index().rename(columns={\n",
    "#                                                                     \"SharesNumber\":\"SharesNumber_cumule\",\n",
    "#                                                                     \"Amount\":\"Amount_cumule\"})\n",
    "\n",
    "# #### Récupérer le montant, le nb parts,date de souscription dans la table de souscription\n",
    "# df_BO_PP_matched = df_BO_PP_matched.merge(df_souscription[[\"Id_order\",\"SubscriptionDate_order\",\"SubscriptionAmount_order\",\"SharesNumber_order\"]],\n",
    "#                     left_on=\"Subscription_Order_Id\",\n",
    "#                     right_on=\"Id_order\",how=\"outer\",indicator=True).drop(columns=\"Id_order\").rename(columns={\n",
    "#                     \"SubscriptionAmount_order\":\"Amount\",\n",
    "#                     \"SharesNumber_order\":\"SharesNumber\",\n",
    "#                     \"SubscriptionDate_order\":\"SubscriptionDate\"\n",
    "#     })\n",
    "\n",
    "# df_BO_PP_matched[\"Ecart_montant\"] = df_BO_PP_matched[\"Amount\"] - df_BO_PP_matched[\"Amount_cumule\"]\n",
    "# df_BO_PP_matched[\"Ecart_nb_parts\"] = df_BO_PP_matched[\"SharesNumber\"] - df_BO_PP_matched[\"SharesNumber_cumule\"]\n",
    "\n",
    "# df_BO_PP_matched[\"Ecart\"] = df_BO_PP_matched.apply(lambda f:check_ecart(f[\"Ecart_montant\"],f[\"Ecart_nb_parts\"]),axis=1)\n",
    "# df_BO_PP_matched_ecart = df_BO_PP_matched[df_BO_PP_matched[\"Ecart\"] ==True]\n",
    "\n",
    "# df_BO_PP_matched_ecart.to_excel(folder_path + \"/output/0. BO/All_Ecart Montant entre Mouvement et Souscription_PP_Nouvelles données.xlsx\",sheet_name=\"Ecart\",index=False)"
   ]
  },
  {
   "cell_type": "code",
   "execution_count": null,
   "id": "e2e71ad2",
   "metadata": {},
   "outputs": [],
   "source": [
    "##### Agréger le montant et le nb de parts\n",
    "df_BO_PP_matched = df_BO_PP.groupby(by=[\"Subscription_Order_Id\",\"SubscriptionDate\",\"Subscription_Order_Name\",\"ClientName\",\"Product\",\"PropertyType\"]).agg({\n",
    "                                            \"SharesNumber\":\"sum\",\n",
    "                                            \"Amount\":\"sum\"}).reset_index()\n",
    "\n",
    "#### Récupérer le montant, le nb parts,date de souscription dans la table de souscription\n",
    "df_BO_PP_matched = df_BO_PP_matched.merge(df_souscription[[\"Id_order\",\"SubscriptionDate_order\",\"SubscriptionAmount_order\",\"SharesNumber_order\"]],\n",
    "                    left_on=\"Subscription_Order_Id\",\n",
    "                    right_on=\"Id_order\",how=\"outer\",indicator=True).drop(columns=\"Id_order\")\n",
    "df_BO_PP_matched = df_BO_PP_matched[df_BO_PP_matched[\"_merge\"]!=\"right_only\"]\n",
    "df_BO_PP_matched[\"Ecart_montant\"] = df_BO_PP_matched[\"SubscriptionAmount_order\"] - df_BO_PP_matched[\"Amount\"]\n",
    "df_BO_PP_matched[\"Ecart_nb_parts\"] = df_BO_PP_matched[\"SharesNumber_order\"] - df_BO_PP_matched[\"SharesNumber\"]\n",
    "\n",
    "df_BO_PP_matched[\"Ecart\"] = df_BO_PP_matched.apply(lambda f:check_ecart(f[\"Ecart_montant\"],f[\"Ecart_nb_parts\"]),axis=1)\n",
    "df_BO_PP_matched_ecart = df_BO_PP_matched[df_BO_PP_matched[\"Ecart\"] ==True]\n",
    "\n",
    "df_BO_PP_matched_ecart.to_excel(folder_path + \"/output/0. BO/All_Ecart Montant entre Mouvement et Souscription_PP_Nouvelles données.xlsx\",sheet_name=\"Ecart\",index=False)\n",
    "df_BO_PP_matched = df_BO_PP_matched.drop(columns=['_merge', 'Ecart_montant', 'Ecart_nb_parts','Ecart'])"
   ]
  },
  {
   "cell_type": "markdown",
   "id": "9c9758d8",
   "metadata": {},
   "source": [
    "### Démembrement"
   ]
  },
  {
   "cell_type": "markdown",
   "id": "358d6c1c",
   "metadata": {},
   "source": [
    "#### Depuis 0621"
   ]
  },
  {
   "cell_type": "markdown",
   "id": "afa4be1d",
   "metadata": {},
   "source": [
    "Pour les données depuis 0621, nous avons la table connection_demembrement dans DataHub qui nous permet de récupérer le vrai ordre pour UF et NP"
   ]
  },
  {
   "cell_type": "code",
   "execution_count": null,
   "id": "ee828295",
   "metadata": {},
   "outputs": [],
   "source": [
    "df_connection_demembrement[\"Connection Role\"] = df_connection_demembrement[\"Connection Role \"].map({\\\n",
    "                                                  \"Nu-Propriétaire\":\"NP\",\\\n",
    "                                                  \"Usufruitier\":\"UF\"})"
   ]
  },
  {
   "cell_type": "code",
   "execution_count": null,
   "id": "7df64a9c",
   "metadata": {},
   "outputs": [],
   "source": [
    "len(df_BO_demembrement1)"
   ]
  },
  {
   "cell_type": "code",
   "execution_count": null,
   "id": "eb4092aa",
   "metadata": {},
   "outputs": [],
   "source": [
    "df_BO_demembrement1 = df_BO_demembrement1.merge(df_connection_demembrement[[\"Movement Name\",\"Subscription Order 1 Name\",\"Id Subscription Order 1\",\"Connection Role\"]],\\\n",
    "                              left_on = [\"Idmove\",\"PropertyType\"],right_on=[\"Movement Name\",\"Connection Role\"] )\n",
    "df_BO_demembrement1 = df_BO_demembrement1.drop(columns=[\"Movement Name\",\"Subscription_Order_Id\",\"Subscription_Order_Name\",\"Connection Role\"])\n",
    "df_BO_demembrement1 = df_BO_demembrement1.rename(columns = {\"Subscription Order 1 Name\":\"Subscription_Order_Name\",\\\n",
    "                            \"Id Subscription Order 1\":\"Subscription_Order_Id\"})"
   ]
  },
  {
   "cell_type": "code",
   "execution_count": null,
   "id": "f990088e",
   "metadata": {},
   "outputs": [],
   "source": [
    "df_BO_demembrement1 = df_BO_demembrement1.groupby(by=['Subscription_Order_Id', 'SubscriptionDate',\n",
    "                                                         'Subscription_Order_Name','ClientName',\n",
    "                                                          'Product', 'PropertyType']).agg({\n",
    "                                                        'Amount':'sum', 'SharesNumber':'sum'\n",
    "                                                    }).reset_index()"
   ]
  },
  {
   "cell_type": "code",
   "execution_count": null,
   "id": "99bdcaae",
   "metadata": {},
   "outputs": [],
   "source": [
    "len(df_BO_demembrement1) ### La différence vient des données toutes récentes (depuis 11/2022 qui ne sont pas encore intégrées dans le traitement)"
   ]
  },
  {
   "cell_type": "markdown",
   "id": "1a9a31ce",
   "metadata": {},
   "source": [
    "#### Avant 0621"
   ]
  },
  {
   "cell_type": "markdown",
   "id": "bc12283c",
   "metadata": {},
   "source": [
    "Pour les données avant 0621, il faut passer par la table Souscription pour récupérer ID_Matching et puis recréer la table de connection_demembrement"
   ]
  },
  {
   "cell_type": "code",
   "execution_count": null,
   "id": "4560d54f",
   "metadata": {},
   "outputs": [],
   "source": [
    "#### Merger avec la table de connection souscription pour récupérer ID et Order_Name\n",
    "df_BO_demembrement2 = df_BO_demembrement2.merge(df_souscription_dm,left_on=[\"Subscription_Order_Id\",\"PropertyType\"],\\\n",
    "                                 right_on=[\"Id_order\",\"PropertyType_order\"])\n",
    "\n",
    "##### Agréger le montant et le nb de parts\n",
    "df_BO_demembrement_matched = df_BO_demembrement2.groupby(by=[\"Matching_Ordre_ID\",\"SubscriptionName_order\",\"ClientName\",\"Product\",\"PropertyType\"]).agg({\n",
    "                                            \"SharesNumber\":\"sum\",\n",
    "                                            \"Amount\":\"sum\"}).reset_index().rename(columns={\n",
    "                                                                    \"Matching_Ordre_ID\":\"Subscription_Order_Id\",\n",
    "                                                                    \"SubscriptionName_order\":\"Subscription_Order_Name\"})\n",
    "#                                                                     ,\"SharesNumber\":\"SharesNumber_cumule\",\n",
    "#                                                                     \"Amount\":\"Amount_cumule\"})\n",
    "\n",
    "#### Récupérer le montant, le nb parts,date de souscription dans la table de souscription\n",
    "df_BO_demembrement_matched = df_BO_demembrement_matched.merge(df_souscription[[\"Id_order\",\"SubscriptionDate_order\",\"SubscriptionAmount_order\",\"SharesNumber_order\"]],\n",
    "                    left_on=\"Subscription_Order_Id\",\n",
    "                    right_on=\"Id_order\").drop(columns=\"Id_order\").rename(columns={\n",
    "#                     \"SubscriptionAmount_order\":\"Amount\"\n",
    "#                     ,\"SharesNumber_order\":\"SharesNumber\",\n",
    "                    \"SubscriptionDate_order\":\"SubscriptionDate\"\n",
    "})\n",
    "\n",
    "### Il y a des ordres dans Souscription dont la date de souscription n'est pas renseignée\n",
    "df_BO_demembrement_matched_date_null = df_BO_demembrement_matched[df_BO_demembrement_matched[\"SubscriptionDate\"].isnull()]\n",
    "df_BO_demembrement_matched_date_ok = df_BO_demembrement_matched[~df_BO_demembrement_matched[\"SubscriptionDate\"].isnull()]\n",
    "\n",
    "### Récupérer la date de souscription dans la table de Mouvements\n",
    "df_BO_demembrement_matched_date_null = df_BO_demembrement_matched_date_null.drop(columns=\"SubscriptionDate\").merge(df_BO_demembrement[[\"Subscription_Order_Id\",\"Product\",\"PropertyType\",\"SubscriptionDate\"]],\n",
    "                                                                                 on=[\"Subscription_Order_Id\",\"Product\",\"PropertyType\"],\n",
    "                                                                                how=\"outer\",indicator = True)\n",
    "df_BO_demembrement_matched_date_null = df_BO_demembrement_matched_date_null[df_BO_demembrement_matched_date_null[\"_merge\"]!=\"right_only\"].drop(columns=\"_merge\")\n",
    "\n",
    "df_BO_demembrement_matched = pd.concat([df_BO_demembrement_matched_date_ok,df_BO_demembrement_matched_date_null])"
   ]
  },
  {
   "cell_type": "markdown",
   "id": "e2059c51",
   "metadata": {},
   "source": [
    "#### Concat BO"
   ]
  },
  {
   "cell_type": "code",
   "execution_count": null,
   "id": "4882d986",
   "metadata": {},
   "outputs": [],
   "source": [
    "df_BO = pd.concat([df_BO_PP_matched,df_BO_demembrement1,df_BO_demembrement_matched])"
   ]
  },
  {
   "cell_type": "markdown",
   "id": "d4f81feb",
   "metadata": {},
   "source": [
    "## Merge avec Souscription"
   ]
  },
  {
   "cell_type": "code",
   "execution_count": null,
   "id": "11a6807c",
   "metadata": {},
   "outputs": [],
   "source": [
    "####### Récupérer le mode de paiement\n",
    "df_BO = df_BO.merge(df_souscription[[\"Idsubscriptionorder_order\",\"PaymentMode_order\",\"Id_order\"]],\\\n",
    "                    left_on = \"Subscription_Order_Id\", right_on=\"Id_order\",\\\n",
    "                    how=\"outer\",indicator=True)\n",
    "df_BO = df_BO[df_BO[\"_merge\"]!=\"right_only\"].drop(columns=\"_merge\")"
   ]
  },
  {
   "cell_type": "code",
   "execution_count": null,
   "id": "78d1e7a1",
   "metadata": {},
   "outputs": [],
   "source": [
    "##### Récupérer commentaire\n",
    "df_BO = df_BO.merge(df_commentaire_agg,on=\"Id_order\",how=\"outer\",indicator=True)\n",
    "df_BO = df_BO[df_BO[\"_merge\"]!=\"right_only\"].drop(columns=\"_merge\")"
   ]
  },
  {
   "cell_type": "code",
   "execution_count": null,
   "id": "ad969ded",
   "metadata": {},
   "outputs": [],
   "source": [
    "# ###################### Spliter df_BO selon le mode de paiement #######################\n",
    "df_BO_virs = df_BO[df_BO[\"PaymentMode_order\"]==\"Virement\"]\n",
    "df_BO_prlv = df_BO[df_BO[\"PaymentMode_order\"]==\"Prélèvement\"]\n",
    "df_BO_cheques= df_BO[df_BO[\"PaymentMode_order\"]==\"Chèque\"]\n",
    "df_BO_autres = df_BO[~df_BO[\"PaymentMode_order\"].isin([\"Virement\",\"Prélèvement\",\"Chèque\"])]"
   ]
  },
  {
   "cell_type": "code",
   "execution_count": null,
   "id": "7e4d90be",
   "metadata": {},
   "outputs": [],
   "source": [
    "df_control_donnes_BO = control_script(df_control_donnes_BO,\\\n",
    "                                   \"SubscriptionName null\",df_BO_OrderName_null[\"Id\"].count(),\\\n",
    "                                   df_BO_OrderName_null[\"Amount\"].sum())\n",
    "df_control_donnes_BO = control_script(df_control_donnes_BO,\\\n",
    "                                   \"virs\",df_BO_virs[\"Subscription_Order_Id\"].count(),\\\n",
    "                                   df_BO_virs[\"Amount\"].sum())\n",
    "df_control_donnes_BO = control_script(df_control_donnes_BO,\\\n",
    "                                   \"prlv\",df_BO_prlv[\"Subscription_Order_Id\"].count(),\\\n",
    "                                   df_BO_prlv[\"Amount\"].sum())\n",
    "df_control_donnes_BO = control_script(df_control_donnes_BO,\\\n",
    "                                   \"Chèque\",df_BO_cheques[\"Subscription_Order_Id\"].count(),\\\n",
    "                                   df_BO_cheques[\"Amount\"].sum())\n",
    "df_control_donnes_BO = control_script(df_control_donnes_BO,\\\n",
    "                                   \"Autres\",df_BO_autres[\"Subscription_Order_Id\"].count(),\\\n",
    "                                   df_BO_autres[\"Amount\"].sum())"
   ]
  },
  {
   "cell_type": "code",
   "execution_count": null,
   "id": "8ef9495c",
   "metadata": {},
   "outputs": [],
   "source": [
    "df_BO  = df_BO[['Subscription_Order_Id', 'SubscriptionDate', 'Subscription_Order_Name',\n",
    "       'ClientName', 'Product', 'PropertyType', 'SharesNumber', 'Amount',\n",
    "       'SubscriptionDate_order', 'SubscriptionAmount_order',\n",
    "       'SharesNumber_order', 'Idsubscriptionorder_order', 'PaymentMode_order', 'Id_order', 'NoteBO']]"
   ]
  },
  {
   "cell_type": "code",
   "execution_count": null,
   "id": "59f09c19",
   "metadata": {},
   "outputs": [],
   "source": [
    "df_BO.to_excel(folder_path + \"/transformed_data/1. BO/Mouvements BO clean.xlsx\",sheet_name=\"BO\")"
   ]
  },
  {
   "cell_type": "markdown",
   "id": "348a4d3d",
   "metadata": {},
   "source": [
    "## ClientOps"
   ]
  },
  {
   "cell_type": "markdown",
   "id": "bdbb2169",
   "metadata": {},
   "source": [
    "# Mapping"
   ]
  },
  {
   "cell_type": "code",
   "execution_count": null,
   "id": "26dbcb9e",
   "metadata": {},
   "outputs": [],
   "source": [
    "### Garder la valeur initiale juste pour relancer si besoin de re-tester ou débugger\n",
    "df_virs_initial = df_virements\n",
    "df_bo_virs_initial = df_BO_virs#[df_BO_virs[\"PropertyType\"]==\"PP\"] #################### A ENLEVER ########\n",
    "df_vir_doublons_initial = df_vir_doublons\n",
    "df_ClientOps_itinial = df_ClientOps"
   ]
  },
  {
   "cell_type": "markdown",
   "id": "e7a5683a",
   "metadata": {},
   "source": [
    "## Rapprochement autotmatique"
   ]
  },
  {
   "cell_type": "code",
   "execution_count": null,
   "id": "16f5d516",
   "metadata": {},
   "outputs": [],
   "source": [
    "df_virements = df_virs_initial\n",
    "df_BO_virs = df_bo_virs_initial\n",
    "df_vir_doublons = df_vir_doublons_initial\n",
    "df_ClientOps = df_ClientOps_itinial"
   ]
  },
  {
   "cell_type": "markdown",
   "id": "b30b276d",
   "metadata": {},
   "source": [
    "### Pleine propriété"
   ]
  },
  {
   "cell_type": "code",
   "execution_count": null,
   "id": "1a239c89",
   "metadata": {},
   "outputs": [],
   "source": [
    "df_BO_virs_PP = df_BO_virs[df_BO_virs[\"PropertyType\"]==\"PP\"]"
   ]
  },
  {
   "cell_type": "code",
   "execution_count": null,
   "id": "47acf127",
   "metadata": {},
   "outputs": [],
   "source": [
    "len(df_virements) + len(df_vir_doublons)"
   ]
  },
  {
   "cell_type": "code",
   "execution_count": null,
   "id": "e33ae92f",
   "metadata": {
    "scrolled": false
   },
   "outputs": [],
   "source": [
    "liste_colonnes_trier = [\"Fonds\",\"Titulaire_clean\",\"Crédit\"]\n",
    "colonne_date = \"Valeur\"\n",
    "id_column = \"Id sys\"\n",
    "df_vir_doublons = verification_doublons(df_virements,liste_colonnes_trier,colonne_date,id_column)"
   ]
  },
  {
   "cell_type": "code",
   "execution_count": null,
   "id": "a48556a3",
   "metadata": {},
   "outputs": [],
   "source": [
    "# df_virements = df_virements.iloc[1400:1500,:]\n",
    "# df_ClientOps = df_ClientOps[df_ClientOps[\"Id sys\"].isin(df_virements[\"Id sys\"])]\n",
    "# df_BO_virs = df_BO_virs[df_BO_virs[\"Subscription_Order_Name\"].isin(df_ClientOps[\"Référence de l'ordre\"])]\n",
    "# df_vir_doublons = df_vir_doublons.head(20)"
   ]
  },
  {
   "cell_type": "code",
   "execution_count": null,
   "id": "9c2ab1a1",
   "metadata": {},
   "outputs": [],
   "source": [
    "# ### Créer un échantillon pour le test\n",
    "# df_BO_virs = df_BO_virs[df_BO_virs[\"Product\"]==\"CC\"]\n",
    "# df_BO_virs = df_BO_virs[df_BO_virs[\"SubscriptionDate\"]<=\"2022-04-30\"]\n",
    "# df_BO_virs = df_BO_virs[df_BO_virs[\"SubscriptionDate\"]>=\"2022-01-01\"]\n",
    "# df_virements = df_virements[df_virements[\"Fonds\"]==\"CC\"]\n",
    "# df_virements = df_virements[df_virements['Valeur']>=\"2022-01-01\"]\n",
    "# df_virements = df_virements[df_virements['Valeur']<=\"2022-04-30\"]\n",
    "# df_vir_doublons = df_vir_doublons[df_vir_doublons[\"Fonds\"]==\"CC\"]\n",
    "# df_vir_doublons = df_vir_doublons[df_vir_doublons['Valeur']>=\"2022-01-01\"]\n",
    "# df_vir_doublons = df_vir_doublons[df_vir_doublons['Valeur']<=\"2022-04-30\"]\n",
    "# df_ClientOps = df_ClientOps[df_ClientOps[\"Id sys\"].isin(df_virements[\"Id sys\"])]"
   ]
  },
  {
   "cell_type": "code",
   "execution_count": null,
   "id": "3b48887d",
   "metadata": {},
   "outputs": [],
   "source": [
    "### Pleine propriété #######\n",
    "df_BO_virs_PP = df_BO_virs[df_BO_virs[\"PropertyType\"]==\"PP\"]\n",
    "df_check_PP, df_BO_virs_PP, list_resultat_PP = rapprochement_total(df_virements,df_vir_doublons,df_BO_virs_PP,df_ClientOps,bol_demembrement=False)"
   ]
  },
  {
   "cell_type": "code",
   "execution_count": null,
   "id": "f605b40e",
   "metadata": {},
   "outputs": [],
   "source": [
    "df_BO_virs_PP[df_BO_virs_PP.duplicated(keep=False)]"
   ]
  },
  {
   "cell_type": "markdown",
   "id": "81789a85",
   "metadata": {},
   "source": [
    "### Démembrement"
   ]
  },
  {
   "cell_type": "code",
   "execution_count": null,
   "id": "828affdf",
   "metadata": {},
   "outputs": [],
   "source": [
    "list_df_check = list(set(df_check_PP[\"Id sys\"]))\n",
    "df_virs_restant = df_virements[~df_virements[\"Id sys\"].isin(list_df_check)]\n",
    "df_vir_doublons_restant = df_vir_doublons[~df_vir_doublons[\"Id sys\"].isin(list_df_check)]"
   ]
  },
  {
   "cell_type": "code",
   "execution_count": null,
   "id": "e6cad923",
   "metadata": {},
   "outputs": [],
   "source": [
    "########## Demembrement #################\n",
    "df_BO_virs_DMBM = df_BO_virs[df_BO_virs[\"PropertyType\"]!=\"PP\"]\n",
    "df_check_DMBM, df_BO_virs_DMBM, list_resultat_DMBM = rapprochement_total(\\\n",
    "                                                                         df_virs_restant,\\\n",
    "                                                                         df_vir_doublons_restant,\\\n",
    "                                                                         df_BO_virs_DMBM,df_ClientOps,\n",
    "                                                                         bol_demembrement=True)"
   ]
  },
  {
   "cell_type": "code",
   "execution_count": null,
   "id": "a7a1f705",
   "metadata": {},
   "outputs": [],
   "source": [
    "list_resultat_DMBM"
   ]
  },
  {
   "cell_type": "code",
   "execution_count": null,
   "id": "873b6278",
   "metadata": {},
   "outputs": [],
   "source": [
    "# len(df_virements_bred[df_virements_bred[\"Date\"]<=\"2014-10-31\"])"
   ]
  },
  {
   "cell_type": "code",
   "execution_count": null,
   "id": "25f71a82",
   "metadata": {},
   "outputs": [],
   "source": [
    "df_check_PP[\"Commentaire\"] = \"PP\"\n",
    "df_check_DMBM[\"Commentaire\"] = \"Demembrement\"\n",
    "df_mappe_total = pd.concat([df_check_PP,df_check_DMBM])\n",
    "df_mappe_total[\"Subscription_Order_Name_overall\"] = df_mappe_total[\"Subscription_Order_Name\"].fillna(df_mappe_total[\"Référence de l'ordre\"])"
   ]
  },
  {
   "cell_type": "code",
   "execution_count": null,
   "id": "06b4ca82",
   "metadata": {},
   "outputs": [],
   "source": [
    "df_virement_total = pd.concat([df_virements,df_vir_doublons])"
   ]
  },
  {
   "cell_type": "code",
   "execution_count": null,
   "id": "e4c23280",
   "metadata": {},
   "outputs": [],
   "source": [
    "####### Need to be checked ###########\n",
    "df_vir_BO_total = pd.concat([df_BO_virs_PP,df_BO_virs_DMBM])"
   ]
  },
  {
   "cell_type": "code",
   "execution_count": null,
   "id": "0c5fdb69",
   "metadata": {},
   "outputs": [],
   "source": [
    "list_mappe_total = list(set(df_mappe_total[\"Id sys\"])) \n",
    "df_virs_restant_manuel = df_virement_total[~df_virement_total[\"Id sys\"].isin(list_mappe_total)]"
   ]
  },
  {
   "cell_type": "code",
   "execution_count": null,
   "id": "37cddbd5",
   "metadata": {},
   "outputs": [],
   "source": [
    "len(df_virement_total)"
   ]
  },
  {
   "cell_type": "markdown",
   "id": "ad798b25",
   "metadata": {},
   "source": [
    "# Retraitement du résultat obtenu"
   ]
  },
  {
   "cell_type": "markdown",
   "id": "4e820849",
   "metadata": {},
   "source": [
    "- Pour les lignes qui ne sont pas rapprochées, on va relancer le script sur les propositions, le reste serait les heavy_checks\n",
    "- Pour les lignes qui sont rapprochées, on va rajouter les infos complémentaires (Mauvais compte, Trop perçu, Moins perçu,...) pour les stats.\n",
    "\n",
    "Et puis on va lancer le script vérification des light checks pour revalider"
   ]
  },
  {
   "cell_type": "markdown",
   "id": "9ffefd9a",
   "metadata": {},
   "source": [
    "## Ajouter les infos BO pour le heavy check"
   ]
  },
  {
   "cell_type": "code",
   "execution_count": null,
   "id": "501f8e0f",
   "metadata": {},
   "outputs": [],
   "source": [
    "df_BO_copy = df_BO_virs\n",
    "df_BO_copy = df_BO_copy[[\"Subscription_Order_Name\",\"ClientName\",\"Amount\",\"SubscriptionDate\",\"Product\",\"PropertyType\",\"NoteBO\"]]\n",
    "df_BO_copy[\"NoteBO\"] = df_BO_copy[\"NoteBO\"].astype(str)\n",
    "df_BO_copy = df_BO_copy.groupby([\"Subscription_Order_Name\",\"ClientName\",\"Product\",\"PropertyType\"]).agg({\\\n",
    "                                                                                        \"Amount\":\"sum\",\\\n",
    "                                                                                        \"SubscriptionDate\":'min',\n",
    "                                                                                        \"NoteBO\":\"\\n\".join}).reset_index()\n",
    "columns_org = df_BO_copy.columns\n",
    "if not \"_BOClientOps\" in columns_org[0]:\n",
    "    new_columns = [x + \"_BOClientOps\" for x in columns_org]\n",
    "    dict_name = dict(zip(columns_org,new_columns))\n",
    "    df_BO_copy = df_BO_copy.rename(columns=dict_name)\n",
    "df_BO_copy[\"Id sys\"] = np.nan"
   ]
  },
  {
   "cell_type": "code",
   "execution_count": null,
   "id": "35df1ac1",
   "metadata": {},
   "outputs": [],
   "source": [
    "df_check_manuel = check_with_BO(df_BO_copy,df_virs_restant_manuel,df_ClientOps)\n",
    "df_check_manuel = df_check_manuel.sort_values(by=\"Id sys\")"
   ]
  },
  {
   "cell_type": "code",
   "execution_count": null,
   "id": "c78580e5",
   "metadata": {},
   "outputs": [],
   "source": [
    "df_check_manuel = df_check_manuel[['Id sys', 'Date', 'Valeur', 'Libellé', 'Crédit',\n",
    "                   'Fonds_x', 'Titulaire', 'Titulaire_clean',\n",
    "                   'Motif1', 'Motif2', 'Product_motif',\n",
    "                   \"Référence de l'ordre\",\"Référence de l'ordre_origin\", 'Fonds_y',\n",
    "                   'Id sys_ClientOps', 'Subscription_Order_Name_BOClientOps',\n",
    "                   'ClientName_BOClientOps', 'Product_BOClientOps',\n",
    "                   'PropertyType_BOClientOps', 'Amount_BOClientOps',\n",
    "                   'SubscriptionDate_BOClientOps', 'NoteBO_BOClientOps']].rename(columns={\n",
    "                                                    \"Fonds_x\":\"Fonds_relevé\",\n",
    "                                                     \"Fonds_y\":\"Fonds_ClientOps\"})"
   ]
  },
  {
   "cell_type": "code",
   "execution_count": null,
   "id": "007e8efe",
   "metadata": {},
   "outputs": [],
   "source": [
    "len(df_check_manuel)"
   ]
  },
  {
   "cell_type": "code",
   "execution_count": null,
   "id": "516a4865",
   "metadata": {},
   "outputs": [],
   "source": [
    "# df_BO_prlv_cheques = pd.concat([df_BO_prlv,df_BO_cheques])\n",
    "# df_BO_prlv_cheques = df_BO_prlv_cheques[[\"Subscription_Order_Name\",\"ClientName\",\"Product\",\\\n",
    "#                                          \"PropertyType\",\"Amount\",\"SubscriptionDate\",\"NoteBO\",\"PaymentMode_order\"]]\n",
    "# df_BO_prlv_cheques.columns = df_BO_prlv_cheques.columns + \"_BOClientOps\""
   ]
  },
  {
   "cell_type": "code",
   "execution_count": null,
   "id": "d937df7d",
   "metadata": {},
   "outputs": [],
   "source": [
    "df_souscription_check = df_souscription[[\"Id_order\",\"Idsubscriptionorder_order\",\"Clientname_order\",\"Product_order\",\n",
    "                                  \"PropertyType_order\",\"SubscriptionAmount_order\",\"SubscriptionDate_order\",\n",
    "                                   \"PaymentMode_order\",\"Status_order\"]].rename(columns={\n",
    "                    \"Idsubscriptionorder_order\":\"Subscription_Order_Name_BOClientOps\",\n",
    "                    \"Clientname_order\" : \"ClientName_BOClientOps\",\n",
    "                    \"Product_order\" : \"Product_BOClientOps\",\n",
    "                    \"PropertyType_order\":\"PropertyType_BOClientOps\",\n",
    "                    \"SubscriptionAmount_order\":\"Amount_BOClientOps\",\n",
    "                    \"SubscriptionDate_order\":\"SubscriptionDate_BOClientOps\",\n",
    "                    \"PaymentMode_order\":\"PaymentMode_order_BOClientOps\",\n",
    "                    \"Status_order\" : \"Status_order_BOClientOps\"\n",
    "                    })"
   ]
  },
  {
   "cell_type": "code",
   "execution_count": null,
   "id": "90d91707",
   "metadata": {},
   "outputs": [],
   "source": [
    "df_check_manuel = df_check_manuel.reset_index()"
   ]
  },
  {
   "cell_type": "code",
   "execution_count": null,
   "id": "cef89f5b",
   "metadata": {},
   "outputs": [],
   "source": [
    "####### Prendre les lignes ayant les donénes BO sont vides\n",
    "df_check_manuel_BO_manquantes = df_check_manuel[~df_check_manuel[\"Référence de l'ordre\"].isnull()]\n",
    "df_check_manuel_BO_manquantes = df_check_manuel_BO_manquantes[df_check_manuel_BO_manquantes[\"Subscription_Order_Name_BOClientOps\"].isnull()]\n",
    "\n",
    "### Supprimer ces colonnes\n",
    "df_check_manuel_BO_manquantes = df_check_manuel_BO_manquantes.drop(columns=[\\\n",
    "                                'Subscription_Order_Name_BOClientOps', 'ClientName_BOClientOps',\n",
    "                               'Product_BOClientOps', 'PropertyType_BOClientOps', 'Amount_BOClientOps',\n",
    "                               'SubscriptionDate_BOClientOps', 'NoteBO_BOClientOps'])\n",
    "####### Récupérer ces infos directement de la table de souscription\n",
    "#### ce sont les lignes ayant le PropertyType = Prélèvement / Chèque au lieu de Virement (erreur d'entreée des données dans BO)\n",
    "#### ou le status = Annulé, Refusé,...\n",
    "df_check_manuel_BO_manquantes = df_check_manuel_BO_manquantes.merge(df_souscription_check,left_on=\"Référence de l'ordre\",\\\n",
    "                                    right_on=\"Subscription_Order_Name_BOClientOps\",\n",
    "                                   how=\"outer\",indicator=True)\n",
    "df_check_manuel_BO_manquantes = df_check_manuel_BO_manquantes[df_check_manuel_BO_manquantes[\"_merge\"]!=\"right_only\"].drop(columns=\"_merge\")\n",
    "\n",
    "### Récupérer le commentaire dans BO\n",
    "df_check_manuel_BO_manquantes = df_check_manuel_BO_manquantes.merge(df_commentaire_agg.rename(columns={\"NoteBO\":\"NoteBO_BOClientOps\"}),\n",
    "                                                                   on=\"Id_order\",how=\"outer\",indicator=True)\n",
    "df_check_manuel_BO_manquantes = df_check_manuel_BO_manquantes[df_check_manuel_BO_manquantes[\"_merge\"]!=\"right_only\"].drop(columns=[\"_merge\",\"Id_order\"])\n",
    "\n",
    "df_check_manuel_BO_ok = df_check_manuel[~df_check_manuel[\"index\"].isin(df_check_manuel_BO_manquantes[\"index\"])]\n",
    "df_check_manuel = pd.concat([df_check_manuel_BO_ok,df_check_manuel_BO_manquantes]).sort_values(by=\"Id sys\").drop(columns=\"index\")"
   ]
  },
  {
   "cell_type": "code",
   "execution_count": null,
   "id": "6dacd109",
   "metadata": {},
   "outputs": [],
   "source": [
    "# df_vir_BO_total.to_excel(folder_path + \"/output/1. Virements/Données BO rapprochées avec relevé.xlsx\",sheet_name=\"Données_mappées\",index=False)\n",
    "# df_check_manuel.to_excel(folder_path + \"/output/1. Virements/Données à vérifier manuellement_heavy check.xlsx\",\"Données_non_rapprochées\",index=False)"
   ]
  },
  {
   "cell_type": "code",
   "execution_count": null,
   "id": "0a79075e",
   "metadata": {},
   "outputs": [],
   "source": [
    "len(df_check_manuel)"
   ]
  },
  {
   "cell_type": "code",
   "execution_count": null,
   "id": "ff4eb661",
   "metadata": {},
   "outputs": [],
   "source": [
    "df_vir_BO_valide = df_vir_BO_total[~df_vir_BO_total[\"Id sys\"].isnull()]"
   ]
  },
  {
   "cell_type": "code",
   "execution_count": null,
   "id": "2c6c8f4f",
   "metadata": {},
   "outputs": [],
   "source": [
    "df_check_manuel[\"Crédit\"].sum() - 1_388_000_000"
   ]
  },
  {
   "cell_type": "code",
   "execution_count": null,
   "id": "905987bd",
   "metadata": {},
   "outputs": [],
   "source": [
    "df_virement_total[\"Crédit\"].sum()"
   ]
  },
  {
   "cell_type": "code",
   "execution_count": null,
   "id": "c664f646",
   "metadata": {},
   "outputs": [],
   "source": [
    "df_BO_manuel = df_BO_virs[~df_BO_virs[\"Subscription_Order_Name\"].isin(df_vir_BO_valide[\"Subscription_Order_Name\"])]"
   ]
  },
  {
   "cell_type": "code",
   "execution_count": null,
   "id": "5883003e",
   "metadata": {},
   "outputs": [],
   "source": [
    "def proposition_ordres(df_releve,df_BO,bol_demembrement,bol_proposition=False):\n",
    "    list_fonds = [\"EU\",\"CC\",\"XL\"]\n",
    "    df_releve_auto = pd.DataFrame()\n",
    "    df_BO_auto = pd.DataFrame()\n",
    "    if bol_demembrement == True: ### Pour les démembrements, le temps d'attente entre le paiement et la création des parts pourrait être 4 mois\n",
    "        nb_jours_intervalle = 60\n",
    "    else: nb_jours_intervalle = 30\n",
    "\n",
    "    df_BO[\"Start_Date\"] = df_BO[\"SubscriptionDate\"]+dt.timedelta(days=-nb_jours_intervalle)\n",
    "    df_BO[\"End_Date\"] = df_BO[\"SubscriptionDate\"]+dt.timedelta(days=nb_jours_intervalle)\n",
    "\n",
    "    for fonds in list_fonds:\n",
    "        df_BO_fonds = df_BO[df_BO[\"Product\"]==fonds]\n",
    "        df_releve_fonds = df_releve[df_releve[\"Fonds\"]==fonds]\n",
    "\n",
    "        df_BO_autres_fonds = df_BO[df_BO[\"Product\"]!=fonds]\n",
    "        ### montant exact ###\n",
    "        df_releve_fonds, df_BO_fonds = basic_mapping_releve_vs_BO(df_releve_fonds,df_BO_fonds,\"Titulaire_clean\",\"montant exact\",bol_partial_score=True,bol_plusieurs_virs=False,bol_proposition=bol_proposition)\n",
    "       #### un cheque pour plusieurs ordres\n",
    "        df_releve_fonds, df_BO_fonds = mapping_un_paiement_pls_ords(df_releve_fonds,df_BO_fonds,\"Titulaire_clean\",\"un chq pour pls ordres\",bol_partial_score=True,bol_proposition=bol_proposition)\n",
    "\n",
    "        df_releve_auto = pd.concat([df_releve_auto,df_releve_fonds]) # concaténer les fonds déjà mappés\n",
    "        df_BO_auto = pd.concat([df_BO_auto,df_BO_fonds]) \n",
    "    return df_releve_auto,df_BO_auto"
   ]
  },
  {
   "cell_type": "code",
   "execution_count": null,
   "id": "945eba83",
   "metadata": {},
   "outputs": [],
   "source": [
    "df_check_manuel = df_check_manuel.rename(columns={\"Fonds_relevé\":\"Fonds\"})"
   ]
  },
  {
   "cell_type": "code",
   "execution_count": null,
   "id": "e8643cd2",
   "metadata": {
    "scrolled": true
   },
   "outputs": [],
   "source": [
    "df_BO_manuel_PP = df_BO_manuel[df_BO_manuel[\"PropertyType\"]==\"PP\"]\n",
    "df_check_manuel_PP, df_BO_manuel_PP = proposition_ordres(df_check_manuel, df_BO_manuel_PP,bol_demembrement=False,bol_proposition=True)"
   ]
  },
  {
   "cell_type": "code",
   "execution_count": null,
   "id": "ddfd3c23",
   "metadata": {},
   "outputs": [],
   "source": [
    "df_check_manuel_restant = df_check_manuel_PP[df_check_manuel_PP[\"Subscription_Order_Name\"].isnull()]\n",
    "df_check_manuel_PP = df_check_manuel_PP[~df_check_manuel_PP[\"Subscription_Order_Name\"].isnull()]"
   ]
  },
  {
   "cell_type": "code",
   "execution_count": null,
   "id": "7670b463",
   "metadata": {},
   "outputs": [],
   "source": [
    "len(df_check_manuel_PP)"
   ]
  },
  {
   "cell_type": "code",
   "execution_count": null,
   "id": "ba4fa72d",
   "metadata": {},
   "outputs": [],
   "source": [
    "df_BO_manuel_DM = df_BO_manuel[df_BO_manuel[\"PropertyType\"]!=\"PP\"]\n",
    "df_check_manuel_restant, df_BO_manuel_DM = proposition_ordres(df_check_manuel_restant, df_BO_manuel_DM,False,True)"
   ]
  },
  {
   "cell_type": "code",
   "execution_count": null,
   "id": "670225c2",
   "metadata": {},
   "outputs": [],
   "source": [
    "df_check_manuel_DM = df_check_manuel_restant[~df_check_manuel_restant[\"Subscription_Order_Name\"].isnull()]\n",
    "df_check_manuel_DM[\"PropertyType\"] = \"Démembrement\"\n",
    "df_check_manuel_PP[\"PropertyType\"] = \"PP\"\n",
    "df_proposition = pd.concat([df_check_manuel_PP,df_check_manuel_DM])\n",
    "df_heavy_checks = df_check_manuel[~df_check_manuel[\"Id sys\"].isin(df_proposition[\"Id sys\"])]"
   ]
  },
  {
   "cell_type": "code",
   "execution_count": null,
   "id": "16465308",
   "metadata": {},
   "outputs": [],
   "source": [
    "df_proposition = df_proposition.drop(columns=\"Amount\")\n",
    "df_proposition = df_proposition.merge(df_BO_manuel[[\"Subscription_Order_Name\",\"ClientName\",\"Amount\"]],on=[\"Subscription_Order_Name\",\"ClientName\"])\n",
    "\n",
    "df_proposition = df_proposition[['Id sys','Fonds', \n",
    "       'Subscription_Order_Name', 'ClientName','Amount','SubscriptionDate','Product', 'NoteBO',\n",
    "        'Libellé','Crédit', 'Valeur','Date',\n",
    "        'Motif1', 'Motif2', 'Titulaire', 'Titulaire_clean','Product_motif',           \n",
    "        \"Référence de l'ordre\", \"Référence de l'ordre_origin\", 'Fonds_ClientOps',\n",
    "       'Id sys_ClientOps', 'Subscription_Order_Name_BOClientOps',\n",
    "       'ClientName_BOClientOps', 'Product_BOClientOps', 'Amount_BOClientOps',\n",
    "       'SubscriptionDate_BOClientOps', 'NoteBO_BOClientOps',\n",
    "        'Moyen_mapping','PropertyType']]"
   ]
  },
  {
   "cell_type": "code",
   "execution_count": null,
   "id": "dc6c09ed",
   "metadata": {},
   "outputs": [],
   "source": [
    "# df_proposition.to_excel(folder_path + \"/output/1. Virements/Comptes étrangers_Données à vérifier manuellement_proposition.xlsx\",\"Données_non_rapprochées\",index=False)\n",
    "# df_heavy_checks.to_excel(folder_path + \"/output/1. Virements/Comptes étrangers_Données à vérifier manuellement_heavy checks.xlsx\",\"Données_non_rapprochées\",index=False)"
   ]
  },
  {
   "cell_type": "code",
   "execution_count": null,
   "id": "a7b4e0be",
   "metadata": {},
   "outputs": [],
   "source": [
    "# df_proposition.to_excel(folder_path + \"/output/1. Virements/Bred et Autres_Données à vérifier manuellement_proposition.xlsx\",\"Données_non_rapprochées\",index=False)\n",
    "# df_heavy_checks.to_excel(folder_path + \"/output/1. Virements/Bred et Autres_Données à vérifier manuellement_heavy checks.xlsx\",\"Données_non_rapprochées\",index=False)"
   ]
  },
  {
   "cell_type": "code",
   "execution_count": null,
   "id": "96585b72",
   "metadata": {},
   "outputs": [],
   "source": [
    "df_proposition.to_excel(folder_path + \"/output/1. Virements/All_Données à vérifier manuellement_proposition.xlsx\",\"Données_non_rapprochées\",index=False)\n",
    "df_heavy_checks.to_excel(folder_path + \"/output/1. Virements/All_Données à vérifier manuellement_heavy checks.xlsx\",\"Données_non_rapprochées\",index=False)"
   ]
  },
  {
   "cell_type": "markdown",
   "id": "5ed631d5",
   "metadata": {},
   "source": [
    "## Données rapprochées"
   ]
  },
  {
   "cell_type": "markdown",
   "id": "2f3d69bf",
   "metadata": {},
   "source": [
    "__Pour les comptes étrangers, pas de suivi de ClientOps, donc certaines cellules dans cette partie ne fonctionne pas__. Ce n'est pas très grave car ce sont les lignes pour ajouter les commentaires."
   ]
  },
  {
   "cell_type": "code",
   "execution_count": null,
   "id": "aaa34df4",
   "metadata": {},
   "outputs": [],
   "source": [
    "df_check = df_mappe_total"
   ]
  },
  {
   "cell_type": "code",
   "execution_count": null,
   "id": "b1a2835c",
   "metadata": {},
   "outputs": [],
   "source": [
    "df_check = add_comment(df_check)"
   ]
  },
  {
   "cell_type": "code",
   "execution_count": null,
   "id": "bfbd5c20",
   "metadata": {},
   "outputs": [],
   "source": [
    "def check_manuel(commentaire):\n",
    "    if \"OK, même résultat avec ClientOps\" in commentaire :\n",
    "        return False\n",
    "    if commentaire == 'Audit ClientOps_Montant exact_OK':\n",
    "        return False\n",
    "    return True"
   ]
  },
  {
   "cell_type": "code",
   "execution_count": null,
   "id": "4c27c38b",
   "metadata": {},
   "outputs": [],
   "source": [
    "df_check[\"A vérifier manuellement ?\"] = df_check[\"Verification ClientOps vs BO\"].apply(check_manuel)"
   ]
  },
  {
   "cell_type": "code",
   "execution_count": null,
   "id": "77ae4eda",
   "metadata": {},
   "outputs": [],
   "source": [
    "df_check_OK= df_check[df_check[\"A vérifier manuellement ?\"] == False]"
   ]
  },
  {
   "cell_type": "code",
   "execution_count": null,
   "id": "2c40f090",
   "metadata": {},
   "outputs": [],
   "source": [
    "### Calculer les stats pour le Waterfall ###\n",
    "\n",
    "df_nb_par_fonds = df_virement_total.groupby(\"Fonds\").agg({\"Id sys\":\"count\",\n",
    "                                                        \"Crédit\":\"sum\"}).reset_index()\n",
    "df_nb_par_fonds = df_nb_par_fonds.rename(columns={\"Id sys\":\"nb rows_total\",\n",
    "                                                  \"Crédit\":\"Crédit_total\"\n",
    "                                                 })\n",
    "\n",
    "df_check_unique = df_check[[\"Fonds_x\",\"Check_overall\",\"Id sys\",\"Crédit\"]].drop_duplicates()\n",
    "\n",
    "df_sys_resultat = df_check_unique.groupby(by=[\"Fonds_x\",\"Check_overall\"]).agg({\"Id sys\":\"count\",\n",
    "                                                                       \"Crédit\":\"sum\"}).reset_index()\n",
    "df_sys_resultat = df_sys_resultat.rename(columns={\"Fonds_x\":\"Fonds\",\n",
    "                                                 \"Id sys\":\"nb rows\"\n",
    "                                                 })\n",
    "\n",
    "df_sys_resultat = df_sys_resultat.merge(df_nb_par_fonds,on=\"Fonds\")\n",
    "df_sys_resultat[\"Percentage_rows\"] = df_sys_resultat[\"nb rows\"] / df_sys_resultat[\"nb rows_total\"]\n",
    "df_sys_resultat[\"Percentage_montant\"] = df_sys_resultat[\"Crédit\"] / df_sys_resultat[\"Crédit_total\"]"
   ]
  },
  {
   "cell_type": "code",
   "execution_count": null,
   "id": "531a41a1",
   "metadata": {},
   "outputs": [],
   "source": [
    "df_check_light = df_check[df_check[\"A vérifier manuellement ?\"] == True]"
   ]
  },
  {
   "cell_type": "code",
   "execution_count": null,
   "id": "6276a70e",
   "metadata": {},
   "outputs": [],
   "source": [
    "colonnes_df_check = ['Id sys', 'Subscription_Order_Name', 'SubscriptionDate', 'Amount', 'ClientName', 'Product','NoteBO', 'Libellé', 'Fonds_x', 'Titulaire', 'Titulaire_clean', 'Motif1', 'Motif2', 'Crédit', 'Crédit_total', 'Date', 'Valeur', 'Type_Transaction', 'Max_Valeur', 'Moyen_mapping', \"Référence de l'ordre\", 'Fonds_y', \"Référence de l'ordre_origin\",  'Subscription_Order_Name_BOClientOps', 'ClientName_BOClientOps', 'Product_BOClientOps','NoteBO_BOClientOps', 'Amount_BOClientOps', 'SubscriptionDate_BOClientOps', 'Meme resultat_Script vs ClientOps', 'Verification ClientOps vs BO', 'Check_date', 'Check_montant', 'Pls_lignes', 'Check_overall']\n",
    "df_check = df_check[colonnes_df_check]"
   ]
  },
  {
   "cell_type": "code",
   "execution_count": null,
   "id": "b2f5b0f3",
   "metadata": {},
   "outputs": [],
   "source": [
    "len(df_check)"
   ]
  },
  {
   "cell_type": "code",
   "execution_count": null,
   "id": "97774009",
   "metadata": {},
   "outputs": [],
   "source": [
    "# colonnes_df_check = ['Id sys', 'Subscription_Order_Name', 'SubscriptionDate', 'Amount', 'ClientName', 'Product','NoteBO', 'Libellé', 'Fonds_x', 'Titulaire', 'Titulaire_clean', 'Motif1', 'Motif2', 'Crédit', 'Crédit_total', 'Date', 'Valeur', 'Type_Transaction', 'Max_Valeur', 'Moyen_mapping', \"Référence de l'ordre\", 'Fonds_y', \"Référence de l'ordre_origin\",  'Subscription_Order_Name_BOClientOps', 'ClientName_BOClientOps', 'Product_BOClientOps','NoteBO_BOClientOps', 'Amount_BOClientOps', 'SubscriptionDate_BOClientOps', 'Meme resultat_Script vs ClientOps']\n",
    "# df_check = df_check[colonnes_df_check]\n",
    "# df_check.to_excel(folder_path + \"/output/1. Virements/Comptes étrangers_Données virement rapprochées avec BO.xlsx\",sheet_name=\"Données_mappées\",index=False)"
   ]
  },
  {
   "cell_type": "code",
   "execution_count": null,
   "id": "91edf1d5",
   "metadata": {},
   "outputs": [],
   "source": [
    "# df_check.to_excel(folder_path + \"/output/1. Virements/Bred et Autres_Données virement rapprochées avec BO.xlsx\",sheet_name=\"Données_mappées\",index=False)"
   ]
  },
  {
   "cell_type": "code",
   "execution_count": null,
   "id": "51a33aef",
   "metadata": {},
   "outputs": [],
   "source": [
    "df_check.to_excel(folder_path + \"/output/1. Virements/All_Données virement rapprochées avec BO.xlsx\",sheet_name=\"Données_mappées\",index=False)"
   ]
  },
  {
   "cell_type": "code",
   "execution_count": null,
   "id": "d2949d5b",
   "metadata": {},
   "outputs": [],
   "source": [
    "# df_check_light.to_excel(folder_path + \"/output/1. Virements/All_Données à vérifier manuellement_light.xlsx\",sheet_name=\"Données_non_mappées\",index=False)\n",
    "df_sys_resultat.to_excel(folder_path + \"/output/1. Virements/All_Resultat Waterfall.xlsx\",sheet_name=\"resultat\",index=False)"
   ]
  },
  {
   "cell_type": "code",
   "execution_count": null,
   "id": "018a2135",
   "metadata": {},
   "outputs": [],
   "source": [
    "len(df_check) / (len(df_virements) + len(df_vir_doublons))"
   ]
  },
  {
   "cell_type": "markdown",
   "id": "27d19eb9",
   "metadata": {},
   "source": [
    "### Mauvais compte"
   ]
  },
  {
   "cell_type": "code",
   "execution_count": null,
   "id": "f380917b",
   "metadata": {},
   "outputs": [],
   "source": [
    "df_mauvais_compte = df_check[df_check[\"Même_compte\"]==False]\n",
    "df_mauvais_compte[\"Sens de virement à régul\"] = df_mauvais_compte[\"Fonds_x\"] + \" to \" + df_mauvais_compte[\"Product_overall\"]\n",
    "\n",
    "df_mauvais_compte = df_mauvais_compte.merge(df_regul_cac, left_on = \"Subscription_Order_Name_overall\",\n",
    "                       right_on = \"Order\",how=\"outer\",indicator=True)\n",
    "\n",
    "df_mauvais_compte[\"_merge\"] = df_mauvais_compte[\"_merge\"].map({'left_only':'Non trouvé dans fichier Régul de ClientOps',\\\n",
    "                                                               'both' : \"Trouvé dans ClientOps\",\n",
    "                                                               'right_only' : \"Script ne l'a pas identifié\"})\n",
    "df_mauvais_compte = df_mauvais_compte.rename(columns = {\"_merge\":\"Note sur régul compte à compte\"})\n"
   ]
  },
  {
   "cell_type": "code",
   "execution_count": null,
   "id": "4d69024c",
   "metadata": {},
   "outputs": [],
   "source": [
    "colonnes_mc = ['Id sys', 'Subscription_Order_Name', 'SubscriptionDate', 'Amount', 'ClientName', 'Product',\"NoteBO\", 'Libellé', 'Fonds_x', 'Titulaire', 'Titulaire_clean', 'Motif1', 'Motif2', 'Crédit', 'Date', 'Valeur', 'Moyen_mapping', \"Référence de l'ordre\", 'Fonds_y', \"Référence de l'ordre_origin\", 'Subscription_Order_Name_BOClientOps', 'ClientName_BOClientOps', 'Product_BOClientOps', 'Amount_BOClientOps', 'SubscriptionDate_BOClientOps',\"NoteBO_BOClientOps\", 'Meme resultat_Script vs ClientOps',  'Verification ClientOps vs BO', 'Commentaire', 'Sens de virement à régul', 'Sens de virement à faire', 'Reception date', 'Amount_RegulClientOps', 'Associate', 'Order', 'Comments', 'Note sur régul compte à compte' ]\n",
    "df_mauvais_compte = df_mauvais_compte[colonnes_mc].rename(columns={\n",
    "                        \"Fonds_x\":\"Fonds_relevé\",\n",
    "                        \"Fonds_y\":\"Fonds_ClientOps\"\n",
    "})"
   ]
  },
  {
   "cell_type": "code",
   "execution_count": null,
   "id": "bb401bb4",
   "metadata": {},
   "outputs": [],
   "source": [
    "# df_mauvais_compte = df_mauvais_compte[df_mauvais_compte[\"Note sur régul compte à compte\"]!=\"Script ne l'a pas identifié\"]\n",
    "# df_mauvais_compte.to_excel(folder_path + \"/output/1. Virements/Bred et Autres_Mauvais compte.xlsx\",sheet_name=\"Mauvais compte\")"
   ]
  },
  {
   "cell_type": "code",
   "execution_count": null,
   "id": "c337c113",
   "metadata": {},
   "outputs": [],
   "source": [
    "df_mauvais_compte.to_excel(folder_path + \"/output/1. Virements/All_Mauvais compte.xlsx\",sheet_name=\"Mauvais compte\")"
   ]
  },
  {
   "cell_type": "code",
   "execution_count": null,
   "id": "6ecb79ac",
   "metadata": {},
   "outputs": [],
   "source": []
  }
 ],
 "metadata": {
  "celltoolbar": "Format de la Cellule Texte Brut",
  "kernelspec": {
   "display_name": "Python 3 (ipykernel)",
   "language": "python",
   "name": "python3"
  },
  "language_info": {
   "codemirror_mode": {
    "name": "ipython",
    "version": 3
   },
   "file_extension": ".py",
   "mimetype": "text/x-python",
   "name": "python",
   "nbconvert_exporter": "python",
   "pygments_lexer": "ipython3",
   "version": "3.8.12"
  },
  "toc": {
   "base_numbering": 1,
   "nav_menu": {},
   "number_sections": true,
   "sideBar": true,
   "skip_h1_title": false,
   "title_cell": "Table of Contents",
   "title_sidebar": "Contents",
   "toc_cell": false,
   "toc_position": {},
   "toc_section_display": true,
   "toc_window_display": false
  },
  "varInspector": {
   "cols": {
    "lenName": 16,
    "lenType": 16,
    "lenVar": 40
   },
   "kernels_config": {
    "python": {
     "delete_cmd_postfix": "",
     "delete_cmd_prefix": "del ",
     "library": "var_list.py",
     "varRefreshCmd": "print(var_dic_list())"
    },
    "r": {
     "delete_cmd_postfix": ") ",
     "delete_cmd_prefix": "rm(",
     "library": "var_list.r",
     "varRefreshCmd": "cat(var_dic_list()) "
    }
   },
   "types_to_exclude": [
    "module",
    "function",
    "builtin_function_or_method",
    "instance",
    "_Feature"
   ],
   "window_display": false
  }
 },
 "nbformat": 4,
 "nbformat_minor": 5
}
