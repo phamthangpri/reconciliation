{
 "cells": [
  {
   "cell_type": "code",
   "execution_count": null,
   "id": "0eadaf08",
   "metadata": {},
   "outputs": [],
   "source": [
    "%load_ext autoreload\n",
    "%autoreload 2"
   ]
  },
  {
   "cell_type": "code",
   "execution_count": null,
   "id": "1707735f",
   "metadata": {},
   "outputs": [],
   "source": [
    "import datetime as dt\n",
    "import re\n",
    "import pandas as pd\n",
    "import numpy as np"
   ]
  },
  {
   "cell_type": "code",
   "execution_count": null,
   "id": "2c461a96",
   "metadata": {},
   "outputs": [],
   "source": [
    "from itertools import combinations"
   ]
  },
  {
   "cell_type": "code",
   "execution_count": null,
   "id": "dd4df5c9",
   "metadata": {},
   "outputs": [],
   "source": [
    "from functions.utils import *\n",
    "from functions.mapping_virements import *\n",
    "from functions.clean_data import *\n",
    "from functions.check_clientops import *\n",
    "from functions.mapping_prelevement import *"
   ]
  },
  {
   "cell_type": "markdown",
   "id": "70531d41",
   "metadata": {},
   "source": [
    "# Context"
   ]
  },
  {
   "cell_type": "markdown",
   "id": "068cc6fe",
   "metadata": {},
   "source": [
    "Pour le réconciliation des prélèvements, il faut travailler à la fois sur les lignes de crédit et les lignes de débit. \n",
    "\n",
    "1. On part des données de xml (le détail des sessions envoyées à la banque pour prélever), on vérifie si le montant reçu (montant crédité) est égal au montant demandé (montant envoyé par session). Les écarts viennent des ordres pour lesquels le prélèvement n'est pas passé (pas de crédit, donc pas de rejet). Il faut vérifier ensuite l'écart correspond à quel(s) ordres? \n",
    "L'ordre est réglé dans la foulée ou nous avons créé des parts sans argent ? \n",
    "\n",
    "2. La deuxième vérification est sur les rejets de prélèvement. Une fois la session est passée, on va recevoir des rejets dans les jours suivants. Donc il faut vérifier si les ordres correspondants sont bien annulés?\n"
   ]
  },
  {
   "cell_type": "markdown",
   "id": "5e6b7591",
   "metadata": {},
   "source": [
    "__I. Données reçues__\n",
    "1. Données de relevé bancaire (rejets de prélèvement)\n",
    "2. Extraction des listes de sessions de prélèvements (compris le nom de la session, date)\n",
    "3. Fichiers XML sur le détail des ordres compris dans chaque session de prélèvement (un fichier = une session)\n",
    "4. Données de BO sur les sessions validées\n",
    "5. Suivi des rejets de ClientOps\n",
    "6. Fichier de détail des sessions de PEI\n",
    "7. Données de BO sur les mouvements (compris des sessions PEI retractées)"
   ]
  },
  {
   "cell_type": "markdown",
   "id": "c488c7b3",
   "metadata": {},
   "source": [
    "__II. Cheminement de traitement des données__ :\n",
    "1. Importer les données de différentes périodes\n",
    "2. Pour les SUB : \n",
    "- Prendre des fichiers XMLs dispo, les rapprocher avec l'extraction des listes de sessions pour voir s'il nous manque des sessions\n",
    "- Rapprocher les données de XMLs avec Données BO sur les sessions validées. La différence = Rejet BO (rejets de prélèvements selon BO)\n",
    "\n",
    "\n",
    "3. Pour les PEI :\n",
    "- Prendre le détail des PEI\n",
    "- Rapprocher avec les données de mouvements BO pour identifier les ordres rejetés = rejets BO\n",
    "\n",
    "\n",
    "4. Rapprocher les rejets BO vs rejets dans relevé bancaire pour retrouver la ligne\n",
    "5. Recroiser avec le suivi de ClientOps pour assurer que la ligne est bien trouvée.\n",
    "\n",
    "L'objectif est de trouver s'il y a des rejets dans relevé bancaire mais l'ordre n'est pas annulé/rejeté dans BO ?\n",
    "\n",
    "\n"
   ]
  },
  {
   "cell_type": "markdown",
   "id": "57264e57",
   "metadata": {},
   "source": [
    "# Import data"
   ]
  },
  {
   "cell_type": "code",
   "execution_count": null,
   "id": "83b837c3",
   "metadata": {},
   "outputs": [],
   "source": [
    "folder_path = \"xxxx\""
   ]
  },
  {
   "cell_type": "markdown",
   "id": "59802c5e",
   "metadata": {},
   "source": [
    "## 1. Relevé bancaire"
   ]
  },
  {
   "cell_type": "markdown",
   "id": "d9fc3cb6",
   "metadata": {},
   "source": [
    "### Avant 0621"
   ]
  },
  {
   "cell_type": "code",
   "execution_count": null,
   "id": "c0381346",
   "metadata": {},
   "outputs": [],
   "source": [
    "df_prelevements_historique = pd.read_excel(folder_path + \"/transformed_data/2. Banque/2. Données avant 0621_Prélèvements.xlsx\",sheet_name=\"Sheet1\")\n",
    "\n",
    "patern_id_transaction = r'(?<=PRLV SEPA EMIS\\s)([a-zA-Z\\s\\-\\.\\d]*)(?=\\sECH)'\n",
    "patern_nb_transaction = r'(?<=NBR)\\/(\\d*)'\n",
    "df_prelevements_historique.loc[:,\"ID_remise\"] = df_prelevements_historique.loc[:,'Libellé'].str.extract(patern_id_transaction)\n",
    "df_prelevements_historique.loc[:,\"Nb_transaction\"] = df_prelevements_historique.loc[:,'Libellé'].str.extract(patern_nb_transaction)\n",
    "df_prelevements_historique.loc[:,\"Nb_transaction\"] = df_prelevements_historique.loc[:,\"Nb_transaction\"].astype(int)\n",
    "\n",
    "df_rejets_historique = pd.read_excel(folder_path + \"/transformed_data/2. Banque/2. Données avant 0621_lignes de débit.xlsx\",sheet_name=\"débit\")\n",
    "rejets_prlv = r'PRLV SEPA REJETE|REJET PRLV SEPA|REMBT PRLV SEPA|PRLV SEPA RETOURNE'\n",
    "df_rejets_historique[\"rejets_prlv\"] = df_rejets_historique[\"Libellé\"].apply(lambda f: bool(re.search(rejets_prlv,f)))\n",
    "df_rejets_historique = df_rejets_historique[df_rejets_historique[\"rejets_prlv\"]==True].drop(columns=\"rejets_prlv\")\n",
    "\n",
    "patern_nb_ordres = r'(?<=NBRE)\\/(\\d*)'\n",
    "df_rejets_historique.loc[:,\"Nb_ordres\"] = df_rejets_historique.loc[:,\"Libellé\"].str.extract(patern_nb_ordres)\n",
    "df_rejets_historique.loc[:,\"Nb_ordres\"] = df_rejets_historique.loc[:,\"Nb_ordres\"].astype(int)"
   ]
  },
  {
   "cell_type": "markdown",
   "id": "3abbf975",
   "metadata": {},
   "source": [
    "### Depuis 0621"
   ]
  },
  {
   "cell_type": "code",
   "execution_count": null,
   "id": "6b37e1d6",
   "metadata": {},
   "outputs": [],
   "source": [
    "df_credit_recent = pd.read_excel(folder_path + \"/transformed_data/2. Banque/1.0 Depuis 0621_Releve_lignes de crédit.xlsx\",sheet_name=\"Crédit\")\n",
    "df_debit_recent = pd.read_excel(folder_path + \"/transformed_data/2. Banque/1.0 Depuis 0621_Releve_lignes de débit.xlsx\",sheet_name=\"Débit\")\n",
    "\n",
    "df_prelevements_recent = df_credit_recent[df_credit_recent[\"Type_Transaction\"] == \"PRLV SEPA EMIS\"]\n",
    "df_prelevements_recent = df_prelevements_recent[['Id sys', 'Date', 'Valeur', 'Libellé', 'Ref.', 'Crédit',\n",
    "       'Fonds', 'Mois', 'Type_Transaction', 'Nb_transaction', 'ID_remise']]\n",
    "df_rejets_prlv_recent = df_debit_recent[df_debit_recent[\"Type_Transaction\"].isin([\n",
    "                        \"PRLV SEPA REJETE\", 'PRLV SEPA RETOURNE','REMBT PRLV SEPA'\n",
    "                        ])]\n",
    "\n",
    "patern_nb_ordres = r'(?<=NBRE)\\/(\\d*)'\n",
    "df_rejets_prlv_recent.loc[:,\"Nb_ordres\"] = df_rejets_prlv_recent.loc[:,\"Libellé\"].str.extract(patern_nb_ordres)\n",
    "df_rejets_prlv_recent.loc[:,\"Nb_ordres\"] = df_rejets_prlv_recent.loc[:,\"Nb_ordres\"].astype(int)"
   ]
  },
  {
   "cell_type": "markdown",
   "id": "6055a2b8",
   "metadata": {},
   "source": [
    "### Concat"
   ]
  },
  {
   "cell_type": "code",
   "execution_count": null,
   "id": "46dde143",
   "metadata": {},
   "outputs": [],
   "source": [
    "df_prelevements = pd.concat([df_prelevements_historique,df_prelevements_recent])\n",
    "df_prelevements = df_prelevements[['Id sys', 'Date', 'Libellé', 'Valeur', 'Crédit', 'Fonds',\n",
    "       'Periode', 'Type_Transaction', 'ID_remise', 'Nb_transaction',\n",
    "       ]]\n",
    "\n",
    "df_rejets_prlv = pd.concat([df_rejets_historique,df_rejets_prlv_recent])\n",
    "df_rejets_prlv = df_rejets_prlv[['Id sys', 'Date', 'Libellé', 'Valeur', 'Débit', 'Fonds',\n",
    "       'Periode', 'Type_Transaction', 'Nb_ordres']]\n",
    "df_rejets_prlv.loc[:,\"Id sys\"] = df_rejets_prlv.loc[:,\"Id sys\"].astype(object)"
   ]
  },
  {
   "cell_type": "markdown",
   "id": "cd25f875",
   "metadata": {},
   "source": [
    "## 2. Liste des sessions de prélèvements"
   ]
  },
  {
   "cell_type": "code",
   "execution_count": null,
   "id": "6b8c2825",
   "metadata": {},
   "outputs": [],
   "source": [
    "### La liste Excel des sessions de prélèvements ###\n",
    "file_path_excel = folder_path + \"/raw_data/2. Prélèvement/1. Sessions prlv/Vue Recherche avancée _ Prélèvement _ Paiement (NEW avec identifiant de la remise).xlsx\"\n",
    "sheet_name = \"Vue Recherche avancée _ Pré...\"\n",
    "df_liste_session = pd.read_excel(file_path_excel, sheet_name=sheet_name)"
   ]
  },
  {
   "cell_type": "markdown",
   "id": "dc621556",
   "metadata": {},
   "source": [
    "## 3. Détail des sessions de prélèvement - XML"
   ]
  },
  {
   "cell_type": "code",
   "execution_count": null,
   "id": "8289e1eb",
   "metadata": {},
   "outputs": [],
   "source": [
    "#### Importer les données récentes #####\n",
    "path_to_xml = folder_path + \"/raw_data/2. Prélèvement/1. Sessions prlv/Fichiers xml/\"\n",
    "subscription_foler = \"Souscriptions/\"\n",
    "filenames = os.listdir(path_to_xml + subscription_foler)\n",
    "df_sub = pd.DataFrame()\n",
    "for filename in filenames:\n",
    "    df_xml_file = read_xml(path_to_xml,subscription_foler,filename)\n",
    "    df_sub = pd.concat([df_sub,df_xml_file])"
   ]
  },
  {
   "cell_type": "code",
   "execution_count": null,
   "id": "d2cfd9f6",
   "metadata": {},
   "outputs": [],
   "source": [
    "#### Les données historiques (les données sont mélangées entre PEI et SUB) ####\n",
    "hist_folder = \"Historique/\"\n",
    "filenames = os.listdir(path_to_xml + hist_folder)\n",
    "df_hist = pd.DataFrame()\n",
    "list_file_errors = []\n",
    "for filename in filenames:\n",
    "    try:\n",
    "        df_xml_file = read_xml(path_to_xml,hist_folder,filename)\n",
    "        df_hist = pd.concat([df_hist,df_xml_file])\n",
    "    except ValueError:\n",
    "        list_file_errors.append(filename)\n",
    "        \n",
    "### il y a quelques fichiers avec l'encodage = latin-1 au lieu de utf-8\n",
    "for filename in list_file_errors:\n",
    "    df_xml_file = read_xml(path_to_xml,hist_folder,filename,'latin-1')\n",
    "    df_hist = pd.concat([df_hist,df_xml_file])"
   ]
  },
  {
   "cell_type": "markdown",
   "id": "b2aaab5a",
   "metadata": {},
   "source": [
    "## 4. Ordres validés - Données BO"
   ]
  },
  {
   "cell_type": "code",
   "execution_count": null,
   "id": "cd716fa8",
   "metadata": {},
   "outputs": [],
   "source": [
    "#### Importer l'extraction à jour sur les ordres validés\n",
    "path_folder = folder_path + \"/raw_data/2. Prélèvement/1. Sessions prlv/Ordres validés/\"\n",
    "filenames = os.listdir(path_folder)\n",
    "df_ordres_valides_BO = pd.DataFrame()\n",
    "for filename in filenames:\n",
    "    df_file = pd.read_excel(path_folder + filename,sheet_name = \"Vue Recherche avancée _ Ordre\")\n",
    "    df_ordres_valides_BO = pd.concat([df_ordres_valides_BO,df_file])"
   ]
  },
  {
   "cell_type": "markdown",
   "id": "bd497cae",
   "metadata": {},
   "source": [
    "## 5. Details des sessions de PEI"
   ]
  },
  {
   "cell_type": "code",
   "execution_count": null,
   "id": "7ab3335a",
   "metadata": {},
   "outputs": [],
   "source": [
    "#### Détail full des sessions de PEI #### \n",
    "PEI_pathfile = folder_path + \"/raw_data/2. Prélèvement/1. Sessions prlv/PEI_Lines.csv\"\n",
    "df_PEI_lines = pd.read_csv(PEI_pathfile,sep=\";\")"
   ]
  },
  {
   "cell_type": "markdown",
   "id": "73c5e85f",
   "metadata": {},
   "source": [
    "## 6. Mouvements BO"
   ]
  },
  {
   "cell_type": "code",
   "execution_count": null,
   "id": "26074ba4",
   "metadata": {},
   "outputs": [],
   "source": [
    "#### Données sur le mouvements BO pour identifier les ordres retractés ### \n",
    "BO_pathfile = folder_path + \"/raw_data/0. Data BO/Movements full.csv\"\n",
    "df_mouvements_BO = pd.read_csv(BO_pathfile,sep=\";\")"
   ]
  },
  {
   "cell_type": "markdown",
   "id": "56d62db0",
   "metadata": {},
   "source": [
    "## 7. Souscription et commentaire"
   ]
  },
  {
   "cell_type": "code",
   "execution_count": null,
   "id": "855aea3c",
   "metadata": {},
   "outputs": [],
   "source": [
    "subscription_pathfile = folder_path + \"/raw_data/0. Data BO/Subscriptions_full_2.csv\"\n",
    "df_souscription = pd.read_csv(subscription_pathfile,sep=\";\",low_memory=False)"
   ]
  },
  {
   "cell_type": "code",
   "execution_count": null,
   "id": "9ac4e95e",
   "metadata": {},
   "outputs": [],
   "source": [
    "### Annotation\n",
    "df_commentaire = pd.read_excel(folder_path + \"/transformed_data/commentaire_agg.xlsx\",sheet_name=\"commentaire\")"
   ]
  },
  {
   "cell_type": "code",
   "execution_count": null,
   "id": "055b8241",
   "metadata": {},
   "outputs": [],
   "source": [
    "df_souscription = df_souscription[[\"Id\",\"Idsubscriptionorder\"]].rename(columns={\"Id\":\"Id_order\"})\n",
    "df_commentaire = df_commentaire.merge(df_souscription,on=\"Id_order\")"
   ]
  },
  {
   "cell_type": "markdown",
   "id": "a33f9755",
   "metadata": {},
   "source": [
    "## 8. Suivi des rejets ClientOps"
   ]
  },
  {
   "cell_type": "code",
   "execution_count": null,
   "id": "2ba06631",
   "metadata": {},
   "outputs": [],
   "source": [
    "################ SUB ###############\n",
    "path_rejets = folder_path + \"/raw_data/2. Prélèvement/2. Suivi des rejets Client Ops/\"\n",
    "df_rejets_CC = pd.read_excel(path_rejets + \"Suivi des rejets CC depuis décembre 2018.xlsx\", sheet_name = \"Souscriptions\")\n",
    "df_rejets_XL = pd.read_excel(path_rejets + \"Suivi des rejets XL depuis décembre 2018.xlsx\", sheet_name = \"Souscriptions\")\n",
    "df_rejets_EU = pd.read_excel(path_rejets + \"Suivi des rejets EU depuis juin 2020.xlsx\", sheet_name = \"Souscriptions\")\n",
    "\n",
    "df_rejets_CC.loc[:,\"Fonds_rejet\"] = \"CC\"\n",
    "df_rejets_XL.loc[:,\"Fonds_rejet\"] = \"XL\"\n",
    "df_rejets_EU.loc[:,\"Fonds_rejet\"] = \"EU\"\n",
    "df_rejets_SUB_clientops = pd.concat([df_rejets_CC,df_rejets_XL,df_rejets_EU]).reset_index(drop=True)\n",
    "df_rejets_SUB_clientops.loc[:,\"SUB_PEI\"] = \"SUB\""
   ]
  },
  {
   "cell_type": "code",
   "execution_count": null,
   "id": "936b86d5",
   "metadata": {},
   "outputs": [],
   "source": [
    "################ PEI ###############\n",
    "path_rejets = folder_path + \"/raw_data/2. Prélèvement/2. Suivi des rejets Client Ops/\"\n",
    "df_rejets_pei_CC = pd.read_excel(path_rejets + \"Suivi des rejets CC depuis décembre 2018.xlsx\", sheet_name = \"PEI\")\n",
    "df_rejets_pei_XL = pd.read_excel(path_rejets + \"Suivi des rejets XL depuis décembre 2018.xlsx\", sheet_name = \"PEI\")\n",
    "df_rejets_pei_EU = pd.read_excel(path_rejets + \"Suivi des rejets EU depuis juin 2020.xlsx\", sheet_name = \"PEI\")\n",
    "\n",
    "df_rejets_pei_CC.loc[:,\"Fonds_rejet\"] = \"CC\"\n",
    "df_rejets_pei_XL.loc[:,\"Fonds_rejet\"] = \"XL\"\n",
    "df_rejets_pei_EU.loc[:,\"Fonds_rejet\"] = \"EU\"\n",
    "df_rejets_PEI_clientops = pd.concat([df_rejets_pei_CC,df_rejets_pei_XL,df_rejets_pei_EU]).reset_index(drop=True)\n",
    "df_rejets_PEI_clientops.loc[:,\"SUB_PEI\"] = \"PEI\""
   ]
  },
  {
   "cell_type": "markdown",
   "id": "4c5eddad",
   "metadata": {},
   "source": [
    "# Data Quality"
   ]
  },
  {
   "cell_type": "markdown",
   "id": "db9a2050",
   "metadata": {},
   "source": [
    "## Fichiers xml"
   ]
  },
  {
   "cell_type": "code",
   "execution_count": null,
   "id": "0919754c",
   "metadata": {},
   "outputs": [],
   "source": [
    "# il y a des fichiers xml qui sont déjà dans le dossier Souscription\n",
    "df_hist_clean = df_hist[~df_hist[\"id_session\"].isin(df_sub[\"id_session\"])] "
   ]
  },
  {
   "cell_type": "code",
   "execution_count": null,
   "id": "50739396",
   "metadata": {},
   "outputs": [],
   "source": [
    "df_xml = pd.concat([df_sub,df_hist_clean])\n",
    "df_xml.loc[:,'date_session'] = df_xml.loc[:,\"id_session\"].str.split().str[1]\n",
    "df_xml.loc[:,'date_session'] = pd.to_datetime(df_xml['date_session'],format='%Y%m%d')"
   ]
  },
  {
   "cell_type": "code",
   "execution_count": null,
   "id": "8845342e",
   "metadata": {},
   "outputs": [],
   "source": [
    "df_xml_lists = df_xml[['filename','id_session','product','date_session']].drop_duplicates()\n",
    "df_xml_lists.loc[:,\"month_year\"] = pd.to_datetime(df_xml_lists[\"date_session\"]).dt.to_period('M')\n",
    "df_xml_lists.groupby(by=[\"month_year\",\"product\"])[\"id_session\"].count().reset_index().to_excel(folder_path + \"/output/2. Prlv/3. Prélèvements_DQ_Verification fichiers xml.xlsx\",sheet_name=\"xml\",index=False)"
   ]
  },
  {
   "cell_type": "code",
   "execution_count": null,
   "id": "54578434",
   "metadata": {},
   "outputs": [],
   "source": [
    "df_xml.to_excel(folder_path+\"/transformed_data/2. Banque/Prlv_XML concaténés.xlsx\",sheet_name=\"XML\",index=False)"
   ]
  },
  {
   "cell_type": "markdown",
   "id": "690f4c15",
   "metadata": {},
   "source": [
    "## Liste des sessions vs Détail xml"
   ]
  },
  {
   "cell_type": "code",
   "execution_count": null,
   "id": "25361172",
   "metadata": {},
   "outputs": [],
   "source": [
    "df_liste_session = df_liste_session.reset_index()"
   ]
  },
  {
   "cell_type": "code",
   "execution_count": null,
   "id": "bb1a1ac6",
   "metadata": {},
   "outputs": [],
   "source": [
    "######### Vérifier si les fichiers xml sont présents ######## \n",
    "df_list_sessions_concat = df_liste_session.merge(df_xml_lists[[\"id_session\",\"product\"]],\n",
    "                            left_on=\"Identifiant de la remise\",\n",
    "                            right_on='id_session',\n",
    "                            how='outer',indicator=True)\n",
    "\n",
    "df_xml_manquants = df_list_sessions_concat[df_list_sessions_concat['_merge']==\"left_only\"][df_liste_session.columns] ## d'autres statuts que signé\n",
    "\n",
    "df_list_session_trouve = df_list_sessions_concat[df_list_sessions_concat['_merge']==\"both\"][[\"Identifiant\",\"Statut\",\"Ordre de prélèvement\",\\\n",
    "                                                                    \"Créé le\",\"Session PEI\",\"Identifiant de la remise\",\\\n",
    "                                                                    'Nb de transactions', 'Montant','product']]"
   ]
  },
  {
   "cell_type": "code",
   "execution_count": null,
   "id": "aa3890a6",
   "metadata": {},
   "outputs": [],
   "source": [
    "df_list_sessions_concat[\"Fichier xml présent?\"] = df_list_sessions_concat['_merge'].map({\"both\":\"Oui\",\n",
    "                                                                              \"left_only\":\"Non\",\n",
    "                                                                              \"right_only\":\"xml présent mais ligne non exisante\"})"
   ]
  },
  {
   "cell_type": "code",
   "execution_count": null,
   "id": "160e2803",
   "metadata": {},
   "outputs": [],
   "source": [
    "df_liste_session_check = df_liste_session.merge(df_list_sessions_concat[[\"Nom du fichier SEPA\",\"Fichier xml présent?\"]],on=\"Nom du fichier SEPA\",how=\"outer\")\n",
    "df_liste_session_check.loc[:\"Fichier xml présent?\"] = df_liste_session_check.loc[:\"Fichier xml présent?\"].fillna(\"Non\")"
   ]
  },
  {
   "cell_type": "markdown",
   "id": "ae4fde31",
   "metadata": {},
   "source": [
    "## Montant demandé vs Montant reçu (Session de prélèvement relevé crédit vs BO)"
   ]
  },
  {
   "cell_type": "code",
   "execution_count": null,
   "id": "f8b15786",
   "metadata": {},
   "outputs": [],
   "source": [
    "df_prelevements = df_prelevements[df_prelevements[\"Date\"]<=\"2022-05-31\"]\n",
    "df_list_session_trouve = df_list_session_trouve[df_list_session_trouve[\"Créé le\"] <= '2022-05-31 00:00:00']"
   ]
  },
  {
   "cell_type": "code",
   "execution_count": null,
   "id": "a12d5ec5",
   "metadata": {},
   "outputs": [],
   "source": [
    "df_list_sessions_concat.loc[:,\"Identifiant de la remise\"] = df_list_sessions_concat.loc[:,\"Identifiant de la remise\"].str.upper()\n",
    "df_prelevements.loc[:,\"ID_remise\"] = df_prelevements.loc[:,\"ID_remise\"].str.upper()\n",
    "df_prelevements_sub = df_prelevements[df_prelevements[\"ID_remise\"].str.contains(\"SUB\",na=False)]"
   ]
  },
  {
   "cell_type": "code",
   "execution_count": null,
   "id": "03451cff",
   "metadata": {},
   "outputs": [],
   "source": [
    "df_list_sessions_concat.loc[:,\"Identifiant_remise_court\"] = df_list_sessions_concat.loc[:,\"Identifiant de la remise\"].str[0:22]\n",
    "df_prelevements.loc[:,\"ID_remise_court\"] = df_prelevements.loc[:,\"ID_remise\"].str[0:22]"
   ]
  },
  {
   "cell_type": "code",
   "execution_count": null,
   "id": "cb3e687b",
   "metadata": {},
   "outputs": [],
   "source": [
    "### Rapprocher avec le relevé bancaire pour voir si les données sont complètes\n",
    "df_list_sessions_concat = df_list_sessions_concat.drop(columns=\"_merge\").merge(df_prelevements,\\\n",
    "                                          left_on = \"Identifiant_remise_court\",\n",
    "                                          right_on = \"ID_remise_court\",\n",
    "                                          how = \"outer\", indicator=True)"
   ]
  },
  {
   "cell_type": "code",
   "execution_count": null,
   "id": "bfbe6e3a",
   "metadata": {},
   "outputs": [],
   "source": [
    "#### Les xml manquants (session trouvée dans relevé mais pas dans fichier Excel - BO)\n",
    "df_not_match1 = df_list_sessions_concat[df_list_sessions_concat[\"_merge\"]==\"right_only\"]\n",
    "df_not_match1 = df_not_match1[df_prelevements.columns]\n",
    "# df_not_match.to_excel(folder_path + \"/output/2. Prlv/3. Prélèvements_DQ_Session sur relevé non trouvées dans BO.xlsx\",sheet_name=\"Sessions non trouvées\", index=False)"
   ]
  },
  {
   "cell_type": "code",
   "execution_count": null,
   "id": "b653ed71",
   "metadata": {},
   "outputs": [],
   "source": [
    "df_not_match1 = df_not_match1[df_not_match1[\"ID_remise\"].str.contains(\"SUB\",na=False)]\n",
    "df_not_match1"
   ]
  },
  {
   "cell_type": "code",
   "execution_count": null,
   "id": "8c6b8142",
   "metadata": {},
   "outputs": [],
   "source": [
    "### Pour les sessions trouvées, vérifier si le montant demandé = montant reçu sur le compte\n",
    "df_list_sessions = df_list_sessions_concat[df_list_sessions_concat[\"_merge\"]==\"both\"]\n",
    "df_list_sessions.loc[:,\"Meme_montant\"] = df_list_sessions[\"Montant\"] == df_list_sessions[\"Crédit\"]\n",
    "df_list_sessions.loc[:,\"Meme_nb_transaction\"] = df_list_sessions[\"Nb de transactions\"] == df_list_sessions[\"Nb_transaction\"]\n",
    "df_list_sessions.loc[:,\"Ecart_montant\"] = df_list_sessions[\"Montant\"] - df_list_sessions[\"Crédit\"]\n",
    "df_list_sessions.loc[:,\"Ecart_nb_transaction\"] = df_list_sessions[\"Nb de transactions\"] - df_list_sessions[\"Nb_transaction\"]"
   ]
  },
  {
   "cell_type": "code",
   "execution_count": null,
   "id": "2a00b3c2",
   "metadata": {},
   "outputs": [],
   "source": [
    "df_list_sessions[\"Fichier xml présent?\"].value_counts()"
   ]
  },
  {
   "cell_type": "code",
   "execution_count": null,
   "id": "b45b043d",
   "metadata": {},
   "outputs": [],
   "source": [
    "######## des sessions dans relevé (crédit),dans Excel mais pas de xml\n",
    "list_sessions_manquantes  = list(df_list_sessions[df_list_sessions[\"Fichier xml présent?\"]==\"Non\"][\"ID_remise\"])\n",
    "df_not_matched_2 = df_prelevements_sub[df_prelevements_sub[\"ID_remise\"].isin(list_sessions_manquantes)]"
   ]
  },
  {
   "cell_type": "code",
   "execution_count": null,
   "id": "5644a152",
   "metadata": {},
   "outputs": [],
   "source": [
    "df_not_match = pd.concat([df_not_match1,df_not_matched_2])\n",
    "df_not_match.to_excel(folder_path + \"/output/2. Prlv/Prlv_DQ_Session sur relevé non trouvées dans BO.xlsx\",sheet_name=\"Sessions non trouvées\", index=False)"
   ]
  },
  {
   "cell_type": "code",
   "execution_count": null,
   "id": "d25aff8c",
   "metadata": {},
   "outputs": [],
   "source": [
    "df_not_match[\"Crédit\"].sum()"
   ]
  },
  {
   "cell_type": "code",
   "execution_count": null,
   "id": "65df1f1e",
   "metadata": {},
   "outputs": [],
   "source": [
    "# Les sessions ayant un écart dans le montant demandé vs montant reçu\n",
    "df_ecart_session = df_list_sessions[df_list_sessions[\"Meme_montant\"]==False][[\"Identifiant\",\"id_session\",\"Nb de transactions\",\"Montant\",\"Créé le\",\\\n",
    "                                           \"Id sys\",\"Libellé\",\"Fonds\",\"Nb_transaction\",\"Crédit\",\"Valeur\",\"Ecart_montant\",\"Ecart_nb_transaction\"]]\n",
    "df_ecart_session_detail = df_ecart_session.merge(df_xml,\n",
    "                      left_on=[\"id_session\",\"Ecart_montant\"],\n",
    "                      right_on=[\"id_session\",\"amount\"])\n",
    "\n",
    "df_ecart_session_detail = df_ecart_session_detail.groupby(by=['Identifiant', 'id_session', 'Nb de transactions', 'Montant', 'Créé le',\\\n",
    "                                                              'Id sys', 'Libellé', 'Fonds', 'Nb_transaction', 'Crédit', 'Valeur',\\\n",
    "                                                              'Ecart_montant', 'Ecart_nb_transaction']).agg({'client_name':\" | \".join,\n",
    "                                                                                                           'order_name': \" | \".join}).reset_index()\n",
    "\n",
    "df_ecart_session_detail.to_excel(folder_path + \"/output/2. Prlv/Prlv_Ecart montant dans les sessions_Details.xlsx\",sheet_name=\"Ecart\", index=False)"
   ]
  },
  {
   "cell_type": "code",
   "execution_count": null,
   "id": "7ca374ce",
   "metadata": {},
   "outputs": [],
   "source": [
    "df_ecart_session[df_ecart_session[\"Identifiant\"].str.contains(\"souscription\")][\"Identifiant\"].count()"
   ]
  },
  {
   "cell_type": "code",
   "execution_count": null,
   "id": "694fb415",
   "metadata": {},
   "outputs": [],
   "source": [
    "df_pei = df_ecart_session[df_ecart_session[\"Identifiant\"].str.contains(\"PEI\")]\n",
    "df_sub = df_ecart_session[df_ecart_session[\"Identifiant\"].str.contains(\"souscription\")]"
   ]
  },
  {
   "cell_type": "code",
   "execution_count": null,
   "id": "7a419daf",
   "metadata": {},
   "outputs": [],
   "source": [
    "# df_ecart_session.to_excel(folder_path + \"/output/2. Prlv/Prlv_Ecart montant dans les sessions_Details.xlsx\",sheet_name=\"Ecart\", index=False)"
   ]
  },
  {
   "cell_type": "code",
   "execution_count": null,
   "id": "ac1facdb",
   "metadata": {},
   "outputs": [],
   "source": [
    "df_prelevements[\"Crédit\"].sum() - df_list_sessions[\"Crédit\"].sum()  ### Montant des sessions manquantes + ecart"
   ]
  },
  {
   "cell_type": "code",
   "execution_count": null,
   "id": "92334fad",
   "metadata": {},
   "outputs": [],
   "source": [
    "df_list_sessions[\"Fonds_xml\"] = df_list_sessions[\"Ordre de prélèvement\"].str[0:2].fillna(df_list_sessions[\"Session PEI\"].str[0:2])\n",
    "df_list_sessions[\"Bon_compte\"] = df_list_sessions[\"Fonds_xml\"] == df_list_sessions[\"Fonds\"]"
   ]
  },
  {
   "cell_type": "code",
   "execution_count": null,
   "id": "3c63336a",
   "metadata": {},
   "outputs": [],
   "source": [
    "len(df_ecart_session)"
   ]
  },
  {
   "cell_type": "code",
   "execution_count": null,
   "id": "929aa981",
   "metadata": {},
   "outputs": [],
   "source": [
    "df_ecart_session[\"pei_sub\"] = df_ecart_session[\"id_session\"].str[0:3]\n",
    "df_ecart_session[\"pei_sub\"] = df_ecart_session[\"pei_sub\"].fillna(\"PEI\")\n",
    "df_ecart_session[df_ecart_session[\"pei_sub\"]==\"PEI\"][\"Ecart_nb_transaction\"].sum()"
   ]
  },
  {
   "cell_type": "markdown",
   "id": "377be335",
   "metadata": {},
   "source": [
    "# Rapprochement"
   ]
  },
  {
   "cell_type": "markdown",
   "id": "f2f0f7a1",
   "metadata": {},
   "source": [
    "## SUB"
   ]
  },
  {
   "cell_type": "code",
   "execution_count": null,
   "id": "c83c14db",
   "metadata": {},
   "outputs": [],
   "source": [
    "df_not_match[\"Nb_transaction\"].sum()"
   ]
  },
  {
   "cell_type": "code",
   "execution_count": null,
   "id": "dfecdefa",
   "metadata": {},
   "outputs": [],
   "source": [
    "df_xml[\"pei_sub\"] = df_xml[\"id_session\"].str[:3]\n",
    "df_xml_sub = df_xml[df_xml[\"pei_sub\"]==\"SUB\"]\n",
    "df_xml_sub = df_xml_sub[df_xml_sub[\"date_session\"]<= \"2022-10-30\"]"
   ]
  },
  {
   "cell_type": "code",
   "execution_count": null,
   "id": "b761e8e2",
   "metadata": {},
   "outputs": [],
   "source": [
    "liste_sessions_credit = list(df_prelevements_sub[\"ID_remise\"].str[0:22])\n",
    "######### Supprimer les fichiers qui ne sont pas dans les sessions de prélèvements #######\n",
    "df_xml_sub = df_xml_sub[df_xml_sub[\"id_session\"].str.upper().str[0:22].isin(liste_sessions_credit)]"
   ]
  },
  {
   "cell_type": "code",
   "execution_count": null,
   "id": "d703f662",
   "metadata": {},
   "outputs": [],
   "source": [
    "df_prelevements_sub[\"Fonds\"].value_counts()"
   ]
  },
  {
   "cell_type": "code",
   "execution_count": null,
   "id": "2af3d172",
   "metadata": {},
   "outputs": [],
   "source": [
    "df_xml_sub[\"ord_prlv\"] = df_xml_sub[\"ord_prlv\"].str[0:13]"
   ]
  },
  {
   "cell_type": "code",
   "execution_count": null,
   "id": "c0c9b49a",
   "metadata": {},
   "outputs": [],
   "source": [
    "df_ordres_valides_BO =df_ordres_valides_BO[df_ordres_valides_BO[\"Créé le\"]<= \"2022-10-30\"]\n",
    "df_ordres_valides_BO[\"Ordre de prélèvement\"] = df_ordres_valides_BO[\"Ordre de prélèvement\"].str[0:13]\n",
    "df_ordres_valides_BO =df_ordres_valides_BO[~df_ordres_valides_BO[\"Ordre de prélèvement\"].str.contains(\"11/2022|12/2022\",na=False)]"
   ]
  },
  {
   "cell_type": "code",
   "execution_count": null,
   "id": "50889166",
   "metadata": {},
   "outputs": [],
   "source": [
    "df_xml_sub[\"ord_prlv\"] = df_xml_sub[\"ord_prlv\"].str[0:13]"
   ]
  },
  {
   "cell_type": "code",
   "execution_count": null,
   "id": "93fc7c14",
   "metadata": {},
   "outputs": [],
   "source": [
    "len(df_ordres_valides_BO)"
   ]
  },
  {
   "cell_type": "code",
   "execution_count": null,
   "id": "c65168b5",
   "metadata": {},
   "outputs": [],
   "source": [
    "df_xml_sub_agg = df_xml_sub.groupby(by=[\"id_session\",\"product\"])[\"amount\"].sum().reset_index()\n",
    "df_xml_sub_agg[\"id_session\"] = df_xml_sub_agg[\"id_session\"].str.upper()\n",
    "df_xml_sub_agg"
   ]
  },
  {
   "cell_type": "code",
   "execution_count": null,
   "id": "056ecf2e",
   "metadata": {},
   "outputs": [],
   "source": [
    "df_merge = df_xml_sub_agg.merge(df_prelevements, left_on = \"id_session\",right_on=\"ID_remise\")"
   ]
  },
  {
   "cell_type": "code",
   "execution_count": null,
   "id": "6c130971",
   "metadata": {},
   "outputs": [],
   "source": [
    "df_merge[\"Fonds_diff\"] = df_merge[\"Fonds\"] == df_merge[\"product\"]"
   ]
  },
  {
   "cell_type": "markdown",
   "id": "3a946307",
   "metadata": {},
   "source": [
    "### Ordres validés"
   ]
  },
  {
   "cell_type": "markdown",
   "id": "334c7939",
   "metadata": {},
   "source": [
    "#### Paiement au mauvais compte"
   ]
  },
  {
   "cell_type": "code",
   "execution_count": null,
   "id": "f52a6a53",
   "metadata": {},
   "outputs": [],
   "source": [
    "df_ordres_valides_BO[\"Bon_compte\"] = df_ordres_valides_BO[\"Produit\"] == df_ordres_valides_BO[\"Ordre de prélèvement\"].str[0:2]\n",
    "df_ordres_valides_BO[df_ordres_valides_BO[\"Bon_compte\"]==False].to_excel(folder_path + \"/output/2. Prlv/Prlv_mauvais compte.xlsx\",sheet_name=\"Mauvais compte\",index=False)"
   ]
  },
  {
   "cell_type": "markdown",
   "id": "506f8625",
   "metadata": {},
   "source": [
    "#### Ordres validés mais non trouvés dans les fichiers xml"
   ]
  },
  {
   "cell_type": "code",
   "execution_count": null,
   "id": "74b34e84",
   "metadata": {},
   "outputs": [],
   "source": [
    "### Rapprochement entre les ordres validés BO versus les fichiers XML\n",
    "df_concat_sessions = df_ordres_valides_BO.merge(df_xml_sub,\n",
    "                                            left_on=[\"Identifiant ordre CRM\",\"Ordre de prélèvement\"],\n",
    "                                            right_on=[\"order_name\",\"ord_prlv\"],\n",
    "                                            how=\"outer\", indicator=True)"
   ]
  },
  {
   "cell_type": "code",
   "execution_count": null,
   "id": "982f76dc",
   "metadata": {},
   "outputs": [],
   "source": [
    "df_ordres_not_in_xml = df_concat_sessions[df_concat_sessions[\"_merge\"]==\"left_only\"] #### Données xml hors période d'analyse (après oct 2022 ou statut différent de Signé)\n",
    "df_rejets_BO = df_concat_sessions[df_concat_sessions[\"_merge\"]==\"right_only\"][df_xml_sub.columns] ## ordres dans xml mais pas validés\n",
    "df_both = df_concat_sessions[df_concat_sessions[\"_merge\"]==\"both\"] ### ordres validés et l'argent reçu"
   ]
  },
  {
   "cell_type": "code",
   "execution_count": null,
   "id": "8226dd80",
   "metadata": {},
   "outputs": [],
   "source": [
    "#### Enlever les sessions après 31/05/2022\n",
    "pattern = \"([\\d\\/]+)\"\n",
    "df_ordres_not_in_xml[\"Date_prlv\"] = df_ordres_not_in_xml[\"Ordre de prélèvement\"].str.extract(pattern)\n",
    "df_ordres_not_in_xml[\"Date_prlv\"] = pd.to_datetime(df_ordres_not_in_xml[\"Date_prlv\"],format = \"%d/%m/%Y\",errors=\"coerce\").fillna(pd.to_datetime(df_ordres_not_in_xml[\"Date_prlv\"],format = \"%Y%m%d\",errors=\"coerce\"))\n",
    "df_ordres_not_in_xml = df_ordres_not_in_xml[df_ordres_not_in_xml[\"Date_prlv\"]<=\"2022-05-31\"]"
   ]
  },
  {
   "cell_type": "code",
   "execution_count": null,
   "id": "87336732",
   "metadata": {},
   "outputs": [],
   "source": [
    "### List des xml manquants\n",
    "df_xml_manquants = df_list_sessions[df_list_sessions[\"Fichier xml présent?\"]==\"Non\"]\n",
    "df_xml_manquants = df_xml_manquants[df_xml_manquants[\"Identifiant\"].str.contains(\"souscription\")]\n",
    "df_xml_manquants[\"Ordre de prélèvement\"] = df_xml_manquants[\"Ordre de prélèvement\"].str[0:13]"
   ]
  },
  {
   "cell_type": "code",
   "execution_count": null,
   "id": "a4e0c9ba",
   "metadata": {},
   "outputs": [],
   "source": [
    "len(df_xml_manquants)"
   ]
  },
  {
   "cell_type": "code",
   "execution_count": null,
   "id": "7730d421",
   "metadata": {},
   "outputs": [],
   "source": [
    "### Enlever les sessions pour lesquelles le fichier xml n'est pas présent\n",
    "df_ordres_not_in_xml = df_ordres_not_in_xml[~df_ordres_not_in_xml[\"Ordre de prélèvement\"].isin(df_xml_manquants[\"Ordre de prélèvement\"].tolist())]#.to_excel(folder_path + \"/output/2. Prlv/Prlv_ordres orphelins.xlsx\",sheet_name=\"Sheet1\")"
   ]
  },
  {
   "cell_type": "code",
   "execution_count": null,
   "id": "05ed0a3b",
   "metadata": {},
   "outputs": [],
   "source": [
    "len(df_ordres_not_in_xml)"
   ]
  },
  {
   "cell_type": "code",
   "execution_count": null,
   "id": "5c072de0",
   "metadata": {},
   "outputs": [],
   "source": [
    "### Agréger les ordres manquants dans xml par session\n",
    "df_ordres_not_in_xml_agg = df_ordres_not_in_xml.groupby(\"Ordre de prélèvement\").agg({\"Identifiant ordre CRM\":\"count\",\"Montant souscript\":\"sum\"}).reset_index()\n",
    "df_ordres_not_in_xml_agg = df_ordres_not_in_xml_agg.rename(columns={\"Identifiant ordre CRM\":\"nb_ordres\"})\n",
    "df_list_sessions[\"Ordre de prélèvement\"] = df_list_sessions[\"Ordre de prélèvement\"].str[0:13]"
   ]
  },
  {
   "cell_type": "code",
   "execution_count": null,
   "id": "98d3eec3",
   "metadata": {},
   "outputs": [],
   "source": [
    "### Re-rapprocher une deuxième fois avec le numéro d'ordre de prélèvement (si le montant de toute la session match, on valide)\n",
    "### car il y a beaucoup d'ordres dans le fichier xml qui sont mal renseigné (par exemple : MS-145 au lieu de ORD-xxxx)\n",
    "### c'est pour ça qu'on n'a pas trouvé ces ordres dans les fichiers XMLs\n",
    "\n",
    "df_ordres_not_in_xml_agg = df_list_sessions[[\"Ordre de prélèvement\",\"Nb de transactions\"]].merge(df_ordres_not_in_xml_agg,on=\"Ordre de prélèvement\")\n",
    "df_ordres_not_in_xml_agg[\"Ecart_nb_ordres\"] = df_ordres_not_in_xml_agg[\"Nb de transactions\"] - df_ordres_not_in_xml_agg[\"nb_ordres\"]"
   ]
  },
  {
   "cell_type": "markdown",
   "id": "6969ebbf",
   "metadata": {},
   "source": [
    "Pour les lignes dont : \n",
    "- Ecart_nb_ordres > 10 : les sessions splittées en deux fichiers (2 lignes) ou il y a des rejets\n",
    "- Ecart_nb_ordres petit (<=3) : ordres validés mais non trouvés dans le fichier xml"
   ]
  },
  {
   "cell_type": "code",
   "execution_count": null,
   "id": "f64cddce",
   "metadata": {},
   "outputs": [],
   "source": [
    "df_ordres_not_in_xml_agg_checked = df_ordres_not_in_xml_agg[df_ordres_not_in_xml_agg[\"nb_ordres\"]<=3]\n",
    "df_ordres_not_in_xml = df_ordres_not_in_xml[df_ordres_not_in_xml[\"Ordre de prélèvement\"].isin(df_ordres_not_in_xml_agg_checked[\"Ordre de prélèvement\"])][[\"Ordre de prélèvement\",\"Associé\",\"Montant souscript\",\"Identifiant ordre CRM\"]]"
   ]
  },
  {
   "cell_type": "code",
   "execution_count": null,
   "id": "0f407a61",
   "metadata": {},
   "outputs": [],
   "source": [
    "df_ordres_not_in_xml.to_excel(folder_path + \"/output/2. Prlv/Prlv_Ordres non trouvés dans les fichiers xml.xlsx\",sheet_name=\"ordres_not_in_xml\",index=False)"
   ]
  },
  {
   "cell_type": "markdown",
   "id": "71cd84e6",
   "metadata": {},
   "source": [
    "#### Montant de souscription versus Montant prélevé ?"
   ]
  },
  {
   "cell_type": "code",
   "execution_count": null,
   "id": "bf4f69fc",
   "metadata": {},
   "outputs": [],
   "source": [
    "df_both[\"Ecart_montant\"] = df_both[\"amount\"] - df_both[\"Montant souscript\"]"
   ]
  },
  {
   "cell_type": "code",
   "execution_count": null,
   "id": "143784c5",
   "metadata": {},
   "outputs": [],
   "source": [
    "df_ecart_montant_prlv = df_both[abs(df_both[\"Ecart_montant\"]) >= 1][['Identifiant ordre CRM', 'Créé le',\n",
    "       'Code associé', 'Associé', 'Souscripteur PP', 'Souscripteur PM',\n",
    "       'Produit', 'Type de propriété', 'Statut', 'Montant souscript',\n",
    "       'Ordre de prélèvement', 'client_name', 'order_name', 'date_sign', 'amount', 'product',\n",
    "       'id_session', 'ord_prlv','date_session',\"Ecart_montant\"]]"
   ]
  },
  {
   "cell_type": "code",
   "execution_count": null,
   "id": "8a7c6716",
   "metadata": {},
   "outputs": [],
   "source": [
    "df_ecart_montant_prlv.to_excel(folder_path+\"/output/2. Prlv/Prlv_Ordres_Montant prélevé different du montant souscript.xlsx\",sheet_name=\"Ecart\",index=False)"
   ]
  },
  {
   "cell_type": "markdown",
   "id": "c14197ad",
   "metadata": {},
   "source": [
    "#### Ordres rejetés (BO)"
   ]
  },
  {
   "cell_type": "code",
   "execution_count": null,
   "id": "5e120b14",
   "metadata": {},
   "outputs": [],
   "source": [
    "df_rejets_BO = df_rejets_BO[['client_name', 'order_name', 'date_sign', 'amount', 'product','id_session','date_session','ord_prlv']]\n",
    "df_rejets_BO = df_rejets_BO.sort_values(by = [\"order_name\",\"date_session\",\"product\"])\n",
    "df_rejets_BO[\"id_ord_unique\"] = df_rejets_BO[\"ord_prlv\"] + \" | \" + df_rejets_BO[\"order_name\"] ## Créer l'id unique pour le rapprochement\n",
    "df_rejets_BO[\"nb_ord\"] = 1"
   ]
  },
  {
   "cell_type": "code",
   "execution_count": null,
   "id": "915ed703",
   "metadata": {},
   "outputs": [],
   "source": [
    "### Identifier tous les ordres qui sont pas bien renseignés le numéro :\n",
    "\n",
    "df_rejets_BO_agg = df_rejets_BO.groupby(by=\"ord_prlv\").agg({\"date_session\":\"count\",\"amount\":\"sum\"}).reset_index().rename(columns={\"date_session\":\"Nb ordres\"})\n",
    "df_rejets_BO_agg = df_rejets_BO_agg.merge(df_ordres_not_in_xml_agg[[\"Ordre de prélèvement\",\"nb_ordres\",\"Montant souscript\"]],left_on= \"ord_prlv\", right_on=\"Ordre de prélèvement\",how=\"outer\",indicator=True)\n",
    "df_rejets_BO_agg = df_rejets_BO_agg[df_rejets_BO_agg[\"_merge\"]!=\"right_only\"]\n",
    "df_rejets_BO_agg[\"Ecart_nb_ordres\"] = df_rejets_BO_agg[\"Nb ordres\"] - df_rejets_BO_agg[\"nb_ordres\"]\n",
    "df_rejets_BO_agg[\"Ecart_montant\"] = df_rejets_BO_agg[\"amount\"] - df_rejets_BO_agg[\"Montant souscript\"]\n",
    "df_rejets_BO_agg = df_rejets_BO_agg[df_rejets_BO_agg[\"Ecart_nb_ordres\"]!=0]"
   ]
  },
  {
   "cell_type": "code",
   "execution_count": null,
   "id": "d45e31f9",
   "metadata": {},
   "outputs": [],
   "source": [
    "### Si l'écart de nb ordres = 1, on récupère l'ordre rejeté : \n",
    "df_rejets_BO_agg_1_ord = df_rejets_BO_agg[df_rejets_BO_agg[\"Ecart_nb_ordres\"]==1]\n",
    "df_rejets_BO_1_ord = df_rejets_BO_agg_1_ord[[\"ord_prlv\",\"Ecart_montant\"]].merge(df_xml,left_on=[\"ord_prlv\",\"Ecart_montant\"],\n",
    "                                                                               right_on=[\"ord_prlv\",\"amount\"])"
   ]
  },
  {
   "cell_type": "code",
   "execution_count": null,
   "id": "53c0492f",
   "metadata": {},
   "outputs": [],
   "source": [
    "### Enlever les ordres dont le nom est mal renseigné\n",
    "df_rejets_BO = df_rejets_BO[df_rejets_BO[\"ord_prlv\"].isin(df_rejets_BO_agg[df_rejets_BO_agg[\"Ecart_nb_ordres\"]!=1][\"ord_prlv\"])]\n",
    "\n",
    "df_rejets_BO = pd.concat([df_rejets_BO,df_rejets_BO_agg_1_ord])\n",
    "\n",
    "df_rejets_BO = df_rejets_BO.drop(columns=['Nb ordres', 'Ordre de prélèvement', 'nb_ordres', 'Montant souscript',\n",
    "       '_merge', 'Ecart_nb_ordres', 'Ecart_montant'])"
   ]
  },
  {
   "cell_type": "markdown",
   "id": "5d218cdf",
   "metadata": {},
   "source": [
    "### Checker avec ClientOps"
   ]
  },
  {
   "cell_type": "code",
   "execution_count": null,
   "id": "6e29c5ed",
   "metadata": {},
   "outputs": [],
   "source": [
    "df_rejets_SUB_clientops['Réf. de bout en bout'] = df_rejets_SUB_clientops['Réf. de bout en bout'].apply(lambda x :\"_\".join(x.split()[:2]))"
   ]
  },
  {
   "cell_type": "code",
   "execution_count": null,
   "id": "82c2e11c",
   "metadata": {},
   "outputs": [],
   "source": [
    "df_rejets_clientops = pd.concat([df_rejets_SUB_clientops,df_rejets_PEI_clientops])"
   ]
  },
  {
   "cell_type": "code",
   "execution_count": null,
   "id": "e721ef82",
   "metadata": {},
   "outputs": [],
   "source": [
    "df_rejets_clientops = df_rejets_clientops[['Date de rejet', 'Date opé. initiale', 'Montant', 'Réf. mandat',\n",
    "                       'Débiteur','Chargé de dossier', 'Commentaires/régularisation',\n",
    "                       'Date réception fonds', 'Fonds_rejet','Réf. de bout en bout',\n",
    "                       'Commentaire/régularisation',\"SUB_PEI\"]]"
   ]
  },
  {
   "cell_type": "code",
   "execution_count": null,
   "id": "54d6aa86",
   "metadata": {
    "scrolled": true
   },
   "outputs": [],
   "source": [
    "### Nettoyer les données\n",
    "df_rejets_clientops[\"Date de rejet\"] = df_rejets_clientops[\"Date de rejet\"].fillna(df_rejets_clientops[\"Date opé. initiale\"])\n",
    "df_rejets_clientops[\"Date de rejet\"] = df_rejets_clientops[\"Date de rejet\"].astype(str)\n",
    "df_rejets_clientops[\"Date opé. initiale\"] = df_rejets_clientops[\"Date opé. initiale\"].astype(str)\n",
    "\n",
    "df_rejets_clientops[\"Date de rejet\"] = df_rejets_clientops[\"Date de rejet\"].str.replace(r'\\t','',regex=True)\n",
    "df_rejets_clientops[\"Date opé. initiale\"] = df_rejets_clientops[\"Date opé. initiale\"].str.replace(r'\\t',\"\")\n",
    "df_rejets_clientops[\"Réf. mandat\"] = df_rejets_clientops[\"Réf. mandat\"].str.replace(r'\\t',\"\")\n",
    "df_rejets_clientops[\"Débiteur\"] = df_rejets_clientops[\"Débiteur\"].str.replace(r'\\t',\"\")\n",
    "df_rejets_clientops[\"Date de rejet\"]= pd.to_datetime(df_rejets_clientops[\"Date de rejet\"],format='%Y-%m-%d %H:%M:%S',errors=\"coerce\").fillna(pd.to_datetime(df_rejets_clientops[\"Date de rejet\"], format='%d/%m/%Y',errors=\"coerce\"))\n",
    "\n",
    "df_rejets_clientops[\"Montant\"] = df_rejets_clientops[\"Montant\"].astype(str)\n",
    "df_rejets_clientops[\"Montant\"] = df_rejets_clientops[\"Montant\"].str.replace(\"EUR\",\"\")\n",
    "df_rejets_clientops[\"Montant\"] = df_rejets_clientops[\"Montant\"].str.replace(\" \",\"\")\n",
    "df_rejets_clientops[\"Montant\"] = df_rejets_clientops[\"Montant\"].str.replace(\",\",\".\")\n",
    "df_rejets_clientops[\"Montant\"] = df_rejets_clientops[\"Montant\"].astype(float)"
   ]
  },
  {
   "cell_type": "code",
   "execution_count": null,
   "id": "1398a2f2",
   "metadata": {},
   "outputs": [],
   "source": [
    "### A enlever après car les données bancaires reçus sont jusqu'au 31/10/2022\n",
    "df_rejets_clientops = df_rejets_clientops[df_rejets_clientops[\"Date de rejet\"]<='2022-10-31'] \n",
    "df_rejets_BO = df_rejets_BO[df_rejets_BO[\"date_session\"]<='2022-10-31']"
   ]
  },
  {
   "cell_type": "code",
   "execution_count": null,
   "id": "f0b78a8d",
   "metadata": {
    "scrolled": true
   },
   "outputs": [],
   "source": [
    "df_rejets_ClientOps_BO = df_rejets_clientops.merge(df_rejets_BO,\n",
    "                                 left_on=['Réf. mandat','Fonds_rejet'],\n",
    "                                 right_on=['order_name','product'],\n",
    "                                how='outer',indicator=True)\n",
    "len(df_rejets_ClientOps_BO[df_rejets_ClientOps_BO[\"_merge\"]==\"both\"])"
   ]
  },
  {
   "cell_type": "code",
   "execution_count": null,
   "id": "33a24626",
   "metadata": {},
   "outputs": [],
   "source": [
    "len(df_rejets_BO)"
   ]
  },
  {
   "cell_type": "markdown",
   "id": "f8bce16b",
   "metadata": {},
   "source": [
    "## Session PEI"
   ]
  },
  {
   "cell_type": "code",
   "execution_count": null,
   "id": "a6867da6",
   "metadata": {},
   "outputs": [],
   "source": [
    "df_mouvements_BO = df_mouvements_BO[df_mouvements_BO[\"SubscriptionType\"]==\"Mandat PEI\"]\n",
    "df_mouvements_BO = df_mouvements_BO[~df_mouvements_BO[\"Retraction_Order_Id\"].isnull()]\n",
    "\n",
    "df_mouvements_BO[\"MovementDate\"] = pd.to_datetime(df_mouvements_BO[\"MovementDate\"],format = '%Y-%m-%d')\n",
    "df_PEI_lines[\"SignatureDate\"] = pd.to_datetime(df_PEI_lines[\"SignatureDate\"],format = '%Y-%m-%d')\n",
    "\n",
    "df_rejets_PEI = df_PEI_lines.merge(df_mouvements_BO[[\"Idmove\",'Retraction_Order_Id', 'Retraction_Order_Name']],\n",
    "                                   left_on=\"MovementName\",right_on=\"Idmove\")\n",
    "# df_rejets_PEI = df_rejets_PEI[df_rejets_PEI[\"_merge\"]==\"both\"].drop(columns=\"_merge\")"
   ]
  },
  {
   "cell_type": "code",
   "execution_count": null,
   "id": "740ed9e6",
   "metadata": {},
   "outputs": [],
   "source": [
    "df_rejets_PEI[\"date_session\"] = df_rejets_PEI[\"SessionPEIName\"].apply(lambda x : x.split(\"_\")[1][0:8])\n",
    "df_rejets_PEI[\"date_session\"] = pd.to_datetime(df_rejets_PEI[\"date_session\"],format = \"%Y%m%d\")\n",
    "df_rejets_PEI[\"Amount\"] = df_rejets_PEI[\"Amount\"].str.replace(\",\",\".\").astype(float)\n",
    "df_rejets_PEI[\"nb_ord\"] = 1\n",
    "df_rejets_PEI[\"product\"] = df_rejets_PEI[\"SessionPEIName\"].apply(lambda x : str(x).split(\"_\")[0])\n",
    "df_rejets_PEI[\"year\"] = df_rejets_PEI[\"SessionPEIName\"].str.split(\"_\").str[1].str[2:4]\n",
    "df_rejets_PEI[\"month\"] = df_rejets_PEI[\"SessionPEIName\"].str.split(\"_\").str[1].str[4:6]\n",
    "df_rejets_PEI[\"ord_prlv\"] = \"CORUM MON PE IMMO \" + df_rejets_PEI[\"month\"] + \"/\" + df_rejets_PEI[\"year\"]\n",
    "df_rejets_PEI[\"id_ord_unique\"] =df_rejets_PEI[\"ord_prlv\"] + \" | \" + df_rejets_PEI['MandateName']\n",
    "df_rejets_PEI = df_rejets_PEI.rename(columns={\"Amount\":\"amount\",\n",
    "                                             \"AssocieName\":\"client_name\"\n",
    "                                             }).drop(columns=[\"month\",\"year\"])"
   ]
  },
  {
   "cell_type": "markdown",
   "id": "9563a3a9",
   "metadata": {},
   "source": [
    "### Rapprochement des rejets"
   ]
  },
  {
   "cell_type": "code",
   "execution_count": null,
   "id": "5f2265da",
   "metadata": {},
   "outputs": [],
   "source": [
    "df_rejets_BO_v0 = df_rejets_BO\n",
    "df_rejets_prlv_v0 = df_rejets_prlv\n",
    "df_rejets_PEI_v0 = df_rejets_PEI\n",
    "df_rejets_ClientOps_v0 = df_rejets_clientops"
   ]
  },
  {
   "cell_type": "code",
   "execution_count": null,
   "id": "93bceeeb",
   "metadata": {},
   "outputs": [],
   "source": [
    "#################"
   ]
  },
  {
   "cell_type": "code",
   "execution_count": null,
   "id": "1494a683",
   "metadata": {},
   "outputs": [],
   "source": [
    "df_rejets_clientops = df_rejets_ClientOps_v0[df_rejets_ClientOps_v0[\"Date de rejet\"]<=\"2022-05-31\"]\n",
    "df_rejets_BO = df_rejets_BO_v0[df_rejets_BO_v0[\"date_session\"]<=\"2022-05-31\"]\n",
    "df_rejets_BO = df_rejets_BO.drop_duplicates(subset=[\"id_ord_unique\",\"amount\"],keep='first')\n",
    "df_rejets_prlv = df_rejets_prlv_v0[df_rejets_prlv_v0[\"Valeur\"]<=\"2022-06-10\"]\n",
    "\n",
    "df_rejets_PEI = df_rejets_PEI_v0\n",
    "df_rejets_PEI = df_rejets_PEI[df_rejets_PEI[\"date_session\"]<=\"2022-05-31\"]"
   ]
  },
  {
   "cell_type": "code",
   "execution_count": null,
   "id": "86b8bb03",
   "metadata": {},
   "outputs": [],
   "source": [
    "#########################"
   ]
  },
  {
   "cell_type": "code",
   "execution_count": null,
   "id": "c7ac3e0e",
   "metadata": {
    "scrolled": true
   },
   "outputs": [],
   "source": [
    "list_fonds = [\"XL\",\"EU\",\"CC\"]\n",
    "df_rejets_SUB_trouves = pd.DataFrame()\n",
    "df_rejets_PEI_trouves = pd.DataFrame()\n",
    "df_rejets_prlv_trouves = pd.DataFrame()\n",
    "df_rejets_ClientOps_trouve = pd.DataFrame()\n",
    "df_ordres_non_annules = pd.DataFrame()\n",
    "df_rejets_SUB_restant = pd.DataFrame()\n",
    "df_rejets_PEI_restant = pd.DataFrame()\n",
    "df_rejets_prlv_restant = pd.DataFrame()\n",
    "for fonds in list_fonds :\n",
    "    df_rejets_BO_fonds = df_rejets_BO[df_rejets_BO[\"product\"]==fonds]\n",
    "    df_rejets_clientops_fonds = df_rejets_clientops[df_rejets_clientops[\"Fonds_rejet\"]==fonds]\n",
    "    df_rejets_clientops_PEI_fonds = df_rejets_clientops_fonds[df_rejets_clientops_fonds[\"SUB_PEI\"]==\"PEI\"]\n",
    "    df_rejets_clientops_fonds = df_rejets_clientops_fonds[df_rejets_clientops_fonds[\"SUB_PEI\"]==\"SUB\"]\n",
    "    df_rejets_prlv_fonds = df_rejets_prlv[df_rejets_prlv['Fonds']==fonds]\n",
    "    df_rejets_PEI_fonds = df_rejets_PEI[df_rejets_PEI[\"product\"]==fonds]\n",
    "\n",
    "\n",
    "    df_rejets_SUB_trouves_fonds,df_rejets_PEI_trouves_fonds,df_rejets_prlv_trouves_fonds,df_rejets_ClientOps_trouve_fonds,df_ordres_non_annules_fonds = full_rapprochement_prelvement(df_rejets_prlv_fonds,df_rejets_BO_fonds,df_rejets_PEI_fonds,df_rejets_clientops_fonds,df_rejets_clientops_PEI_fonds)\n",
    "\n",
    "    df_rejets_SUB_restant_fonds = df_rejets_BO_fonds[~df_rejets_BO_fonds[\"id_ord_unique\"].isin(df_rejets_SUB_trouves_fonds[\"id_ord_unique\"])]\n",
    "    df_rejets_PEI_restant_fonds = df_rejets_PEI_fonds[~df_rejets_PEI_fonds[\"id_ord_unique\"].isin(df_rejets_PEI_trouves_fonds[\"id_ord_unique\"])]\n",
    "    df_rejets_prlv_restant_fonds = df_rejets_prlv_fonds[~df_rejets_prlv_fonds[\"Id sys\"].isin(df_rejets_prlv_trouves_fonds[\"Id sys\"])]\n",
    "    df_rejets_prlv_restant_fonds[\"Nb_ordres_restant\"] = df_rejets_prlv_restant_fonds[\"Nb_ordres\"]\n",
    "    df_rejets_prlv_trouves_partiel_fonds = df_rejets_prlv_trouves_fonds[df_rejets_prlv_trouves_fonds[\"Statut\"]==\"1 rejet pls ordres_rapprochement partiel\"]\n",
    "    df_rejets_prlv_restant_fonds = pd.concat([df_rejets_prlv_restant_fonds,df_rejets_prlv_trouves_partiel_fonds])\n",
    "\n",
    "    df_rejets_SUB_trouves = pd.concat([df_rejets_SUB_trouves,df_rejets_SUB_trouves_fonds])\n",
    "    df_rejets_PEI_trouves = pd.concat([df_rejets_PEI_trouves,df_rejets_PEI_trouves_fonds])\n",
    "    df_rejets_prlv_trouves = pd.concat([df_rejets_prlv_trouves,df_rejets_prlv_trouves_fonds])\n",
    "    df_rejets_ClientOps_trouve = pd.concat([df_rejets_ClientOps_trouve,df_rejets_ClientOps_trouve_fonds])\n",
    "    df_ordres_non_annules = pd.concat([df_ordres_non_annules,df_ordres_non_annules_fonds])\n",
    "    df_rejets_SUB_restant = pd.concat([df_rejets_SUB_restant,df_rejets_SUB_restant_fonds])\n",
    "    df_rejets_PEI_restant = pd.concat([df_rejets_PEI_restant,df_rejets_PEI_restant_fonds])\n",
    "    df_rejets_prlv_restant = pd.concat([df_rejets_prlv_restant,df_rejets_prlv_restant_fonds])"
   ]
  },
  {
   "cell_type": "code",
   "execution_count": null,
   "id": "d20c1ef9",
   "metadata": {},
   "outputs": [],
   "source": [
    "df_rejets_prlv_restant.groupby(\"Fonds\")[\"Nb_ordres_restant\"].sum()"
   ]
  },
  {
   "cell_type": "code",
   "execution_count": null,
   "id": "de4fae63",
   "metadata": {},
   "outputs": [],
   "source": [
    "df_rejets_SUB_restant.groupby('product')[\"client_name\"].count()"
   ]
  },
  {
   "cell_type": "code",
   "execution_count": null,
   "id": "5301db1a",
   "metadata": {},
   "outputs": [],
   "source": [
    "df_rejets_PEI_restant.groupby('product')[\"client_name\"].count()"
   ]
  },
  {
   "cell_type": "markdown",
   "id": "017379d3",
   "metadata": {},
   "source": [
    "## Check résultat"
   ]
  },
  {
   "cell_type": "markdown",
   "id": "1a3265eb",
   "metadata": {},
   "source": [
    "## concat"
   ]
  },
  {
   "cell_type": "code",
   "execution_count": null,
   "id": "9b8e4792",
   "metadata": {},
   "outputs": [],
   "source": [
    "print(f'nb rejets prlv_restant : {df_rejets_prlv_restant[\"Nb_ordres_restant\"].sum()}')\n",
    "print(f'nb rejets BO_restant : {len(df_rejets_SUB_restant)+len(df_rejets_PEI_restant)}')\n",
    "print(f'nb rejets SUB_restant : {len(df_rejets_SUB_restant)}')\n",
    "print(f'nb rejets PEI_restant : {len(df_rejets_PEI_restant)}')"
   ]
  },
  {
   "cell_type": "code",
   "execution_count": null,
   "id": "6a054033",
   "metadata": {},
   "outputs": [],
   "source": [
    "print(f'nb lignes prlv_trouvé : {len(df_rejets_prlv_trouves)}')\n",
    "print(f'nb rejets prlv_trouvé : {df_rejets_prlv[\"Nb_ordres\"].sum()-df_rejets_prlv_restant[\"Nb_ordres_restant\"].sum()}')\n",
    "print(f'nb rejets BO_trouvé : {len(df_rejets_SUB_trouves)+len(df_rejets_PEI_trouves)}')\n",
    "print(f'nb rejets SUB_trouvé : {len(df_rejets_SUB_trouves)}')\n",
    "print(f'nb rejets PEI_trouvé : {len(df_rejets_PEI_trouves)}')\n",
    "print(f'nb rejets ClientOps_trouvé : {len(df_rejets_ClientOps_trouve)}')\n",
    "print(f'nb rejets rejetés mais non annulés : {len(df_ordres_non_annules)}')"
   ]
  },
  {
   "cell_type": "code",
   "execution_count": null,
   "id": "8bef5663",
   "metadata": {},
   "outputs": [],
   "source": [
    "df_rejets_SUB_trouves.to_excel(folder_path + \"/output/2. Prlv/Prlv_Rejets Souscription trouves.xlsx\",sheet_name=\"SUB_trouvé\")\n",
    "df_rejets_PEI_trouves.to_excel(folder_path + \"/output/2. Prlv/Prlv_Rejets PEI trouves.xlsx\",sheet_name=\"PEI_trouvé\")\n",
    "df_rejets_prlv_trouves.to_excel(folder_path + \"/output/2. Prlv/Prlv_Rejets relevé bancaire trouves.xlsx\",sheet_name=\"releve bancaire\")\n",
    "df_rejets_ClientOps_trouve.to_excel(folder_path + \"/output/2. Prlv/Prlv_Rejets ClientOps trouves.xlsx\",sheet_name=\"rejets ClientOps\")"
   ]
  },
  {
   "cell_type": "code",
   "execution_count": null,
   "id": "c8f7c2d2",
   "metadata": {},
   "outputs": [],
   "source": [
    "### Ordres rejetés avec virements trouvés mais non trouvés dans rejets BO ####\n",
    "### Récupérer commentaire\n",
    "df_ordres_non_annules = df_ordres_non_annules.merge(df_commentaire[[\"Idsubscriptionorder\",\"NoteBO\"]],\n",
    "                                                    left_on=\"Réf. mandat\",right_on=\"Idsubscriptionorder\",how=\"outer\",indicator=True)\n",
    "df_ordres_non_annules = df_ordres_non_annules[df_ordres_non_annules[\"_merge\"]!=\"right_only\"]\n",
    "df_ordres_non_annules = df_ordres_non_annules.drop(columns=[\"id_ord_unique\",\"Id sys\",\"Idsubscriptionorder\",\"_merge\"])\n",
    "\n",
    "\n",
    "df_ordres_non_annules.to_excel(folder_path + \"/output/2. Prlv/Prlv_Light checks_Ordres rejetés mais non_annules.xlsx\",sheet_name=\"ordres_non_annules\")"
   ]
  },
  {
   "cell_type": "code",
   "execution_count": null,
   "id": "cf5ae0be",
   "metadata": {},
   "outputs": [],
   "source": [
    "df_rejets_SUB_restant = df_rejets_SUB_restant.merge(df_commentaire[[\"Idsubscriptionorder\",\"NoteBO\"]],\n",
    "                                                    left_on=\"order_name\",right_on=\"Idsubscriptionorder\",how=\"outer\",indicator=True)\n",
    "df_rejets_SUB_restant = df_rejets_SUB_restant[df_rejets_SUB_restant[\"_merge\"]!=\"right_only\"]"
   ]
  },
  {
   "cell_type": "code",
   "execution_count": null,
   "id": "465e00cb",
   "metadata": {},
   "outputs": [],
   "source": [
    "df_rejets_SUB_restant.to_excel(folder_path + \"/output/2. Prlv/Prlv_Heavy checks_Rejets Souscription restant.xlsx\",sheet_name=\"rejets_SUB_restant\")\n",
    "df_rejets_PEI_restant.to_excel(folder_path + \"/output/2. Prlv/Prlv_Heavy checks_Rejets PEI restant.xlsx\",sheet_name=\"rejets_PEI_restant\")\n",
    "df_rejets_prlv_restant.to_excel(folder_path + \"/output/2. Prlv/Prlv_Heavy checks_Rejets relevé bancaire restant.xlsx\",sheet_name=\"rejets_prlv_restant\")"
   ]
  }
 ],
 "metadata": {
  "kernelspec": {
   "display_name": "Python 3 (ipykernel)",
   "language": "python",
   "name": "python3"
  },
  "language_info": {
   "codemirror_mode": {
    "name": "ipython",
    "version": 3
   },
   "file_extension": ".py",
   "mimetype": "text/x-python",
   "name": "python",
   "nbconvert_exporter": "python",
   "pygments_lexer": "ipython3",
   "version": "3.8.12"
  },
  "toc": {
   "base_numbering": 1,
   "nav_menu": {},
   "number_sections": true,
   "sideBar": true,
   "skip_h1_title": false,
   "title_cell": "Table of Contents",
   "title_sidebar": "Contents",
   "toc_cell": false,
   "toc_position": {},
   "toc_section_display": true,
   "toc_window_display": false
  },
  "varInspector": {
   "cols": {
    "lenName": 16,
    "lenType": 16,
    "lenVar": 40
   },
   "kernels_config": {
    "python": {
     "delete_cmd_postfix": "",
     "delete_cmd_prefix": "del ",
     "library": "var_list.py",
     "varRefreshCmd": "print(var_dic_list())"
    },
    "r": {
     "delete_cmd_postfix": ") ",
     "delete_cmd_prefix": "rm(",
     "library": "var_list.r",
     "varRefreshCmd": "cat(var_dic_list()) "
    }
   },
   "types_to_exclude": [
    "module",
    "function",
    "builtin_function_or_method",
    "instance",
    "_Feature"
   ],
   "window_display": false
  }
 },
 "nbformat": 4,
 "nbformat_minor": 5
}
